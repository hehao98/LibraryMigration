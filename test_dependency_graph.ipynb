{
 "metadata": {
  "language_info": {
   "codemirror_mode": {
    "name": "ipython",
    "version": 3
   },
   "file_extension": ".py",
   "mimetype": "text/x-python",
   "name": "python",
   "nbconvert_exporter": "python",
   "pygments_lexer": "ipython3",
   "version": "3.8.5-final"
  },
  "orig_nbformat": 2,
  "kernelspec": {
   "name": "python3",
   "display_name": "Python 3",
   "language": "python"
  }
 },
 "nbformat": 4,
 "nbformat_minor": 2,
 "cells": [
  {
   "cell_type": "code",
   "execution_count": 6,
   "metadata": {},
   "outputs": [],
   "source": [
    "import re\n",
    "import sys\n",
    "import csv\n",
    "import os\n",
    "import pandas as pd\n",
    "import numpy as np\n",
    "import matplotlib.pyplot as plt\n",
    "import networkx as nx\n",
    "import pymongo\n",
    "import pytz\n",
    "from dateutil.parser import parse as dateParser\n",
    "from datetime import datetime\n",
    "\n",
    "import datautil\n",
    "\n",
    "from tqdm.auto import tqdm   # progress bar keeps human being happy"
   ]
  },
  {
   "cell_type": "code",
   "execution_count": 7,
   "metadata": {},
   "outputs": [],
   "source": [
    "# save raw data to cache/\n",
    "if not os.path.exists('cache/maven-data.csv.tar.xz'):\n",
    "    !wget -P cache/ https://zenodo.org/record/1489120/files/maven-data.csv.tar.xz\n",
    "if not os.path.exists('cache/next_all.csv'):\n",
    "    !tar -xvf cache/maven-data.csv.tar.xz\n",
    "    !mv maven-data.csv/* cache/\n",
    "    !rmdir maven-data.csv"
   ]
  },
  {
   "cell_type": "code",
   "execution_count": 8,
   "metadata": {},
   "outputs": [
    {
     "output_type": "execute_result",
     "data": {
      "text/plain": [
       "(                                                  artifact packaging  \\\n",
       " 0        org.apache.directory.shared:shared-ldap-client...       Jar   \n",
       " 1        org.apache.directory.shared:shared-ldap-schema...       Jar   \n",
       " 2         org.apache.directory.shared:shared-i18n:1.0.0-M7       Jar   \n",
       " 3        org.apache.directory.shared:shared-ldap-extras...       Jar   \n",
       " 4                                        antlr:antlr:2.7.7       Jar   \n",
       " ...                                                    ...       ...   \n",
       " 2407330        ai.h2o:sparkling-water-examples_2.11:2.2.24       Jar   \n",
       " 2407331             ai.h2o:sparkling-water-doc_2.11:2.1.38       Jar   \n",
       " 2407332         ai.h2o:sparkling-water-package_2.11:2.1.38       Jar   \n",
       " 2407333        ai.h2o:sparkling-water-examples_2.11:2.1.38       Jar   \n",
       " 2407334            ai.h2o:sparkling-water-repl_2.11:2.1.38       Jar   \n",
       " \n",
       "                            release  \n",
       " 0        2011-08-15T06:26:46Z[GMT]  \n",
       " 1        2011-08-15T06:26:08Z[GMT]  \n",
       " 2        2011-08-15T06:18:28Z[GMT]  \n",
       " 3        2011-08-15T06:25:11Z[GMT]  \n",
       " 4        2007-01-13T06:28:39Z[GMT]  \n",
       " ...                            ...  \n",
       " 2407330  2018-09-14T11:06:22Z[GMT]  \n",
       " 2407331  2018-09-14T11:09:49Z[GMT]  \n",
       " 2407332  2018-09-14T11:08:33Z[GMT]  \n",
       " 2407333  2018-09-14T11:09:16Z[GMT]  \n",
       " 2407334  2018-09-14T11:09:40Z[GMT]  \n",
       " \n",
       " [2407335 rows x 3 columns],\n",
       "                                                     source  \\\n",
       " 0        org.apache.directory.shared:shared-ldap-client...   \n",
       " 1        org.apache.directory.shared:shared-ldap-schema...   \n",
       " 2         org.apache.directory.shared:shared-i18n:1.0.0-M7   \n",
       " 3        org.apache.directory.shared:shared-ldap-extras...   \n",
       " 4                                        antlr:antlr:2.7.7   \n",
       " ...                                                    ...   \n",
       " 2183840        ai.h2o:sparkling-water-examples_2.11:2.2.24   \n",
       " 2183841             ai.h2o:sparkling-water-doc_2.11:2.1.38   \n",
       " 2183842         ai.h2o:sparkling-water-package_2.11:2.1.38   \n",
       " 2183843        ai.h2o:sparkling-water-examples_2.11:2.1.38   \n",
       " 2183844            ai.h2o:sparkling-water-repl_2.11:2.1.38   \n",
       " \n",
       "                                                     target  \n",
       " 0        org.apache.directory.shared:shared-ldap-client...  \n",
       " 1        org.apache.directory.shared:shared-ldap-schema...  \n",
       " 2         org.apache.directory.shared:shared-i18n:1.0.0-M8  \n",
       " 3        org.apache.directory.shared:shared-ldap-extras...  \n",
       " 4                                     antlr:antlr:20030911  \n",
       " ...                                                    ...  \n",
       " 2183840         ai.h2o:sparkling-water-examples_2.11:2.3.0  \n",
       " 2183841             ai.h2o:sparkling-water-doc_2.11:2.2.11  \n",
       " 2183842          ai.h2o:sparkling-water-package_2.11:2.2.3  \n",
       " 2183843         ai.h2o:sparkling-water-examples_2.11:2.2.0  \n",
       " 2183844             ai.h2o:sparkling-water-repl_2.11:2.2.0  \n",
       " \n",
       " [2183845 rows x 2 columns],\n",
       "                                                     source  \\\n",
       " 0        org.apache.directory.shared:shared-ldap-client...   \n",
       " 1        org.apache.directory.shared:shared-ldap-client...   \n",
       " 2        org.apache.directory.shared:shared-ldap-client...   \n",
       " 3        org.apache.directory.shared:shared-ldap-client...   \n",
       " 4        org.apache.directory.shared:shared-ldap-client...   \n",
       " ...                                                    ...   \n",
       " 9715664         ai.h2o:sparkling-water-package_2.11:2.1.38   \n",
       " 9715665        ai.h2o:sparkling-water-examples_2.11:2.1.38   \n",
       " 9715666        ai.h2o:sparkling-water-examples_2.11:2.1.38   \n",
       " 9715667        ai.h2o:sparkling-water-examples_2.11:2.1.38   \n",
       " 9715668        ai.h2o:sparkling-water-examples_2.11:2.1.38   \n",
       " \n",
       "                                                     target    scope  \n",
       " 0                                          junit:junit:4.7  Compile  \n",
       " 1                                         xpp3:xpp3:1.1.4c  Compile  \n",
       " 2        org.apache.directory.server:apacheds-test-fram...  Compile  \n",
       " 3        org.netbeans.api:org-netbeans-api-visual:RELEA...  Compile  \n",
       " 4                        net.liftweb:lift-common_2.8.0:2.3  Compile  \n",
       " ...                                                    ...      ...  \n",
       " 9715664                      no.priv.garshol.duke:duke:1.2  Compile  \n",
       " 9715665            org.apache.spark:spark-mllib_2.11:2.1.3  Compile  \n",
       " 9715666                org.scala-lang:scala-library:2.11.8  Compile  \n",
       " 9715667              ai.h2o:sparkling-water-ml_2.11:2.1.38  Compile  \n",
       " 9715668            ai.h2o:sparkling-water-core_2.11:2.1.38  Compile  \n",
       " \n",
       " [9715669 rows x 3 columns])"
      ]
     },
     "metadata": {},
     "execution_count": 8
    }
   ],
   "source": [
    "df_release = pd.read_csv('cache/release_all.csv', low_memory=False)\n",
    "df_next = pd.read_csv('cache/next_all.csv', low_memory=False)\n",
    "df_links = pd.read_csv('cache/links_all.csv', low_memory=False)\n",
    "df_release, df_next, df_links"
   ]
  },
  {
   "cell_type": "code",
   "execution_count": 4,
   "metadata": {},
   "outputs": [],
   "source": [
    "# save dependency graph as nx format\n",
    "if not os.path.exists('cache/dep_graph.gz'):\n",
    "    import networkx as nx\n",
    "    G = nx.from_pandas_edgelist(df_links, 'source', 'target')\n",
    "    nx.write_gpickle(G, path='cache/dep_graph.gz')\n",
    "    f'{G.number_of_nodes()} Nodes, {G.number_of_edges()} Edges'"
   ]
  },
  {
   "cell_type": "code",
   "execution_count": 9,
   "metadata": {},
   "outputs": [
    {
     "output_type": "execute_result",
     "data": {
      "text/plain": [
       "'1965374 Nodes, 9700176 Edges'"
      ]
     },
     "metadata": {},
     "execution_count": 9
    }
   ],
   "source": [
    "# checkpoint here\n",
    "G = nx.read_gpickle(path='cache/dep_graph.gz')\n",
    "f'{G.number_of_nodes()} Nodes, {G.number_of_edges()} Edges'"
   ]
  },
  {
   "cell_type": "code",
   "execution_count": 12,
   "metadata": {},
   "outputs": [
    {
     "output_type": "execute_result",
     "data": {
      "text/plain": [
       "('2.1.RC1', '1.3.2')"
      ]
     },
     "metadata": {},
     "execution_count": 12
    }
   ],
   "source": [
    "def parse_version(version: str) -> str:\n",
    "    # ref: https://stackoverflow.com/questions/6618868\n",
    "    if match := re.search('(\\d+(?:\\.\\d+)+[-.]?[a-zA-Z\\d]*)', version):\n",
    "        return match.group(1)\n",
    "    else:\n",
    "        return ''\n",
    "\n",
    "# remove appendix in version str\n",
    "def parse_version_strict(version: str) -> str:\n",
    "    # ref: https://stackoverflow.com/questions/6618868\n",
    "    if match := re.search('(\\d+(?:\\.\\d+)+)', version):\n",
    "        return match.group(1)\n",
    "    else:\n",
    "        return ''\n",
    "\n",
    "parse_version(\"[2.1.RC1,)\"), parse_version_strict(\"[1.3.2-alpha,)\")"
   ]
  },
  {
   "cell_type": "code",
   "execution_count": 13,
   "metadata": {},
   "outputs": [
    {
     "output_type": "display_data",
     "data": {
      "text/plain": "HBox(children=(HTML(value=''), FloatProgress(value=0.0, max=2407335.0), HTML(value='')))",
      "application/vnd.jupyter.widget-view+json": {
       "version_major": 2,
       "version_minor": 0,
       "model_id": "7b4f750863c4402294afafc4e1a081af"
      }
     },
     "metadata": {}
    },
    {
     "output_type": "stream",
     "name": "stdout",
     "text": [
      "\n"
     ]
    },
    {
     "output_type": "execute_result",
     "data": {
      "text/plain": [
       "                                                  artifact packaging  \\\n",
       "1751901                           org.epics:ca:999.999.999       Jar   \n",
       "1880648               org.apache.zookeeper:zookeeper:99.99       Jar   \n",
       "1341611                               com.sun:tools:99.9.9       Jar   \n",
       "1867714                com.ontology2:centipede-parser:99.9       Jar   \n",
       "1923786                com.ontology2:centipede-parent:99.8       Jar   \n",
       "...                                                    ...       ...   \n",
       "2161575  net.nemerosa.ontrack:ontrack-extension-github:...       Jar   \n",
       "2161548  net.nemerosa.ontrack:ontrack-ui:feature-512-aq...       Jar   \n",
       "2161623  net.nemerosa.ontrack:ontrack-git:feature-512-a...       Jar   \n",
       "2204580                      org.apache.uima:parent-pom:11       Jar   \n",
       "1240437  com.github.ryanholdren.typesafesql:gradle-plug...       Jar   \n",
       "\n",
       "                           release  \\\n",
       "1751901  2016-08-10T15:08:35Z[GMT]   \n",
       "1880648  2016-08-10T15:08:35Z[GMT]   \n",
       "1341611  2016-08-10T15:08:35Z[GMT]   \n",
       "1867714  2014-11-27T01:05:29Z[GMT]   \n",
       "1923786  2016-08-10T15:08:35Z[GMT]   \n",
       "...                            ...   \n",
       "2161575  2017-06-02T14:36:50Z[GMT]   \n",
       "2161548  2017-06-02T14:37:06Z[GMT]   \n",
       "2161623  2017-06-02T14:37:21Z[GMT]   \n",
       "2204580  2016-08-10T15:08:35Z[GMT]   \n",
       "1240437  2018-06-16T23:04:21Z[GMT]   \n",
       "\n",
       "                                                      lib      version  \n",
       "1751901                                      org.epics:ca  999.999.999  \n",
       "1880648                    org.apache.zookeeper:zookeeper        99.99  \n",
       "1341611                                     com.sun:tools       99.9.9  \n",
       "1867714                    com.ontology2:centipede-parser         99.9  \n",
       "1923786                    com.ontology2:centipede-parent         99.8  \n",
       "...                                                   ...          ...  \n",
       "2161575     net.nemerosa.ontrack:ontrack-extension-github               \n",
       "2161548                   net.nemerosa.ontrack:ontrack-ui               \n",
       "2161623                  net.nemerosa.ontrack:ontrack-git               \n",
       "2204580                        org.apache.uima:parent-pom               \n",
       "1240437  com.github.ryanholdren.typesafesql:gradle-plugin               \n",
       "\n",
       "[2407335 rows x 5 columns]"
      ],
      "text/html": "<div>\n<style scoped>\n    .dataframe tbody tr th:only-of-type {\n        vertical-align: middle;\n    }\n\n    .dataframe tbody tr th {\n        vertical-align: top;\n    }\n\n    .dataframe thead th {\n        text-align: right;\n    }\n</style>\n<table border=\"1\" class=\"dataframe\">\n  <thead>\n    <tr style=\"text-align: right;\">\n      <th></th>\n      <th>artifact</th>\n      <th>packaging</th>\n      <th>release</th>\n      <th>lib</th>\n      <th>version</th>\n    </tr>\n  </thead>\n  <tbody>\n    <tr>\n      <th>1751901</th>\n      <td>org.epics:ca:999.999.999</td>\n      <td>Jar</td>\n      <td>2016-08-10T15:08:35Z[GMT]</td>\n      <td>org.epics:ca</td>\n      <td>999.999.999</td>\n    </tr>\n    <tr>\n      <th>1880648</th>\n      <td>org.apache.zookeeper:zookeeper:99.99</td>\n      <td>Jar</td>\n      <td>2016-08-10T15:08:35Z[GMT]</td>\n      <td>org.apache.zookeeper:zookeeper</td>\n      <td>99.99</td>\n    </tr>\n    <tr>\n      <th>1341611</th>\n      <td>com.sun:tools:99.9.9</td>\n      <td>Jar</td>\n      <td>2016-08-10T15:08:35Z[GMT]</td>\n      <td>com.sun:tools</td>\n      <td>99.9.9</td>\n    </tr>\n    <tr>\n      <th>1867714</th>\n      <td>com.ontology2:centipede-parser:99.9</td>\n      <td>Jar</td>\n      <td>2014-11-27T01:05:29Z[GMT]</td>\n      <td>com.ontology2:centipede-parser</td>\n      <td>99.9</td>\n    </tr>\n    <tr>\n      <th>1923786</th>\n      <td>com.ontology2:centipede-parent:99.8</td>\n      <td>Jar</td>\n      <td>2016-08-10T15:08:35Z[GMT]</td>\n      <td>com.ontology2:centipede-parent</td>\n      <td>99.8</td>\n    </tr>\n    <tr>\n      <th>...</th>\n      <td>...</td>\n      <td>...</td>\n      <td>...</td>\n      <td>...</td>\n      <td>...</td>\n    </tr>\n    <tr>\n      <th>2161575</th>\n      <td>net.nemerosa.ontrack:ontrack-extension-github:...</td>\n      <td>Jar</td>\n      <td>2017-06-02T14:36:50Z[GMT]</td>\n      <td>net.nemerosa.ontrack:ontrack-extension-github</td>\n      <td></td>\n    </tr>\n    <tr>\n      <th>2161548</th>\n      <td>net.nemerosa.ontrack:ontrack-ui:feature-512-aq...</td>\n      <td>Jar</td>\n      <td>2017-06-02T14:37:06Z[GMT]</td>\n      <td>net.nemerosa.ontrack:ontrack-ui</td>\n      <td></td>\n    </tr>\n    <tr>\n      <th>2161623</th>\n      <td>net.nemerosa.ontrack:ontrack-git:feature-512-a...</td>\n      <td>Jar</td>\n      <td>2017-06-02T14:37:21Z[GMT]</td>\n      <td>net.nemerosa.ontrack:ontrack-git</td>\n      <td></td>\n    </tr>\n    <tr>\n      <th>2204580</th>\n      <td>org.apache.uima:parent-pom:11</td>\n      <td>Jar</td>\n      <td>2016-08-10T15:08:35Z[GMT]</td>\n      <td>org.apache.uima:parent-pom</td>\n      <td></td>\n    </tr>\n    <tr>\n      <th>1240437</th>\n      <td>com.github.ryanholdren.typesafesql:gradle-plug...</td>\n      <td>Jar</td>\n      <td>2018-06-16T23:04:21Z[GMT]</td>\n      <td>com.github.ryanholdren.typesafesql:gradle-plugin</td>\n      <td></td>\n    </tr>\n  </tbody>\n</table>\n<p>2407335 rows × 5 columns</p>\n</div>"
     },
     "metadata": {},
     "execution_count": 13
    }
   ],
   "source": [
    "from packaging import version\n",
    "# split lib/version\n",
    "df_temp = df_release['artifact'].str.rsplit(':', n=1, expand=True)\n",
    "df_release['lib'] = df_temp[0]\n",
    "df_release['version'] = df_temp[1]\n",
    "df_release.fillna('', inplace=True)\n",
    "\n",
    "# version contains '~v1.1.15-beta', should be parsed as well\n",
    "tqdm.pandas()\n",
    "df_release['version'] = df_release.progress_apply(lambda x: parse_version(str(x['version'])), axis=1)\n",
    "# [WARNING] you should parse version as well before saving to graph!\n",
    "\n",
    "# 'release' is unreliable, use version as main key\n",
    "df_release.sort_values(by='release', ascending=False, inplace=True)  # pandas sort should keep things in order\n",
    "df_release.sort_values(by='version', ascending=False, inplace=True, key=lambda x: parse_version_strict(x))\n",
    "# version like 1.33-SNAPSHOT would be parsed as 'LegacyVersion', which has no len()\n",
    "# df_release.sort_values(by='version', ascending=False, inplace=True, key=lambda x: version.parse(str(x)))\n",
    "\n",
    "df_release"
   ]
  },
  {
   "cell_type": "code",
   "execution_count": 8,
   "metadata": {},
   "outputs": [
    {
     "output_type": "execute_result",
     "data": {
      "text/plain": [
       "                           dep_name lib  version published_time\n",
       "99930           ?:commons-codec-1.4   ?      1.4               \n",
       "99919        ?:jgrapht-jdk1.6-0.8.1   ?    1.6-0               \n",
       "99920                  ?:guava-13.0   ?     13.0               \n",
       "99922             ?:slf4j-api-1.6.1   ?    1.6.1               \n",
       "99923    ?:commons-httpclient-3.0.1   ?    3.0.1               \n",
       "...                             ...  ..      ...            ...\n",
       "178264         ?:org.apache.commons   ?                        \n",
       "67563                     ?:1.3.174   ?  1.3.174               \n",
       "5                               ?:?   ?                        \n",
       "349188  ?:${project.parent.version}   ?                        \n",
       "349187         ?:com.citytechinc.cq   ?                        \n",
       "\n",
       "[79 rows x 4 columns]"
      ],
      "text/html": "<div>\n<style scoped>\n    .dataframe tbody tr th:only-of-type {\n        vertical-align: middle;\n    }\n\n    .dataframe tbody tr th {\n        vertical-align: top;\n    }\n\n    .dataframe thead th {\n        text-align: right;\n    }\n</style>\n<table border=\"1\" class=\"dataframe\">\n  <thead>\n    <tr style=\"text-align: right;\">\n      <th></th>\n      <th>dep_name</th>\n      <th>lib</th>\n      <th>version</th>\n      <th>published_time</th>\n    </tr>\n  </thead>\n  <tbody>\n    <tr>\n      <th>99930</th>\n      <td>?:commons-codec-1.4</td>\n      <td>?</td>\n      <td>1.4</td>\n      <td></td>\n    </tr>\n    <tr>\n      <th>99919</th>\n      <td>?:jgrapht-jdk1.6-0.8.1</td>\n      <td>?</td>\n      <td>1.6-0</td>\n      <td></td>\n    </tr>\n    <tr>\n      <th>99920</th>\n      <td>?:guava-13.0</td>\n      <td>?</td>\n      <td>13.0</td>\n      <td></td>\n    </tr>\n    <tr>\n      <th>99922</th>\n      <td>?:slf4j-api-1.6.1</td>\n      <td>?</td>\n      <td>1.6.1</td>\n      <td></td>\n    </tr>\n    <tr>\n      <th>99923</th>\n      <td>?:commons-httpclient-3.0.1</td>\n      <td>?</td>\n      <td>3.0.1</td>\n      <td></td>\n    </tr>\n    <tr>\n      <th>...</th>\n      <td>...</td>\n      <td>...</td>\n      <td>...</td>\n      <td>...</td>\n    </tr>\n    <tr>\n      <th>178264</th>\n      <td>?:org.apache.commons</td>\n      <td>?</td>\n      <td></td>\n      <td></td>\n    </tr>\n    <tr>\n      <th>67563</th>\n      <td>?:1.3.174</td>\n      <td>?</td>\n      <td>1.3.174</td>\n      <td></td>\n    </tr>\n    <tr>\n      <th>5</th>\n      <td>?:?</td>\n      <td>?</td>\n      <td></td>\n      <td></td>\n    </tr>\n    <tr>\n      <th>349188</th>\n      <td>?:${project.parent.version}</td>\n      <td>?</td>\n      <td></td>\n      <td></td>\n    </tr>\n    <tr>\n      <th>349187</th>\n      <td>?:com.citytechinc.cq</td>\n      <td>?</td>\n      <td></td>\n      <td></td>\n    </tr>\n  </tbody>\n</table>\n<p>79 rows × 4 columns</p>\n</div>"
     },
     "metadata": {},
     "execution_count": 8
    }
   ],
   "source": [
    "dep_unique = pd.read_csv('cache/dep_unique.csv', low_memory=False)\n",
    "dep_unique.fillna('', inplace=True)\n",
    "dep_unique.sort_values(by='lib', inplace=True)\n",
    "dep_unique[dep_unique['lib']=='?']\n",
    "# strange behavior here, handle afterwards"
   ]
  },
  {
   "cell_type": "code",
   "execution_count": 15,
   "metadata": {},
   "outputs": [
    {
     "output_type": "execute_result",
     "data": {
      "text/plain": [
       "           artifact packaging                    release      lib version\n",
       "1661  ant:ant:1.6.5       Jar  2005-11-22T18:06:39Z[GMT]  ant:ant   1.6.5"
      ],
      "text/html": "<div>\n<style scoped>\n    .dataframe tbody tr th:only-of-type {\n        vertical-align: middle;\n    }\n\n    .dataframe tbody tr th {\n        vertical-align: top;\n    }\n\n    .dataframe thead th {\n        text-align: right;\n    }\n</style>\n<table border=\"1\" class=\"dataframe\">\n  <thead>\n    <tr style=\"text-align: right;\">\n      <th></th>\n      <th>artifact</th>\n      <th>packaging</th>\n      <th>release</th>\n      <th>lib</th>\n      <th>version</th>\n    </tr>\n  </thead>\n  <tbody>\n    <tr>\n      <th>1661</th>\n      <td>ant:ant:1.6.5</td>\n      <td>Jar</td>\n      <td>2005-11-22T18:06:39Z[GMT]</td>\n      <td>ant:ant</td>\n      <td>1.6.5</td>\n    </tr>\n  </tbody>\n</table>\n</div>"
     },
     "metadata": {},
     "execution_count": 15
    }
   ],
   "source": [
    "versions = df_release[df_release['lib']=='ant:ant']\n",
    "versions[versions['version'].str.match('^1.6.5')]"
   ]
  },
  {
   "cell_type": "code",
   "execution_count": 16,
   "metadata": {},
   "outputs": [
    {
     "output_type": "display_data",
     "data": {
      "text/plain": "HBox(children=(HTML(value=''), FloatProgress(value=0.0, max=223478.0), HTML(value='')))",
      "application/vnd.jupyter.widget-view+json": {
       "version_major": 2,
       "version_minor": 0,
       "model_id": "990559a58f4c43c6ae05b611c50582be"
      }
     },
     "metadata": {}
    },
    {
     "output_type": "stream",
     "name": "stdout",
     "text": [
      "\n"
     ]
    },
    {
     "output_type": "execute_result",
     "data": {
      "text/plain": [
       "           artifact packaging                    release      lib  version\n",
       "0     ant:ant:1.6.5       Jar  2005-11-22T18:06:39Z[GMT]  ant:ant    1.6.5\n",
       "1     ant:ant:1.6.4       Jar  2005-11-22T18:06:37Z[GMT]  ant:ant    1.6.4\n",
       "2     ant:ant:1.6.3       Jar  2005-11-22T18:06:36Z[GMT]  ant:ant    1.6.3\n",
       "3     ant:ant:1.6.2       Jar  2005-11-22T18:06:36Z[GMT]  ant:ant    1.6.2\n",
       "4     ant:ant:1.6.1       Jar  2005-11-22T18:06:35Z[GMT]  ant:ant    1.6.1\n",
       "5       ant:ant:1.6       Jar  2005-11-22T18:06:39Z[GMT]  ant:ant      1.6\n",
       "6     ant:ant:1.5.4       Jar  2005-11-22T18:06:35Z[GMT]  ant:ant    1.5.4\n",
       "7   ant:ant:1.5.3-1       Jar  2005-11-22T18:06:35Z[GMT]  ant:ant  1.5.3-1\n",
       "8     ant:ant:1.5.2       Jar  2005-11-22T18:06:34Z[GMT]  ant:ant    1.5.2\n",
       "9     ant:ant:1.5.1       Jar  2005-11-22T18:06:33Z[GMT]  ant:ant    1.5.1\n",
       "10      ant:ant:1.5       Jar  2005-11-22T18:06:35Z[GMT]  ant:ant      1.5\n",
       "11    ant:ant:1.4.1       Jar  2005-11-22T18:06:33Z[GMT]  ant:ant    1.4.1"
      ],
      "text/html": "<div>\n<style scoped>\n    .dataframe tbody tr th:only-of-type {\n        vertical-align: middle;\n    }\n\n    .dataframe tbody tr th {\n        vertical-align: top;\n    }\n\n    .dataframe thead th {\n        text-align: right;\n    }\n</style>\n<table border=\"1\" class=\"dataframe\">\n  <thead>\n    <tr style=\"text-align: right;\">\n      <th></th>\n      <th>artifact</th>\n      <th>packaging</th>\n      <th>release</th>\n      <th>lib</th>\n      <th>version</th>\n    </tr>\n  </thead>\n  <tbody>\n    <tr>\n      <th>0</th>\n      <td>ant:ant:1.6.5</td>\n      <td>Jar</td>\n      <td>2005-11-22T18:06:39Z[GMT]</td>\n      <td>ant:ant</td>\n      <td>1.6.5</td>\n    </tr>\n    <tr>\n      <th>1</th>\n      <td>ant:ant:1.6.4</td>\n      <td>Jar</td>\n      <td>2005-11-22T18:06:37Z[GMT]</td>\n      <td>ant:ant</td>\n      <td>1.6.4</td>\n    </tr>\n    <tr>\n      <th>2</th>\n      <td>ant:ant:1.6.3</td>\n      <td>Jar</td>\n      <td>2005-11-22T18:06:36Z[GMT]</td>\n      <td>ant:ant</td>\n      <td>1.6.3</td>\n    </tr>\n    <tr>\n      <th>3</th>\n      <td>ant:ant:1.6.2</td>\n      <td>Jar</td>\n      <td>2005-11-22T18:06:36Z[GMT]</td>\n      <td>ant:ant</td>\n      <td>1.6.2</td>\n    </tr>\n    <tr>\n      <th>4</th>\n      <td>ant:ant:1.6.1</td>\n      <td>Jar</td>\n      <td>2005-11-22T18:06:35Z[GMT]</td>\n      <td>ant:ant</td>\n      <td>1.6.1</td>\n    </tr>\n    <tr>\n      <th>5</th>\n      <td>ant:ant:1.6</td>\n      <td>Jar</td>\n      <td>2005-11-22T18:06:39Z[GMT]</td>\n      <td>ant:ant</td>\n      <td>1.6</td>\n    </tr>\n    <tr>\n      <th>6</th>\n      <td>ant:ant:1.5.4</td>\n      <td>Jar</td>\n      <td>2005-11-22T18:06:35Z[GMT]</td>\n      <td>ant:ant</td>\n      <td>1.5.4</td>\n    </tr>\n    <tr>\n      <th>7</th>\n      <td>ant:ant:1.5.3-1</td>\n      <td>Jar</td>\n      <td>2005-11-22T18:06:35Z[GMT]</td>\n      <td>ant:ant</td>\n      <td>1.5.3-1</td>\n    </tr>\n    <tr>\n      <th>8</th>\n      <td>ant:ant:1.5.2</td>\n      <td>Jar</td>\n      <td>2005-11-22T18:06:34Z[GMT]</td>\n      <td>ant:ant</td>\n      <td>1.5.2</td>\n    </tr>\n    <tr>\n      <th>9</th>\n      <td>ant:ant:1.5.1</td>\n      <td>Jar</td>\n      <td>2005-11-22T18:06:33Z[GMT]</td>\n      <td>ant:ant</td>\n      <td>1.5.1</td>\n    </tr>\n    <tr>\n      <th>10</th>\n      <td>ant:ant:1.5</td>\n      <td>Jar</td>\n      <td>2005-11-22T18:06:35Z[GMT]</td>\n      <td>ant:ant</td>\n      <td>1.5</td>\n    </tr>\n    <tr>\n      <th>11</th>\n      <td>ant:ant:1.4.1</td>\n      <td>Jar</td>\n      <td>2005-11-22T18:06:33Z[GMT]</td>\n      <td>ant:ant</td>\n      <td>1.4.1</td>\n    </tr>\n  </tbody>\n</table>\n</div>"
     },
     "metadata": {},
     "execution_count": 16
    }
   ],
   "source": [
    "# use dict to accelerate lookup\n",
    "# ref: https://stackoverflow.com/questions/59554213\n",
    "versions_dict = {i: group.reset_index(drop=True) for i, group in tqdm(df_release.groupby('lib'))}\n",
    "versions_dict['ant:ant']"
   ]
  },
  {
   "cell_type": "code",
   "execution_count": 17,
   "metadata": {},
   "outputs": [
    {
     "output_type": "execute_result",
     "data": {
      "text/plain": [
       "(None, 'dreaming', None)"
      ]
     },
     "metadata": {},
     "execution_count": 17
    }
   ],
   "source": [
    "# use leveldb to cache version lookups\n",
    "# k: str, v: str\n",
    "import json\n",
    "import plyvel\n",
    "\n",
    "try:\n",
    "    if db_ver_dep.closed:\n",
    "        db_ver_dep = plyvel.DB('cache/ver_dep_graph', create_if_missing=True)\n",
    "except NameError:\n",
    "    db_ver_dep = plyvel.DB('cache/ver_dep_graph', create_if_missing=True)\n",
    "\n",
    "def cache_put(k: str, v: str, db=db_ver_dep):\n",
    "    key = k.encode('utf-8')\n",
    "    value = v.encode('utf-8')\n",
    "    db.put(key, value)\n",
    "\n",
    "def cache_get(k: str, db=db_ver_dep):\n",
    "    key = k.encode('utf-8')\n",
    "    res = db.get(key)\n",
    "    return res.decode('utf-8') if res else None\n",
    "\n",
    "def cache_delete(k: str, db=db_ver_dep):\n",
    "    key = k.encode('utf-8')\n",
    "    db.delete(key)\n",
    "\n",
    "cache_put('shuwarin', 'dreaming'), cache_get('shuwarin'), cache_delete('shuwarin')"
   ]
  },
  {
   "cell_type": "code",
   "execution_count": 18,
   "metadata": {},
   "outputs": [],
   "source": [
    "from functools import wraps\n",
    "\n",
    "lookups = 0\n",
    "hits = 0\n",
    "\n",
    "# cache version lookups\n",
    "def cache_ver(f, db=db_ver_dep):\n",
    "    @wraps(f)\n",
    "    def wrapper(lib: str, version=\"\", commitTime=None):\n",
    "        global lookups, hits\n",
    "        lookups += 1\n",
    "        # if no version found, cache doesn't make any sence\n",
    "        cache = cache_get(lib+':'+version, db=db) if version else None\n",
    "        if cache:\n",
    "            hits += 1\n",
    "            return cache\n",
    "        else:\n",
    "            res = f(lib, version, commitTime)\n",
    "            if version:\n",
    "                cache_put(lib+':'+version, res, db=db)  # argument\n",
    "            cache_put(lib+':'+res, res, db=db)  # real version\n",
    "            return res\n",
    "    return wrapper"
   ]
  },
  {
   "cell_type": "code",
   "execution_count": 19,
   "metadata": {},
   "outputs": [
    {
     "output_type": "execute_result",
     "data": {
      "text/plain": [
       "                        artifact packaging                    release  \\\n",
       "0          xstream:xstream:1.1.3       Jar  2006-01-15T17:40:57Z[GMT]   \n",
       "1          xstream:xstream:1.1.2       Jar  2005-11-22T18:29:17Z[GMT]   \n",
       "2          xstream:xstream:1.1.1       Jar  2005-11-22T18:29:17Z[GMT]   \n",
       "3            xstream:xstream:1.1       Jar  2005-11-22T18:29:17Z[GMT]   \n",
       "4    xstream:xstream:1.0.3.2-dev       Jar  2016-08-10T15:08:35Z[GMT]   \n",
       "5          xstream:xstream:1.0.2       Jar  2005-11-22T18:29:17Z[GMT]   \n",
       "6          xstream:xstream:1.0.1       Jar  2005-11-22T18:29:17Z[GMT]   \n",
       "7        xstream:xstream:1.0-rc1       Jar  2005-11-22T18:29:17Z[GMT]   \n",
       "8   xstream:xstream:1.0-SNAPSHOT       Jar  2016-08-10T15:08:35Z[GMT]   \n",
       "9            xstream:xstream:1.0       Jar  2005-11-22T18:29:17Z[GMT]   \n",
       "10       xstream:xstream:0.6-rc1       Jar  2005-11-22T18:29:16Z[GMT]   \n",
       "11           xstream:xstream:0.5       Jar  2005-11-22T18:29:16Z[GMT]   \n",
       "12           xstream:xstream:0.3       Jar  2005-11-22T18:29:16Z[GMT]   \n",
       "13           xstream:xstream:0.2       Jar  2005-11-22T18:29:16Z[GMT]   \n",
       "\n",
       "                lib       version  \n",
       "0   xstream:xstream         1.1.3  \n",
       "1   xstream:xstream         1.1.2  \n",
       "2   xstream:xstream         1.1.1  \n",
       "3   xstream:xstream           1.1  \n",
       "4   xstream:xstream   1.0.3.2-dev  \n",
       "5   xstream:xstream         1.0.2  \n",
       "6   xstream:xstream         1.0.1  \n",
       "7   xstream:xstream       1.0-rc1  \n",
       "8   xstream:xstream  1.0-SNAPSHOT  \n",
       "9   xstream:xstream           1.0  \n",
       "10  xstream:xstream       0.6-rc1  \n",
       "11  xstream:xstream           0.5  \n",
       "12  xstream:xstream           0.3  \n",
       "13  xstream:xstream           0.2  "
      ],
      "text/html": "<div>\n<style scoped>\n    .dataframe tbody tr th:only-of-type {\n        vertical-align: middle;\n    }\n\n    .dataframe tbody tr th {\n        vertical-align: top;\n    }\n\n    .dataframe thead th {\n        text-align: right;\n    }\n</style>\n<table border=\"1\" class=\"dataframe\">\n  <thead>\n    <tr style=\"text-align: right;\">\n      <th></th>\n      <th>artifact</th>\n      <th>packaging</th>\n      <th>release</th>\n      <th>lib</th>\n      <th>version</th>\n    </tr>\n  </thead>\n  <tbody>\n    <tr>\n      <th>0</th>\n      <td>xstream:xstream:1.1.3</td>\n      <td>Jar</td>\n      <td>2006-01-15T17:40:57Z[GMT]</td>\n      <td>xstream:xstream</td>\n      <td>1.1.3</td>\n    </tr>\n    <tr>\n      <th>1</th>\n      <td>xstream:xstream:1.1.2</td>\n      <td>Jar</td>\n      <td>2005-11-22T18:29:17Z[GMT]</td>\n      <td>xstream:xstream</td>\n      <td>1.1.2</td>\n    </tr>\n    <tr>\n      <th>2</th>\n      <td>xstream:xstream:1.1.1</td>\n      <td>Jar</td>\n      <td>2005-11-22T18:29:17Z[GMT]</td>\n      <td>xstream:xstream</td>\n      <td>1.1.1</td>\n    </tr>\n    <tr>\n      <th>3</th>\n      <td>xstream:xstream:1.1</td>\n      <td>Jar</td>\n      <td>2005-11-22T18:29:17Z[GMT]</td>\n      <td>xstream:xstream</td>\n      <td>1.1</td>\n    </tr>\n    <tr>\n      <th>4</th>\n      <td>xstream:xstream:1.0.3.2-dev</td>\n      <td>Jar</td>\n      <td>2016-08-10T15:08:35Z[GMT]</td>\n      <td>xstream:xstream</td>\n      <td>1.0.3.2-dev</td>\n    </tr>\n    <tr>\n      <th>5</th>\n      <td>xstream:xstream:1.0.2</td>\n      <td>Jar</td>\n      <td>2005-11-22T18:29:17Z[GMT]</td>\n      <td>xstream:xstream</td>\n      <td>1.0.2</td>\n    </tr>\n    <tr>\n      <th>6</th>\n      <td>xstream:xstream:1.0.1</td>\n      <td>Jar</td>\n      <td>2005-11-22T18:29:17Z[GMT]</td>\n      <td>xstream:xstream</td>\n      <td>1.0.1</td>\n    </tr>\n    <tr>\n      <th>7</th>\n      <td>xstream:xstream:1.0-rc1</td>\n      <td>Jar</td>\n      <td>2005-11-22T18:29:17Z[GMT]</td>\n      <td>xstream:xstream</td>\n      <td>1.0-rc1</td>\n    </tr>\n    <tr>\n      <th>8</th>\n      <td>xstream:xstream:1.0-SNAPSHOT</td>\n      <td>Jar</td>\n      <td>2016-08-10T15:08:35Z[GMT]</td>\n      <td>xstream:xstream</td>\n      <td>1.0-SNAPSHOT</td>\n    </tr>\n    <tr>\n      <th>9</th>\n      <td>xstream:xstream:1.0</td>\n      <td>Jar</td>\n      <td>2005-11-22T18:29:17Z[GMT]</td>\n      <td>xstream:xstream</td>\n      <td>1.0</td>\n    </tr>\n    <tr>\n      <th>10</th>\n      <td>xstream:xstream:0.6-rc1</td>\n      <td>Jar</td>\n      <td>2005-11-22T18:29:16Z[GMT]</td>\n      <td>xstream:xstream</td>\n      <td>0.6-rc1</td>\n    </tr>\n    <tr>\n      <th>11</th>\n      <td>xstream:xstream:0.5</td>\n      <td>Jar</td>\n      <td>2005-11-22T18:29:16Z[GMT]</td>\n      <td>xstream:xstream</td>\n      <td>0.5</td>\n    </tr>\n    <tr>\n      <th>12</th>\n      <td>xstream:xstream:0.3</td>\n      <td>Jar</td>\n      <td>2005-11-22T18:29:16Z[GMT]</td>\n      <td>xstream:xstream</td>\n      <td>0.3</td>\n    </tr>\n    <tr>\n      <th>13</th>\n      <td>xstream:xstream:0.2</td>\n      <td>Jar</td>\n      <td>2005-11-22T18:29:16Z[GMT]</td>\n      <td>xstream:xstream</td>\n      <td>0.2</td>\n    </tr>\n  </tbody>\n</table>\n</div>"
     },
     "metadata": {},
     "execution_count": 19
    }
   ],
   "source": [
    "versions_dict['xstream:xstream']"
   ]
  },
  {
   "cell_type": "code",
   "execution_count": 39,
   "metadata": {},
   "outputs": [
    {
     "output_type": "execute_result",
     "data": {
      "text/plain": [
       "'1.1.3'"
      ]
     },
     "metadata": {},
     "execution_count": 39
    }
   ],
   "source": [
    "# lookup direct dependencies in libraryVersionToDependency\n",
    "# return format: { lib: 'lib', version: '1.1', dep: {'a': '1.0 } }\n",
    "\n",
    "# # simple caching\n",
    "# from functools import lru_cache\n",
    "\n",
    "# @timethis\n",
    "# @cache_ver\n",
    "def get_version_dep_graph(lib: str, version=\"\", commitTime=None) -> str:\n",
    "    res = ''\n",
    "    version_ = None  # candidate version\n",
    "    # versions = df_release[df_release['lib']==lib]  # slow,,,\n",
    "    try:\n",
    "        versions = versions_dict[lib]\n",
    "    except KeyError:\n",
    "        return ''  # Not Found  \n",
    "    # skip 1-4 if version is empty\n",
    "    if version:\n",
    "        # 1. exact matching\n",
    "        res = versions[versions['version'].str.match(\"^{version}$\")]\n",
    "        # 2. version*\n",
    "        if not len(res):\n",
    "            version_ = version\n",
    "            res = versions[versions['version'].str.match(\"^{version_}\")]\n",
    "        # 3. strict parser\n",
    "        if not len(res):\n",
    "            version_ = parse_version_strict(version)\n",
    "            res = versions[versions['version'].str.match(\"^{version_}\")]\n",
    "        # 4. remove last dot (3.6.5-alpha -> 3.6.5 -> 3.6)\n",
    "        if not len(res):\n",
    "            version_='.'.join(version_.split('.')[:-1])\n",
    "            # version_ may be an empty string?\n",
    "            if version_:\n",
    "                res = versions[versions['version'].str.match(\"^{version_}\")] \n",
    "        \n",
    "        ## skip checking 'release' time\n",
    "      \n",
    "        # #  sanity check\n",
    "        # if version_ and commitTime:\n",
    "        #     res = res[[dateParser(row['release']) < commitTime for index, row in res.iterrows()]]\n",
    "\n",
    "    # # 5. find last version before commit;\n",
    "    # if not len(res) and commitTime:\n",
    "    #     res = versions[[dateParser(row['release']) < commitTime for index, row in versions.iterrows()]]\n",
    "    \n",
    "    # 6. find all results\n",
    "    if not len(res):\n",
    "        res = versions\n",
    "    return res.iloc[0]['version'] if len(res) else ''\n",
    "\n",
    "res = get_version_dep_graph('xstream:xstream' ,'1.1.3')\n",
    "res"
   ]
  },
  {
   "cell_type": "code",
   "execution_count": 40,
   "metadata": {},
   "outputs": [
    {
     "output_type": "display_data",
     "data": {
      "text/plain": "HBox(children=(HTML(value=''), FloatProgress(value=0.0, max=657426.0), HTML(value='')))",
      "application/vnd.jupyter.widget-view+json": {
       "version_major": 2,
       "version_minor": 0,
       "model_id": "9529e2864bf946c18266b7ccfbbc5009"
      }
     },
     "metadata": {}
    },
    {
     "output_type": "stream",
     "name": "stdout",
     "text": [
      "\n"
     ]
    },
    {
     "output_type": "error",
     "ename": "KeyboardInterrupt",
     "evalue": "",
     "traceback": [
      "\u001b[0;31m---------------------------------------------------------------------------\u001b[0m",
      "\u001b[0;31mKeyboardInterrupt\u001b[0m                         Traceback (most recent call last)",
      "\u001b[0;32m<ipython-input-40-65636b96ea84>\u001b[0m in \u001b[0;36m<module>\u001b[0;34m\u001b[0m\n\u001b[1;32m      8\u001b[0m     \u001b[0mdf\u001b[0m\u001b[0;34m[\u001b[0m\u001b[0;34m'ver_dep_graph'\u001b[0m\u001b[0;34m]\u001b[0m \u001b[0;34m=\u001b[0m \u001b[0mdf\u001b[0m\u001b[0;34m.\u001b[0m\u001b[0mprogress_apply\u001b[0m\u001b[0;34m(\u001b[0m\u001b[0;32mlambda\u001b[0m \u001b[0mx\u001b[0m\u001b[0;34m:\u001b[0m \u001b[0mget_version_dep_graph\u001b[0m\u001b[0;34m(\u001b[0m\u001b[0mstr\u001b[0m\u001b[0;34m(\u001b[0m\u001b[0mx\u001b[0m\u001b[0;34m[\u001b[0m\u001b[0;34m'lib'\u001b[0m\u001b[0;34m]\u001b[0m\u001b[0;34m)\u001b[0m\u001b[0;34m,\u001b[0m \u001b[0mstr\u001b[0m\u001b[0;34m(\u001b[0m\u001b[0mx\u001b[0m\u001b[0;34m[\u001b[0m\u001b[0;34m'version'\u001b[0m\u001b[0;34m]\u001b[0m\u001b[0;34m)\u001b[0m\u001b[0;34m)\u001b[0m\u001b[0;34m,\u001b[0m \u001b[0maxis\u001b[0m\u001b[0;34m=\u001b[0m\u001b[0;36m1\u001b[0m\u001b[0;34m)\u001b[0m\u001b[0;34m\u001b[0m\u001b[0;34m\u001b[0m\u001b[0m\n\u001b[1;32m      9\u001b[0m \u001b[0;34m\u001b[0m\u001b[0m\n\u001b[0;32m---> 10\u001b[0;31m \u001b[0mthread_worker\u001b[0m\u001b[0;34m(\u001b[0m\u001b[0mdep_unique\u001b[0m\u001b[0;34m)\u001b[0m\u001b[0;34m\u001b[0m\u001b[0;34m\u001b[0m\u001b[0m\n\u001b[0m\u001b[1;32m     11\u001b[0m \u001b[0;34m\u001b[0m\u001b[0m\n\u001b[1;32m     12\u001b[0m \u001b[0;31m# # multiprocessing with progress bar\u001b[0m\u001b[0;34m\u001b[0m\u001b[0;34m\u001b[0m\u001b[0;34m\u001b[0m\u001b[0m\n",
      "\u001b[0;32m<ipython-input-40-65636b96ea84>\u001b[0m in \u001b[0;36mthread_worker\u001b[0;34m(df)\u001b[0m\n\u001b[1;32m      6\u001b[0m \u001b[0;32mdef\u001b[0m \u001b[0mthread_worker\u001b[0m\u001b[0;34m(\u001b[0m\u001b[0mdf\u001b[0m\u001b[0;34m:\u001b[0m \u001b[0mpd\u001b[0m\u001b[0;34m.\u001b[0m\u001b[0mDataFrame\u001b[0m\u001b[0;34m)\u001b[0m\u001b[0;34m:\u001b[0m\u001b[0;34m\u001b[0m\u001b[0;34m\u001b[0m\u001b[0m\n\u001b[1;32m      7\u001b[0m     \u001b[0mtqdm\u001b[0m\u001b[0;34m.\u001b[0m\u001b[0mpandas\u001b[0m\u001b[0;34m(\u001b[0m\u001b[0;34m)\u001b[0m\u001b[0;34m\u001b[0m\u001b[0;34m\u001b[0m\u001b[0m\n\u001b[0;32m----> 8\u001b[0;31m     \u001b[0mdf\u001b[0m\u001b[0;34m[\u001b[0m\u001b[0;34m'ver_dep_graph'\u001b[0m\u001b[0;34m]\u001b[0m \u001b[0;34m=\u001b[0m \u001b[0mdf\u001b[0m\u001b[0;34m.\u001b[0m\u001b[0mprogress_apply\u001b[0m\u001b[0;34m(\u001b[0m\u001b[0;32mlambda\u001b[0m \u001b[0mx\u001b[0m\u001b[0;34m:\u001b[0m \u001b[0mget_version_dep_graph\u001b[0m\u001b[0;34m(\u001b[0m\u001b[0mstr\u001b[0m\u001b[0;34m(\u001b[0m\u001b[0mx\u001b[0m\u001b[0;34m[\u001b[0m\u001b[0;34m'lib'\u001b[0m\u001b[0;34m]\u001b[0m\u001b[0;34m)\u001b[0m\u001b[0;34m,\u001b[0m \u001b[0mstr\u001b[0m\u001b[0;34m(\u001b[0m\u001b[0mx\u001b[0m\u001b[0;34m[\u001b[0m\u001b[0;34m'version'\u001b[0m\u001b[0;34m]\u001b[0m\u001b[0;34m)\u001b[0m\u001b[0;34m)\u001b[0m\u001b[0;34m,\u001b[0m \u001b[0maxis\u001b[0m\u001b[0;34m=\u001b[0m\u001b[0;36m1\u001b[0m\u001b[0;34m)\u001b[0m\u001b[0;34m\u001b[0m\u001b[0;34m\u001b[0m\u001b[0m\n\u001b[0m\u001b[1;32m      9\u001b[0m \u001b[0;34m\u001b[0m\u001b[0m\n\u001b[1;32m     10\u001b[0m \u001b[0mthread_worker\u001b[0m\u001b[0;34m(\u001b[0m\u001b[0mdep_unique\u001b[0m\u001b[0;34m)\u001b[0m\u001b[0;34m\u001b[0m\u001b[0;34m\u001b[0m\u001b[0m\n",
      "\u001b[0;32m~/miniconda3/lib/python3.8/site-packages/tqdm/std.py\u001b[0m in \u001b[0;36minner\u001b[0;34m(df, func, *args, **kwargs)\u001b[0m\n\u001b[1;32m    801\u001b[0m                 \u001b[0;31m# on the df using our wrapper (which provides bar updating)\u001b[0m\u001b[0;34m\u001b[0m\u001b[0;34m\u001b[0m\u001b[0;34m\u001b[0m\u001b[0m\n\u001b[1;32m    802\u001b[0m                 \u001b[0;32mtry\u001b[0m\u001b[0;34m:\u001b[0m\u001b[0;34m\u001b[0m\u001b[0;34m\u001b[0m\u001b[0m\n\u001b[0;32m--> 803\u001b[0;31m                     \u001b[0;32mreturn\u001b[0m \u001b[0mgetattr\u001b[0m\u001b[0;34m(\u001b[0m\u001b[0mdf\u001b[0m\u001b[0;34m,\u001b[0m \u001b[0mdf_function\u001b[0m\u001b[0;34m)\u001b[0m\u001b[0;34m(\u001b[0m\u001b[0mwrapper\u001b[0m\u001b[0;34m,\u001b[0m \u001b[0;34m**\u001b[0m\u001b[0mkwargs\u001b[0m\u001b[0;34m)\u001b[0m\u001b[0;34m\u001b[0m\u001b[0;34m\u001b[0m\u001b[0m\n\u001b[0m\u001b[1;32m    804\u001b[0m                 \u001b[0;32mfinally\u001b[0m\u001b[0;34m:\u001b[0m\u001b[0;34m\u001b[0m\u001b[0;34m\u001b[0m\u001b[0m\n\u001b[1;32m    805\u001b[0m                     \u001b[0mt\u001b[0m\u001b[0;34m.\u001b[0m\u001b[0mclose\u001b[0m\u001b[0;34m(\u001b[0m\u001b[0;34m)\u001b[0m\u001b[0;34m\u001b[0m\u001b[0;34m\u001b[0m\u001b[0m\n",
      "\u001b[0;32m~/miniconda3/lib/python3.8/site-packages/pandas/core/frame.py\u001b[0m in \u001b[0;36mapply\u001b[0;34m(self, func, axis, raw, result_type, args, **kwds)\u001b[0m\n\u001b[1;32m   7763\u001b[0m             \u001b[0mkwds\u001b[0m\u001b[0;34m=\u001b[0m\u001b[0mkwds\u001b[0m\u001b[0;34m,\u001b[0m\u001b[0;34m\u001b[0m\u001b[0;34m\u001b[0m\u001b[0m\n\u001b[1;32m   7764\u001b[0m         )\n\u001b[0;32m-> 7765\u001b[0;31m         \u001b[0;32mreturn\u001b[0m \u001b[0mop\u001b[0m\u001b[0;34m.\u001b[0m\u001b[0mget_result\u001b[0m\u001b[0;34m(\u001b[0m\u001b[0;34m)\u001b[0m\u001b[0;34m\u001b[0m\u001b[0;34m\u001b[0m\u001b[0m\n\u001b[0m\u001b[1;32m   7766\u001b[0m \u001b[0;34m\u001b[0m\u001b[0m\n\u001b[1;32m   7767\u001b[0m     \u001b[0;32mdef\u001b[0m \u001b[0mapplymap\u001b[0m\u001b[0;34m(\u001b[0m\u001b[0mself\u001b[0m\u001b[0;34m,\u001b[0m \u001b[0mfunc\u001b[0m\u001b[0;34m,\u001b[0m \u001b[0mna_action\u001b[0m\u001b[0;34m:\u001b[0m \u001b[0mOptional\u001b[0m\u001b[0;34m[\u001b[0m\u001b[0mstr\u001b[0m\u001b[0;34m]\u001b[0m \u001b[0;34m=\u001b[0m \u001b[0;32mNone\u001b[0m\u001b[0;34m)\u001b[0m \u001b[0;34m->\u001b[0m \u001b[0mDataFrame\u001b[0m\u001b[0;34m:\u001b[0m\u001b[0;34m\u001b[0m\u001b[0;34m\u001b[0m\u001b[0m\n",
      "\u001b[0;32m~/miniconda3/lib/python3.8/site-packages/pandas/core/apply.py\u001b[0m in \u001b[0;36mget_result\u001b[0;34m(self)\u001b[0m\n\u001b[1;32m    183\u001b[0m             \u001b[0;32mreturn\u001b[0m \u001b[0mself\u001b[0m\u001b[0;34m.\u001b[0m\u001b[0mapply_raw\u001b[0m\u001b[0;34m(\u001b[0m\u001b[0;34m)\u001b[0m\u001b[0;34m\u001b[0m\u001b[0;34m\u001b[0m\u001b[0m\n\u001b[1;32m    184\u001b[0m \u001b[0;34m\u001b[0m\u001b[0m\n\u001b[0;32m--> 185\u001b[0;31m         \u001b[0;32mreturn\u001b[0m \u001b[0mself\u001b[0m\u001b[0;34m.\u001b[0m\u001b[0mapply_standard\u001b[0m\u001b[0;34m(\u001b[0m\u001b[0;34m)\u001b[0m\u001b[0;34m\u001b[0m\u001b[0;34m\u001b[0m\u001b[0m\n\u001b[0m\u001b[1;32m    186\u001b[0m \u001b[0;34m\u001b[0m\u001b[0m\n\u001b[1;32m    187\u001b[0m     \u001b[0;32mdef\u001b[0m \u001b[0mapply_empty_result\u001b[0m\u001b[0;34m(\u001b[0m\u001b[0mself\u001b[0m\u001b[0;34m)\u001b[0m\u001b[0;34m:\u001b[0m\u001b[0;34m\u001b[0m\u001b[0;34m\u001b[0m\u001b[0m\n",
      "\u001b[0;32m~/miniconda3/lib/python3.8/site-packages/pandas/core/apply.py\u001b[0m in \u001b[0;36mapply_standard\u001b[0;34m(self)\u001b[0m\n\u001b[1;32m    274\u001b[0m \u001b[0;34m\u001b[0m\u001b[0m\n\u001b[1;32m    275\u001b[0m     \u001b[0;32mdef\u001b[0m \u001b[0mapply_standard\u001b[0m\u001b[0;34m(\u001b[0m\u001b[0mself\u001b[0m\u001b[0;34m)\u001b[0m\u001b[0;34m:\u001b[0m\u001b[0;34m\u001b[0m\u001b[0;34m\u001b[0m\u001b[0m\n\u001b[0;32m--> 276\u001b[0;31m         \u001b[0mresults\u001b[0m\u001b[0;34m,\u001b[0m \u001b[0mres_index\u001b[0m \u001b[0;34m=\u001b[0m \u001b[0mself\u001b[0m\u001b[0;34m.\u001b[0m\u001b[0mapply_series_generator\u001b[0m\u001b[0;34m(\u001b[0m\u001b[0;34m)\u001b[0m\u001b[0;34m\u001b[0m\u001b[0;34m\u001b[0m\u001b[0m\n\u001b[0m\u001b[1;32m    277\u001b[0m \u001b[0;34m\u001b[0m\u001b[0m\n\u001b[1;32m    278\u001b[0m         \u001b[0;31m# wrap results\u001b[0m\u001b[0;34m\u001b[0m\u001b[0;34m\u001b[0m\u001b[0;34m\u001b[0m\u001b[0m\n",
      "\u001b[0;32m~/miniconda3/lib/python3.8/site-packages/pandas/core/apply.py\u001b[0m in \u001b[0;36mapply_series_generator\u001b[0;34m(self)\u001b[0m\n\u001b[1;32m    288\u001b[0m             \u001b[0;32mfor\u001b[0m \u001b[0mi\u001b[0m\u001b[0;34m,\u001b[0m \u001b[0mv\u001b[0m \u001b[0;32min\u001b[0m \u001b[0menumerate\u001b[0m\u001b[0;34m(\u001b[0m\u001b[0mseries_gen\u001b[0m\u001b[0;34m)\u001b[0m\u001b[0;34m:\u001b[0m\u001b[0;34m\u001b[0m\u001b[0;34m\u001b[0m\u001b[0m\n\u001b[1;32m    289\u001b[0m                 \u001b[0;31m# ignore SettingWithCopy here in case the user mutates\u001b[0m\u001b[0;34m\u001b[0m\u001b[0;34m\u001b[0m\u001b[0;34m\u001b[0m\u001b[0m\n\u001b[0;32m--> 290\u001b[0;31m                 \u001b[0mresults\u001b[0m\u001b[0;34m[\u001b[0m\u001b[0mi\u001b[0m\u001b[0;34m]\u001b[0m \u001b[0;34m=\u001b[0m \u001b[0mself\u001b[0m\u001b[0;34m.\u001b[0m\u001b[0mf\u001b[0m\u001b[0;34m(\u001b[0m\u001b[0mv\u001b[0m\u001b[0;34m)\u001b[0m\u001b[0;34m\u001b[0m\u001b[0;34m\u001b[0m\u001b[0m\n\u001b[0m\u001b[1;32m    291\u001b[0m                 \u001b[0;32mif\u001b[0m \u001b[0misinstance\u001b[0m\u001b[0;34m(\u001b[0m\u001b[0mresults\u001b[0m\u001b[0;34m[\u001b[0m\u001b[0mi\u001b[0m\u001b[0;34m]\u001b[0m\u001b[0;34m,\u001b[0m \u001b[0mABCSeries\u001b[0m\u001b[0;34m)\u001b[0m\u001b[0;34m:\u001b[0m\u001b[0;34m\u001b[0m\u001b[0;34m\u001b[0m\u001b[0m\n\u001b[1;32m    292\u001b[0m                     \u001b[0;31m# If we have a view on v, we need to make a copy because\u001b[0m\u001b[0;34m\u001b[0m\u001b[0;34m\u001b[0m\u001b[0;34m\u001b[0m\u001b[0m\n",
      "\u001b[0;32m~/miniconda3/lib/python3.8/site-packages/tqdm/std.py\u001b[0m in \u001b[0;36mwrapper\u001b[0;34m(*args, **kwargs)\u001b[0m\n\u001b[1;32m    796\u001b[0m                     \u001b[0;31m# take a fast or slow code path; so stop when t.total==t.n\u001b[0m\u001b[0;34m\u001b[0m\u001b[0;34m\u001b[0m\u001b[0;34m\u001b[0m\u001b[0m\n\u001b[1;32m    797\u001b[0m                     \u001b[0mt\u001b[0m\u001b[0;34m.\u001b[0m\u001b[0mupdate\u001b[0m\u001b[0;34m(\u001b[0m\u001b[0mn\u001b[0m\u001b[0;34m=\u001b[0m\u001b[0;36m1\u001b[0m \u001b[0;32mif\u001b[0m \u001b[0;32mnot\u001b[0m \u001b[0mt\u001b[0m\u001b[0;34m.\u001b[0m\u001b[0mtotal\u001b[0m \u001b[0;32mor\u001b[0m \u001b[0mt\u001b[0m\u001b[0;34m.\u001b[0m\u001b[0mn\u001b[0m \u001b[0;34m<\u001b[0m \u001b[0mt\u001b[0m\u001b[0;34m.\u001b[0m\u001b[0mtotal\u001b[0m \u001b[0;32melse\u001b[0m \u001b[0;36m0\u001b[0m\u001b[0;34m)\u001b[0m\u001b[0;34m\u001b[0m\u001b[0;34m\u001b[0m\u001b[0m\n\u001b[0;32m--> 798\u001b[0;31m                     \u001b[0;32mreturn\u001b[0m \u001b[0mfunc\u001b[0m\u001b[0;34m(\u001b[0m\u001b[0;34m*\u001b[0m\u001b[0margs\u001b[0m\u001b[0;34m,\u001b[0m \u001b[0;34m**\u001b[0m\u001b[0mkwargs\u001b[0m\u001b[0;34m)\u001b[0m\u001b[0;34m\u001b[0m\u001b[0;34m\u001b[0m\u001b[0m\n\u001b[0m\u001b[1;32m    799\u001b[0m \u001b[0;34m\u001b[0m\u001b[0m\n\u001b[1;32m    800\u001b[0m                 \u001b[0;31m# Apply the provided function (in **kwargs)\u001b[0m\u001b[0;34m\u001b[0m\u001b[0;34m\u001b[0m\u001b[0;34m\u001b[0m\u001b[0m\n",
      "\u001b[0;32m<ipython-input-40-65636b96ea84>\u001b[0m in \u001b[0;36m<lambda>\u001b[0;34m(x)\u001b[0m\n\u001b[1;32m      6\u001b[0m \u001b[0;32mdef\u001b[0m \u001b[0mthread_worker\u001b[0m\u001b[0;34m(\u001b[0m\u001b[0mdf\u001b[0m\u001b[0;34m:\u001b[0m \u001b[0mpd\u001b[0m\u001b[0;34m.\u001b[0m\u001b[0mDataFrame\u001b[0m\u001b[0;34m)\u001b[0m\u001b[0;34m:\u001b[0m\u001b[0;34m\u001b[0m\u001b[0;34m\u001b[0m\u001b[0m\n\u001b[1;32m      7\u001b[0m     \u001b[0mtqdm\u001b[0m\u001b[0;34m.\u001b[0m\u001b[0mpandas\u001b[0m\u001b[0;34m(\u001b[0m\u001b[0;34m)\u001b[0m\u001b[0;34m\u001b[0m\u001b[0;34m\u001b[0m\u001b[0m\n\u001b[0;32m----> 8\u001b[0;31m     \u001b[0mdf\u001b[0m\u001b[0;34m[\u001b[0m\u001b[0;34m'ver_dep_graph'\u001b[0m\u001b[0;34m]\u001b[0m \u001b[0;34m=\u001b[0m \u001b[0mdf\u001b[0m\u001b[0;34m.\u001b[0m\u001b[0mprogress_apply\u001b[0m\u001b[0;34m(\u001b[0m\u001b[0;32mlambda\u001b[0m \u001b[0mx\u001b[0m\u001b[0;34m:\u001b[0m \u001b[0mget_version_dep_graph\u001b[0m\u001b[0;34m(\u001b[0m\u001b[0mstr\u001b[0m\u001b[0;34m(\u001b[0m\u001b[0mx\u001b[0m\u001b[0;34m[\u001b[0m\u001b[0;34m'lib'\u001b[0m\u001b[0;34m]\u001b[0m\u001b[0;34m)\u001b[0m\u001b[0;34m,\u001b[0m \u001b[0mstr\u001b[0m\u001b[0;34m(\u001b[0m\u001b[0mx\u001b[0m\u001b[0;34m[\u001b[0m\u001b[0;34m'version'\u001b[0m\u001b[0;34m]\u001b[0m\u001b[0;34m)\u001b[0m\u001b[0;34m)\u001b[0m\u001b[0;34m,\u001b[0m \u001b[0maxis\u001b[0m\u001b[0;34m=\u001b[0m\u001b[0;36m1\u001b[0m\u001b[0;34m)\u001b[0m\u001b[0;34m\u001b[0m\u001b[0;34m\u001b[0m\u001b[0m\n\u001b[0m\u001b[1;32m      9\u001b[0m \u001b[0;34m\u001b[0m\u001b[0m\n\u001b[1;32m     10\u001b[0m \u001b[0mthread_worker\u001b[0m\u001b[0;34m(\u001b[0m\u001b[0mdep_unique\u001b[0m\u001b[0;34m)\u001b[0m\u001b[0;34m\u001b[0m\u001b[0;34m\u001b[0m\u001b[0m\n",
      "\u001b[0;32m<ipython-input-39-c0ff4f41d60c>\u001b[0m in \u001b[0;36mget_version_dep_graph\u001b[0;34m(lib, version, commitTime)\u001b[0m\n\u001b[1;32m     47\u001b[0m     \u001b[0;32mif\u001b[0m \u001b[0;32mnot\u001b[0m \u001b[0mlen\u001b[0m\u001b[0;34m(\u001b[0m\u001b[0mres\u001b[0m\u001b[0;34m)\u001b[0m\u001b[0;34m:\u001b[0m\u001b[0;34m\u001b[0m\u001b[0;34m\u001b[0m\u001b[0m\n\u001b[1;32m     48\u001b[0m         \u001b[0mres\u001b[0m \u001b[0;34m=\u001b[0m \u001b[0mversions\u001b[0m\u001b[0;34m\u001b[0m\u001b[0;34m\u001b[0m\u001b[0m\n\u001b[0;32m---> 49\u001b[0;31m     \u001b[0;32mreturn\u001b[0m \u001b[0mres\u001b[0m\u001b[0;34m.\u001b[0m\u001b[0miloc\u001b[0m\u001b[0;34m[\u001b[0m\u001b[0;36m0\u001b[0m\u001b[0;34m]\u001b[0m\u001b[0;34m[\u001b[0m\u001b[0;34m'version'\u001b[0m\u001b[0;34m]\u001b[0m \u001b[0;32mif\u001b[0m \u001b[0mlen\u001b[0m\u001b[0;34m(\u001b[0m\u001b[0mres\u001b[0m\u001b[0;34m)\u001b[0m \u001b[0;32melse\u001b[0m \u001b[0;34m''\u001b[0m\u001b[0;34m\u001b[0m\u001b[0;34m\u001b[0m\u001b[0m\n\u001b[0m\u001b[1;32m     50\u001b[0m \u001b[0;34m\u001b[0m\u001b[0m\n\u001b[1;32m     51\u001b[0m \u001b[0mres\u001b[0m \u001b[0;34m=\u001b[0m \u001b[0mget_version_dep_graph\u001b[0m\u001b[0;34m(\u001b[0m\u001b[0;34m'xstream:xstream'\u001b[0m \u001b[0;34m,\u001b[0m\u001b[0;34m'1.1.3'\u001b[0m\u001b[0;34m)\u001b[0m\u001b[0;34m\u001b[0m\u001b[0;34m\u001b[0m\u001b[0m\n",
      "\u001b[0;32m~/miniconda3/lib/python3.8/site-packages/pandas/core/indexing.py\u001b[0m in \u001b[0;36m__getitem__\u001b[0;34m(self, key)\u001b[0m\n\u001b[1;32m    880\u001b[0m         \u001b[0;32mraise\u001b[0m \u001b[0mAbstractMethodError\u001b[0m\u001b[0;34m(\u001b[0m\u001b[0mself\u001b[0m\u001b[0;34m)\u001b[0m\u001b[0;34m\u001b[0m\u001b[0;34m\u001b[0m\u001b[0m\n\u001b[1;32m    881\u001b[0m \u001b[0;34m\u001b[0m\u001b[0m\n\u001b[0;32m--> 882\u001b[0;31m     \u001b[0;32mdef\u001b[0m \u001b[0m__getitem__\u001b[0m\u001b[0;34m(\u001b[0m\u001b[0mself\u001b[0m\u001b[0;34m,\u001b[0m \u001b[0mkey\u001b[0m\u001b[0;34m)\u001b[0m\u001b[0;34m:\u001b[0m\u001b[0;34m\u001b[0m\u001b[0;34m\u001b[0m\u001b[0m\n\u001b[0m\u001b[1;32m    883\u001b[0m         \u001b[0;32mif\u001b[0m \u001b[0mtype\u001b[0m\u001b[0;34m(\u001b[0m\u001b[0mkey\u001b[0m\u001b[0;34m)\u001b[0m \u001b[0;32mis\u001b[0m \u001b[0mtuple\u001b[0m\u001b[0;34m:\u001b[0m\u001b[0;34m\u001b[0m\u001b[0;34m\u001b[0m\u001b[0m\n\u001b[1;32m    884\u001b[0m             \u001b[0mkey\u001b[0m \u001b[0;34m=\u001b[0m \u001b[0mtuple\u001b[0m\u001b[0;34m(\u001b[0m\u001b[0mcom\u001b[0m\u001b[0;34m.\u001b[0m\u001b[0mapply_if_callable\u001b[0m\u001b[0;34m(\u001b[0m\u001b[0mx\u001b[0m\u001b[0;34m,\u001b[0m \u001b[0mself\u001b[0m\u001b[0;34m.\u001b[0m\u001b[0mobj\u001b[0m\u001b[0;34m)\u001b[0m \u001b[0;32mfor\u001b[0m \u001b[0mx\u001b[0m \u001b[0;32min\u001b[0m \u001b[0mkey\u001b[0m\u001b[0;34m)\u001b[0m\u001b[0;34m\u001b[0m\u001b[0;34m\u001b[0m\u001b[0m\n",
      "\u001b[0;31mKeyboardInterrupt\u001b[0m: "
     ]
    }
   ],
   "source": [
    "from tqdm.contrib.concurrent import process_map  # basically a ProcessPoolExecutor\n",
    "\n",
    "lookups = 0\n",
    "hits = 0\n",
    "\n",
    "def thread_worker(df: pd.DataFrame):\n",
    "    tqdm.pandas()\n",
    "    df['ver_dep_graph'] = df.progress_apply(lambda x: get_version_dep_graph(str(x['lib']), str(x['version'])), axis=1)\n",
    "\n",
    "thread_worker(dep_unique)\n",
    "\n",
    "# # multiprocessing with progress bar\n",
    "# import multiprocessing as mp\n",
    "# n_workers = 4\n",
    "# df_parts = np.array_split(dep_unique ,n_workers)\n",
    "# dep_unique = pd.concat(process_map(thread_worker, df_parts, max_workers=n_workers))\n",
    "\n",
    "if lookups:\n",
    "    print(f'hits: {hits}/{lookups} {(hits*100)//lookups}%')\n",
    "dep_unique.to_csv('cache/dep_unique_1.csv', index=False)\n",
    "dep_unique"
   ]
  },
  {
   "cell_type": "code",
   "execution_count": 32,
   "metadata": {},
   "outputs": [
    {
     "output_type": "execute_result",
     "data": {
      "text/plain": [
       "Empty DataFrame\n",
       "Columns: [dep_name, lib, version, published_time, ver_dep_graph]\n",
       "Index: []"
      ],
      "text/html": "<div>\n<style scoped>\n    .dataframe tbody tr th:only-of-type {\n        vertical-align: middle;\n    }\n\n    .dataframe tbody tr th {\n        vertical-align: top;\n    }\n\n    .dataframe thead th {\n        text-align: right;\n    }\n</style>\n<table border=\"1\" class=\"dataframe\">\n  <thead>\n    <tr style=\"text-align: right;\">\n      <th></th>\n      <th>dep_name</th>\n      <th>lib</th>\n      <th>version</th>\n      <th>published_time</th>\n      <th>ver_dep_graph</th>\n    </tr>\n  </thead>\n  <tbody>\n  </tbody>\n</table>\n</div>"
     },
     "metadata": {},
     "execution_count": 32
    }
   ],
   "source": [
    "dep_unique = pd.read_csv('cache/dep_unique_1.csv', low_memory=False)\n",
    "if lookups:\n",
    "    print(f'hits: {hits}/{lookups} {(hits*100)//lookups}%')\n",
    "dep_unique[dep_unique['ver_dep_graph']=='version']"
   ]
  },
  {
   "cell_type": "code",
   "execution_count": 31,
   "metadata": {},
   "outputs": [
    {
     "output_type": "execute_result",
     "data": {
      "text/plain": [
       "<LegacyVersion('')>"
      ]
     },
     "metadata": {},
     "execution_count": 31
    }
   ],
   "source": [
    "from packaging import version\n",
    "version.parse(\"\")"
   ]
  },
  {
   "cell_type": "code",
   "execution_count": null,
   "metadata": {},
   "outputs": [],
   "source": []
  }
 ]
}