{
 "cells": [
  {
   "cell_type": "code",
   "execution_count": 1,
   "metadata": {},
   "outputs": [],
   "source": [
    "import os\n",
    "import datautil\n",
    "import matplotlib\n",
    "import matplotlib.pyplot as plt\n",
    "import seaborn as sns\n",
    "from collections import defaultdict"
   ]
  },
  {
   "cell_type": "code",
   "execution_count": 2,
   "metadata": {},
   "outputs": [
    {
     "data": {
      "image/png": "[encoded data removed]",
      "text/plain": [
       "<Figure size 432x216 with 1 Axes>"
      ]
     },
     "metadata": {
      "needs_background": "light"
     },
     "output_type": "display_data"
    }
   ],
   "source": [
    "fig, ax = plt.subplots(1,1,figsize=(6,3))\n",
    "ax.plot(\n",
    "    [i for i in range(2010, 2021)], \n",
    "    [86161, 106285, 126711, 170816, 230321, 364218, 542136, 711942, 927345, 1228004, 1435600], \n",
    "    marker=\"o\")\n",
    "ax.set_yticks([i * 10**5 for i in range(1, 16, 2)])\n",
    "ax.set_xticks([i for i in range(2010, 2021)])\n",
    "ax.ticklabel_format(axis=\"y\", style=\"sci\", useMathText=True, useOffset=False)\n",
    "fig.savefig(\"plots/growth.pdf\", bbox_inches=\"tight\")"
   ]
  },
  {
   "cell_type": "code",
   "execution_count": 3,
   "metadata": {
    "collapsed": false,
    "jupyter": {
     "outputs_hidden": false
    },
    "pycharm": {
     "name": "#%%\n"
    },
    "tags": []
   },
   "outputs": [],
   "source": [
    "libraries = datautil.select_libraries_from_libraries_io()\n",
    "dep_changes = datautil.select_dependency_changes_all()\n",
    "added_projects = defaultdict(set)\n",
    "for idx, chg in dep_changes[dep_changes[\"type\"] == \"add\"].iterrows():\n",
    "    added_projects[chg[\"lib2\"]].add(chg[\"project\"])\n",
    "libraries[\"addedProjects\"] = libraries[\"name\"].map(lambda x: len(added_projects[x]))"
   ]
  },
  {
   "cell_type": "code",
   "execution_count": 4,
   "metadata": {},
   "outputs": [],
   "source": [
    "libraries[\"versionsCount\"] = libraries[\"name\"].map(lambda x: len(datautil.select_library_versions(x)))"
   ]
  },
  {
   "cell_type": "code",
   "execution_count": 5,
   "metadata": {
    "collapsed": false,
    "jupyter": {
     "outputs_hidden": false
    },
    "pycharm": {
     "name": "#%%\n"
    }
   },
   "outputs": [
    {
     "data": {
      "text/html": [
       "<div>\n",
       "<style scoped>\n",
       "    .dataframe tbody tr th:only-of-type {\n",
       "        vertical-align: middle;\n",
       "    }\n",
       "\n",
       "    .dataframe tbody tr th {\n",
       "        vertical-align: top;\n",
       "    }\n",
       "\n",
       "    .dataframe thead th {\n",
       "        text-align: right;\n",
       "    }\n",
       "</style>\n",
       "<table border=\"1\" class=\"dataframe\">\n",
       "  <thead>\n",
       "    <tr style=\"text-align: right;\">\n",
       "      <th></th>\n",
       "      <th>dependentRepositoriesCount</th>\n",
       "      <th>addedProjects</th>\n",
       "      <th>versionsCount</th>\n",
       "    </tr>\n",
       "  </thead>\n",
       "  <tbody>\n",
       "    <tr>\n",
       "      <th>count</th>\n",
       "      <td>14630.000000</td>\n",
       "      <td>14630.000000</td>\n",
       "      <td>14630.000000</td>\n",
       "    </tr>\n",
       "    <tr>\n",
       "      <th>mean</th>\n",
       "      <td>560.251538</td>\n",
       "      <td>26.419754</td>\n",
       "      <td>46.804853</td>\n",
       "    </tr>\n",
       "    <tr>\n",
       "      <th>std</th>\n",
       "      <td>5438.455347</td>\n",
       "      <td>167.341998</td>\n",
       "      <td>122.982477</td>\n",
       "    </tr>\n",
       "    <tr>\n",
       "      <th>min</th>\n",
       "      <td>11.000000</td>\n",
       "      <td>0.000000</td>\n",
       "      <td>0.000000</td>\n",
       "    </tr>\n",
       "    <tr>\n",
       "      <th>25%</th>\n",
       "      <td>18.000000</td>\n",
       "      <td>1.000000</td>\n",
       "      <td>6.000000</td>\n",
       "    </tr>\n",
       "    <tr>\n",
       "      <th>50%</th>\n",
       "      <td>37.000000</td>\n",
       "      <td>4.000000</td>\n",
       "      <td>19.000000</td>\n",
       "    </tr>\n",
       "    <tr>\n",
       "      <th>75%</th>\n",
       "      <td>109.000000</td>\n",
       "      <td>12.000000</td>\n",
       "      <td>49.000000</td>\n",
       "    </tr>\n",
       "    <tr>\n",
       "      <th>max</th>\n",
       "      <td>408330.000000</td>\n",
       "      <td>11774.000000</td>\n",
       "      <td>4598.000000</td>\n",
       "    </tr>\n",
       "  </tbody>\n",
       "</table>\n",
       "</div>"
      ],
      "text/plain": [
       "       dependentRepositoriesCount  addedProjects  versionsCount\n",
       "count                14630.000000   14630.000000   14630.000000\n",
       "mean                   560.251538      26.419754      46.804853\n",
       "std                   5438.455347     167.341998     122.982477\n",
       "min                     11.000000       0.000000       0.000000\n",
       "25%                     18.000000       1.000000       6.000000\n",
       "50%                     37.000000       4.000000      19.000000\n",
       "75%                    109.000000      12.000000      49.000000\n",
       "max                 408330.000000   11774.000000    4598.000000"
      ]
     },
     "execution_count": 5,
     "metadata": {},
     "output_type": "execute_result"
    }
   ],
   "source": [
    "libraries[[\"dependentRepositoriesCount\", \"addedProjects\", \"versionsCount\"]].describe()"
   ]
  },
  {
   "cell_type": "code",
   "execution_count": 6,
   "metadata": {},
   "outputs": [
    {
     "data": {
      "text/html": [
       "<div>\n",
       "<style scoped>\n",
       "    .dataframe tbody tr th:only-of-type {\n",
       "        vertical-align: middle;\n",
       "    }\n",
       "\n",
       "    .dataframe tbody tr th {\n",
       "        vertical-align: top;\n",
       "    }\n",
       "\n",
       "    .dataframe thead th {\n",
       "        text-align: right;\n",
       "    }\n",
       "</style>\n",
       "<table border=\"1\" class=\"dataframe\">\n",
       "  <thead>\n",
       "    <tr style=\"text-align: right;\">\n",
       "      <th></th>\n",
       "      <th>_id</th>\n",
       "      <th>repositoryId</th>\n",
       "      <th>sourceRank</th>\n",
       "      <th>repositoryStarCount</th>\n",
       "      <th>repositoryForkCount</th>\n",
       "      <th>repositoryWatchersCount</th>\n",
       "      <th>repositorySourceRank</th>\n",
       "      <th>dependentProjectsCount</th>\n",
       "      <th>dependentRepositoriesCount</th>\n",
       "      <th>addedProjects</th>\n",
       "      <th>versionsCount</th>\n",
       "    </tr>\n",
       "  </thead>\n",
       "  <tbody>\n",
       "    <tr>\n",
       "      <th>count</th>\n",
       "      <td>4.022000e+03</td>\n",
       "      <td>4.022000e+03</td>\n",
       "      <td>4022.000000</td>\n",
       "      <td>4022.000000</td>\n",
       "      <td>4022.000000</td>\n",
       "      <td>4022.000000</td>\n",
       "      <td>4022.000000</td>\n",
       "      <td>4022.000000</td>\n",
       "      <td>4022.000000</td>\n",
       "      <td>4022.000000</td>\n",
       "      <td>4022.000000</td>\n",
       "    </tr>\n",
       "    <tr>\n",
       "      <th>mean</th>\n",
       "      <td>6.643180e+05</td>\n",
       "      <td>1.310211e+06</td>\n",
       "      <td>12.566882</td>\n",
       "      <td>2236.924167</td>\n",
       "      <td>1053.912481</td>\n",
       "      <td>176.266037</td>\n",
       "      <td>7.682994</td>\n",
       "      <td>97.478866</td>\n",
       "      <td>1866.325957</td>\n",
       "      <td>87.677524</td>\n",
       "      <td>52.037792</td>\n",
       "    </tr>\n",
       "    <tr>\n",
       "      <th>std</th>\n",
       "      <td>6.415018e+05</td>\n",
       "      <td>5.352344e+06</td>\n",
       "      <td>4.748526</td>\n",
       "      <td>7389.189020</td>\n",
       "      <td>4151.201554</td>\n",
       "      <td>556.732969</td>\n",
       "      <td>7.931452</td>\n",
       "      <td>666.910803</td>\n",
       "      <td>10231.940001</td>\n",
       "      <td>310.938776</td>\n",
       "      <td>104.198181</td>\n",
       "    </tr>\n",
       "    <tr>\n",
       "      <th>min</th>\n",
       "      <td>3.349670e+05</td>\n",
       "      <td>0.000000e+00</td>\n",
       "      <td>0.000000</td>\n",
       "      <td>0.000000</td>\n",
       "      <td>0.000000</td>\n",
       "      <td>0.000000</td>\n",
       "      <td>0.000000</td>\n",
       "      <td>0.000000</td>\n",
       "      <td>11.000000</td>\n",
       "      <td>11.000000</td>\n",
       "      <td>0.000000</td>\n",
       "    </tr>\n",
       "    <tr>\n",
       "      <th>25%</th>\n",
       "      <td>3.662810e+05</td>\n",
       "      <td>0.000000e+00</td>\n",
       "      <td>9.000000</td>\n",
       "      <td>0.000000</td>\n",
       "      <td>0.000000</td>\n",
       "      <td>0.000000</td>\n",
       "      <td>0.000000</td>\n",
       "      <td>6.000000</td>\n",
       "      <td>90.000000</td>\n",
       "      <td>15.000000</td>\n",
       "      <td>9.000000</td>\n",
       "    </tr>\n",
       "    <tr>\n",
       "      <th>50%</th>\n",
       "      <td>3.981015e+05</td>\n",
       "      <td>1.650765e+05</td>\n",
       "      <td>12.000000</td>\n",
       "      <td>3.000000</td>\n",
       "      <td>7.500000</td>\n",
       "      <td>6.000000</td>\n",
       "      <td>7.000000</td>\n",
       "      <td>15.000000</td>\n",
       "      <td>216.500000</td>\n",
       "      <td>25.000000</td>\n",
       "      <td>26.000000</td>\n",
       "    </tr>\n",
       "    <tr>\n",
       "      <th>75%</th>\n",
       "      <td>6.380495e+05</td>\n",
       "      <td>1.737248e+05</td>\n",
       "      <td>16.000000</td>\n",
       "      <td>753.750000</td>\n",
       "      <td>302.000000</td>\n",
       "      <td>81.000000</td>\n",
       "      <td>15.000000</td>\n",
       "      <td>44.000000</td>\n",
       "      <td>674.750000</td>\n",
       "      <td>57.000000</td>\n",
       "      <td>63.000000</td>\n",
       "    </tr>\n",
       "    <tr>\n",
       "      <th>max</th>\n",
       "      <td>4.707317e+06</td>\n",
       "      <td>4.124831e+07</td>\n",
       "      <td>29.000000</td>\n",
       "      <td>46234.000000</td>\n",
       "      <td>28390.000000</td>\n",
       "      <td>3420.000000</td>\n",
       "      <td>25.000000</td>\n",
       "      <td>27481.000000</td>\n",
       "      <td>408330.000000</td>\n",
       "      <td>11774.000000</td>\n",
       "      <td>2214.000000</td>\n",
       "    </tr>\n",
       "  </tbody>\n",
       "</table>\n",
       "</div>"
      ],
      "text/plain": [
       "                _id  repositoryId   sourceRank  repositoryStarCount  \\\n",
       "count  4.022000e+03  4.022000e+03  4022.000000          4022.000000   \n",
       "mean   6.643180e+05  1.310211e+06    12.566882          2236.924167   \n",
       "std    6.415018e+05  5.352344e+06     4.748526          7389.189020   \n",
       "min    3.349670e+05  0.000000e+00     0.000000             0.000000   \n",
       "25%    3.662810e+05  0.000000e+00     9.000000             0.000000   \n",
       "50%    3.981015e+05  1.650765e+05    12.000000             3.000000   \n",
       "75%    6.380495e+05  1.737248e+05    16.000000           753.750000   \n",
       "max    4.707317e+06  4.124831e+07    29.000000         46234.000000   \n",
       "\n",
       "       repositoryForkCount  repositoryWatchersCount  repositorySourceRank  \\\n",
       "count          4022.000000              4022.000000           4022.000000   \n",
       "mean           1053.912481               176.266037              7.682994   \n",
       "std            4151.201554               556.732969              7.931452   \n",
       "min               0.000000                 0.000000              0.000000   \n",
       "25%               0.000000                 0.000000              0.000000   \n",
       "50%               7.500000                 6.000000              7.000000   \n",
       "75%             302.000000                81.000000             15.000000   \n",
       "max           28390.000000              3420.000000             25.000000   \n",
       "\n",
       "       dependentProjectsCount  dependentRepositoriesCount  addedProjects  \\\n",
       "count             4022.000000                 4022.000000    4022.000000   \n",
       "mean                97.478866                 1866.325957      87.677524   \n",
       "std                666.910803                10231.940001     310.938776   \n",
       "min                  0.000000                   11.000000      11.000000   \n",
       "25%                  6.000000                   90.000000      15.000000   \n",
       "50%                 15.000000                  216.500000      25.000000   \n",
       "75%                 44.000000                  674.750000      57.000000   \n",
       "max              27481.000000               408330.000000   11774.000000   \n",
       "\n",
       "       versionsCount  \n",
       "count    4022.000000  \n",
       "mean       52.037792  \n",
       "std       104.198181  \n",
       "min         0.000000  \n",
       "25%         9.000000  \n",
       "50%        26.000000  \n",
       "75%        63.000000  \n",
       "max      2214.000000  "
      ]
     },
     "execution_count": 6,
     "metadata": {},
     "output_type": "execute_result"
    }
   ],
   "source": [
    "libraries[libraries.addedProjects > 10].describe()"
   ]
  },
  {
   "cell_type": "code",
   "execution_count": 7,
   "metadata": {},
   "outputs": [],
   "source": [
    "# libraries[libraries.addedProjects >= 10].sample(94).to_csv(\"sampled_libraries.csv\", index=False)"
   ]
  },
  {
   "cell_type": "code",
   "execution_count": 8,
   "metadata": {
    "collapsed": false,
    "jupyter": {
     "outputs_hidden": false
    },
    "pycharm": {
     "name": "#%%\n"
    }
   },
   "outputs": [
    {
     "data": {
      "image/png": "[encoded data removed]",
      "text/plain": [
       "<Figure size 1080x288 with 3 Axes>"
      ]
     },
     "metadata": {
      "needs_background": "light"
     },
     "output_type": "display_data"
    }
   ],
   "source": [
    "ylabels = [\"Number of Libraries\", \"\", \"\"]\n",
    "xlabels = [\"Number of Dependent Repositories (Libraries.io)\", \"Number of Projects that Used the Library in our Dataset\", \"Number of Versions\"]\n",
    "fig, axes = plt.subplots(1, 3, figsize=(15,4))\n",
    "sns.histplot(data=libraries, x=\"dependentRepositoriesCount\", binwidth=0.25, log_scale=True, ax=axes[0])\n",
    "sns.histplot(data=libraries[\"addedProjects\"] + 1, binwidth=0.25, log_scale=True, ax=axes[1])\n",
    "sns.histplot(data=libraries[\"versionsCount\"] + 1, binwidth=0.25, log_scale=True, ax=axes[2])\n",
    "for i in range(0, 3):\n",
    "    axes[i].set_xlabel(xlabels[i])\n",
    "    axes[i].set_ylabel(ylabels[i])\n",
    "fig.savefig(\"plots/libraries.pdf\", bbox_inches=\"tight\")"
   ]
  },
  {
   "cell_type": "code",
   "execution_count": null,
   "metadata": {},
   "outputs": [],
   "source": []
  }
 ],
 "metadata": {
  "kernelspec": {
   "display_name": "Python 3",
   "language": "python",
   "name": "python3"
  },
  "language_info": {
   "codemirror_mode": {
    "name": "ipython",
    "version": 3
   },
   "file_extension": ".py",
   "mimetype": "text/x-python",
   "name": "python",
   "nbconvert_exporter": "python",
   "pygments_lexer": "ipython3",
   "version": "3.8.5"
  }
 },
 "nbformat": 4,
 "nbformat_minor": 4
}
