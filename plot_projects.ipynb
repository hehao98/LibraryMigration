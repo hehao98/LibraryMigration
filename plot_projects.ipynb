{
 "cells": [
  {
   "cell_type": "code",
   "execution_count": 1,
   "metadata": {},
   "outputs": [],
   "source": [
    "import os\n",
    "import datautil\n",
    "import pandas as pd\n",
    "import matplotlib.pyplot as plt\n",
    "import seaborn as sns"
   ]
  },
  {
   "cell_type": "code",
   "execution_count": 2,
   "metadata": {
    "collapsed": false,
    "jupyter": {
     "outputs_hidden": false
    },
    "pycharm": {
     "name": "#%%\n"
    }
   },
   "outputs": [],
   "source": [
    "if not os.path.exists(\"plots\"):\n",
    "    os.mkdir(\"plots\")\n",
    "projects = datautil.select_projects_from_libraries_io()\n",
    "projects[\"createdTimestamp\"] = pd.to_datetime(projects[\"createdTimestamp\"])\n",
    "projects[\"lastPushedTimestamp\"] = pd.to_datetime(projects[\"lastPushedTimestamp\"])\n",
    "projects[\"activeMonthsCount\"] = [max(1, (t2 - t1).days // 30 + 1) for t1, t2 in zip(\n",
    "    projects[\"createdTimestamp\"], projects[\"lastPushedTimestamp\"])]"
   ]
  },
  {
   "cell_type": "code",
   "execution_count": 3,
   "metadata": {
    "collapsed": false,
    "jupyter": {
     "outputs_hidden": false
    },
    "pycharm": {
     "name": "#%%\n"
    }
   },
   "outputs": [
    {
     "data": {
      "text/html": [
       "<div>\n",
       "<style scoped>\n",
       "    .dataframe tbody tr th:only-of-type {\n",
       "        vertical-align: middle;\n",
       "    }\n",
       "\n",
       "    .dataframe tbody tr th {\n",
       "        vertical-align: top;\n",
       "    }\n",
       "\n",
       "    .dataframe thead th {\n",
       "        text-align: right;\n",
       "    }\n",
       "</style>\n",
       "<table border=\"1\" class=\"dataframe\">\n",
       "  <thead>\n",
       "    <tr style=\"text-align: right;\">\n",
       "      <th></th>\n",
       "      <th>starsCount</th>\n",
       "      <th>commitsCount</th>\n",
       "      <th>activeMonthsCount</th>\n",
       "      <th>pomFilesCount</th>\n",
       "      <th>pomFileModifyingCommitsCount</th>\n",
       "    </tr>\n",
       "  </thead>\n",
       "  <tbody>\n",
       "    <tr>\n",
       "      <th>count</th>\n",
       "      <td>19652.000000</td>\n",
       "      <td>19652.000000</td>\n",
       "      <td>19652.000000</td>\n",
       "      <td>19652.000000</td>\n",
       "      <td>19652.000000</td>\n",
       "    </tr>\n",
       "    <tr>\n",
       "      <th>mean</th>\n",
       "      <td>244.002646</td>\n",
       "      <td>1220.661358</td>\n",
       "      <td>32.784958</td>\n",
       "      <td>14.588591</td>\n",
       "      <td>29.909577</td>\n",
       "    </tr>\n",
       "    <tr>\n",
       "      <th>std</th>\n",
       "      <td>1407.928973</td>\n",
       "      <td>5614.696277</td>\n",
       "      <td>26.970165</td>\n",
       "      <td>75.727421</td>\n",
       "      <td>178.805789</td>\n",
       "    </tr>\n",
       "    <tr>\n",
       "      <th>min</th>\n",
       "      <td>11.000000</td>\n",
       "      <td>1.000000</td>\n",
       "      <td>1.000000</td>\n",
       "      <td>1.000000</td>\n",
       "      <td>1.000000</td>\n",
       "    </tr>\n",
       "    <tr>\n",
       "      <th>25%</th>\n",
       "      <td>17.000000</td>\n",
       "      <td>37.000000</td>\n",
       "      <td>10.000000</td>\n",
       "      <td>1.000000</td>\n",
       "      <td>1.000000</td>\n",
       "    </tr>\n",
       "    <tr>\n",
       "      <th>50%</th>\n",
       "      <td>32.000000</td>\n",
       "      <td>142.000000</td>\n",
       "      <td>27.000000</td>\n",
       "      <td>2.000000</td>\n",
       "      <td>4.000000</td>\n",
       "    </tr>\n",
       "    <tr>\n",
       "      <th>75%</th>\n",
       "      <td>89.000000</td>\n",
       "      <td>554.250000</td>\n",
       "      <td>50.000000</td>\n",
       "      <td>7.000000</td>\n",
       "      <td>15.000000</td>\n",
       "    </tr>\n",
       "    <tr>\n",
       "      <th>max</th>\n",
       "      <td>66439.000000</td>\n",
       "      <td>225489.000000</td>\n",
       "      <td>134.000000</td>\n",
       "      <td>3254.000000</td>\n",
       "      <td>19096.000000</td>\n",
       "    </tr>\n",
       "  </tbody>\n",
       "</table>\n",
       "</div>"
      ],
      "text/plain": [
       "         starsCount   commitsCount  activeMonthsCount  pomFilesCount  \\\n",
       "count  19652.000000   19652.000000       19652.000000   19652.000000   \n",
       "mean     244.002646    1220.661358          32.784958      14.588591   \n",
       "std     1407.928973    5614.696277          26.970165      75.727421   \n",
       "min       11.000000       1.000000           1.000000       1.000000   \n",
       "25%       17.000000      37.000000          10.000000       1.000000   \n",
       "50%       32.000000     142.000000          27.000000       2.000000   \n",
       "75%       89.000000     554.250000          50.000000       7.000000   \n",
       "max    66439.000000  225489.000000         134.000000    3254.000000   \n",
       "\n",
       "       pomFileModifyingCommitsCount  \n",
       "count                  19652.000000  \n",
       "mean                      29.909577  \n",
       "std                      178.805789  \n",
       "min                        1.000000  \n",
       "25%                        1.000000  \n",
       "50%                        4.000000  \n",
       "75%                       15.000000  \n",
       "max                    19096.000000  "
      ]
     },
     "execution_count": 3,
     "metadata": {},
     "output_type": "execute_result"
    }
   ],
   "source": [
    "projects[[\"starsCount\", \"commitsCount\", \"activeMonthsCount\", \"pomFilesCount\",\n",
    "          \"pomFileModifyingCommitsCount\"]].describe()"
   ]
  },
  {
   "cell_type": "code",
   "execution_count": 4,
   "metadata": {
    "collapsed": false,
    "jupyter": {
     "outputs_hidden": false
    },
    "pycharm": {
     "name": "#%%\n"
    }
   },
   "outputs": [
    {
     "name": "stdout",
     "output_type": "stream",
     "text": [
      "4997\n",
      "6504\n",
      "9561\n",
      "4102\n",
      "2716\n",
      "4997\n",
      "1774\n"
     ]
    }
   ],
   "source": [
    "print(len(projects[projects[\"pomFileModifyingCommitsCount\"] == 1]))\n",
    "print(len(projects[projects[\"pomFileModifyingCommitsCount\"] >= 10]))\n",
    "print(len(projects[projects[\"pomFilesCount\"] == 1]))\n",
    "print(len(projects[projects[\"pomFilesCount\"] >= 10]))\n",
    "print(len(projects[projects[\"activeMonthsCount\"] <= 3]))\n",
    "print(len(projects[projects[\"pomFileModifyingCommitsCount\"] <= 1]))\n",
    "print(len(projects[projects[\"commitsCount\"] <= 10]))"
   ]
  },
  {
   "cell_type": "code",
   "execution_count": 5,
   "metadata": {
    "collapsed": false,
    "jupyter": {
     "outputs_hidden": false
    },
    "pycharm": {
     "name": "#%%\n"
    }
   },
   "outputs": [
    {
     "data": {
      "image/png": "[encoded data removed]",
      "text/plain": [
       "<Figure size 1584x288 with 5 Axes>"
      ]
     },
     "metadata": {
      "needs_background": "light"
     },
     "output_type": "display_data"
    }
   ],
   "source": [
    "ylabels = [\"Number of Projects\", \"\", \"\", \"\", \"\"]\n",
    "xlabels = [\"Stars\", \"Commits\", \"Active Months\", \"pom.xml Files\", \"pom.xml Modifying Commits\"]\n",
    "fig, axes = plt.subplots(1, 5, figsize=(22,4))\n",
    "sns.histplot(data=projects, x=\"starsCount\", binwidth=0.25, log_scale=True, ax=axes[0])\n",
    "sns.histplot(data=projects, x=\"commitsCount\", binwidth=0.25, log_scale=True, ax=axes[1])\n",
    "sns.histplot(data=projects, x=\"activeMonthsCount\", binwidth=4, log_scale=False, ax=axes[2])\n",
    "sns.histplot(data=projects, x=\"pomFilesCount\", binwidth=0.25, log_scale=True, ax=axes[3])\n",
    "sns.histplot(data=projects, x=\"pomFileModifyingCommitsCount\", binwidth=0.25, log_scale=True, ax=axes[4])\n",
    "for i in range(0, 5):\n",
    "    axes[i].set_xlabel(xlabels[i])\n",
    "    axes[i].set_ylabel(ylabels[i])\n",
    "fig.savefig(\"plots/projects.pdf\", bbox_inches=\"tight\")"
   ]
  },
  {
   "cell_type": "code",
   "execution_count": null,
   "metadata": {
    "collapsed": false,
    "jupyter": {
     "outputs_hidden": false
    },
    "pycharm": {
     "name": "#%%\n"
    }
   },
   "outputs": [],
   "source": []
  }
 ],
 "metadata": {
  "kernelspec": {
   "display_name": "Python 3",
   "language": "python",
   "name": "python3"
  },
  "language_info": {
   "codemirror_mode": {
    "name": "ipython",
    "version": 3
   },
   "file_extension": ".py",
   "mimetype": "text/x-python",
   "name": "python",
   "nbconvert_exporter": "python",
   "pygments_lexer": "ipython3",
   "version": "3.8.5"
  }
 },
 "nbformat": 4,
 "nbformat_minor": 4
}
