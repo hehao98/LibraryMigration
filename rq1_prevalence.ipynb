{
 "cells": [
  {
   "cell_type": "code",
   "execution_count": 1,
   "metadata": {
    "pycharm": {
     "is_executing": true
    }
   },
   "outputs": [],
   "source": [
    "import os\n",
    "import datautil\n",
    "import itertools\n",
    "import numpy as np\n",
    "import pandas as pd\n",
    "import matplotlib.pyplot as plt\n",
    "import seaborn as sns\n",
    "import multiprocessing as mp\n",
    "from collections import defaultdict\n",
    "from scipy import stats"
   ]
  },
  {
   "cell_type": "code",
   "execution_count": 2,
   "metadata": {
    "collapsed": false,
    "jupyter": {
     "outputs_hidden": false
    },
    "pycharm": {
     "is_executing": true,
     "name": "#%%\n"
    },
    "tags": []
   },
   "outputs": [
    {
     "name": "stdout",
     "output_type": "stream",
     "text": [
      "19652 projects, 4022 libraries, 2629992 dep changes\n",
      "1771664 290150 568178\n",
      "208691 56377 97447\n",
      "302774 commits with dep chg, 23988437 commits\n"
     ]
    }
   ],
   "source": [
    "projects, libraries, migrations, rules, dep_changes = datautil.get_data()\n",
    "print(f\"{len(projects)} projects, {len(libraries)} libraries, {len(dep_changes)} dep changes\")\n",
    "print(\n",
    "    len(dep_changes[dep_changes.type == \"add\"]), \n",
    "    len(dep_changes[dep_changes.type == \"rem\"]), \n",
    "    len(dep_changes[dep_changes.type == \"verchg\"])\n",
    ")\n",
    "print(\n",
    "    len(set(dep_changes[dep_changes.type == \"add\"].commit)), \n",
    "    len(set(dep_changes[dep_changes.type == \"rem\"].commit)), \n",
    "    len(set(dep_changes[dep_changes.type == \"verchg\"].commit))\n",
    ")\n",
    "print(f\"{len(set(dep_changes.commit))} commits with dep chg, {sum(projects.commitsCount)} commits\")"
   ]
  },
  {
   "cell_type": "code",
   "execution_count": 3,
   "metadata": {
    "collapsed": false,
    "jupyter": {
     "outputs_hidden": false
    },
    "pycharm": {
     "name": "#%%\n"
    }
   },
   "outputs": [
    {
     "data": {
      "text/html": [
       "<div>\n",
       "<style scoped>\n",
       "    .dataframe tbody tr th:only-of-type {\n",
       "        vertical-align: middle;\n",
       "    }\n",
       "\n",
       "    .dataframe tbody tr th {\n",
       "        vertical-align: top;\n",
       "    }\n",
       "\n",
       "    .dataframe thead th {\n",
       "        text-align: right;\n",
       "    }\n",
       "</style>\n",
       "<table border=\"1\" class=\"dataframe\">\n",
       "  <thead>\n",
       "    <tr style=\"text-align: right;\">\n",
       "      <th></th>\n",
       "      <th>project</th>\n",
       "      <th>timestamp</th>\n",
       "      <th>commit</th>\n",
       "      <th>file</th>\n",
       "      <th>type</th>\n",
       "      <th>lib1</th>\n",
       "      <th>lib2</th>\n",
       "      <th>ver1</th>\n",
       "      <th>ver2</th>\n",
       "    </tr>\n",
       "  </thead>\n",
       "  <tbody>\n",
       "    <tr>\n",
       "      <th>0</th>\n",
       "      <td>Snailclimb/JavaGuide</td>\n",
       "      <td>2019-03-25 09:19:36+00:00</td>\n",
       "      <td>e8aeaef43cbfb2b8a9b71c7b7f462c48b4adb9a6</td>\n",
       "      <td>docs/dataStructures-algorithms/source code/sec...</td>\n",
       "      <td>add</td>\n",
       "      <td></td>\n",
       "      <td>commons-codec:commons-codec</td>\n",
       "      <td></td>\n",
       "      <td>1.8</td>\n",
       "    </tr>\n",
       "    <tr>\n",
       "      <th>1</th>\n",
       "      <td>Snailclimb/JavaGuide</td>\n",
       "      <td>2019-03-25 09:19:36+00:00</td>\n",
       "      <td>e8aeaef43cbfb2b8a9b71c7b7f462c48b4adb9a6</td>\n",
       "      <td>docs/dataStructures-algorithms/source code/sec...</td>\n",
       "      <td>add</td>\n",
       "      <td></td>\n",
       "      <td>junit:junit</td>\n",
       "      <td></td>\n",
       "      <td>4.12</td>\n",
       "    </tr>\n",
       "    <tr>\n",
       "      <th>2</th>\n",
       "      <td>Snailclimb/JavaGuide</td>\n",
       "      <td>2019-03-25 09:19:36+00:00</td>\n",
       "      <td>e8aeaef43cbfb2b8a9b71c7b7f462c48b4adb9a6</td>\n",
       "      <td>docs/dataStructures-algorithms/source code/sec...</td>\n",
       "      <td>add</td>\n",
       "      <td></td>\n",
       "      <td>org.bouncycastle:bcprov-jdk15on</td>\n",
       "      <td></td>\n",
       "      <td>1.56</td>\n",
       "    </tr>\n",
       "    <tr>\n",
       "      <th>3</th>\n",
       "      <td>Snailclimb/JavaGuide</td>\n",
       "      <td>2018-07-31 06:49:01+00:00</td>\n",
       "      <td>a17a2800c92f918842d26a9e9261ae0bba89286d</td>\n",
       "      <td>数据结构与算法/source code/securityAlgorithm/pom.xml</td>\n",
       "      <td>add</td>\n",
       "      <td></td>\n",
       "      <td>commons-codec:commons-codec</td>\n",
       "      <td></td>\n",
       "      <td>1.8</td>\n",
       "    </tr>\n",
       "    <tr>\n",
       "      <th>4</th>\n",
       "      <td>Snailclimb/JavaGuide</td>\n",
       "      <td>2018-07-31 06:49:01+00:00</td>\n",
       "      <td>a17a2800c92f918842d26a9e9261ae0bba89286d</td>\n",
       "      <td>数据结构与算法/source code/securityAlgorithm/pom.xml</td>\n",
       "      <td>add</td>\n",
       "      <td></td>\n",
       "      <td>junit:junit</td>\n",
       "      <td></td>\n",
       "      <td>3.8.1</td>\n",
       "    </tr>\n",
       "  </tbody>\n",
       "</table>\n",
       "</div>"
      ],
      "text/plain": [
       "                project                 timestamp  \\\n",
       "0  Snailclimb/JavaGuide 2019-03-25 09:19:36+00:00   \n",
       "1  Snailclimb/JavaGuide 2019-03-25 09:19:36+00:00   \n",
       "2  Snailclimb/JavaGuide 2019-03-25 09:19:36+00:00   \n",
       "3  Snailclimb/JavaGuide 2018-07-31 06:49:01+00:00   \n",
       "4  Snailclimb/JavaGuide 2018-07-31 06:49:01+00:00   \n",
       "\n",
       "                                     commit  \\\n",
       "0  e8aeaef43cbfb2b8a9b71c7b7f462c48b4adb9a6   \n",
       "1  e8aeaef43cbfb2b8a9b71c7b7f462c48b4adb9a6   \n",
       "2  e8aeaef43cbfb2b8a9b71c7b7f462c48b4adb9a6   \n",
       "3  a17a2800c92f918842d26a9e9261ae0bba89286d   \n",
       "4  a17a2800c92f918842d26a9e9261ae0bba89286d   \n",
       "\n",
       "                                                file type lib1  \\\n",
       "0  docs/dataStructures-algorithms/source code/sec...  add        \n",
       "1  docs/dataStructures-algorithms/source code/sec...  add        \n",
       "2  docs/dataStructures-algorithms/source code/sec...  add        \n",
       "3      数据结构与算法/source code/securityAlgorithm/pom.xml  add        \n",
       "4      数据结构与算法/source code/securityAlgorithm/pom.xml  add        \n",
       "\n",
       "                              lib2 ver1   ver2  \n",
       "0      commons-codec:commons-codec         1.8  \n",
       "1                      junit:junit        4.12  \n",
       "2  org.bouncycastle:bcprov-jdk15on        1.56  \n",
       "3      commons-codec:commons-codec         1.8  \n",
       "4                      junit:junit       3.8.1  "
      ]
     },
     "execution_count": 3,
     "metadata": {},
     "output_type": "execute_result"
    }
   ],
   "source": [
    "dep_changes.head()"
   ]
  },
  {
   "cell_type": "code",
   "execution_count": 4,
   "metadata": {
    "collapsed": false,
    "jupyter": {
     "outputs_hidden": false
    },
    "pycharm": {
     "name": "#%%\n"
    }
   },
   "outputs": [
    {
     "name": "stdout",
     "output_type": "stream",
     "text": [
      "1194\n",
      "802\n"
     ]
    },
    {
     "data": {
      "text/html": [
       "<div>\n",
       "<style scoped>\n",
       "    .dataframe tbody tr th:only-of-type {\n",
       "        vertical-align: middle;\n",
       "    }\n",
       "\n",
       "    .dataframe tbody tr th {\n",
       "        vertical-align: top;\n",
       "    }\n",
       "\n",
       "    .dataframe thead th {\n",
       "        text-align: right;\n",
       "    }\n",
       "</style>\n",
       "<table border=\"1\" class=\"dataframe\">\n",
       "  <thead>\n",
       "    <tr style=\"text-align: right;\">\n",
       "      <th></th>\n",
       "      <th>project</th>\n",
       "      <th>dependencies</th>\n",
       "      <th>changes</th>\n",
       "      <th>adoptions</th>\n",
       "      <th>removals</th>\n",
       "      <th>verchgs</th>\n",
       "      <th>commits</th>\n",
       "      <th>change_commits</th>\n",
       "      <th>adoption_commits</th>\n",
       "      <th>removal_commits</th>\n",
       "      <th>verchg_commits</th>\n",
       "      <th>possible_migrations</th>\n",
       "      <th>confirmed_migrations</th>\n",
       "    </tr>\n",
       "  </thead>\n",
       "  <tbody>\n",
       "    <tr>\n",
       "      <th>0</th>\n",
       "      <td>01org/graphbuilder</td>\n",
       "      <td>8</td>\n",
       "      <td>36</td>\n",
       "      <td>31</td>\n",
       "      <td>1</td>\n",
       "      <td>4</td>\n",
       "      <td>62</td>\n",
       "      <td>3</td>\n",
       "      <td>3</td>\n",
       "      <td>1</td>\n",
       "      <td>2</td>\n",
       "      <td>2</td>\n",
       "      <td>0</td>\n",
       "    </tr>\n",
       "    <tr>\n",
       "      <th>1</th>\n",
       "      <td>07kit/07kit</td>\n",
       "      <td>0</td>\n",
       "      <td>20</td>\n",
       "      <td>20</td>\n",
       "      <td>0</td>\n",
       "      <td>0</td>\n",
       "      <td>45</td>\n",
       "      <td>2</td>\n",
       "      <td>2</td>\n",
       "      <td>0</td>\n",
       "      <td>0</td>\n",
       "      <td>0</td>\n",
       "      <td>0</td>\n",
       "    </tr>\n",
       "    <tr>\n",
       "      <th>2</th>\n",
       "      <td>0ang3el/HQLi-playground</td>\n",
       "      <td>1</td>\n",
       "      <td>1</td>\n",
       "      <td>1</td>\n",
       "      <td>0</td>\n",
       "      <td>0</td>\n",
       "      <td>5</td>\n",
       "      <td>1</td>\n",
       "      <td>1</td>\n",
       "      <td>0</td>\n",
       "      <td>0</td>\n",
       "      <td>0</td>\n",
       "      <td>0</td>\n",
       "    </tr>\n",
       "    <tr>\n",
       "      <th>3</th>\n",
       "      <td>0nise/shell-plus</td>\n",
       "      <td>1</td>\n",
       "      <td>1</td>\n",
       "      <td>1</td>\n",
       "      <td>0</td>\n",
       "      <td>0</td>\n",
       "      <td>8</td>\n",
       "      <td>1</td>\n",
       "      <td>1</td>\n",
       "      <td>0</td>\n",
       "      <td>0</td>\n",
       "      <td>0</td>\n",
       "      <td>0</td>\n",
       "    </tr>\n",
       "    <tr>\n",
       "      <th>4</th>\n",
       "      <td>0opslab/opslabJutil</td>\n",
       "      <td>8</td>\n",
       "      <td>15</td>\n",
       "      <td>10</td>\n",
       "      <td>3</td>\n",
       "      <td>2</td>\n",
       "      <td>364</td>\n",
       "      <td>4</td>\n",
       "      <td>2</td>\n",
       "      <td>2</td>\n",
       "      <td>1</td>\n",
       "      <td>1</td>\n",
       "      <td>0</td>\n",
       "    </tr>\n",
       "  </tbody>\n",
       "</table>\n",
       "</div>"
      ],
      "text/plain": [
       "                   project  dependencies  changes  adoptions  removals  \\\n",
       "0       01org/graphbuilder             8       36         31         1   \n",
       "1              07kit/07kit             0       20         20         0   \n",
       "2  0ang3el/HQLi-playground             1        1          1         0   \n",
       "3         0nise/shell-plus             1        1          1         0   \n",
       "4      0opslab/opslabJutil             8       15         10         3   \n",
       "\n",
       "   verchgs  commits  change_commits  adoption_commits  removal_commits  \\\n",
       "0        4       62               3                 3                1   \n",
       "1        0       45               2                 2                0   \n",
       "2        0        5               1                 1                0   \n",
       "3        0        8               1                 1                0   \n",
       "4        2      364               4                 2                2   \n",
       "\n",
       "   verchg_commits  possible_migrations  confirmed_migrations  \n",
       "0               2                    2                     0  \n",
       "1               0                    0                     0  \n",
       "2               0                    0                     0  \n",
       "3               0                    0                     0  \n",
       "4               1                    1                     0  "
      ]
     },
     "execution_count": 4,
     "metadata": {},
     "output_type": "execute_result"
    }
   ],
   "source": [
    "proj2commits = dict(zip(projects.nameWithOwner, projects.commitsCount))\n",
    "rule_set = set(zip(rules.fromLib, rules.toLib))\n",
    "print(len(rule_set))\n",
    "rule2type = pd.read_csv(\"data/rules_typed.csv\")\n",
    "rule2type = {(row.fromLib, row.toLib): row.type for idx, row in rule2type.iterrows()}\n",
    "rule_set = set(x for x in rule_set if \"rename\" not in rule2type[x])\n",
    "print(len(rule_set))\n",
    "proj_stats = dict()\n",
    "for proj, df in dep_changes.groupby([\"project\"]):\n",
    "    proj_stats[proj] = {\n",
    "        \"project\": proj,\n",
    "        \"dependencies\": len(datautil.select_project_dependencies(proj)),\n",
    "        \"changes\": len(df),\n",
    "        \"adoptions\": len(df[df.type == \"add\"]),\n",
    "        \"removals\": len(df[df.type == \"rem\"]),\n",
    "        \"verchgs\": len(df[df.type == \"verchg\"]),\n",
    "        \"commits\": proj2commits[proj],\n",
    "        \"change_commits\": len(set(df.commit)),\n",
    "        \"adoption_commits\": len(set(df[df.type == \"add\"].commit)),\n",
    "        \"removal_commits\": len(set(df[df.type == \"rem\"].commit)),\n",
    "        \"verchg_commits\": len(set(df[df.type == \"verchg\"].commit)),\n",
    "        \"possible_migrations\": set(),\n",
    "        \"confirmed_migrations\": set(),\n",
    "    }\n",
    "    for path, df2 in df.groupby([\"file\"]):\n",
    "        x = list(zip(df2.commit, df2.type, df2.lib1, df2.lib2))\n",
    "        for added_lib, removed_lib in itertools.product(set(df2.lib2), set(df2.lib1)):\n",
    "            if (removed_lib, added_lib) in rule_set:\n",
    "                proj_stats[proj][\"possible_migrations\"].add((removed_lib, added_lib))\n",
    "for idx, row in migrations.iterrows():\n",
    "    if row[\"repoName\"].replace(\"_\", \"/\") not in proj_stats:\n",
    "        continue\n",
    "    if (row.fromLib, row.toLib) not in rule_set:\n",
    "        continue\n",
    "    proj_stats[row[\"repoName\"].replace(\"_\", \"/\")][\"confirmed_migrations\"].add((row.fromLib, row.toLib))\n",
    "for proj in proj_stats.keys():\n",
    "    proj_stats[proj][\"possible_migrations\"] = len(proj_stats[proj][\"possible_migrations\"])\n",
    "    proj_stats[proj][\"confirmed_migrations\"] = len(proj_stats[proj][\"confirmed_migrations\"])\n",
    "proj_stats = pd.DataFrame(proj_stats.values())\n",
    "proj_stats = proj_stats[(proj_stats.adoptions != 0) & (proj_stats.adoptions >= proj_stats.removals)]\n",
    "proj_stats.head()"
   ]
  },
  {
   "cell_type": "code",
   "execution_count": 5,
   "metadata": {
    "collapsed": false,
    "jupyter": {
     "outputs_hidden": false
    },
    "pycharm": {
     "name": "#%%\n"
    }
   },
   "outputs": [
    {
     "name": "stdout",
     "output_type": "stream",
     "text": [
      "For all projects:\n",
      "18254 / 18254 (100.00%) projects with at least one library adoption\n",
      "8045 / 18254 (44.07%) projects with at least one library removal\n",
      "8657 / 18254 (47.43%) projects with at least one version change\n",
      "SpearmanrResult(correlation=0.532596597066869, pvalue=0.0)\n",
      "SpearmanrResult(correlation=0.15806349002108608, pvalue=1.9607136003858245e-102)\n",
      "SpearmanrResult(correlation=0.4372789362473921, pvalue=0.0)\n",
      "SpearmanrResult(correlation=0.06583219430153749, pvalue=5.413028954515968e-19)\n"
     ]
    }
   ],
   "source": [
    "def percent(df, cond) -> str:\n",
    "    return f\"{len(df[cond])} / {len(df)} ({len(df[cond]) / len(df) * 100:.2f}%)\"\n",
    "\n",
    "print(\"For all projects:\")\n",
    "print(f\"{percent(proj_stats, proj_stats.adoptions != 0)} projects with at least one library adoption\")\n",
    "print(f\"{percent(proj_stats, proj_stats.removals != 0)} projects with at least one library removal\")\n",
    "print(f\"{percent(proj_stats, proj_stats.verchgs != 0)} projects with at least one version change\")\n",
    "print(stats.spearmanr(proj_stats.removals, proj_stats.commits))\n",
    "print(stats.spearmanr(proj_stats.removals, proj_stats.dependencies))\n",
    "print(stats.spearmanr(proj_stats.possible_migrations, proj_stats.commits))\n",
    "print(stats.spearmanr(proj_stats.confirmed_migrations, proj_stats.dependencies))"
   ]
  },
  {
   "cell_type": "code",
   "execution_count": 6,
   "metadata": {},
   "outputs": [
    {
     "data": {
      "image/png": "[encoded data removed]",
      "text/plain": [
       "<Figure size 648x216 with 2 Axes>"
      ]
     },
     "metadata": {
      "needs_background": "light"
     },
     "output_type": "display_data"
    }
   ],
   "source": [
    "fig, axes = plt.subplots(1, 2, figsize=(9,3))\n",
    "\n",
    "splits = np.array_split(proj_stats.sort_values(by=\"commits\"), 10)\n",
    "ranges = list(map(lambda x: f\"{min(x.commits)}-{max(x.commits)}\", splits))\n",
    "rem_rate = list(map(lambda x: len(x[x.removals != 0]) / len(x), splits))\n",
    "ver_rate = list(map(lambda x: len(x[x.verchgs != 0]) / len(x), splits))\n",
    "axes[0].plot(ranges, rem_rate, marker=\"^\", label=\"removal\")\n",
    "axes[0].plot(ranges, ver_rate, marker=\"x\", label=\"version change\")\n",
    "axes[0].set_xlabel(\"Number of Commits\")\n",
    "axes[0].set_ylabel(\"Percentage of Projects\")\n",
    "axes[0].set_ylim(0, 1)\n",
    "axes[0].legend()\n",
    "\n",
    "splits = np.array_split(proj_stats[proj_stats.dependencies > 0].sort_values(by=\"dependencies\"), 10)\n",
    "ranges = list(map(lambda x: f\"{min(x.dependencies)}-{max(x.dependencies)}\", splits))\n",
    "rem_rate = list(map(lambda x: len(x[x.removals != 0]) / len(x), splits))\n",
    "ver_rate = list(map(lambda x: len(x[x.verchgs != 0]) / len(x), splits))\n",
    "axes[1].plot(ranges, rem_rate, marker=\"^\", label=\"removal\")\n",
    "axes[1].plot(ranges, ver_rate, marker=\"x\", label=\"version change\")\n",
    "axes[1].set_xlabel(\"Number of Dependencies\")\n",
    "axes[1].set_ylabel(\"Percentage of Projects\")\n",
    "axes[1].set_ylim(0, 1)\n",
    "axes[1].legend()\n",
    "fig.autofmt_xdate()\n",
    "fig.savefig(\"plots/chgrel.pdf\", bbox_inches=\"tight\")"
   ]
  },
  {
   "cell_type": "code",
   "execution_count": 7,
   "metadata": {},
   "outputs": [
    {
     "data": {
      "image/png": "[encoded data removed]",
      "text/plain": [
       "<Figure size 648x216 with 2 Axes>"
      ]
     },
     "metadata": {
      "needs_background": "light"
     },
     "output_type": "display_data"
    }
   ],
   "source": [
    "proj_stats_f = proj_stats[proj_stats.removals != 0].copy()\n",
    "\n",
    "fig, ax = plt.subplots(1, 1, figsize=(9,3))\n",
    "\n",
    "data = [\n",
    "    proj_stats_f.changes,\n",
    "    proj_stats_f.adoptions,\n",
    "    proj_stats_f.removals,\n",
    "    proj_stats_f.verchgs,\n",
    "    proj_stats_f.commits / proj_stats_f.change_commits,\n",
    "    proj_stats_f.commits / proj_stats_f.adoption_commits,\n",
    "    proj_stats_f.commits / proj_stats_f.removal_commits,\n",
    "    proj_stats_f.commits / proj_stats_f.verchg_commits,\n",
    "]\n",
    "ax.boxplot(x=data[0:4],\n",
    "           labels=[\"all\", \"adoption\", \"removal\", \"version\"], \n",
    "           positions=[0,0.5,1,1.5], widths=0.5, vert=False, sym='+', flierprops={\"alpha\": 0.3})\n",
    "ax.set_xscale(\"log\")\n",
    "ax.set_xlabel(\"Number of Changes\")\n",
    "ax.set_ylabel(\"Change Type\")\n",
    "ax2 = ax.twiny()\n",
    "ax2.boxplot(x=data[4:8], \n",
    "            labels=[\"all\", \"adoption\", \"removal\", \"version\"], \n",
    "            positions=[2.5,3,3.5,4], widths=0.5, vert=False, sym='+', flierprops={\"alpha\": 0.3})\n",
    "ax2.set_xscale(\"log\")\n",
    "ax2.set_xlabel(\"Number of Commits per Change\")\n",
    "ax2.set_ylabel(\"Change Type\")\n",
    "for i, x in enumerate([0,0.5,1,1.5]):\n",
    "    ax.text(np.median(data[i]), x - 0.04, str(int(np.median(data[i]))), fontsize=10, horizontalalignment=\"center\", verticalalignment=\"center\")\n",
    "for i, x in enumerate([2.5,3,3.5,4]):\n",
    "    ax2.text(np.median(data[i+4]), x - 0.04, str(int(np.median(data[i+4]))), fontsize=10, horizontalalignment=\"center\", verticalalignment=\"center\")\n",
    "\n",
    "fig.savefig(\"plots/chgdis.pdf\", bbox_inches=\"tight\")"
   ]
  },
  {
   "cell_type": "code",
   "execution_count": 8,
   "metadata": {
    "collapsed": false,
    "jupyter": {
     "outputs_hidden": false
    },
    "pycharm": {
     "name": "#%%\n"
    }
   },
   "outputs": [
    {
     "data": {
      "text/html": [
       "<div>\n",
       "<style scoped>\n",
       "    .dataframe tbody tr th:only-of-type {\n",
       "        vertical-align: middle;\n",
       "    }\n",
       "\n",
       "    .dataframe tbody tr th {\n",
       "        vertical-align: top;\n",
       "    }\n",
       "\n",
       "    .dataframe thead th {\n",
       "        text-align: right;\n",
       "    }\n",
       "</style>\n",
       "<table border=\"1\" class=\"dataframe\">\n",
       "  <thead>\n",
       "    <tr style=\"text-align: right;\">\n",
       "      <th></th>\n",
       "      <th>changes</th>\n",
       "      <th>adoptions</th>\n",
       "      <th>removals</th>\n",
       "      <th>verchgs</th>\n",
       "      <th>commit_portion_c</th>\n",
       "      <th>commit_portion_a</th>\n",
       "      <th>commit_portion_r</th>\n",
       "      <th>commit_portion_v</th>\n",
       "    </tr>\n",
       "  </thead>\n",
       "  <tbody>\n",
       "    <tr>\n",
       "      <th>count</th>\n",
       "      <td>8045.000000</td>\n",
       "      <td>8045.000000</td>\n",
       "      <td>8045.000000</td>\n",
       "      <td>8045.000000</td>\n",
       "      <td>8045.000000</td>\n",
       "      <td>8045.000000</td>\n",
       "      <td>8045.000000</td>\n",
       "      <td>8045.000000</td>\n",
       "    </tr>\n",
       "    <tr>\n",
       "      <th>mean</th>\n",
       "      <td>291.454319</td>\n",
       "      <td>195.645991</td>\n",
       "      <td>31.118086</td>\n",
       "      <td>64.690242</td>\n",
       "      <td>0.058549</td>\n",
       "      <td>0.043371</td>\n",
       "      <td>0.016101</td>\n",
       "      <td>0.017228</td>\n",
       "    </tr>\n",
       "    <tr>\n",
       "      <th>std</th>\n",
       "      <td>3098.486307</td>\n",
       "      <td>2893.338193</td>\n",
       "      <td>122.281225</td>\n",
       "      <td>787.996489</td>\n",
       "      <td>0.080021</td>\n",
       "      <td>0.067338</td>\n",
       "      <td>0.028441</td>\n",
       "      <td>0.034250</td>\n",
       "    </tr>\n",
       "    <tr>\n",
       "      <th>min</th>\n",
       "      <td>2.000000</td>\n",
       "      <td>1.000000</td>\n",
       "      <td>1.000000</td>\n",
       "      <td>0.000000</td>\n",
       "      <td>0.000051</td>\n",
       "      <td>0.000051</td>\n",
       "      <td>0.000010</td>\n",
       "      <td>0.000000</td>\n",
       "    </tr>\n",
       "    <tr>\n",
       "      <th>25%</th>\n",
       "      <td>20.000000</td>\n",
       "      <td>13.000000</td>\n",
       "      <td>2.000000</td>\n",
       "      <td>1.000000</td>\n",
       "      <td>0.013281</td>\n",
       "      <td>0.008488</td>\n",
       "      <td>0.002933</td>\n",
       "      <td>0.000864</td>\n",
       "    </tr>\n",
       "    <tr>\n",
       "      <th>50%</th>\n",
       "      <td>54.000000</td>\n",
       "      <td>35.000000</td>\n",
       "      <td>6.000000</td>\n",
       "      <td>6.000000</td>\n",
       "      <td>0.031189</td>\n",
       "      <td>0.020741</td>\n",
       "      <td>0.007194</td>\n",
       "      <td>0.005988</td>\n",
       "    </tr>\n",
       "    <tr>\n",
       "      <th>75%</th>\n",
       "      <td>156.000000</td>\n",
       "      <td>105.000000</td>\n",
       "      <td>19.000000</td>\n",
       "      <td>25.000000</td>\n",
       "      <td>0.068966</td>\n",
       "      <td>0.047809</td>\n",
       "      <td>0.017241</td>\n",
       "      <td>0.018117</td>\n",
       "    </tr>\n",
       "    <tr>\n",
       "      <th>max</th>\n",
       "      <td>253901.000000</td>\n",
       "      <td>250914.000000</td>\n",
       "      <td>3949.000000</td>\n",
       "      <td>45003.000000</td>\n",
       "      <td>1.000000</td>\n",
       "      <td>1.000000</td>\n",
       "      <td>0.500000</td>\n",
       "      <td>0.655709</td>\n",
       "    </tr>\n",
       "  </tbody>\n",
       "</table>\n",
       "</div>"
      ],
      "text/plain": [
       "             changes      adoptions     removals       verchgs  \\\n",
       "count    8045.000000    8045.000000  8045.000000   8045.000000   \n",
       "mean      291.454319     195.645991    31.118086     64.690242   \n",
       "std      3098.486307    2893.338193   122.281225    787.996489   \n",
       "min         2.000000       1.000000     1.000000      0.000000   \n",
       "25%        20.000000      13.000000     2.000000      1.000000   \n",
       "50%        54.000000      35.000000     6.000000      6.000000   \n",
       "75%       156.000000     105.000000    19.000000     25.000000   \n",
       "max    253901.000000  250914.000000  3949.000000  45003.000000   \n",
       "\n",
       "       commit_portion_c  commit_portion_a  commit_portion_r  commit_portion_v  \n",
       "count       8045.000000       8045.000000       8045.000000       8045.000000  \n",
       "mean           0.058549          0.043371          0.016101          0.017228  \n",
       "std            0.080021          0.067338          0.028441          0.034250  \n",
       "min            0.000051          0.000051          0.000010          0.000000  \n",
       "25%            0.013281          0.008488          0.002933          0.000864  \n",
       "50%            0.031189          0.020741          0.007194          0.005988  \n",
       "75%            0.068966          0.047809          0.017241          0.018117  \n",
       "max            1.000000          1.000000          0.500000          0.655709  "
      ]
     },
     "execution_count": 8,
     "metadata": {},
     "output_type": "execute_result"
    }
   ],
   "source": [
    "proj_stats_f[\"commit_portion_c\"] = proj_stats_f.change_commits / proj_stats_f.commits\n",
    "proj_stats_f[\"commit_portion_a\"] = proj_stats_f.adoption_commits / proj_stats_f.commits\n",
    "proj_stats_f[\"commit_portion_r\"] = proj_stats_f.removal_commits / proj_stats_f.commits\n",
    "proj_stats_f[\"commit_portion_v\"] = proj_stats_f.verchg_commits / proj_stats_f.commits\n",
    "proj_stats_f[[\"changes\", \"adoptions\", \"removals\", \"verchgs\", \"commit_portion_c\", \"commit_portion_a\", \"commit_portion_r\", \"commit_portion_v\"]].describe()"
   ]
  },
  {
   "cell_type": "code",
   "execution_count": 9,
   "metadata": {},
   "outputs": [
    {
     "name": "stdout",
     "output_type": "stream",
     "text": [
      "17426 projects\n",
      "7950 / 17426 (45.62%) projects with at least one library removal\n",
      "4412 / 17426 (25.32%) projects with at least one possible migration\n",
      "1017 / 17426 (5.84%) projects with at least one confirmed migration\n",
      "102 1540\n",
      "count    4412.000000\n",
      "mean        7.596782\n",
      "std        12.573769\n",
      "min         1.000000\n",
      "25%         1.000000\n",
      "50%         3.000000\n",
      "75%         8.000000\n",
      "max       262.000000\n",
      "Name: possible_migrations, dtype: float64\n",
      "count    1017.000000\n",
      "mean        2.414946\n",
      "std         2.496630\n",
      "min         1.000000\n",
      "25%         1.000000\n",
      "50%         1.000000\n",
      "75%         3.000000\n",
      "max        33.000000\n",
      "Name: confirmed_migrations, dtype: float64\n",
      "1948 / 3796 (51.32%) projects with at least one possible migration\n",
      "516 / 3796 (13.59%) projects with at least one confirmed migration\n"
     ]
    }
   ],
   "source": [
    "rule_libs = set(rules.fromLib) | set(rules.toLib)\n",
    "rule_projects = set(dep_changes[dep_changes.lib2.isin(rule_libs)].project)\n",
    "proj_stats_f = proj_stats[proj_stats.project.isin(rule_projects)].copy()\n",
    "print(len(proj_stats_f), \"projects\")\n",
    "\n",
    "print(f\"{percent(proj_stats_f, proj_stats_f.removals != 0)} projects with at least one library removal\")\n",
    "print(f\"{percent(proj_stats_f, proj_stats_f.possible_migrations != 0)} projects with at least one possible migration\")\n",
    "print(f\"{percent(proj_stats_f, proj_stats_f.confirmed_migrations != 0)} projects with at least one confirmed migration\")\n",
    "print(len(proj_stats_f[proj_stats_f.confirmed_migrations > 5]), len(proj_stats_f[proj_stats_f.possible_migrations > 5]))\n",
    "print(proj_stats_f[proj_stats_f.possible_migrations != 0].possible_migrations.describe())\n",
    "print(proj_stats_f[proj_stats_f.confirmed_migrations != 0].confirmed_migrations.describe())\n",
    "data = proj_stats_f[(proj_stats_f.dependencies >= 10) & (proj_stats_f.commits >= 143)]\n",
    "print(f\"{percent(data, data.possible_migrations != 0)} projects with at least one possible migration\")\n",
    "print(f\"{percent(data, data.confirmed_migrations != 0)} projects with at least one confirmed migration\")\n",
    "\n",
    "ad, rm, vr = {}, {}, {}\n",
    "for proj, df in dep_changes.groupby(by=\"project\"):\n",
    "    chgs = df[df.lib1.isin(rule_libs) | df.lib2.isin(rule_libs)]\n",
    "    ad[proj] = len(chgs[chgs.type == \"add\"])\n",
    "    rm[proj] = len(chgs[chgs.type == \"rem\"])\n",
    "    vr[proj] = len(chgs[chgs.type == \"verchg\"])\n",
    "proj_stats_f.adoptions = proj_stats_f.project.map(lambda proj: ad[proj])\n",
    "proj_stats_f.removals = proj_stats_f.project.map(lambda proj: rm[proj])\n",
    "proj_stats_f.verchgs = proj_stats_f.project.map(lambda proj: vr[proj])"
   ]
  },
  {
   "cell_type": "code",
   "execution_count": 10,
   "metadata": {},
   "outputs": [
    {
     "data": {
      "image/png": "[encoded data removed]",
      "text/plain": [
       "<Figure size 648x288 with 2 Axes>"
      ]
     },
     "metadata": {
      "needs_background": "light"
     },
     "output_type": "display_data"
    }
   ],
   "source": [
    "fig, axes = plt.subplots(2, 1, figsize=(9,4))\n",
    "sns.histplot(data=proj_stats_f[proj_stats_f.possible_migrations > 0], x=\"possible_migrations\", binwidth=1, binrange=[1, 40], ax=axes[0], discrete=True)\n",
    "sns.histplot(data=proj_stats_f[proj_stats_f.confirmed_migrations > 0], x=\"confirmed_migrations\", binwidth=1, binrange=[1, 40], ax=axes[1], discrete=True)\n",
    "axes[0].set_ylabel(\"Number of Projects\")\n",
    "axes[0].set_xlabel(\"Number of Possible Migrations\")\n",
    "axes[0].set_xlim(0, 40)\n",
    "axes[0].set_xticks(range(1, 40))\n",
    "axes[0].set_ylim(0, 1230)\n",
    "axes[1].set_ylabel(\"Number of Projects\")\n",
    "axes[1].set_xlabel(\"Number of Confirmed Migrations\")\n",
    "axes[1].set_xlim(0, 40)\n",
    "axes[1].set_xticks(range(1, 40))\n",
    "axes[1].set_ylim(0, 580)\n",
    "for i in range(1, 40):\n",
    "    delta = 8\n",
    "    count1 = len(proj_stats_f[proj_stats_f.possible_migrations == i])\n",
    "    axes[0].text(i, count1 + delta, str(count1), fontsize=7.5, horizontalalignment=\"center\")\n",
    "    count2 = len(proj_stats_f[proj_stats_f.confirmed_migrations == i])\n",
    "    axes[1].text(i, count2 + delta, str(count2), fontsize=7.5, horizontalalignment=\"center\")\n",
    "fig.tight_layout()\n",
    "fig.savefig(\"plots/migdist.pdf\", bbox_inches=\"tight\")"
   ]
  },
  {
   "cell_type": "code",
   "execution_count": 11,
   "metadata": {},
   "outputs": [
    {
     "data": {
      "image/png": "[encoded data removed]",
      "text/plain": [
       "<Figure size 648x216 with 2 Axes>"
      ]
     },
     "metadata": {
      "needs_background": "light"
     },
     "output_type": "display_data"
    }
   ],
   "source": [
    "fig, axes = plt.subplots(1, 2, figsize=(9,3))\n",
    "\n",
    "splits = np.array_split(proj_stats_f.sort_values(by=\"commits\"), 10)\n",
    "ranges = list(map(lambda x: f\"{min(x.commits)}-{max(x.commits)}\", splits))\n",
    "posmig_rate = list(map(lambda x: len(x[x.possible_migrations != 0]) / len(x), splits))\n",
    "conmig_rate = list(map(lambda x: len(x[x.confirmed_migrations != 0]) / len(x), splits))\n",
    "rem_rate = list(map(lambda x: len(x[x.removals != 0]) / len(x), splits))\n",
    "ver_rate = list(map(lambda x: len(x[x.verchgs != 0]) / len(x), splits))\n",
    "axes[0].plot(ranges, rem_rate, marker=\"^\", label=\"removal\")\n",
    "#axes[0].plot(ranges, ver_rate, marker=\"x\", label=\"version change\")\n",
    "axes[0].plot(ranges, posmig_rate, marker=\"v\", label=\"possible migration\")\n",
    "axes[0].plot(ranges, conmig_rate, marker=\"*\", label=\"confirmed migration\")\n",
    "axes[0].set_xlabel(\"Number of Commits\")\n",
    "axes[0].set_ylabel(\"Percentage of Projects\")\n",
    "axes[0].set_ylim(0, 1)\n",
    "axes[0].legend(loc=\"upper left\", fontsize=\"small\")\n",
    "\n",
    "splits = np.array_split(proj_stats_f[proj_stats_f.dependencies > 0].sort_values(by=\"dependencies\"), 10)\n",
    "ranges = list(map(lambda x: f\"{min(x.dependencies)}-{max(x.dependencies)}\", splits))\n",
    "posmig_rate = list(map(lambda x: len(x[x.possible_migrations != 0]) / len(x), splits))\n",
    "conmig_rate = list(map(lambda x: len(x[x.confirmed_migrations != 0]) / len(x), splits))\n",
    "rem_rate = list(map(lambda x: len(x[x.removals != 0]) / len(x), splits))\n",
    "ver_rate = list(map(lambda x: len(x[x.verchgs != 0]) / len(x), splits))\n",
    "axes[1].plot(ranges, rem_rate, marker=\"^\", label=\"removal\")\n",
    "#axes[1].plot(ranges, ver_rate, marker=\"x\", label=\"version change\")\n",
    "axes[1].plot(ranges, posmig_rate, marker=\"v\", label=\"possible migration\")\n",
    "axes[1].plot(ranges, conmig_rate, marker=\"*\", label=\"confirmed migration\")\n",
    "axes[1].set_xlabel(\"Number of Dependencies\")\n",
    "axes[1].set_ylabel(\"Percentage of Projects\")\n",
    "axes[1].set_ylim(0, 1)\n",
    "axes[1].legend(loc=\"upper left\", fontsize=\"small\")\n",
    "fig.autofmt_xdate()\n",
    "fig.savefig(\"plots/migrel.pdf\", bbox_inches=\"tight\")"
   ]
  },
  {
   "cell_type": "code",
   "execution_count": 12,
   "metadata": {},
   "outputs": [
    {
     "data": {
      "image/png": "[encoded data removed]",
      "text/plain": [
       "<Figure size 648x216 with 1 Axes>"
      ]
     },
     "metadata": {
      "needs_background": "light"
     },
     "output_type": "display_data"
    }
   ],
   "source": [
    "year2mig_commits = defaultdict(set)\n",
    "for commit, time in zip(migrations.startCommit, migrations.startCommitTime):\n",
    "    year2mig_commits[time.year].add(commit)\n",
    "data = sorted([(y, len(c)) for y, c in year2mig_commits.items()], key=lambda x: x[0])\n",
    "\n",
    "fig, ax = plt.subplots(1, 1, figsize=(9,3))\n",
    "#ax.bar([x[0] for x in data], [x[1] for x in data])\n",
    "sns.histplot(data=[[y] * c for y, c in data], discrete=True, legend=False)\n",
    "ax.set_ylabel(\"Number of Migration Commits\")\n",
    "ax.set_xticks([x[0] for x in data])\n",
    "ax.set_xlabel(\"Year\")\n",
    "ax.set_ylim(0, 500)\n",
    "for y, c in data:\n",
    "    ax.text(y, c + 10, str(c), horizontalalignment=\"center\")\n",
    "fig.savefig(\"plots/migyear.pdf\", bbox_inches=\"tight\")"
   ]
  },
  {
   "cell_type": "code",
   "execution_count": 13,
   "metadata": {
    "collapsed": false,
    "jupyter": {
     "outputs_hidden": false
    },
    "pycharm": {
     "name": "#%%\n"
    }
   },
   "outputs": [
    {
     "data": {
      "text/plain": [
       "count    17426.000000\n",
       "mean         0.885636\n",
       "std          0.210891\n",
       "min         -3.000000\n",
       "25%          0.840909\n",
       "50%          1.000000\n",
       "75%          1.000000\n",
       "max          1.000000\n",
       "Name: retention, dtype: float64"
      ]
     },
     "execution_count": 13,
     "metadata": {},
     "output_type": "execute_result"
    }
   ],
   "source": [
    "proj_stats_f[\"retention\"] = 1 - proj_stats_f.removals / np.maximum(1, proj_stats_f.adoptions)\n",
    "proj_stats_f[\"retention\"].describe()"
   ]
  },
  {
   "cell_type": "code",
   "execution_count": 14,
   "metadata": {
    "collapsed": false,
    "jupyter": {
     "outputs_hidden": false
    },
    "pycharm": {
     "name": "#%%\n"
    }
   },
   "outputs": [
    {
     "data": {
      "text/plain": [
       "count    3981.000000\n",
       "mean        0.764656\n",
       "std         0.160892\n",
       "min         0.000000\n",
       "25%         0.698113\n",
       "50%         0.803922\n",
       "75%         0.871972\n",
       "max         1.000000\n",
       "Name: retention, dtype: float64"
      ]
     },
     "execution_count": 14,
     "metadata": {},
     "output_type": "execute_result"
    }
   ],
   "source": [
    "lib_retention = defaultdict(lambda: [0, 0])\n",
    "for type, lib1, lib2 in zip(dep_changes.type, dep_changes.lib1, dep_changes.lib2):\n",
    "    if type == \"add\":\n",
    "        lib_retention[lib2][1] += 1\n",
    "    elif type == \"rem\":\n",
    "        lib_retention[lib1][0] += 1\n",
    "libraries[\"retention\"] = libraries.name.map(lambda n: 1 - lib_retention[n][0] / max(1, lib_retention[n][1]))\n",
    "libraries[libraries.name.isin(dep_changes[\"lib2\"]) & (libraries.retention >= 0)][\"retention\"].describe()"
   ]
  },
  {
   "cell_type": "code",
   "execution_count": 15,
   "metadata": {
    "collapsed": false,
    "jupyter": {
     "outputs_hidden": false
    },
    "pycharm": {
     "name": "#%%\n"
    }
   },
   "outputs": [
    {
     "data": {
      "image/png": "[encoded data removed]",
      "text/plain": [
       "<Figure size 648x216 with 2 Axes>"
      ]
     },
     "metadata": {
      "needs_background": "light"
     },
     "output_type": "display_data"
    }
   ],
   "source": [
    "fig, axes = plt.subplots(1, 2, figsize=(9,3))\n",
    "sns.histplot(data=proj_stats_f[proj_stats_f[\"change_commits\"] > 10], x=\"retention\", binwidth=0.05, binrange=(0, 1), ax=axes[0])\n",
    "axes[0].set_xlabel(\"Retention Rate by Project\")\n",
    "axes[0].set_xlim(0, 1)\n",
    "sns.histplot(data=libraries[libraries.name.isin(dep_changes[\"lib2\"])], x=\"retention\", binwidth=0.05, binrange=(0, 1), ax=axes[1])\n",
    "axes[1].set_ylabel(\"\")\n",
    "axes[1].set_xlabel(\"Retention Rate by Libraries\")\n",
    "axes[1].set_xlim(0, 1)\n",
    "fig.savefig(\"plots/retention.pdf\", bbox_inches=\"tight\")"
   ]
  },
  {
   "cell_type": "code",
   "execution_count": null,
   "metadata": {},
   "outputs": [],
   "source": []
  }
 ],
 "metadata": {
  "kernelspec": {
   "display_name": "Python 3",
   "language": "python",
   "name": "python3"
  },
  "language_info": {
   "codemirror_mode": {
    "name": "ipython",
    "version": 3
   },
   "file_extension": ".py",
   "mimetype": "text/x-python",
   "name": "python",
   "nbconvert_exporter": "python",
   "pygments_lexer": "ipython3",
   "version": "3.8.5"
  }
 },
 "nbformat": 4,
 "nbformat_minor": 4
}
