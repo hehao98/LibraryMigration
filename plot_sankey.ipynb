{
 "cells": [
  {
   "cell_type": "markdown",
   "id": "maritime-funds",
   "metadata": {},
   "source": [
    "Use Jupyter notebook for this."
   ]
  },
  {
   "cell_type": "code",
   "execution_count": 2,
   "id": "stock-batch",
   "metadata": {},
   "outputs": [],
   "source": [
    "import json\n",
    "from ipysankeywidget import SankeyWidget\n",
    "from ipywidgets import Layout\n",
    "from IPython.display import (\n",
    "    Image,\n",
    "    SVG\n",
    ")"
   ]
  },
  {
   "cell_type": "code",
   "execution_count": 8,
   "id": "vertical-woman",
   "metadata": {
    "scrolled": true
   },
   "outputs": [
    {
     "name": "stdout",
     "output_type": "stream",
     "text": [
      "37 100\n"
     ]
    },
    {
     "ename": "AttributeError",
     "evalue": "'SankeyWidget' object has no attribute 'nodePosition'",
     "output_type": "error",
     "traceback": [
      "\u001b[0;31m---------------------------------------------------------------------------\u001b[0m",
      "\u001b[0;31mAttributeError\u001b[0m                            Traceback (most recent call last)",
      "\u001b[0;32m<ipython-input-8-72e45165b1d4>\u001b[0m in \u001b[0;36m<module>\u001b[0;34m\u001b[0m\n\u001b[1;32m     13\u001b[0m                         \u001b[0malignTypes\u001b[0m\u001b[0;34m=\u001b[0m\u001b[0;32mTrue\u001b[0m\u001b[0;34m,\u001b[0m\u001b[0;34m\u001b[0m\u001b[0;34m\u001b[0m\u001b[0m\n\u001b[1;32m     14\u001b[0m                         **value)\n\u001b[0;32m---> 15\u001b[0;31m \u001b[0msankey\u001b[0m\u001b[0;34m(\u001b[0m\u001b[0mlinks\u001b[0m\u001b[0;34m=\u001b[0m\u001b[0mlinks1\u001b[0m\u001b[0;34m)\u001b[0m\u001b[0;34m.\u001b[0m\u001b[0mnodePosition\u001b[0m\u001b[0;34m\u001b[0m\u001b[0;34m\u001b[0m\u001b[0m\n\u001b[0m",
      "\u001b[0;31mAttributeError\u001b[0m: 'SankeyWidget' object has no attribute 'nodePosition'"
     ]
    }
   ],
   "source": [
    "with open(\"data/test.json\", \"r\") as f:\n",
    "    g = json.load(f)\n",
    "nodes, links = g[\"nodes\"], g[\"edges\"]\n",
    "links1 = [x for x in links if x[\"value\"] >= 5]\n",
    "print(len(nodes), len(links))\n",
    "#for i, n in enumerate(nodes):\n",
    "\n",
    "layout = Layout(width=\"1400\", height=\"700\")\n",
    "def sankey(margin_top=10, **value):\n",
    "    \"\"\"Show SankeyWidget with default values for size and margins\"\"\"\n",
    "    return SankeyWidget(layout=layout,\n",
    "                        margins=dict(top=margin_top, bottom=0, left=400, right=400),\n",
    "                        alignTypes=True,\n",
    "                        **value)\n",
    "sankey(links=links1).nodePosition "
   ]
  },
  {
   "cell_type": "code",
   "execution_count": 8,
   "id": "moderate-dover",
   "metadata": {},
   "outputs": [
    {
     "name": "stdout",
     "output_type": "stream",
     "text": [
      "19 103\n"
     ]
    },
    {
     "data": {
      "application/vnd.jupyter.widget-view+json": {
       "model_id": "95af10146ae7470e8fc761210d3e8eb6",
       "version_major": 2,
       "version_minor": 0
      },
      "text/plain": [
       "SankeyWidget(layout=Layout(height='700', width='1400'), links=[{'source': 'org.codehaus.jackson:jackson-core-a…"
      ]
     },
     "metadata": {},
     "output_type": "display_data"
    }
   ],
   "source": [
    "with open(\"data/json.json\", \"r\") as f:\n",
    "    g = json.load(f)\n",
    "nodes, links = g[\"nodes\"], g[\"edges\"]\n",
    "links2 = [x for x in links if x[\"value\"] >= 7]\n",
    "print(len(nodes), len(links))\n",
    "#for i, n in enumerate(nodes):\n",
    "\n",
    "layout = Layout(width=\"1400\", height=\"700\")\n",
    "def sankey(margin_top=10, **value):\n",
    "    \"\"\"Show SankeyWidget with default values for size and margins\"\"\"\n",
    "    return SankeyWidget(layout=layout,\n",
    "                        margins=dict(top=margin_top, bottom=0, left=400, right=400),\n",
    "                        alignTypes=False,\n",
    "                        **value)\n",
    "sankey(links=links2).auto_save_png(\"plots/json.png\")"
   ]
  },
  {
   "cell_type": "code",
   "execution_count": 20,
   "id": "magnetic-journalism",
   "metadata": {},
   "outputs": [
    {
     "name": "stdout",
     "output_type": "stream",
     "text": [
      "21 137\n"
     ]
    },
    {
     "data": {
      "application/vnd.jupyter.widget-view+json": {
       "model_id": "d194523d812a4e5b884b98aaf6e6b012",
       "version_major": 2,
       "version_minor": 0
      },
      "text/plain": [
       "SankeyWidget(layout=Layout(height='500', width='1200'), links=[{'source': 'ch.qos.logback:logback-classic', 't…"
      ]
     },
     "metadata": {},
     "output_type": "display_data"
    }
   ],
   "source": [
    "with open(\"data/logging.json\", \"r\") as f:\n",
    "    g = json.load(f)\n",
    "nodes, links = g[\"nodes\"], g[\"edges\"]\n",
    "links3 = [x for x in links if x[\"value\"] >= 15]\n",
    "print(len(nodes), len(links))\n",
    "#for i, n in enumerate(nodes):\n",
    "\n",
    "layout = Layout(width=\"1200\", height=\"500\")\n",
    "def sankey(margin_top=10, **value):\n",
    "    \"\"\"Show SankeyWidget with default values for size and margins\"\"\"\n",
    "    return SankeyWidget(layout=layout,\n",
    "                        margins=dict(top=0, bottom=0, left=400, right=400),\n",
    "                        alignTypes=False,\n",
    "                        **value)\n",
    "sankey(links=links3).auto_save_png(\"plots/logging.png\")"
   ]
  },
  {
   "cell_type": "code",
   "execution_count": 21,
   "id": "introductory-pepper",
   "metadata": {},
   "outputs": [
    {
     "data": {
      "application/vnd.jupyter.widget-view+json": {
       "model_id": "4961462a60c945f7a1181afd420eb8f7",
       "version_major": 2,
       "version_minor": 0
      },
      "text/plain": [
       "SankeyWidget(layout=Layout(height='500', width='1400'), links=[{'source': 'com.jayway.restassured:rest-assured…"
      ]
     },
     "metadata": {},
     "output_type": "display_data"
    }
   ],
   "source": [
    "layout = Layout(width=\"1400\", height=\"500\")\n",
    "def sankey(margin_top=10, **value):\n",
    "    \"\"\"Show SankeyWidget with default values for size and margins\"\"\"\n",
    "    return SankeyWidget(layout=layout,\n",
    "                        margins=dict(top=margin_top, bottom=0, left=400, right=400),\n",
    "                        alignTypes=False,\n",
    "                        **value)\n",
    "sankey(links=links1 + links2 + links3).auto_save_png(\"plots/sankey.png\")"
   ]
  },
  {
   "cell_type": "code",
   "execution_count": null,
   "id": "raised-africa",
   "metadata": {},
   "outputs": [],
   "source": []
  }
 ],
 "metadata": {
  "kernelspec": {
   "display_name": "Python 3",
   "language": "python",
   "name": "python3"
  },
  "language_info": {
   "codemirror_mode": {
    "name": "ipython",
    "version": 3
   },
   "file_extension": ".py",
   "mimetype": "text/x-python",
   "name": "python",
   "nbconvert_exporter": "python",
   "pygments_lexer": "ipython3",
   "version": "3.8.5"
  }
 },
 "nbformat": 4,
 "nbformat_minor": 5
}
