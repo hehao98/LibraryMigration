{
 "cells": [
  {
   "cell_type": "markdown",
   "id": "clinical-orange",
   "metadata": {},
   "source": [
    "Use Jupyter notebook for this."
   ]
  },
  {
   "cell_type": "code",
   "execution_count": 3,
   "id": "superior-comedy",
   "metadata": {},
   "outputs": [],
   "source": [
    "import json\n",
    "from ipysankeywidget import SankeyWidget\n",
    "from ipywidgets import Layout"
   ]
  },
  {
   "cell_type": "code",
   "execution_count": 40,
   "id": "induced-major",
   "metadata": {
    "scrolled": true
   },
   "outputs": [
    {
     "name": "stdout",
     "output_type": "stream",
     "text": [
      "37 20\n"
     ]
    },
    {
     "data": {
      "application/vnd.jupyter.widget-view+json": {
       "model_id": "f06fc9a211f041d2a1d8b0f3f7b62f04",
       "version_major": 2,
       "version_minor": 0
      },
      "text/plain": [
       "SankeyWidget(layout=Layout(height='800', width='1200'), links=[{'source': 'com.jayway.restassured:rest-assured…"
      ]
     },
     "metadata": {},
     "output_type": "display_data"
    }
   ],
   "source": [
    "with open(\"data/test.json\", \"r\") as f:\n",
    "    g = json.load(f)\n",
    "nodes, links = g[\"nodes\"], g[\"edges\"]\n",
    "links = [x for x in links if x[\"value\"] >= 5]\n",
    "print(len(nodes), len(links))\n",
    "#for i, n in enumerate(nodes):\n",
    "\n",
    "layout = Layout(width=\"1200\", height=\"800\")\n",
    "def sankey(margin_top=10, **value):\n",
    "    \"\"\"Show SankeyWidget with default values for size and margins\"\"\"\n",
    "    return SankeyWidget(layout=layout,\n",
    "                        margins=dict(top=margin_top, bottom=0, left=270, right=270),\n",
    "                        alignTypes=False,\n",
    "                        **value)\n",
    "sankey(links=links)"
   ]
  },
  {
   "cell_type": "code",
   "execution_count": 43,
   "id": "private-sydney",
   "metadata": {},
   "outputs": [
    {
     "name": "stdout",
     "output_type": "stream",
     "text": [
      "19 22\n"
     ]
    },
    {
     "data": {
      "application/vnd.jupyter.widget-view+json": {
       "model_id": "a8a1f118aa6943188042c2981038d2aa",
       "version_major": 2,
       "version_minor": 0
      },
      "text/plain": [
       "SankeyWidget(layout=Layout(height='800', width='1200'), links=[{'source': 'org.codehaus.jackson:jackson-core-a…"
      ]
     },
     "metadata": {},
     "output_type": "display_data"
    }
   ],
   "source": [
    "with open(\"data/json.json\", \"r\") as f:\n",
    "    g = json.load(f)\n",
    "nodes, links = g[\"nodes\"], g[\"edges\"]\n",
    "links = [x for x in links if x[\"value\"] >= 10]\n",
    "print(len(nodes), len(links))\n",
    "#for i, n in enumerate(nodes):\n",
    "\n",
    "layout = Layout(width=\"1200\", height=\"800\")\n",
    "def sankey(margin_top=10, **value):\n",
    "    \"\"\"Show SankeyWidget with default values for size and margins\"\"\"\n",
    "    return SankeyWidget(layout=layout,\n",
    "                        margins=dict(top=margin_top, bottom=0, left=270, right=300),\n",
    "                        alignTypes=False,\n",
    "                        **value)\n",
    "sankey(links=links)"
   ]
  },
  {
   "cell_type": "code",
   "execution_count": 46,
   "id": "latter-patent",
   "metadata": {},
   "outputs": [
    {
     "name": "stdout",
     "output_type": "stream",
     "text": [
      "21 22\n"
     ]
    },
    {
     "data": {
      "application/vnd.jupyter.widget-view+json": {
       "model_id": "9886bddcc12145f0a2051a340cdc0e93",
       "version_major": 2,
       "version_minor": 0
      },
      "text/plain": [
       "SankeyWidget(layout=Layout(height='800', width='1200'), links=[{'source': 'ch.qos.logback:logback-classic', 't…"
      ]
     },
     "metadata": {},
     "output_type": "display_data"
    }
   ],
   "source": [
    "with open(\"data/logging.json\", \"r\") as f:\n",
    "    g = json.load(f)\n",
    "nodes, links = g[\"nodes\"], g[\"edges\"]\n",
    "links = [x for x in links if x[\"value\"] >= 15]\n",
    "print(len(nodes), len(links))\n",
    "#for i, n in enumerate(nodes):\n",
    "\n",
    "layout = Layout(width=\"1200\", height=\"800\")\n",
    "def sankey(margin_top=10, **value):\n",
    "    \"\"\"Show SankeyWidget with default values for size and margins\"\"\"\n",
    "    return SankeyWidget(layout=layout,\n",
    "                        margins=dict(top=margin_top, bottom=0, left=270, right=300),\n",
    "                        alignTypes=False,\n",
    "                        **value)\n",
    "sankey(links=links)"
   ]
  },
  {
   "cell_type": "code",
   "execution_count": null,
   "id": "british-emerald",
   "metadata": {},
   "outputs": [],
   "source": []
  }
 ],
 "metadata": {
  "kernelspec": {
   "display_name": "Python 3",
   "language": "python",
   "name": "python3"
  },
  "language_info": {
   "codemirror_mode": {
    "name": "ipython",
    "version": 3
   },
   "file_extension": ".py",
   "mimetype": "text/x-python",
   "name": "python",
   "nbconvert_exporter": "python",
   "pygments_lexer": "ipython3",
   "version": "3.8.5"
  }
 },
 "nbformat": 4,
 "nbformat_minor": 5
}
