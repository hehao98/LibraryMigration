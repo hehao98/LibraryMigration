{
 "cells": [
  {
   "cell_type": "code",
   "execution_count": 3,
   "metadata": {
    "pycharm": {
     "is_executing": true
    }
   },
   "outputs": [],
   "source": [
    "import os\n",
    "import datautil\n",
    "import itertools\n",
    "import numpy as np\n",
    "import pandas as pd\n",
    "import matplotlib.pyplot as plt\n",
    "import seaborn as sns\n",
    "import multiprocessing as mp\n",
    "from collections import defaultdict\n",
    "from scipy import stats"
   ]
  },
  {
   "cell_type": "code",
   "execution_count": 4,
   "metadata": {
    "collapsed": false,
    "jupyter": {
     "outputs_hidden": false
    },
    "pycharm": {
     "is_executing": true,
     "name": "#%%\n"
    },
    "tags": []
   },
   "outputs": [
    {
     "ename": "AutoReconnect",
     "evalue": "mongo:27017: [Errno 99] Cannot assign requested address",
     "output_type": "error",
     "traceback": [
      "\u001b[0;31m---------------------------------------------------------------------------\u001b[0m",
      "\u001b[0;31mRemoteTraceback\u001b[0m                           Traceback (most recent call last)",
      "\u001b[0;31mRemoteTraceback\u001b[0m: \n\"\"\"\nTraceback (most recent call last):\n  File \"/opt/conda/lib/python3.8/site-packages/pymongo/pool.py\", line 1278, in _get_socket\n    sock_info = self.sockets.popleft()\nIndexError: pop from an empty deque\n\nDuring handling of the above exception, another exception occurred:\n\nTraceback (most recent call last):\n  File \"/opt/conda/lib/python3.8/site-packages/pymongo/pool.py\", line 1180, in connect\n    sock = _configured_socket(self.address, self.opts)\n  File \"/opt/conda/lib/python3.8/site-packages/pymongo/pool.py\", line 988, in _configured_socket\n    sock = _create_connection(address, options)\n  File \"/opt/conda/lib/python3.8/site-packages/pymongo/pool.py\", line 972, in _create_connection\n    raise err\n  File \"/opt/conda/lib/python3.8/site-packages/pymongo/pool.py\", line 965, in _create_connection\n    sock.connect(sa)\nOSError: [Errno 99] Cannot assign requested address\n\nDuring handling of the above exception, another exception occurred:\n\nTraceback (most recent call last):\n  File \"/opt/conda/lib/python3.8/multiprocessing/pool.py\", line 125, in worker\n    result = (True, func(*args, **kwds))\n  File \"/opt/conda/lib/python3.8/multiprocessing/pool.py\", line 51, in starmapstar\n    return list(itertools.starmap(args[0], args[1]))\n  File \"/app/datautil.py\", line 127, in select_dependency_changes\n    for c in select_commits_by_project(project_name) if len(c[\"parents\"]) < 2}\n  File \"/app/datautil.py\", line 197, in select_commits_by_project\n    commit_shas = list(db.wocRepository.find_one(\n  File \"/opt/conda/lib/python3.8/site-packages/pymongo/collection.py\", line 1319, in find_one\n    for result in cursor.limit(-1):\n  File \"/opt/conda/lib/python3.8/site-packages/pymongo/cursor.py\", line 1207, in next\n    if len(self.__data) or self._refresh():\n  File \"/opt/conda/lib/python3.8/site-packages/pymongo/cursor.py\", line 1124, in _refresh\n    self.__send_message(q)\n  File \"/opt/conda/lib/python3.8/site-packages/pymongo/cursor.py\", line 999, in __send_message\n    response = client._run_operation_with_response(\n  File \"/opt/conda/lib/python3.8/site-packages/pymongo/mongo_client.py\", line 1368, in _run_operation_with_response\n    return self._retryable_read(\n  File \"/opt/conda/lib/python3.8/site-packages/pymongo/mongo_client.py\", line 1464, in _retryable_read\n    with self._slaveok_for_server(read_pref, server, session,\n  File \"/opt/conda/lib/python3.8/contextlib.py\", line 113, in __enter__\n    return next(self.gen)\n  File \"/opt/conda/lib/python3.8/site-packages/pymongo/mongo_client.py\", line 1309, in _slaveok_for_server\n    with self._get_socket(server, session, exhaust=exhaust) as sock_info:\n  File \"/opt/conda/lib/python3.8/contextlib.py\", line 113, in __enter__\n    return next(self.gen)\n  File \"/opt/conda/lib/python3.8/site-packages/pymongo/mongo_client.py\", line 1246, in _get_socket\n    with server.get_socket(\n  File \"/opt/conda/lib/python3.8/contextlib.py\", line 113, in __enter__\n    return next(self.gen)\n  File \"/opt/conda/lib/python3.8/site-packages/pymongo/pool.py\", line 1231, in get_socket\n    sock_info = self._get_socket(all_credentials)\n  File \"/opt/conda/lib/python3.8/site-packages/pymongo/pool.py\", line 1281, in _get_socket\n    sock_info = self.connect(all_credentials)\n  File \"/opt/conda/lib/python3.8/site-packages/pymongo/pool.py\", line 1187, in connect\n    _raise_connection_failure(self.address, error)\n  File \"/opt/conda/lib/python3.8/site-packages/pymongo/pool.py\", line 286, in _raise_connection_failure\n    raise AutoReconnect(msg)\npymongo.errors.AutoReconnect: mongo:27017: [Errno 99] Cannot assign requested address\n\"\"\"",
      "\nThe above exception was the direct cause of the following exception:\n",
      "\u001b[0;31mAutoReconnect\u001b[0m                             Traceback (most recent call last)",
      "\u001b[0;32m<ipython-input-4-152a4e1fdeae>\u001b[0m in \u001b[0;36m<module>\u001b[0;34m\u001b[0m\n\u001b[0;32m----> 1\u001b[0;31m \u001b[0mprojects\u001b[0m\u001b[0;34m,\u001b[0m \u001b[0mlibraries\u001b[0m\u001b[0;34m,\u001b[0m \u001b[0mmigrations\u001b[0m\u001b[0;34m,\u001b[0m \u001b[0mrules\u001b[0m\u001b[0;34m,\u001b[0m \u001b[0mdep_changes\u001b[0m \u001b[0;34m=\u001b[0m \u001b[0mdatautil\u001b[0m\u001b[0;34m.\u001b[0m\u001b[0mget_data\u001b[0m\u001b[0;34m(\u001b[0m\u001b[0;34m)\u001b[0m\u001b[0;34m\u001b[0m\u001b[0;34m\u001b[0m\u001b[0m\n\u001b[0m\u001b[1;32m      2\u001b[0m \u001b[0mprint\u001b[0m\u001b[0;34m(\u001b[0m\u001b[0;34mf\"{len(projects)} projects, {len(libraries)} libraries, {len(dep_changes)} dep changes\"\u001b[0m\u001b[0;34m)\u001b[0m\u001b[0;34m\u001b[0m\u001b[0;34m\u001b[0m\u001b[0m\n\u001b[1;32m      3\u001b[0m print(\n\u001b[1;32m      4\u001b[0m     \u001b[0mlen\u001b[0m\u001b[0;34m(\u001b[0m\u001b[0mdep_changes\u001b[0m\u001b[0;34m[\u001b[0m\u001b[0mdep_changes\u001b[0m\u001b[0;34m.\u001b[0m\u001b[0mtype\u001b[0m \u001b[0;34m==\u001b[0m \u001b[0;34m\"add\"\u001b[0m\u001b[0;34m]\u001b[0m\u001b[0;34m)\u001b[0m\u001b[0;34m,\u001b[0m\u001b[0;34m\u001b[0m\u001b[0;34m\u001b[0m\u001b[0m\n\u001b[1;32m      5\u001b[0m     \u001b[0mlen\u001b[0m\u001b[0;34m(\u001b[0m\u001b[0mdep_changes\u001b[0m\u001b[0;34m[\u001b[0m\u001b[0mdep_changes\u001b[0m\u001b[0;34m.\u001b[0m\u001b[0mtype\u001b[0m \u001b[0;34m==\u001b[0m \u001b[0;34m\"rem\"\u001b[0m\u001b[0;34m]\u001b[0m\u001b[0;34m)\u001b[0m\u001b[0;34m,\u001b[0m\u001b[0;34m\u001b[0m\u001b[0;34m\u001b[0m\u001b[0m\n",
      "\u001b[0;32m/app/datautil.py\u001b[0m in \u001b[0;36mget_data\u001b[0;34m()\u001b[0m\n\u001b[1;32m     40\u001b[0m     \u001b[0mlib_names\u001b[0m \u001b[0;34m=\u001b[0m \u001b[0mset\u001b[0m\u001b[0;34m(\u001b[0m\u001b[0mlibraries\u001b[0m\u001b[0;34m[\u001b[0m\u001b[0;34m\"name\"\u001b[0m\u001b[0;34m]\u001b[0m\u001b[0;34m)\u001b[0m\u001b[0;34m\u001b[0m\u001b[0;34m\u001b[0m\u001b[0m\n\u001b[1;32m     41\u001b[0m     \u001b[0mrules\u001b[0m \u001b[0;34m=\u001b[0m \u001b[0mselect_rules\u001b[0m\u001b[0;34m(\u001b[0m\u001b[0mlib_names\u001b[0m\u001b[0;34m)\u001b[0m\u001b[0;34m\u001b[0m\u001b[0;34m\u001b[0m\u001b[0m\n\u001b[0;32m---> 42\u001b[0;31m     \u001b[0mdep_changes\u001b[0m \u001b[0;34m=\u001b[0m \u001b[0mselect_dependency_changes_all\u001b[0m\u001b[0;34m(\u001b[0m\u001b[0mlib_names\u001b[0m\u001b[0;34m)\u001b[0m\u001b[0;34m\u001b[0m\u001b[0;34m\u001b[0m\u001b[0m\n\u001b[0m\u001b[1;32m     43\u001b[0m     \u001b[0mmigrations\u001b[0m\u001b[0;34m.\u001b[0m\u001b[0mstartCommitTime\u001b[0m \u001b[0;34m=\u001b[0m \u001b[0mpd\u001b[0m\u001b[0;34m.\u001b[0m\u001b[0mto_datetime\u001b[0m\u001b[0;34m(\u001b[0m\u001b[0mmigrations\u001b[0m\u001b[0;34m.\u001b[0m\u001b[0mstartCommitTime\u001b[0m\u001b[0;34m,\u001b[0m \u001b[0mutc\u001b[0m\u001b[0;34m=\u001b[0m\u001b[0;32mTrue\u001b[0m\u001b[0;34m)\u001b[0m\u001b[0;34m\u001b[0m\u001b[0;34m\u001b[0m\u001b[0m\n\u001b[1;32m     44\u001b[0m     \u001b[0mmigrations\u001b[0m\u001b[0;34m.\u001b[0m\u001b[0mendCommitTime\u001b[0m \u001b[0;34m=\u001b[0m \u001b[0mpd\u001b[0m\u001b[0;34m.\u001b[0m\u001b[0mto_datetime\u001b[0m\u001b[0;34m(\u001b[0m\u001b[0mmigrations\u001b[0m\u001b[0;34m.\u001b[0m\u001b[0mendCommitTime\u001b[0m\u001b[0;34m,\u001b[0m \u001b[0mutc\u001b[0m\u001b[0;34m=\u001b[0m\u001b[0;32mTrue\u001b[0m\u001b[0;34m)\u001b[0m\u001b[0;34m\u001b[0m\u001b[0;34m\u001b[0m\u001b[0m\n",
      "\u001b[0;32m/app/datautil.py\u001b[0m in \u001b[0;36mselect_dependency_changes_all\u001b[0;34m(lib_names)\u001b[0m\n\u001b[1;32m    178\u001b[0m         \u001b[0mlib_names2\u001b[0m \u001b[0;34m=\u001b[0m \u001b[0mset\u001b[0m\u001b[0;34m(\u001b[0m\u001b[0mlibraries\u001b[0m\u001b[0;34m[\u001b[0m\u001b[0;34m\"name\"\u001b[0m\u001b[0;34m]\u001b[0m\u001b[0;34m)\u001b[0m\u001b[0;34m\u001b[0m\u001b[0;34m\u001b[0m\u001b[0m\n\u001b[1;32m    179\u001b[0m         \u001b[0;32mwith\u001b[0m \u001b[0mmultiprocessing\u001b[0m\u001b[0;34m.\u001b[0m\u001b[0mPool\u001b[0m\u001b[0;34m(\u001b[0m\u001b[0;36m16\u001b[0m\u001b[0;34m)\u001b[0m \u001b[0;32mas\u001b[0m \u001b[0mpool\u001b[0m\u001b[0;34m:\u001b[0m\u001b[0;34m\u001b[0m\u001b[0;34m\u001b[0m\u001b[0m\n\u001b[0;32m--> 180\u001b[0;31m             results = pool.starmap(\n\u001b[0m\u001b[1;32m    181\u001b[0m                 \u001b[0mselect_dependency_changes\u001b[0m\u001b[0;34m,\u001b[0m\u001b[0;34m\u001b[0m\u001b[0;34m\u001b[0m\u001b[0m\n\u001b[1;32m    182\u001b[0m                 [(proj_name, lib_names2)\n",
      "\u001b[0;32m/opt/conda/lib/python3.8/multiprocessing/pool.py\u001b[0m in \u001b[0;36mstarmap\u001b[0;34m(self, func, iterable, chunksize)\u001b[0m\n\u001b[1;32m    370\u001b[0m         \u001b[0;31m`\u001b[0m\u001b[0mfunc\u001b[0m\u001b[0;31m`\u001b[0m \u001b[0;32mand\u001b[0m \u001b[0;34m(\u001b[0m\u001b[0ma\u001b[0m\u001b[0;34m,\u001b[0m \u001b[0mb\u001b[0m\u001b[0;34m)\u001b[0m \u001b[0mbecomes\u001b[0m \u001b[0mfunc\u001b[0m\u001b[0;34m(\u001b[0m\u001b[0ma\u001b[0m\u001b[0;34m,\u001b[0m \u001b[0mb\u001b[0m\u001b[0;34m)\u001b[0m\u001b[0;34m.\u001b[0m\u001b[0;34m\u001b[0m\u001b[0;34m\u001b[0m\u001b[0m\n\u001b[1;32m    371\u001b[0m         '''\n\u001b[0;32m--> 372\u001b[0;31m         \u001b[0;32mreturn\u001b[0m \u001b[0mself\u001b[0m\u001b[0;34m.\u001b[0m\u001b[0m_map_async\u001b[0m\u001b[0;34m(\u001b[0m\u001b[0mfunc\u001b[0m\u001b[0;34m,\u001b[0m \u001b[0miterable\u001b[0m\u001b[0;34m,\u001b[0m \u001b[0mstarmapstar\u001b[0m\u001b[0;34m,\u001b[0m \u001b[0mchunksize\u001b[0m\u001b[0;34m)\u001b[0m\u001b[0;34m.\u001b[0m\u001b[0mget\u001b[0m\u001b[0;34m(\u001b[0m\u001b[0;34m)\u001b[0m\u001b[0;34m\u001b[0m\u001b[0;34m\u001b[0m\u001b[0m\n\u001b[0m\u001b[1;32m    373\u001b[0m \u001b[0;34m\u001b[0m\u001b[0m\n\u001b[1;32m    374\u001b[0m     def starmap_async(self, func, iterable, chunksize=None, callback=None,\n",
      "\u001b[0;32m/opt/conda/lib/python3.8/multiprocessing/pool.py\u001b[0m in \u001b[0;36mget\u001b[0;34m(self, timeout)\u001b[0m\n\u001b[1;32m    769\u001b[0m             \u001b[0;32mreturn\u001b[0m \u001b[0mself\u001b[0m\u001b[0;34m.\u001b[0m\u001b[0m_value\u001b[0m\u001b[0;34m\u001b[0m\u001b[0;34m\u001b[0m\u001b[0m\n\u001b[1;32m    770\u001b[0m         \u001b[0;32melse\u001b[0m\u001b[0;34m:\u001b[0m\u001b[0;34m\u001b[0m\u001b[0;34m\u001b[0m\u001b[0m\n\u001b[0;32m--> 771\u001b[0;31m             \u001b[0;32mraise\u001b[0m \u001b[0mself\u001b[0m\u001b[0;34m.\u001b[0m\u001b[0m_value\u001b[0m\u001b[0;34m\u001b[0m\u001b[0;34m\u001b[0m\u001b[0m\n\u001b[0m\u001b[1;32m    772\u001b[0m \u001b[0;34m\u001b[0m\u001b[0m\n\u001b[1;32m    773\u001b[0m     \u001b[0;32mdef\u001b[0m \u001b[0m_set\u001b[0m\u001b[0;34m(\u001b[0m\u001b[0mself\u001b[0m\u001b[0;34m,\u001b[0m \u001b[0mi\u001b[0m\u001b[0;34m,\u001b[0m \u001b[0mobj\u001b[0m\u001b[0;34m)\u001b[0m\u001b[0;34m:\u001b[0m\u001b[0;34m\u001b[0m\u001b[0;34m\u001b[0m\u001b[0m\n",
      "\u001b[0;31mAutoReconnect\u001b[0m: mongo:27017: [Errno 99] Cannot assign requested address"
     ]
    }
   ],
   "source": [
    "projects, libraries, migrations, rules, dep_changes = datautil.get_data()\n",
    "print(f\"{len(projects)} projects, {len(libraries)} libraries, {len(dep_changes)} dep changes\")\n",
    "print(\n",
    "    len(dep_changes[dep_changes.type == \"add\"]), \n",
    "    len(dep_changes[dep_changes.type == \"rem\"]), \n",
    "    len(dep_changes[dep_changes.type == \"verchg\"])\n",
    ")\n",
    "print(\n",
    "    len(set(dep_changes[dep_changs.type == \"add\"].commit)), \n",
    "    len(set(dep_changes[dep_changes.type == \"rem\"].commit)), \n",
    "    len(set(dep_changes[dep_changes.type == \"verchg\"].commit))\n",
    ")\n",
    "print(f\"{len(set(dep_changes.commit))} commits with dep chg, {sum(projects.commitsCount)} commits\")"
   ]
  },
  {
   "cell_type": "code",
   "execution_count": null,
   "metadata": {
    "collapsed": false,
    "jupyter": {
     "outputs_hidden": false
    },
    "pycharm": {
     "name": "#%%\n"
    }
   },
   "outputs": [],
   "source": [
    "dep_changes.head()"
   ]
  },
  {
   "cell_type": "code",
   "execution_count": null,
   "metadata": {
    "collapsed": false,
    "jupyter": {
     "outputs_hidden": false
    },
    "pycharm": {
     "name": "#%%\n"
    }
   },
   "outputs": [],
   "source": [
    "proj2commits = dict(zip(projects.nameWithOwner, projects.commitsCount))\n",
    "rule_set = set(zip(rules.fromLib, rules.toLib))\n",
    "print(len(rule_set))\n",
    "rule2type = pd.read_csv(\"data/rules_typed.csv\")\n",
    "rule2type = {(row.fromLib, row.toLib): row.type for idx, row in rule2type.iterrows()}\n",
    "rule_set = set(x for x in rule_set if \"rename\" not in rule2type[x])\n",
    "print(len(rule_set))\n",
    "proj_stats = dict()\n",
    "for proj, df in dep_changes.groupby([\"project\"]):\n",
    "    proj_stats[proj] = {\n",
    "        \"project\": proj,\n",
    "        \"dependencies\": len(datautil.select_project_dependencies(proj)),\n",
    "        \"changes\": len(df),\n",
    "        \"adoptions\": len(df[df.type == \"add\"]),\n",
    "        \"removals\": len(df[df.type == \"rem\"]),\n",
    "        \"verchgs\": len(df[df.type == \"verchg\"]),\n",
    "        \"commits\": proj2commits[proj],\n",
    "        \"change_commits\": len(set(df.commit)),\n",
    "        \"adoption_commits\": len(set(df[df.type == \"add\"].commit)),\n",
    "        \"removal_commits\": len(set(df[df.type == \"rem\"].commit)),\n",
    "        \"verchg_commits\": len(set(df[df.type == \"verchg\"].commit)),\n",
    "        \"possible_migrations\": set(),\n",
    "        \"confirmed_migrations\": set(),\n",
    "    }\n",
    "    for path, df2 in df.groupby([\"file\"]):\n",
    "        x = list(zip(df2.commit, df2.type, df2.lib1, df2.lib2))\n",
    "        for added_lib, removed_lib in itertools.product(set(df2.lib2), set(df2.lib1)):\n",
    "            if (removed_lib, added_lib) in rule_set:\n",
    "                proj_stats[proj][\"possible_migrations\"].add((removed_lib, added_lib))\n",
    "for idx, row in migrations.iterrows():\n",
    "    if row[\"repoName\"].replace(\"_\", \"/\") not in proj_stats:\n",
    "        continue\n",
    "    if (row.fromLib, row.toLib) not in rule_set:\n",
    "        continue\n",
    "    proj_stats[row[\"repoName\"].replace(\"_\", \"/\")][\"confirmed_migrations\"].add((row.fromLib, row.toLib))\n",
    "for proj in proj_stats.keys():\n",
    "    proj_stats[proj][\"possible_migrations\"] = len(proj_stats[proj][\"possible_migrations\"])\n",
    "    proj_stats[proj][\"confirmed_migrations\"] = len(proj_stats[proj][\"confirmed_migrations\"])\n",
    "proj_stats = pd.DataFrame(proj_stats.values())\n",
    "proj_stats = proj_stats[(proj_stats.adoptions != 0) & (proj_stats.adoptions >= proj_stats.removals)]\n",
    "proj_stats.head()"
   ]
  },
  {
   "cell_type": "code",
   "execution_count": null,
   "metadata": {
    "collapsed": false,
    "jupyter": {
     "outputs_hidden": false
    },
    "pycharm": {
     "name": "#%%\n"
    }
   },
   "outputs": [],
   "source": [
    "def percent(df, cond) -> str:\n",
    "    return f\"{len(df[cond])} / {len(df)} ({len(df[cond]) / len(df) * 100:.2f}%)\"\n",
    "\n",
    "print(\"For all projects:\")\n",
    "print(f\"{percent(proj_stats, proj_stats.adoptions != 0)} projects with at least one library adoption\")\n",
    "print(f\"{percent(proj_stats, proj_stats.removals != 0)} projects with at least one library removal\")\n",
    "print(f\"{percent(proj_stats, proj_stats.verchgs != 0)} projects with at least one version change\")\n",
    "print(stats.spearmanr(proj_stats.removals, proj_stats.commits))\n",
    "print(stats.spearmanr(proj_stats.removals, proj_stats.dependencies))\n",
    "print(stats.spearmanr(proj_stats.possible_migrations, proj_stats.commits))\n",
    "print(stats.spearmanr(proj_stats.confirmed_migrations, proj_stats.dependencies))"
   ]
  },
  {
   "cell_type": "code",
   "execution_count": null,
   "metadata": {},
   "outputs": [],
   "source": [
    "fig, axes = plt.subplots(1, 2, figsize=(9,3))\n",
    "\n",
    "splits = np.array_split(proj_stats.sort_values(by=\"commits\"), 10)\n",
    "ranges = list(map(lambda x: f\"{min(x.commits)}-{max(x.commits)}\", splits))\n",
    "rem_rate = list(map(lambda x: len(x[x.removals != 0]) / len(x), splits))\n",
    "ver_rate = list(map(lambda x: len(x[x.verchgs != 0]) / len(x), splits))\n",
    "axes[0].plot(ranges, rem_rate, marker=\"^\", label=\"removal\")\n",
    "axes[0].plot(ranges, ver_rate, marker=\"x\", label=\"version change\")\n",
    "axes[0].set_xlabel(\"Number of Commits\")\n",
    "axes[0].set_ylabel(\"Percentage of Projects\")\n",
    "axes[0].set_ylim(0, 1)\n",
    "axes[0].legend()\n",
    "\n",
    "splits = np.array_split(proj_stats[proj_stats.dependencies > 0].sort_values(by=\"dependencies\"), 10)\n",
    "ranges = list(map(lambda x: f\"{min(x.dependencies)}-{max(x.dependencies)}\", splits))\n",
    "rem_rate = list(map(lambda x: len(x[x.removals != 0]) / len(x), splits))\n",
    "ver_rate = list(map(lambda x: len(x[x.verchgs != 0]) / len(x), splits))\n",
    "axes[1].plot(ranges, rem_rate, marker=\"^\", label=\"removal\")\n",
    "axes[1].plot(ranges, ver_rate, marker=\"x\", label=\"version change\")\n",
    "axes[1].set_xlabel(\"Number of Dependencies\")\n",
    "axes[1].set_ylabel(\"Percentage of Projects\")\n",
    "axes[1].set_ylim(0, 1)\n",
    "axes[1].legend()\n",
    "fig.autofmt_xdate()\n",
    "fig.savefig(\"plots/chgrel.pdf\", bbox_inches=\"tight\")"
   ]
  },
  {
   "cell_type": "code",
   "execution_count": null,
   "metadata": {},
   "outputs": [],
   "source": [
    "proj_stats_f = proj_stats[proj_stats.removals != 0].copy()\n",
    "\n",
    "fig, ax = plt.subplots(1, 1, figsize=(8,4))\n",
    "\n",
    "data = [\n",
    "    proj_stats_f.changes,\n",
    "    proj_stats_f.adoptions,\n",
    "    proj_stats_f.removals,\n",
    "    proj_stats_f.verchgs,\n",
    "    proj_stats_f.commits / proj_stats_f.change_commits,\n",
    "    proj_stats_f.commits / proj_stats_f.adoption_commits,\n",
    "    proj_stats_f.commits / proj_stats_f.removal_commits,\n",
    "    proj_stats_f.commits / proj_stats_f.verchg_commits,\n",
    "]\n",
    "ax.boxplot(x=data[0:4],\n",
    "    labels=[\"all\", \"adoption\", \"removal\", \"version\"], \n",
    "    positions=[0,0.5,1,1.5], widths=0.5, vert=False)\n",
    "ax.set_xscale(\"log\")\n",
    "ax.set_xlabel(\"Number of Changes\")\n",
    "ax.set_ylabel(\"Change Type\")\n",
    "ax2 = ax.twiny()\n",
    "ax2.boxplot(x=data[4:8], labels=[\"all\", \"adoption\", \"removal\", \"version\"], positions=[2.5,3,3.5,4], widths=0.5, vert=False)\n",
    "ax2.set_xscale(\"log\")\n",
    "ax2.set_xlabel(\"Number of Commits per Change\")\n",
    "ax2.set_ylabel(\"Change Type\")\n",
    "for i, x in enumerate([0,0.5,1,1.5]):\n",
    "    ax.text(np.median(data[i]), x, str(int(np.median(data[i]))), fontsize=12, horizontalalignment=\"center\", verticalalignment=\"center\")\n",
    "for i, x in enumerate([2.5,3,3.5,4]):\n",
    "    ax2.text(np.median(data[i+4]), x, str(int(np.median(data[i+4]))), fontsize=12, horizontalalignment=\"center\", verticalalignment=\"center\")\n",
    "\n",
    "fig.savefig(\"plots/chgdis.pdf\", bbox_inches=\"tight\")"
   ]
  },
  {
   "cell_type": "code",
   "execution_count": null,
   "metadata": {
    "collapsed": false,
    "jupyter": {
     "outputs_hidden": false
    },
    "pycharm": {
     "name": "#%%\n"
    }
   },
   "outputs": [],
   "source": [
    "proj_stats_f[\"commit_portion_c\"] = proj_stats_f.change_commits / proj_stats_f.commits\n",
    "proj_stats_f[\"commit_portion_a\"] = proj_stats_f.adoption_commits / proj_stats_f.commits\n",
    "proj_stats_f[\"commit_portion_r\"] = proj_stats_f.removal_commits / proj_stats_f.commits\n",
    "proj_stats_f[\"commit_portion_v\"] = proj_stats_f.verchg_commits / proj_stats_f.commits\n",
    "proj_stats_f[[\"changes\", \"adoptions\", \"removals\", \"verchgs\", \"commit_portion_c\", \"commit_portion_a\", \"commit_portion_r\", \"commit_portion_v\"]].describe()"
   ]
  },
  {
   "cell_type": "code",
   "execution_count": null,
   "metadata": {},
   "outputs": [],
   "source": [
    "rule_libs = set(rules.fromLib) | set(rules.toLib)\n",
    "rule_projects = set(dep_changes[dep_changes.lib2.isin(rule_libs)].project)\n",
    "proj_stats_f = proj_stats[proj_stats.project.isin(rule_projects)].copy()\n",
    "print(len(proj_stats_f), \"projects\")\n",
    "\n",
    "print(f\"{percent(proj_stats_f, proj_stats_f.removals != 0)} projects with at least one library removal\")\n",
    "print(f\"{percent(proj_stats_f, proj_stats_f.possible_migrations != 0)} projects with at least one possible migration\")\n",
    "print(f\"{percent(proj_stats_f, proj_stats_f.confirmed_migrations != 0)} projects with at least one confirmed migration\")\n",
    "print(len(proj_stats_f[proj_stats_f.confirmed_migrations > 5]), len(proj_stats_f[proj_stats_f.possible_migrations > 5]))\n",
    "print(proj_stats_f[proj_stats_f.possible_migrations != 0].possible_migrations.describe())\n",
    "print(proj_stats_f[proj_stats_f.confirmed_migrations != 0].confirmed_migrations.describe())\n",
    "data = proj_stats_f[(proj_stats_f.dependencies >= 10) & (proj_stats_f.commits >= 143)]\n",
    "print(f\"{percent(data, data.possible_migrations != 0)} projects with at least one possible migration\")\n",
    "print(f\"{percent(data, data.confirmed_migrations != 0)} projects with at least one confirmed migration\")\n",
    "\n",
    "ad, rm, vr = {}, {}, {}\n",
    "for proj, df in dep_changes.groupby(by=\"project\"):\n",
    "    chgs = df[df.lib1.isin(rule_libs) | df.lib2.isin(rule_libs)]\n",
    "    ad[proj] = len(chgs[chgs.type == \"add\"])\n",
    "    rm[proj] = len(chgs[chgs.type == \"rem\"])\n",
    "    vr[proj] = len(chgs[chgs.type == \"verchg\"])\n",
    "proj_stats_f.adoptions = proj_stats_f.project.map(lambda proj: ad[proj])\n",
    "proj_stats_f.removals = proj_stats_f.project.map(lambda proj: rm[proj])\n",
    "proj_stats_f.verchgs = proj_stats_f.project.map(lambda proj: vr[proj])"
   ]
  },
  {
   "cell_type": "code",
   "execution_count": null,
   "metadata": {},
   "outputs": [],
   "source": [
    "fig, axes = plt.subplots(2, 1, figsize=(9,4))\n",
    "sns.histplot(data=proj_stats_f[proj_stats_f.possible_migrations > 0], x=\"possible_migrations\", binwidth=1, binrange=[1, 40], ax=axes[0], discrete=True)\n",
    "sns.histplot(data=proj_stats_f[proj_stats_f.confirmed_migrations > 0], x=\"confirmed_migrations\", binwidth=1, binrange=[1, 40], ax=axes[1], discrete=True)\n",
    "axes[0].set_ylabel(\"Number of Projects\")\n",
    "axes[0].set_xlabel(\"Number of Possible Migrations\")\n",
    "axes[0].set_xlim(0, 40)\n",
    "axes[0].set_xticks(range(1, 40))\n",
    "axes[1].set_ylabel(\"Number of Projects\")\n",
    "axes[1].set_xlabel(\"Number of Confirmed Migrations\")\n",
    "axes[1].set_xlim(0, 40)\n",
    "axes[1].set_xticks(range(1, 40))\n",
    "for i in range(1, 40):\n",
    "    delta = 8\n",
    "    count1 = len(proj_stats_f[proj_stats_f.possible_migrations == i])\n",
    "    axes[0].text(i, count1 + delta, str(count1), fontsize=7.5, horizontalalignment=\"center\")\n",
    "    count2 = len(proj_stats_f[proj_stats_f.confirmed_migrations == i])\n",
    "    axes[1].text(i, count2 + delta, str(count2), fontsize=7.5, horizontalalignment=\"center\")\n",
    "fig.tight_layout()\n",
    "fig.savefig(\"plots/migdist.pdf\", bbox_inches=\"tight\")"
   ]
  },
  {
   "cell_type": "code",
   "execution_count": null,
   "metadata": {},
   "outputs": [],
   "source": [
    "fig, axes = plt.subplots(1, 2, figsize=(9,3))\n",
    "\n",
    "splits = np.array_split(proj_stats_f.sort_values(by=\"commits\"), 10)\n",
    "ranges = list(map(lambda x: f\"{min(x.commits)}-{max(x.commits)}\", splits))\n",
    "posmig_rate = list(map(lambda x: len(x[x.possible_migrations != 0]) / len(x), splits))\n",
    "conmig_rate = list(map(lambda x: len(x[x.confirmed_migrations != 0]) / len(x), splits))\n",
    "rem_rate = list(map(lambda x: len(x[x.removals != 0]) / len(x), splits))\n",
    "ver_rate = list(map(lambda x: len(x[x.verchgs != 0]) / len(x), splits))\n",
    "axes[0].plot(ranges, rem_rate, marker=\"^\", label=\"removal\")\n",
    "#axes[0].plot(ranges, ver_rate, marker=\"x\", label=\"version change\")\n",
    "axes[0].plot(ranges, posmig_rate, marker=\"v\", label=\"possible migration\")\n",
    "axes[0].plot(ranges, conmig_rate, marker=\"*\", label=\"confirmed migration\")\n",
    "axes[0].set_xlabel(\"Number of Commits\")\n",
    "axes[0].set_ylabel(\"Percentage of Projects\")\n",
    "axes[0].set_ylim(0, 1)\n",
    "axes[0].legend(loc=\"upper left\", fontsize=\"small\")\n",
    "\n",
    "splits = np.array_split(proj_stats_f[proj_stats_f.dependencies > 0].sort_values(by=\"dependencies\"), 10)\n",
    "ranges = list(map(lambda x: f\"{min(x.dependencies)}-{max(x.dependencies)}\", splits))\n",
    "posmig_rate = list(map(lambda x: len(x[x.possible_migrations != 0]) / len(x), splits))\n",
    "conmig_rate = list(map(lambda x: len(x[x.confirmed_migrations != 0]) / len(x), splits))\n",
    "rem_rate = list(map(lambda x: len(x[x.removals != 0]) / len(x), splits))\n",
    "ver_rate = list(map(lambda x: len(x[x.verchgs != 0]) / len(x), splits))\n",
    "axes[1].plot(ranges, rem_rate, marker=\"^\", label=\"removal\")\n",
    "#axes[1].plot(ranges, ver_rate, marker=\"x\", label=\"version change\")\n",
    "axes[1].plot(ranges, posmig_rate, marker=\"v\", label=\"possible migration\")\n",
    "axes[1].plot(ranges, conmig_rate, marker=\"*\", label=\"confirmed migration\")\n",
    "axes[1].set_xlabel(\"Number of Dependencies\")\n",
    "axes[1].set_ylabel(\"Percentage of Projects\")\n",
    "axes[1].set_ylim(0, 1)\n",
    "axes[1].legend(loc=\"upper left\", fontsize=\"small\")\n",
    "fig.autofmt_xdate()\n",
    "fig.savefig(\"plots/migrel.pdf\", bbox_inches=\"tight\")"
   ]
  },
  {
   "cell_type": "code",
   "execution_count": null,
   "metadata": {
    "collapsed": false,
    "jupyter": {
     "outputs_hidden": false
    },
    "pycharm": {
     "name": "#%%\n"
    }
   },
   "outputs": [],
   "source": [
    "proj_stats_f[\"retention\"] = 1 - proj_stats_f.removals / np.maximum(1, proj_stats_f.adoptions)\n",
    "proj_stats_f[\"retention\"].describe()"
   ]
  },
  {
   "cell_type": "code",
   "execution_count": null,
   "metadata": {
    "collapsed": false,
    "jupyter": {
     "outputs_hidden": false
    },
    "pycharm": {
     "name": "#%%\n"
    }
   },
   "outputs": [],
   "source": [
    "lib_retention = defaultdict(lambda: [0, 0])\n",
    "for type, lib1, lib2 in zip(dep_changes.type, dep_changes.lib1, dep_changes.lib2):\n",
    "    if type == \"add\":\n",
    "        lib_retention[lib2][1] += 1\n",
    "    elif type == \"rem\":\n",
    "        lib_retention[lib1][0] += 1\n",
    "libraries[\"retention\"] = libraries.name.map(lambda n: 1 - lib_retention[n][0] / max(1, lib_retention[n][1]))\n",
    "libraries[libraries.name.isin(dep_changes[\"lib2\"]) & (libraries.retention >= 0)][\"retention\"].describe()"
   ]
  },
  {
   "cell_type": "code",
   "execution_count": null,
   "metadata": {
    "collapsed": false,
    "jupyter": {
     "outputs_hidden": false
    },
    "pycharm": {
     "name": "#%%\n"
    }
   },
   "outputs": [],
   "source": [
    "fig, axes = plt.subplots(1, 2, figsize=(9,3))\n",
    "sns.histplot(data=proj_stats_f[proj_stats_f[\"change_commits\"] > 10], x=\"retention\", binwidth=0.05, binrange=(0, 1), ax=axes[0])\n",
    "axes[0].set_xlabel(\"Retention Rate by Project\")\n",
    "axes[0].set_xlim(0, 1)\n",
    "sns.histplot(data=libraries[libraries.name.isin(dep_changes[\"lib2\"])], x=\"retention\", binwidth=0.05, binrange=(0, 1), ax=axes[1])\n",
    "axes[1].set_ylabel(\"\")\n",
    "axes[1].set_xlabel(\"Retention Rate by Libraries\")\n",
    "axes[1].set_xlim(0, 1)\n",
    "fig.savefig(\"plots/retention.pdf\", bbox_inches=\"tight\")"
   ]
  },
  {
   "cell_type": "code",
   "execution_count": null,
   "metadata": {},
   "outputs": [],
   "source": []
  }
 ],
 "metadata": {
  "kernelspec": {
   "display_name": "Python 3",
   "language": "python",
   "name": "python3"
  },
  "language_info": {
   "codemirror_mode": {
    "name": "ipython",
    "version": 3
   },
   "file_extension": ".py",
   "mimetype": "text/x-python",
   "name": "python",
   "nbconvert_exporter": "python",
   "pygments_lexer": "ipython3",
   "version": "3.8.8"
  }
 },
 "nbformat": 4,
 "nbformat_minor": 4
}
