{
 "cells": [
  {
   "cell_type": "code",
   "execution_count": 6,
   "metadata": {},
   "outputs": [],
   "source": [
    "import pandas as pd\n",
    "from collections import Counter, defaultdict\n",
    "from krippendorff_alpha import krippendorff_alpha\n",
    "from nltk.metrics.distance import masi_distance"
   ]
  },
  {
   "cell_type": "code",
   "execution_count": 7,
   "metadata": {},
   "outputs": [
    {
     "name": "stdout",
     "output_type": "stream",
     "text": [
      "Counter({'commit': 3340, 'pull request': 2775, 'issue': 385})\n",
      "Counter({'commit': 351, 'pull request': 233, 'issue': 112})\n"
     ]
    }
   ],
   "source": [
    "code2theme = {\n",
    "    \"source:no-longer-maintained\": \"source:deprecation\",\n",
    "    \"source:outdated\": \"source:deprecation\",\n",
    "    \"source:vulnerability\": \"source:vulnerability\",\n",
    "    \"source:issue\": \"source:issue\",\n",
    "    \"source:other\": \"other\",\n",
    "    \"target:feature\": \"target:feature\",\n",
    "    \"target:ease-of-use\": \"target:usability\",\n",
    "    \"target:performance\": \"target:performance\",\n",
    "    \"target:flexibility\": \"target:usability\",\n",
    "    \"target:activity\": \"source:deprecation\",\n",
    "    \"target:size\": \"target:size\",\n",
    "    \"target:stability\": \"target:stability\",\n",
    "    \"target:popularity\": \"target:popularity\",\n",
    "    \"target:other\": \"other\",\n",
    "    \"project:compatibility:license\": \"project:license\",\n",
    "    \"project:compatibility:other-library\": \"project:integration\",\n",
    "    \"project:compatibility:environment\": \"project:integration\",\n",
    "    \"project:consistency:upstream\": \"project:integration\",\n",
    "    \"project:consistency:downstream\": \"project:integration\",\n",
    "    \"project:consistency:within-project\": \"project:simplification\",\n",
    "    \"project:organizational\": \"project:organizational\",\n",
    "    \"project:other\": \"other\",\n",
    "    \"_\": \"other\"\n",
    "}\n",
    "\n",
    "coding = pd.read_excel(\"data/coding.xlsx\").fillna(\"\")\n",
    "\n",
    "# Check for trivial labeling errors\n",
    "for idx, row in coding[coding.reasonText != \"\"].iterrows():\n",
    "    for code in row.reasonCode1.split(\",\"):\n",
    "        if code not in code2theme:\n",
    "            print(idx, row.reasonCode1)\n",
    "    for code in row.reasonCode2.split(\",\"):\n",
    "        if code not in code2theme:\n",
    "            print(idx, row.reasonCode2)\n",
    "            \n",
    "print(Counter(coding.type))\n",
    "print(Counter(coding[coding.reasonText != \"\"].type))"
   ]
  },
  {
   "cell_type": "code",
   "execution_count": 8,
   "metadata": {},
   "outputs": [
    {
     "name": "stdout",
     "output_type": "stream",
     "text": [
      "Observed Agreement: 0.761\n",
      "Cohen's Kappa: 0.744\n"
     ]
    }
   ],
   "source": [
    "def get_agreement(data1, data2):\n",
    "    data = coding[coding.reasonText != \"\"]\n",
    "    agreed_items, total_items = 0, 0\n",
    "    rater1_count, rater2_count = Counter(), Counter()\n",
    "    for item1, item2 in zip(data1, data2):\n",
    "        item1, item2 = set(item1.split(\",\")), set(item2.split(\",\"))\n",
    "        agreed_items += len(item1 & item2)\n",
    "        total_items += (len(item1) + len(item2)) / 2\n",
    "        rater1_count.update(item1)\n",
    "        rater2_count.update(item2)\n",
    "    agreement = agreed_items / total_items\n",
    "    acc_agreement = sum(rater1_count[x] * rater2_count[x] for x in rater1_count) / total_items**2\n",
    "    cohen_kappa = 1 - (1 - agreement) / (1 - acc_agreement)\n",
    "    return agreement, cohen_kappa\n",
    "data = coding[coding.reasonText != \"\"]\n",
    "agreement, cohen_kappa = get_agreement(data.reasonCode1, data.reasonCode2)\n",
    "print(f\"Observed Agreement: {agreement:.3f}\")\n",
    "print(f\"Cohen's Kappa: {cohen_kappa:.3f}\")"
   ]
  },
  {
   "cell_type": "code",
   "execution_count": 9,
   "metadata": {},
   "outputs": [
    {
     "name": "stdout",
     "output_type": "stream",
     "text": [
      "Observed Agreement: 0.839\n",
      "Cohen's Kappa: 0.818\n"
     ]
    }
   ],
   "source": [
    "theme1, theme2 = [], []\n",
    "for idx, row in coding.iterrows():\n",
    "    if row.reasonText != \"\":\n",
    "        theme1.append(\",\".join(set(map(lambda x: code2theme[x], row.reasonCode1.split(\",\")))))\n",
    "        theme2.append(\",\".join(set(map(lambda x: code2theme[x], row.reasonCode2.split(\",\")))))\n",
    "    else:\n",
    "        theme1.append(\"\")\n",
    "        theme2.append(\"\")\n",
    "coding[\"theme1\"] = theme1\n",
    "coding[\"theme2\"] = theme2\n",
    "\n",
    "final_themes = []\n",
    "for idx, row in coding.iterrows():\n",
    "    if row.reasonText != \"\":\n",
    "        if set(row.theme1.split(\",\")) == set(row.theme2.split(\",\")):\n",
    "            final_themes.append(row.theme1)\n",
    "        else:\n",
    "            final_themes.append(\"undecided\")\n",
    "    else:\n",
    "        final_themes.append(\"\")\n",
    "# coding[\"finalTheme\"] = final_themes\n",
    "data = coding[coding.reasonText != \"\"]\n",
    "agreement, cohen_kappa = get_agreement(data.theme1, data.theme2)\n",
    "print(f\"Observed Agreement: {agreement:.3f}\")\n",
    "print(f\"Cohen's Kappa: {cohen_kappa:.3f}\")"
   ]
  },
  {
   "cell_type": "markdown",
   "metadata": {},
   "source": [
    "References\n",
    "1. Passonneau, Rebecca. \"Measuring agreement on set-valued items (MASI) for semantic and pragmatic annotation.\" (2006).\n",
    "2. Krippendorff, Klaus. \"Computing Krippendorff's alpha-reliability.\" (2011).\n",
    "3. Krippendorff, Klaus. Content analysis: An introduction to its methodology. Sage publications, 2018."
   ]
  },
  {
   "cell_type": "code",
   "execution_count": 10,
   "metadata": {},
   "outputs": [
    {
     "data": {
      "text/plain": [
       "0.7312805955919376"
      ]
     },
     "execution_count": 10,
     "metadata": {},
     "output_type": "execute_result"
    }
   ],
   "source": [
    "krippendorff_alpha((data.reasonCode1, data.reasonCode2), metric=masi_distance, convert_items=lambda x: set(x.split(\",\")))"
   ]
  },
  {
   "cell_type": "code",
   "execution_count": 11,
   "metadata": {},
   "outputs": [
    {
     "data": {
      "text/plain": [
       "0.8022281178355536"
      ]
     },
     "execution_count": 11,
     "metadata": {},
     "output_type": "execute_result"
    }
   ],
   "source": [
    "krippendorff_alpha((data.theme1, data.theme2), metric=masi_distance, convert_items=lambda x: set(x.split(\",\")))"
   ]
  },
  {
   "cell_type": "code",
   "execution_count": 7,
   "metadata": {},
   "outputs": [],
   "source": [
    "# coding.to_excel(\"tmp.xlsx\", index=False)"
   ]
  },
  {
   "cell_type": "code",
   "execution_count": 23,
   "metadata": {},
   "outputs": [
    {
     "name": "stdout",
     "output_type": "stream",
     "text": [
      "other                      21/420 (5.00%)   24/42 (57.14%)\n",
      "project                   188/420 (44.76%)   102/277 (36.82%)\n",
      "project:integration       125/420 (29.76%)   90/207 (43.48%)\n",
      "project:license            22/420 (5.24%)   4/20 (20.00%)\n",
      "project:organizational      5/420 (1.19%)   9/12 (75.00%)\n",
      "project:simplification     53/420 (12.62%)   21/81 (25.93%)\n",
      "source                    135/420 (32.14%)   68/135 (50.37%)\n",
      "source:deprecation         77/420 (18.33%)   25/54 (46.30%)\n",
      "source:issue               41/420 (9.76%)   35/71 (49.30%)\n",
      "source:vulnerability       26/420 (6.19%)   27/40 (67.50%)\n",
      "target                    166/420 (39.52%)   77/247 (31.17%)\n",
      "target:activity             6/420 (1.43%)   0/5 (0.00%)\n",
      "target:feature             57/420 (13.57%)   53/125 (42.40%)\n",
      "target:performance         28/420 (6.67%)   7/32 (21.88%)\n",
      "target:popularity           9/420 (2.14%)   11/17 (64.71%)\n",
      "target:size                10/420 (2.38%)   0/10 (0.00%)\n",
      "target:stability            8/420 (1.90%)   3/8 (37.50%)\n",
      "target:usability           76/420 (18.10%)   20/95 (21.05%)\n",
      "undecided                   8/420 (1.90%)   4/14 (28.57%)\n"
     ]
    }
   ],
   "source": [
    "rule2type = pd.read_csv(\"data/rules_typed.csv\")\n",
    "rule2type = {(row.fromLib, row.toLib): row.type for idx, row in rule2type.iterrows()}\n",
    "theme2repos = defaultdict(set)\n",
    "theme2rules = defaultdict(set)\n",
    "for link, from_lib, to_lib, themes in zip(coding.link, coding.fromLib, coding.toLib, coding.finalTheme):\n",
    "    if themes == \"\":\n",
    "        continue\n",
    "    for theme in themes.split(\",\"):\n",
    "        theme2repos[theme].add(link.split(\"/\")[3] + \"/\" + link.split(\"/\")[4])\n",
    "    for i, l1 in enumerate(from_lib.split(\"\\n\")):\n",
    "        theme2rules[theme].add((l1, to_lib.split(\"\\n\")[i]))\n",
    "    for theme in themes.split(\",\"):\n",
    "        theme2repos[theme.split(\":\")[0]].add(link.split(\"/\")[3] + \"/\" + link.split(\"/\")[4])\n",
    "    for i, l1 in enumerate(from_lib.split(\"\\n\")):\n",
    "        theme2rules[theme.split(\":\")[0]].add((l1, to_lib.split(\"\\n\")[i]))\n",
    "all_repos = set.union(*theme2repos.values())\n",
    "for theme in sorted(theme2repos.keys()):\n",
    "    rename_rules = [x for x in theme2rules[theme] if x in rule2type and \"rename\" in rule2type[x]]\n",
    "    # print(rename_rules)\n",
    "    print(f\"{theme:25} {len(theme2repos[theme]):3}/{len(all_repos):3} ({len(theme2repos[theme]) / len(all_repos) * 100:.2f}%)\" +\n",
    "         f\"   {len(rename_rules)}/{len(theme2rules[theme])} ({len(rename_rules)/len(theme2rules[theme]) * 100:.2f}%)\")\n",
    "    "
   ]
  },
  {
   "cell_type": "code",
   "execution_count": null,
   "metadata": {},
   "outputs": [],
   "source": []
  }
 ],
 "metadata": {
  "kernelspec": {
   "display_name": "Python 3",
   "language": "python",
   "name": "python3"
  },
  "language_info": {
   "codemirror_mode": {
    "name": "ipython",
    "version": 3
   },
   "file_extension": ".py",
   "mimetype": "text/x-python",
   "name": "python",
   "nbconvert_exporter": "python",
   "pygments_lexer": "ipython3",
   "version": "3.8.5"
  }
 },
 "nbformat": 4,
 "nbformat_minor": 4
}
