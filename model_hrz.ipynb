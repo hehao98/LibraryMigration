{
 "cells": [
  {
   "cell_type": "code",
   "execution_count": 1,
   "metadata": {},
   "outputs": [],
   "source": [
    "from datetime import datetime\n",
    "import pymongo\n",
    "import pytz\n",
    "import pandas as pd\n",
    "from dateutil.parser import parse as dateParser\n",
    "import datautil\n",
    "import re\n",
    "import numpy as np\n",
    "import sys\n",
    "import matplotlib.pyplot as plt\n",
    "from typing import List, Set\n",
    "import csv\n",
    "import os\n",
    "from tqdm.auto import tqdm   # progress bar keeps human being happy\n",
    "import multiprocessing as mp"
   ]
  },
  {
   "cell_type": "code",
   "execution_count": 6,
   "metadata": {},
   "outputs": [
    {
     "output_type": "execute_result",
     "data": {
      "text/plain": [
       "Database(MongoClient(host=['127.0.0.1:27017'], document_class=dict, tz_aware=False, connect=True), 'libraries')"
      ]
     },
     "metadata": {},
     "execution_count": 6
    }
   ],
   "source": [
    "# cache\n",
    "CACHE_DIR = \"cache/\"\n",
    "if not os.path.exists(CACHE_DIR):\n",
    "    os.mkdir(CACHE_DIR)\n",
    "# connect to mongodb\n",
    "MONGO_URL = \"mongodb://127.0.0.1:27017\"\n",
    "db = pymongo.MongoClient(MONGO_URL, connect=False).migration_helper\n",
    "raw_db = pymongo.MongoClient(MONGO_URL).libraries\n",
    "raw_db"
   ]
  },
  {
   "cell_type": "code",
   "execution_count": 3,
   "metadata": {},
   "outputs": [
    {
     "ename": "KeyboardInterrupt",
     "evalue": "",
     "output_type": "error",
     "traceback": [
      "\u001b[0;31m---------------------------------------------------------------------------\u001b[0m",
      "\u001b[0;31mKeyboardInterrupt\u001b[0m                         Traceback (most recent call last)",
      "\u001b[0;32m<ipython-input-3-09003d0457d0>\u001b[0m in \u001b[0;36m<module>\u001b[0;34m\u001b[0m\n\u001b[1;32m      2\u001b[0m \u001b[0;32mimport\u001b[0m \u001b[0mdatautil\u001b[0m\u001b[0;34m\u001b[0m\u001b[0;34m\u001b[0m\u001b[0m\n\u001b[1;32m      3\u001b[0m \u001b[0;32mimport\u001b[0m \u001b[0mpandas\u001b[0m \u001b[0;32mas\u001b[0m \u001b[0mpd\u001b[0m\u001b[0;34m\u001b[0m\u001b[0;34m\u001b[0m\u001b[0m\n\u001b[0;32m----> 4\u001b[0;31m \u001b[0mdep_change\u001b[0m \u001b[0;34m=\u001b[0m \u001b[0mdatautil\u001b[0m\u001b[0;34m.\u001b[0m\u001b[0mselect_dependency_changes_all\u001b[0m\u001b[0;34m(\u001b[0m\u001b[0;34m)\u001b[0m\u001b[0;34m\u001b[0m\u001b[0;34m\u001b[0m\u001b[0m\n\u001b[0m\u001b[1;32m      5\u001b[0m \u001b[0mprint\u001b[0m\u001b[0;34m(\u001b[0m\u001b[0mlen\u001b[0m\u001b[0;34m(\u001b[0m\u001b[0mdep_change\u001b[0m\u001b[0;34m)\u001b[0m\u001b[0;34m)\u001b[0m\u001b[0;34m\u001b[0m\u001b[0;34m\u001b[0m\u001b[0m\n",
      "\u001b[0;32m~/LibraryMigration/datautil.py\u001b[0m in \u001b[0;36mselect_dependency_changes_all\u001b[0;34m(lib_names)\u001b[0m\n\u001b[1;32m    138\u001b[0m     \u001b[0;34m\"\"\"If lib_names is not None, only keep dependency changes if both libraries are in the lib_names\"\"\"\u001b[0m\u001b[0;34m\u001b[0m\u001b[0;34m\u001b[0m\u001b[0m\n\u001b[1;32m    139\u001b[0m     \u001b[0;32mif\u001b[0m \u001b[0mos\u001b[0m\u001b[0;34m.\u001b[0m\u001b[0mpath\u001b[0m\u001b[0;34m.\u001b[0m\u001b[0mexists\u001b[0m\u001b[0;34m(\u001b[0m\u001b[0mos\u001b[0m\u001b[0;34m.\u001b[0m\u001b[0mpath\u001b[0m\u001b[0;34m.\u001b[0m\u001b[0mjoin\u001b[0m\u001b[0;34m(\u001b[0m\u001b[0mCACHE_DIR\u001b[0m\u001b[0;34m,\u001b[0m \u001b[0;34m\"depchgs.csv\"\u001b[0m\u001b[0;34m)\u001b[0m\u001b[0;34m)\u001b[0m\u001b[0;34m:\u001b[0m\u001b[0;34m\u001b[0m\u001b[0;34m\u001b[0m\u001b[0m\n\u001b[0;32m--> 140\u001b[0;31m         \u001b[0mdep_changes\u001b[0m \u001b[0;34m=\u001b[0m \u001b[0mpd\u001b[0m\u001b[0;34m.\u001b[0m\u001b[0mread_csv\u001b[0m\u001b[0;34m(\u001b[0m\u001b[0mos\u001b[0m\u001b[0;34m.\u001b[0m\u001b[0mpath\u001b[0m\u001b[0;34m.\u001b[0m\u001b[0mjoin\u001b[0m\u001b[0;34m(\u001b[0m\u001b[0mCACHE_DIR\u001b[0m\u001b[0;34m,\u001b[0m \u001b[0;34m\"depchgs.csv\"\u001b[0m\u001b[0;34m)\u001b[0m\u001b[0;34m,\u001b[0m \u001b[0mlow_memory\u001b[0m\u001b[0;34m=\u001b[0m\u001b[0;32mFalse\u001b[0m\u001b[0;34m)\u001b[0m\u001b[0;34m\u001b[0m\u001b[0;34m\u001b[0m\u001b[0m\n\u001b[0m\u001b[1;32m    141\u001b[0m     \u001b[0;32melse\u001b[0m\u001b[0;34m:\u001b[0m\u001b[0;34m\u001b[0m\u001b[0;34m\u001b[0m\u001b[0m\n\u001b[1;32m    142\u001b[0m         \u001b[0mprojects\u001b[0m \u001b[0;34m=\u001b[0m \u001b[0mselect_projects_from_libraries_io\u001b[0m\u001b[0;34m(\u001b[0m\u001b[0;34m)\u001b[0m\u001b[0;34m\u001b[0m\u001b[0;34m\u001b[0m\u001b[0m\n",
      "\u001b[0;32m~/miniconda3/lib/python3.8/site-packages/pandas/io/parsers.py\u001b[0m in \u001b[0;36mread_csv\u001b[0;34m(filepath_or_buffer, sep, delimiter, header, names, index_col, usecols, squeeze, prefix, mangle_dupe_cols, dtype, engine, converters, true_values, false_values, skipinitialspace, skiprows, skipfooter, nrows, na_values, keep_default_na, na_filter, verbose, skip_blank_lines, parse_dates, infer_datetime_format, keep_date_col, date_parser, dayfirst, cache_dates, iterator, chunksize, compression, thousands, decimal, lineterminator, quotechar, quoting, doublequote, escapechar, comment, encoding, dialect, error_bad_lines, warn_bad_lines, delim_whitespace, low_memory, memory_map, float_precision, storage_options)\u001b[0m\n\u001b[1;32m    603\u001b[0m     \u001b[0mkwds\u001b[0m\u001b[0;34m.\u001b[0m\u001b[0mupdate\u001b[0m\u001b[0;34m(\u001b[0m\u001b[0mkwds_defaults\u001b[0m\u001b[0;34m)\u001b[0m\u001b[0;34m\u001b[0m\u001b[0;34m\u001b[0m\u001b[0m\n\u001b[1;32m    604\u001b[0m \u001b[0;34m\u001b[0m\u001b[0m\n\u001b[0;32m--> 605\u001b[0;31m     \u001b[0;32mreturn\u001b[0m \u001b[0m_read\u001b[0m\u001b[0;34m(\u001b[0m\u001b[0mfilepath_or_buffer\u001b[0m\u001b[0;34m,\u001b[0m \u001b[0mkwds\u001b[0m\u001b[0;34m)\u001b[0m\u001b[0;34m\u001b[0m\u001b[0;34m\u001b[0m\u001b[0m\n\u001b[0m\u001b[1;32m    606\u001b[0m \u001b[0;34m\u001b[0m\u001b[0m\n\u001b[1;32m    607\u001b[0m \u001b[0;34m\u001b[0m\u001b[0m\n",
      "\u001b[0;32m~/miniconda3/lib/python3.8/site-packages/pandas/io/parsers.py\u001b[0m in \u001b[0;36m_read\u001b[0;34m(filepath_or_buffer, kwds)\u001b[0m\n\u001b[1;32m    461\u001b[0m \u001b[0;34m\u001b[0m\u001b[0m\n\u001b[1;32m    462\u001b[0m     \u001b[0;32mwith\u001b[0m \u001b[0mparser\u001b[0m\u001b[0;34m:\u001b[0m\u001b[0;34m\u001b[0m\u001b[0;34m\u001b[0m\u001b[0m\n\u001b[0;32m--> 463\u001b[0;31m         \u001b[0;32mreturn\u001b[0m \u001b[0mparser\u001b[0m\u001b[0;34m.\u001b[0m\u001b[0mread\u001b[0m\u001b[0;34m(\u001b[0m\u001b[0mnrows\u001b[0m\u001b[0;34m)\u001b[0m\u001b[0;34m\u001b[0m\u001b[0;34m\u001b[0m\u001b[0m\n\u001b[0m\u001b[1;32m    464\u001b[0m \u001b[0;34m\u001b[0m\u001b[0m\n\u001b[1;32m    465\u001b[0m \u001b[0;34m\u001b[0m\u001b[0m\n",
      "\u001b[0;32m~/miniconda3/lib/python3.8/site-packages/pandas/io/parsers.py\u001b[0m in \u001b[0;36mread\u001b[0;34m(self, nrows)\u001b[0m\n\u001b[1;32m   1050\u001b[0m     \u001b[0;32mdef\u001b[0m \u001b[0mread\u001b[0m\u001b[0;34m(\u001b[0m\u001b[0mself\u001b[0m\u001b[0;34m,\u001b[0m \u001b[0mnrows\u001b[0m\u001b[0;34m=\u001b[0m\u001b[0;32mNone\u001b[0m\u001b[0;34m)\u001b[0m\u001b[0;34m:\u001b[0m\u001b[0;34m\u001b[0m\u001b[0;34m\u001b[0m\u001b[0m\n\u001b[1;32m   1051\u001b[0m         \u001b[0mnrows\u001b[0m \u001b[0;34m=\u001b[0m \u001b[0mvalidate_integer\u001b[0m\u001b[0;34m(\u001b[0m\u001b[0;34m\"nrows\"\u001b[0m\u001b[0;34m,\u001b[0m \u001b[0mnrows\u001b[0m\u001b[0;34m)\u001b[0m\u001b[0;34m\u001b[0m\u001b[0;34m\u001b[0m\u001b[0m\n\u001b[0;32m-> 1052\u001b[0;31m         \u001b[0mindex\u001b[0m\u001b[0;34m,\u001b[0m \u001b[0mcolumns\u001b[0m\u001b[0;34m,\u001b[0m \u001b[0mcol_dict\u001b[0m \u001b[0;34m=\u001b[0m \u001b[0mself\u001b[0m\u001b[0;34m.\u001b[0m\u001b[0m_engine\u001b[0m\u001b[0;34m.\u001b[0m\u001b[0mread\u001b[0m\u001b[0;34m(\u001b[0m\u001b[0mnrows\u001b[0m\u001b[0;34m)\u001b[0m\u001b[0;34m\u001b[0m\u001b[0;34m\u001b[0m\u001b[0m\n\u001b[0m\u001b[1;32m   1053\u001b[0m \u001b[0;34m\u001b[0m\u001b[0m\n\u001b[1;32m   1054\u001b[0m         \u001b[0;32mif\u001b[0m \u001b[0mindex\u001b[0m \u001b[0;32mis\u001b[0m \u001b[0;32mNone\u001b[0m\u001b[0;34m:\u001b[0m\u001b[0;34m\u001b[0m\u001b[0;34m\u001b[0m\u001b[0m\n",
      "\u001b[0;32m~/miniconda3/lib/python3.8/site-packages/pandas/io/parsers.py\u001b[0m in \u001b[0;36mread\u001b[0;34m(self, nrows)\u001b[0m\n\u001b[1;32m   2054\u001b[0m     \u001b[0;32mdef\u001b[0m \u001b[0mread\u001b[0m\u001b[0;34m(\u001b[0m\u001b[0mself\u001b[0m\u001b[0;34m,\u001b[0m \u001b[0mnrows\u001b[0m\u001b[0;34m=\u001b[0m\u001b[0;32mNone\u001b[0m\u001b[0;34m)\u001b[0m\u001b[0;34m:\u001b[0m\u001b[0;34m\u001b[0m\u001b[0;34m\u001b[0m\u001b[0m\n\u001b[1;32m   2055\u001b[0m         \u001b[0;32mtry\u001b[0m\u001b[0;34m:\u001b[0m\u001b[0;34m\u001b[0m\u001b[0;34m\u001b[0m\u001b[0m\n\u001b[0;32m-> 2056\u001b[0;31m             \u001b[0mdata\u001b[0m \u001b[0;34m=\u001b[0m \u001b[0mself\u001b[0m\u001b[0;34m.\u001b[0m\u001b[0m_reader\u001b[0m\u001b[0;34m.\u001b[0m\u001b[0mread\u001b[0m\u001b[0;34m(\u001b[0m\u001b[0mnrows\u001b[0m\u001b[0;34m)\u001b[0m\u001b[0;34m\u001b[0m\u001b[0;34m\u001b[0m\u001b[0m\n\u001b[0m\u001b[1;32m   2057\u001b[0m         \u001b[0;32mexcept\u001b[0m \u001b[0mStopIteration\u001b[0m\u001b[0;34m:\u001b[0m\u001b[0;34m\u001b[0m\u001b[0;34m\u001b[0m\u001b[0m\n\u001b[1;32m   2058\u001b[0m             \u001b[0;32mif\u001b[0m \u001b[0mself\u001b[0m\u001b[0;34m.\u001b[0m\u001b[0m_first_chunk\u001b[0m\u001b[0;34m:\u001b[0m\u001b[0;34m\u001b[0m\u001b[0;34m\u001b[0m\u001b[0m\n",
      "\u001b[0;32mpandas/_libs/parsers.pyx\u001b[0m in \u001b[0;36mpandas._libs.parsers.TextReader.read\u001b[0;34m()\u001b[0m\n",
      "\u001b[0;32mpandas/_libs/parsers.pyx\u001b[0m in \u001b[0;36mpandas._libs.parsers.TextReader._read_rows\u001b[0;34m()\u001b[0m\n",
      "\u001b[0;32mpandas/_libs/parsers.pyx\u001b[0m in \u001b[0;36mpandas._libs.parsers.TextReader._convert_column_data\u001b[0;34m()\u001b[0m\n",
      "\u001b[0;32mpandas/_libs/parsers.pyx\u001b[0m in \u001b[0;36mpandas._libs.parsers.TextReader._convert_tokens\u001b[0;34m()\u001b[0m\n",
      "\u001b[0;32mpandas/_libs/parsers.pyx\u001b[0m in \u001b[0;36mpandas._libs.parsers.TextReader._convert_with_dtype\u001b[0;34m()\u001b[0m\n",
      "\u001b[0;32m~/miniconda3/lib/python3.8/site-packages/pandas/core/dtypes/common.py\u001b[0m in \u001b[0;36mis_categorical_dtype\u001b[0;34m(arr_or_dtype)\u001b[0m\n\u001b[1;32m    535\u001b[0m \u001b[0;34m\u001b[0m\u001b[0m\n\u001b[1;32m    536\u001b[0m \u001b[0;34m\u001b[0m\u001b[0m\n\u001b[0;32m--> 537\u001b[0;31m \u001b[0;32mdef\u001b[0m \u001b[0mis_categorical_dtype\u001b[0m\u001b[0;34m(\u001b[0m\u001b[0marr_or_dtype\u001b[0m\u001b[0;34m)\u001b[0m \u001b[0;34m->\u001b[0m \u001b[0mbool\u001b[0m\u001b[0;34m:\u001b[0m\u001b[0;34m\u001b[0m\u001b[0;34m\u001b[0m\u001b[0m\n\u001b[0m\u001b[1;32m    538\u001b[0m     \"\"\"\n\u001b[1;32m    539\u001b[0m     \u001b[0mCheck\u001b[0m \u001b[0mwhether\u001b[0m \u001b[0man\u001b[0m \u001b[0marray\u001b[0m\u001b[0;34m-\u001b[0m\u001b[0mlike\u001b[0m \u001b[0;32mor\u001b[0m \u001b[0mdtype\u001b[0m \u001b[0;32mis\u001b[0m \u001b[0mof\u001b[0m \u001b[0mthe\u001b[0m \u001b[0mCategorical\u001b[0m \u001b[0mdtype\u001b[0m\u001b[0;34m.\u001b[0m\u001b[0;34m\u001b[0m\u001b[0;34m\u001b[0m\u001b[0m\n",
      "\u001b[0;31mKeyboardInterrupt\u001b[0m: "
     ]
    }
   ],
   "source": [
    "# saving migration_changes.csv: too big for the repo\n",
    "if not os.path.exists('cache/migration_changes.csv.csv'):\n",
    "    import datautil\n",
    "    import pandas as pd\n",
    "    dep_change = datautil.select_dependency_changes_all()\n",
    "    print(len(dep_change))"
   ]
  },
  {
   "cell_type": "code",
   "execution_count": 26,
   "metadata": {},
   "outputs": [
    {
     "output_type": "execute_result",
     "data": {
      "text/plain": [
       "         Unnamed: 0  Unnamed: 0.1                             project  \\\n",
       "38154         38154         38154                    eugenp/tutorials   \n",
       "45081         45081         45081                 SeleniumHQ/selenium   \n",
       "45139         45139         45139                 SeleniumHQ/selenium   \n",
       "45201         45201         45201                 SeleniumHQ/selenium   \n",
       "45204         45204         45204                 SeleniumHQ/selenium   \n",
       "...             ...           ...                                 ...   \n",
       "3308454     3308454       3308454                       myabc/appfuse   \n",
       "3308672     3308672       3308672  emmanuelbernard/hibernate-core-ogm   \n",
       "3308701     3308701       3308701  emmanuelbernard/hibernate-core-ogm   \n",
       "3308719     3308719       3308719  emmanuelbernard/hibernate-core-ogm   \n",
       "3309168     3309168       3309168                     gritchou/Ulysse   \n",
       "\n",
       "                                           commit  \\\n",
       "38154    e85ec983d1c38dd41bfa566247671d9b5ea60e19   \n",
       "45081    d195553b17713fa47551942d9601d5af990e175f   \n",
       "45139    0f1cc1f7e1e50383c83ff432f5918f27568b0a50   \n",
       "45201    0973e11b4228a50c3a84bed37a7ff2aa7368d0cb   \n",
       "45204    d195553b17713fa47551942d9601d5af990e175f   \n",
       "...                                           ...   \n",
       "3308454  7773d03a7ae542b82ce03565d484532b2bf4fc90   \n",
       "3308672  d8d6d82e30960e0c255950eaf875ad48831b12b0   \n",
       "3308701  a797998927e2cbba9ec34ca7dc31b42a192fa2f1   \n",
       "3308719  835ae2c0bfbbf6bdf2c4ea2d9d1b7619d02cb1c4   \n",
       "3309168  8daf9044fe2e0b71b2c37e3b1e56b1f9cb92f3f4   \n",
       "\n",
       "                                                      file    type     lib1  \\\n",
       "38154    servlet-jsp-lihongjie/apache-tomcat-7.0.82-src...     add        ?   \n",
       "45081                                              pom.xml     add        ?   \n",
       "45139                                remote/server/pom.xml     add        ?   \n",
       "45201                              server-coreless/pom.xml     add        ?   \n",
       "45204                              server-coreless/pom.xml  verchg  ant:ant   \n",
       "...                                                    ...     ...      ...   \n",
       "3308454                                 web/common/pom.xml  verchg  ant:ant   \n",
       "3308672                                  code/core/pom.xml     add        ?   \n",
       "3308701                                       core/pom.xml     add        ?   \n",
       "3308719                               distribution/pom.xml     add        ?   \n",
       "3309168  factory/factory-service-bugtracker/src/main/li...     add        ?   \n",
       "\n",
       "            lib2   ver1            ver2  is_in_woc                       time  \n",
       "38154    ant:ant      ?           1.7.0       True  2018-03-06 14:58:39+00:00  \n",
       "45081    ant:ant      ?           1.6.5       True  2007-03-24 17:33:17+00:00  \n",
       "45139    ant:ant      ?           1.6.5       True  2009-12-10 12:16:05+00:00  \n",
       "45201    ant:ant      ?           1.6.5       True  2006-11-03 18:51:08+00:00  \n",
       "45204    ant:ant  1.6.5               ?       True  2007-03-24 17:33:17+00:00  \n",
       "...          ...    ...             ...        ...                        ...  \n",
       "3308454  ant:ant  1.6.5  ${ant.version}       True  2006-10-05 05:56:30+00:00  \n",
       "3308672  ant:ant      ?           1.6.5       True  2007-06-29 19:23:45+00:00  \n",
       "3308701  ant:ant      ?           1.6.5       True  2007-07-17 03:15:03+00:00  \n",
       "3308719  ant:ant      ?           1.6.5       True  2010-04-07 22:46:58+00:00  \n",
       "3309168  ant:ant      ?           1.7.0       True  2009-10-14 21:49:05+00:00  \n",
       "\n",
       "[828 rows x 12 columns]"
      ],
      "text/html": "<div>\n<style scoped>\n    .dataframe tbody tr th:only-of-type {\n        vertical-align: middle;\n    }\n\n    .dataframe tbody tr th {\n        vertical-align: top;\n    }\n\n    .dataframe thead th {\n        text-align: right;\n    }\n</style>\n<table border=\"1\" class=\"dataframe\">\n  <thead>\n    <tr style=\"text-align: right;\">\n      <th></th>\n      <th>Unnamed: 0</th>\n      <th>Unnamed: 0.1</th>\n      <th>project</th>\n      <th>commit</th>\n      <th>file</th>\n      <th>type</th>\n      <th>lib1</th>\n      <th>lib2</th>\n      <th>ver1</th>\n      <th>ver2</th>\n      <th>is_in_woc</th>\n      <th>time</th>\n    </tr>\n  </thead>\n  <tbody>\n    <tr>\n      <th>38154</th>\n      <td>38154</td>\n      <td>38154</td>\n      <td>eugenp/tutorials</td>\n      <td>e85ec983d1c38dd41bfa566247671d9b5ea60e19</td>\n      <td>servlet-jsp-lihongjie/apache-tomcat-7.0.82-src...</td>\n      <td>add</td>\n      <td>?</td>\n      <td>ant:ant</td>\n      <td>?</td>\n      <td>1.7.0</td>\n      <td>True</td>\n      <td>2018-03-06 14:58:39+00:00</td>\n    </tr>\n    <tr>\n      <th>45081</th>\n      <td>45081</td>\n      <td>45081</td>\n      <td>SeleniumHQ/selenium</td>\n      <td>d195553b17713fa47551942d9601d5af990e175f</td>\n      <td>pom.xml</td>\n      <td>add</td>\n      <td>?</td>\n      <td>ant:ant</td>\n      <td>?</td>\n      <td>1.6.5</td>\n      <td>True</td>\n      <td>2007-03-24 17:33:17+00:00</td>\n    </tr>\n    <tr>\n      <th>45139</th>\n      <td>45139</td>\n      <td>45139</td>\n      <td>SeleniumHQ/selenium</td>\n      <td>0f1cc1f7e1e50383c83ff432f5918f27568b0a50</td>\n      <td>remote/server/pom.xml</td>\n      <td>add</td>\n      <td>?</td>\n      <td>ant:ant</td>\n      <td>?</td>\n      <td>1.6.5</td>\n      <td>True</td>\n      <td>2009-12-10 12:16:05+00:00</td>\n    </tr>\n    <tr>\n      <th>45201</th>\n      <td>45201</td>\n      <td>45201</td>\n      <td>SeleniumHQ/selenium</td>\n      <td>0973e11b4228a50c3a84bed37a7ff2aa7368d0cb</td>\n      <td>server-coreless/pom.xml</td>\n      <td>add</td>\n      <td>?</td>\n      <td>ant:ant</td>\n      <td>?</td>\n      <td>1.6.5</td>\n      <td>True</td>\n      <td>2006-11-03 18:51:08+00:00</td>\n    </tr>\n    <tr>\n      <th>45204</th>\n      <td>45204</td>\n      <td>45204</td>\n      <td>SeleniumHQ/selenium</td>\n      <td>d195553b17713fa47551942d9601d5af990e175f</td>\n      <td>server-coreless/pom.xml</td>\n      <td>verchg</td>\n      <td>ant:ant</td>\n      <td>ant:ant</td>\n      <td>1.6.5</td>\n      <td>?</td>\n      <td>True</td>\n      <td>2007-03-24 17:33:17+00:00</td>\n    </tr>\n    <tr>\n      <th>...</th>\n      <td>...</td>\n      <td>...</td>\n      <td>...</td>\n      <td>...</td>\n      <td>...</td>\n      <td>...</td>\n      <td>...</td>\n      <td>...</td>\n      <td>...</td>\n      <td>...</td>\n      <td>...</td>\n      <td>...</td>\n    </tr>\n    <tr>\n      <th>3308454</th>\n      <td>3308454</td>\n      <td>3308454</td>\n      <td>myabc/appfuse</td>\n      <td>7773d03a7ae542b82ce03565d484532b2bf4fc90</td>\n      <td>web/common/pom.xml</td>\n      <td>verchg</td>\n      <td>ant:ant</td>\n      <td>ant:ant</td>\n      <td>1.6.5</td>\n      <td>${ant.version}</td>\n      <td>True</td>\n      <td>2006-10-05 05:56:30+00:00</td>\n    </tr>\n    <tr>\n      <th>3308672</th>\n      <td>3308672</td>\n      <td>3308672</td>\n      <td>emmanuelbernard/hibernate-core-ogm</td>\n      <td>d8d6d82e30960e0c255950eaf875ad48831b12b0</td>\n      <td>code/core/pom.xml</td>\n      <td>add</td>\n      <td>?</td>\n      <td>ant:ant</td>\n      <td>?</td>\n      <td>1.6.5</td>\n      <td>True</td>\n      <td>2007-06-29 19:23:45+00:00</td>\n    </tr>\n    <tr>\n      <th>3308701</th>\n      <td>3308701</td>\n      <td>3308701</td>\n      <td>emmanuelbernard/hibernate-core-ogm</td>\n      <td>a797998927e2cbba9ec34ca7dc31b42a192fa2f1</td>\n      <td>core/pom.xml</td>\n      <td>add</td>\n      <td>?</td>\n      <td>ant:ant</td>\n      <td>?</td>\n      <td>1.6.5</td>\n      <td>True</td>\n      <td>2007-07-17 03:15:03+00:00</td>\n    </tr>\n    <tr>\n      <th>3308719</th>\n      <td>3308719</td>\n      <td>3308719</td>\n      <td>emmanuelbernard/hibernate-core-ogm</td>\n      <td>835ae2c0bfbbf6bdf2c4ea2d9d1b7619d02cb1c4</td>\n      <td>distribution/pom.xml</td>\n      <td>add</td>\n      <td>?</td>\n      <td>ant:ant</td>\n      <td>?</td>\n      <td>1.6.5</td>\n      <td>True</td>\n      <td>2010-04-07 22:46:58+00:00</td>\n    </tr>\n    <tr>\n      <th>3309168</th>\n      <td>3309168</td>\n      <td>3309168</td>\n      <td>gritchou/Ulysse</td>\n      <td>8daf9044fe2e0b71b2c37e3b1e56b1f9cb92f3f4</td>\n      <td>factory/factory-service-bugtracker/src/main/li...</td>\n      <td>add</td>\n      <td>?</td>\n      <td>ant:ant</td>\n      <td>?</td>\n      <td>1.7.0</td>\n      <td>True</td>\n      <td>2009-10-14 21:49:05+00:00</td>\n    </tr>\n  </tbody>\n</table>\n<p>828 rows × 12 columns</p>\n</div>"
     },
     "metadata": {},
     "execution_count": 26
    }
   ],
   "source": [
    "dep_change[dep_change['lib2']=='ant:ant']"
   ]
  },
  {
   "cell_type": "code",
   "execution_count": 27,
   "metadata": {
    "tags": []
   },
   "outputs": [
    {
     "output_type": "display_data",
     "data": {
      "text/plain": "HBox(children=(HTML(value=''), FloatProgress(value=0.0, max=3329249.0), HTML(value='')))",
      "application/vnd.jupyter.widget-view+json": {
       "version_major": 2,
       "version_minor": 0,
       "model_id": "e4552a39071741189233836f149cfd9d"
      }
     },
     "metadata": {}
    },
    {
     "output_type": "stream",
     "name": "stdout",
     "text": [
      "\n"
     ]
    },
    {
     "output_type": "error",
     "ename": "KeyboardInterrupt",
     "evalue": "",
     "traceback": [
      "\u001b[0;31m---------------------------------------------------------------------------\u001b[0m",
      "\u001b[0;31mKeyboardInterrupt\u001b[0m                         Traceback (most recent call last)",
      "\u001b[0;32m<ipython-input-27-ef4f18931d9b>\u001b[0m in \u001b[0;36m<module>\u001b[0;34m\u001b[0m\n\u001b[1;32m     17\u001b[0m \u001b[0;31m# going with single thread anyway\u001b[0m\u001b[0;34m\u001b[0m\u001b[0;34m\u001b[0m\u001b[0;34m\u001b[0m\u001b[0m\n\u001b[1;32m     18\u001b[0m \u001b[0;32mfor\u001b[0m \u001b[0;34m(\u001b[0m\u001b[0mindex\u001b[0m\u001b[0;34m,\u001b[0m \u001b[0mcommit\u001b[0m\u001b[0;34m)\u001b[0m \u001b[0;32min\u001b[0m \u001b[0mtqdm\u001b[0m\u001b[0;34m(\u001b[0m\u001b[0mlist\u001b[0m\u001b[0;34m(\u001b[0m\u001b[0menumerate\u001b[0m\u001b[0;34m(\u001b[0m\u001b[0mdep_change\u001b[0m\u001b[0;34m[\u001b[0m\u001b[0;34m'commit'\u001b[0m\u001b[0;34m]\u001b[0m\u001b[0;34m)\u001b[0m\u001b[0;34m)\u001b[0m\u001b[0;34m)\u001b[0m\u001b[0;34m:\u001b[0m\u001b[0;34m\u001b[0m\u001b[0;34m\u001b[0m\u001b[0m\n\u001b[0;32m---> 19\u001b[0;31m     \u001b[0mc\u001b[0m \u001b[0;34m=\u001b[0m \u001b[0mdb\u001b[0m\u001b[0;34m.\u001b[0m\u001b[0mwocCommit\u001b[0m\u001b[0;34m.\u001b[0m\u001b[0mfind_one\u001b[0m\u001b[0;34m(\u001b[0m\u001b[0;34m{\u001b[0m\u001b[0;34m\"_id\"\u001b[0m\u001b[0;34m:\u001b[0m \u001b[0mcommit\u001b[0m\u001b[0;34m}\u001b[0m\u001b[0;34m)\u001b[0m\u001b[0;34m\u001b[0m\u001b[0;34m\u001b[0m\u001b[0m\n\u001b[0m\u001b[1;32m     20\u001b[0m     \u001b[0mdep_change\u001b[0m\u001b[0;34m.\u001b[0m\u001b[0mat\u001b[0m\u001b[0;34m[\u001b[0m\u001b[0mindex\u001b[0m\u001b[0;34m,\u001b[0m \u001b[0;34m'is_in_woc'\u001b[0m\u001b[0;34m]\u001b[0m \u001b[0;34m=\u001b[0m \u001b[0;32mTrue\u001b[0m \u001b[0;32mif\u001b[0m \u001b[0mc\u001b[0m \u001b[0;32melse\u001b[0m \u001b[0;32mFalse\u001b[0m\u001b[0;34m\u001b[0m\u001b[0;34m\u001b[0m\u001b[0m\n\u001b[1;32m     21\u001b[0m     \u001b[0mdep_change\u001b[0m\u001b[0;34m.\u001b[0m\u001b[0mat\u001b[0m\u001b[0;34m[\u001b[0m\u001b[0mindex\u001b[0m\u001b[0;34m,\u001b[0m \u001b[0;34m'time'\u001b[0m\u001b[0;34m]\u001b[0m \u001b[0;34m=\u001b[0m \u001b[0mc\u001b[0m\u001b[0;34m[\u001b[0m\u001b[0;34m'timestamp'\u001b[0m\u001b[0;34m]\u001b[0m\u001b[0;34m.\u001b[0m\u001b[0mreplace\u001b[0m\u001b[0;34m(\u001b[0m\u001b[0mtzinfo\u001b[0m\u001b[0;34m=\u001b[0m\u001b[0mpytz\u001b[0m\u001b[0;34m.\u001b[0m\u001b[0mtimezone\u001b[0m\u001b[0;34m(\u001b[0m\u001b[0;34m'UTC'\u001b[0m\u001b[0;34m)\u001b[0m\u001b[0;34m)\u001b[0m\u001b[0;34m\u001b[0m\u001b[0;34m\u001b[0m\u001b[0m\n",
      "\u001b[0;32m~/miniconda3/lib/python3.8/site-packages/pymongo/collection.py\u001b[0m in \u001b[0;36mfind_one\u001b[0;34m(self, filter, *args, **kwargs)\u001b[0m\n\u001b[1;32m   1317\u001b[0m \u001b[0;34m\u001b[0m\u001b[0m\n\u001b[1;32m   1318\u001b[0m         \u001b[0mcursor\u001b[0m \u001b[0;34m=\u001b[0m \u001b[0mself\u001b[0m\u001b[0;34m.\u001b[0m\u001b[0mfind\u001b[0m\u001b[0;34m(\u001b[0m\u001b[0mfilter\u001b[0m\u001b[0;34m,\u001b[0m \u001b[0;34m*\u001b[0m\u001b[0margs\u001b[0m\u001b[0;34m,\u001b[0m \u001b[0;34m**\u001b[0m\u001b[0mkwargs\u001b[0m\u001b[0;34m)\u001b[0m\u001b[0;34m\u001b[0m\u001b[0;34m\u001b[0m\u001b[0m\n\u001b[0;32m-> 1319\u001b[0;31m         \u001b[0;32mfor\u001b[0m \u001b[0mresult\u001b[0m \u001b[0;32min\u001b[0m \u001b[0mcursor\u001b[0m\u001b[0;34m.\u001b[0m\u001b[0mlimit\u001b[0m\u001b[0;34m(\u001b[0m\u001b[0;34m-\u001b[0m\u001b[0;36m1\u001b[0m\u001b[0;34m)\u001b[0m\u001b[0;34m:\u001b[0m\u001b[0;34m\u001b[0m\u001b[0;34m\u001b[0m\u001b[0m\n\u001b[0m\u001b[1;32m   1320\u001b[0m             \u001b[0;32mreturn\u001b[0m \u001b[0mresult\u001b[0m\u001b[0;34m\u001b[0m\u001b[0;34m\u001b[0m\u001b[0m\n\u001b[1;32m   1321\u001b[0m         \u001b[0;32mreturn\u001b[0m \u001b[0;32mNone\u001b[0m\u001b[0;34m\u001b[0m\u001b[0;34m\u001b[0m\u001b[0m\n",
      "\u001b[0;32m~/miniconda3/lib/python3.8/site-packages/pymongo/cursor.py\u001b[0m in \u001b[0;36mnext\u001b[0;34m(self)\u001b[0m\n\u001b[1;32m   1205\u001b[0m         \u001b[0;32mif\u001b[0m \u001b[0mself\u001b[0m\u001b[0;34m.\u001b[0m\u001b[0m__empty\u001b[0m\u001b[0;34m:\u001b[0m\u001b[0;34m\u001b[0m\u001b[0;34m\u001b[0m\u001b[0m\n\u001b[1;32m   1206\u001b[0m             \u001b[0;32mraise\u001b[0m \u001b[0mStopIteration\u001b[0m\u001b[0;34m\u001b[0m\u001b[0;34m\u001b[0m\u001b[0m\n\u001b[0;32m-> 1207\u001b[0;31m         \u001b[0;32mif\u001b[0m \u001b[0mlen\u001b[0m\u001b[0;34m(\u001b[0m\u001b[0mself\u001b[0m\u001b[0;34m.\u001b[0m\u001b[0m__data\u001b[0m\u001b[0;34m)\u001b[0m \u001b[0;32mor\u001b[0m \u001b[0mself\u001b[0m\u001b[0;34m.\u001b[0m\u001b[0m_refresh\u001b[0m\u001b[0;34m(\u001b[0m\u001b[0;34m)\u001b[0m\u001b[0;34m:\u001b[0m\u001b[0;34m\u001b[0m\u001b[0;34m\u001b[0m\u001b[0m\n\u001b[0m\u001b[1;32m   1208\u001b[0m             \u001b[0;32mif\u001b[0m \u001b[0mself\u001b[0m\u001b[0;34m.\u001b[0m\u001b[0m__manipulate\u001b[0m\u001b[0;34m:\u001b[0m\u001b[0;34m\u001b[0m\u001b[0;34m\u001b[0m\u001b[0m\n\u001b[1;32m   1209\u001b[0m                 \u001b[0m_db\u001b[0m \u001b[0;34m=\u001b[0m \u001b[0mself\u001b[0m\u001b[0;34m.\u001b[0m\u001b[0m__collection\u001b[0m\u001b[0;34m.\u001b[0m\u001b[0mdatabase\u001b[0m\u001b[0;34m\u001b[0m\u001b[0;34m\u001b[0m\u001b[0m\n",
      "\u001b[0;32m~/miniconda3/lib/python3.8/site-packages/pymongo/cursor.py\u001b[0m in \u001b[0;36m_refresh\u001b[0;34m(self)\u001b[0m\n\u001b[1;32m   1122\u001b[0m                                   \u001b[0mself\u001b[0m\u001b[0;34m.\u001b[0m\u001b[0m__collection\u001b[0m\u001b[0;34m.\u001b[0m\u001b[0mdatabase\u001b[0m\u001b[0;34m.\u001b[0m\u001b[0mclient\u001b[0m\u001b[0;34m,\u001b[0m\u001b[0;34m\u001b[0m\u001b[0;34m\u001b[0m\u001b[0m\n\u001b[1;32m   1123\u001b[0m                                   self.__allow_disk_use)\n\u001b[0;32m-> 1124\u001b[0;31m             \u001b[0mself\u001b[0m\u001b[0;34m.\u001b[0m\u001b[0m__send_message\u001b[0m\u001b[0;34m(\u001b[0m\u001b[0mq\u001b[0m\u001b[0;34m)\u001b[0m\u001b[0;34m\u001b[0m\u001b[0;34m\u001b[0m\u001b[0m\n\u001b[0m\u001b[1;32m   1125\u001b[0m         \u001b[0;32melif\u001b[0m \u001b[0mself\u001b[0m\u001b[0;34m.\u001b[0m\u001b[0m__id\u001b[0m\u001b[0;34m:\u001b[0m  \u001b[0;31m# Get More\u001b[0m\u001b[0;34m\u001b[0m\u001b[0;34m\u001b[0m\u001b[0m\n\u001b[1;32m   1126\u001b[0m             \u001b[0;32mif\u001b[0m \u001b[0mself\u001b[0m\u001b[0;34m.\u001b[0m\u001b[0m__limit\u001b[0m\u001b[0;34m:\u001b[0m\u001b[0;34m\u001b[0m\u001b[0;34m\u001b[0m\u001b[0m\n",
      "\u001b[0;32m~/miniconda3/lib/python3.8/site-packages/pymongo/cursor.py\u001b[0m in \u001b[0;36m__send_message\u001b[0;34m(self, operation)\u001b[0m\n\u001b[1;32m    997\u001b[0m \u001b[0;34m\u001b[0m\u001b[0m\n\u001b[1;32m    998\u001b[0m         \u001b[0;32mtry\u001b[0m\u001b[0;34m:\u001b[0m\u001b[0;34m\u001b[0m\u001b[0;34m\u001b[0m\u001b[0m\n\u001b[0;32m--> 999\u001b[0;31m             response = client._run_operation_with_response(\n\u001b[0m\u001b[1;32m   1000\u001b[0m                 \u001b[0moperation\u001b[0m\u001b[0;34m,\u001b[0m \u001b[0mself\u001b[0m\u001b[0;34m.\u001b[0m\u001b[0m_unpack_response\u001b[0m\u001b[0;34m,\u001b[0m \u001b[0mexhaust\u001b[0m\u001b[0;34m=\u001b[0m\u001b[0mself\u001b[0m\u001b[0;34m.\u001b[0m\u001b[0m__exhaust\u001b[0m\u001b[0;34m,\u001b[0m\u001b[0;34m\u001b[0m\u001b[0;34m\u001b[0m\u001b[0m\n\u001b[1;32m   1001\u001b[0m                 address=self.__address)\n",
      "\u001b[0;32m~/miniconda3/lib/python3.8/site-packages/pymongo/mongo_client.py\u001b[0m in \u001b[0;36m_run_operation_with_response\u001b[0;34m(self, operation, unpack_res, exhaust, address)\u001b[0m\n\u001b[1;32m   1366\u001b[0m                 unpack_res)\n\u001b[1;32m   1367\u001b[0m \u001b[0;34m\u001b[0m\u001b[0m\n\u001b[0;32m-> 1368\u001b[0;31m         return self._retryable_read(\n\u001b[0m\u001b[1;32m   1369\u001b[0m             \u001b[0m_cmd\u001b[0m\u001b[0;34m,\u001b[0m \u001b[0moperation\u001b[0m\u001b[0;34m.\u001b[0m\u001b[0mread_preference\u001b[0m\u001b[0;34m,\u001b[0m \u001b[0moperation\u001b[0m\u001b[0;34m.\u001b[0m\u001b[0msession\u001b[0m\u001b[0;34m,\u001b[0m\u001b[0;34m\u001b[0m\u001b[0;34m\u001b[0m\u001b[0m\n\u001b[1;32m   1370\u001b[0m             \u001b[0maddress\u001b[0m\u001b[0;34m=\u001b[0m\u001b[0maddress\u001b[0m\u001b[0;34m,\u001b[0m\u001b[0;34m\u001b[0m\u001b[0;34m\u001b[0m\u001b[0m\n",
      "\u001b[0;32m~/miniconda3/lib/python3.8/site-packages/pymongo/mongo_client.py\u001b[0m in \u001b[0;36m_retryable_read\u001b[0;34m(self, func, read_pref, session, address, retryable, exhaust)\u001b[0m\n\u001b[1;32m   1462\u001b[0m                 \u001b[0;32mif\u001b[0m \u001b[0;32mnot\u001b[0m \u001b[0mserver\u001b[0m\u001b[0;34m.\u001b[0m\u001b[0mdescription\u001b[0m\u001b[0;34m.\u001b[0m\u001b[0mretryable_reads_supported\u001b[0m\u001b[0;34m:\u001b[0m\u001b[0;34m\u001b[0m\u001b[0;34m\u001b[0m\u001b[0m\n\u001b[1;32m   1463\u001b[0m                     \u001b[0mretryable\u001b[0m \u001b[0;34m=\u001b[0m \u001b[0;32mFalse\u001b[0m\u001b[0;34m\u001b[0m\u001b[0;34m\u001b[0m\u001b[0m\n\u001b[0;32m-> 1464\u001b[0;31m                 with self._slaveok_for_server(read_pref, server, session,\n\u001b[0m\u001b[1;32m   1465\u001b[0m                                               \u001b[0mexhaust\u001b[0m\u001b[0;34m=\u001b[0m\u001b[0mexhaust\u001b[0m\u001b[0;34m)\u001b[0m \u001b[0;32mas\u001b[0m \u001b[0;34m(\u001b[0m\u001b[0msock_info\u001b[0m\u001b[0;34m,\u001b[0m\u001b[0;34m\u001b[0m\u001b[0;34m\u001b[0m\u001b[0m\n\u001b[1;32m   1466\u001b[0m                                                                    slave_ok):\n",
      "\u001b[0;32m~/miniconda3/lib/python3.8/contextlib.py\u001b[0m in \u001b[0;36m__enter__\u001b[0;34m(self)\u001b[0m\n\u001b[1;32m    111\u001b[0m         \u001b[0;32mdel\u001b[0m \u001b[0mself\u001b[0m\u001b[0;34m.\u001b[0m\u001b[0margs\u001b[0m\u001b[0;34m,\u001b[0m \u001b[0mself\u001b[0m\u001b[0;34m.\u001b[0m\u001b[0mkwds\u001b[0m\u001b[0;34m,\u001b[0m \u001b[0mself\u001b[0m\u001b[0;34m.\u001b[0m\u001b[0mfunc\u001b[0m\u001b[0;34m\u001b[0m\u001b[0;34m\u001b[0m\u001b[0m\n\u001b[1;32m    112\u001b[0m         \u001b[0;32mtry\u001b[0m\u001b[0;34m:\u001b[0m\u001b[0;34m\u001b[0m\u001b[0;34m\u001b[0m\u001b[0m\n\u001b[0;32m--> 113\u001b[0;31m             \u001b[0;32mreturn\u001b[0m \u001b[0mnext\u001b[0m\u001b[0;34m(\u001b[0m\u001b[0mself\u001b[0m\u001b[0;34m.\u001b[0m\u001b[0mgen\u001b[0m\u001b[0;34m)\u001b[0m\u001b[0;34m\u001b[0m\u001b[0;34m\u001b[0m\u001b[0m\n\u001b[0m\u001b[1;32m    114\u001b[0m         \u001b[0;32mexcept\u001b[0m \u001b[0mStopIteration\u001b[0m\u001b[0;34m:\u001b[0m\u001b[0;34m\u001b[0m\u001b[0;34m\u001b[0m\u001b[0m\n\u001b[1;32m    115\u001b[0m             \u001b[0;32mraise\u001b[0m \u001b[0mRuntimeError\u001b[0m\u001b[0;34m(\u001b[0m\u001b[0;34m\"generator didn't yield\"\u001b[0m\u001b[0;34m)\u001b[0m \u001b[0;32mfrom\u001b[0m \u001b[0;32mNone\u001b[0m\u001b[0;34m\u001b[0m\u001b[0;34m\u001b[0m\u001b[0m\n",
      "\u001b[0;32m~/miniconda3/lib/python3.8/site-packages/pymongo/mongo_client.py\u001b[0m in \u001b[0;36m_slaveok_for_server\u001b[0;34m(self, read_preference, server, session, exhaust)\u001b[0m\n\u001b[1;32m   1307\u001b[0m         \u001b[0msingle\u001b[0m \u001b[0;34m=\u001b[0m \u001b[0mtopology\u001b[0m\u001b[0;34m.\u001b[0m\u001b[0mdescription\u001b[0m\u001b[0;34m.\u001b[0m\u001b[0mtopology_type\u001b[0m \u001b[0;34m==\u001b[0m \u001b[0mTOPOLOGY_TYPE\u001b[0m\u001b[0;34m.\u001b[0m\u001b[0mSingle\u001b[0m\u001b[0;34m\u001b[0m\u001b[0;34m\u001b[0m\u001b[0m\n\u001b[1;32m   1308\u001b[0m \u001b[0;34m\u001b[0m\u001b[0m\n\u001b[0;32m-> 1309\u001b[0;31m         \u001b[0;32mwith\u001b[0m \u001b[0mself\u001b[0m\u001b[0;34m.\u001b[0m\u001b[0m_get_socket\u001b[0m\u001b[0;34m(\u001b[0m\u001b[0mserver\u001b[0m\u001b[0;34m,\u001b[0m \u001b[0msession\u001b[0m\u001b[0;34m,\u001b[0m \u001b[0mexhaust\u001b[0m\u001b[0;34m=\u001b[0m\u001b[0mexhaust\u001b[0m\u001b[0;34m)\u001b[0m \u001b[0;32mas\u001b[0m \u001b[0msock_info\u001b[0m\u001b[0;34m:\u001b[0m\u001b[0;34m\u001b[0m\u001b[0;34m\u001b[0m\u001b[0m\n\u001b[0m\u001b[1;32m   1310\u001b[0m             slave_ok = (single and not sock_info.is_mongos) or (\n\u001b[1;32m   1311\u001b[0m                 read_preference != ReadPreference.PRIMARY)\n",
      "\u001b[0;32m~/miniconda3/lib/python3.8/contextlib.py\u001b[0m in \u001b[0;36m__enter__\u001b[0;34m(self)\u001b[0m\n\u001b[1;32m    111\u001b[0m         \u001b[0;32mdel\u001b[0m \u001b[0mself\u001b[0m\u001b[0;34m.\u001b[0m\u001b[0margs\u001b[0m\u001b[0;34m,\u001b[0m \u001b[0mself\u001b[0m\u001b[0;34m.\u001b[0m\u001b[0mkwds\u001b[0m\u001b[0;34m,\u001b[0m \u001b[0mself\u001b[0m\u001b[0;34m.\u001b[0m\u001b[0mfunc\u001b[0m\u001b[0;34m\u001b[0m\u001b[0;34m\u001b[0m\u001b[0m\n\u001b[1;32m    112\u001b[0m         \u001b[0;32mtry\u001b[0m\u001b[0;34m:\u001b[0m\u001b[0;34m\u001b[0m\u001b[0;34m\u001b[0m\u001b[0m\n\u001b[0;32m--> 113\u001b[0;31m             \u001b[0;32mreturn\u001b[0m \u001b[0mnext\u001b[0m\u001b[0;34m(\u001b[0m\u001b[0mself\u001b[0m\u001b[0;34m.\u001b[0m\u001b[0mgen\u001b[0m\u001b[0;34m)\u001b[0m\u001b[0;34m\u001b[0m\u001b[0;34m\u001b[0m\u001b[0m\n\u001b[0m\u001b[1;32m    114\u001b[0m         \u001b[0;32mexcept\u001b[0m \u001b[0mStopIteration\u001b[0m\u001b[0;34m:\u001b[0m\u001b[0;34m\u001b[0m\u001b[0;34m\u001b[0m\u001b[0m\n\u001b[1;32m    115\u001b[0m             \u001b[0;32mraise\u001b[0m \u001b[0mRuntimeError\u001b[0m\u001b[0;34m(\u001b[0m\u001b[0;34m\"generator didn't yield\"\u001b[0m\u001b[0;34m)\u001b[0m \u001b[0;32mfrom\u001b[0m \u001b[0;32mNone\u001b[0m\u001b[0;34m\u001b[0m\u001b[0;34m\u001b[0m\u001b[0m\n",
      "\u001b[0;32m~/miniconda3/lib/python3.8/site-packages/pymongo/mongo_client.py\u001b[0m in \u001b[0;36m_get_socket\u001b[0;34m(self, server, session, exhaust)\u001b[0m\n\u001b[1;32m   1244\u001b[0m     \u001b[0;32mdef\u001b[0m \u001b[0m_get_socket\u001b[0m\u001b[0;34m(\u001b[0m\u001b[0mself\u001b[0m\u001b[0;34m,\u001b[0m \u001b[0mserver\u001b[0m\u001b[0;34m,\u001b[0m \u001b[0msession\u001b[0m\u001b[0;34m,\u001b[0m \u001b[0mexhaust\u001b[0m\u001b[0;34m=\u001b[0m\u001b[0;32mFalse\u001b[0m\u001b[0;34m)\u001b[0m\u001b[0;34m:\u001b[0m\u001b[0;34m\u001b[0m\u001b[0;34m\u001b[0m\u001b[0m\n\u001b[1;32m   1245\u001b[0m         \u001b[0;32mwith\u001b[0m \u001b[0m_MongoClientErrorHandler\u001b[0m\u001b[0;34m(\u001b[0m\u001b[0mself\u001b[0m\u001b[0;34m,\u001b[0m \u001b[0mserver\u001b[0m\u001b[0;34m,\u001b[0m \u001b[0msession\u001b[0m\u001b[0;34m)\u001b[0m \u001b[0;32mas\u001b[0m \u001b[0merr_handler\u001b[0m\u001b[0;34m:\u001b[0m\u001b[0;34m\u001b[0m\u001b[0;34m\u001b[0m\u001b[0m\n\u001b[0;32m-> 1246\u001b[0;31m             with server.get_socket(\n\u001b[0m\u001b[1;32m   1247\u001b[0m                     self.__all_credentials, checkout=exhaust) as sock_info:\n\u001b[1;32m   1248\u001b[0m                 \u001b[0merr_handler\u001b[0m\u001b[0;34m.\u001b[0m\u001b[0mcontribute_socket\u001b[0m\u001b[0;34m(\u001b[0m\u001b[0msock_info\u001b[0m\u001b[0;34m)\u001b[0m\u001b[0;34m\u001b[0m\u001b[0;34m\u001b[0m\u001b[0m\n",
      "\u001b[0;32m~/miniconda3/lib/python3.8/site-packages/pymongo/server.py\u001b[0m in \u001b[0;36mget_socket\u001b[0;34m(self, all_credentials, checkout)\u001b[0m\n\u001b[1;32m    197\u001b[0m \u001b[0;34m\u001b[0m\u001b[0m\n\u001b[1;32m    198\u001b[0m     \u001b[0;32mdef\u001b[0m \u001b[0mget_socket\u001b[0m\u001b[0;34m(\u001b[0m\u001b[0mself\u001b[0m\u001b[0;34m,\u001b[0m \u001b[0mall_credentials\u001b[0m\u001b[0;34m,\u001b[0m \u001b[0mcheckout\u001b[0m\u001b[0;34m=\u001b[0m\u001b[0;32mFalse\u001b[0m\u001b[0;34m)\u001b[0m\u001b[0;34m:\u001b[0m\u001b[0;34m\u001b[0m\u001b[0;34m\u001b[0m\u001b[0m\n\u001b[0;32m--> 199\u001b[0;31m         \u001b[0;32mreturn\u001b[0m \u001b[0mself\u001b[0m\u001b[0;34m.\u001b[0m\u001b[0mpool\u001b[0m\u001b[0;34m.\u001b[0m\u001b[0mget_socket\u001b[0m\u001b[0;34m(\u001b[0m\u001b[0mall_credentials\u001b[0m\u001b[0;34m,\u001b[0m \u001b[0mcheckout\u001b[0m\u001b[0;34m)\u001b[0m\u001b[0;34m\u001b[0m\u001b[0;34m\u001b[0m\u001b[0m\n\u001b[0m\u001b[1;32m    200\u001b[0m \u001b[0;34m\u001b[0m\u001b[0m\n\u001b[1;32m    201\u001b[0m     \u001b[0;34m@\u001b[0m\u001b[0mproperty\u001b[0m\u001b[0;34m\u001b[0m\u001b[0;34m\u001b[0m\u001b[0m\n",
      "\u001b[0;32m~/miniconda3/lib/python3.8/contextlib.py\u001b[0m in \u001b[0;36mhelper\u001b[0;34m(*args, **kwds)\u001b[0m\n\u001b[1;32m    238\u001b[0m     \u001b[0;34m@\u001b[0m\u001b[0mwraps\u001b[0m\u001b[0;34m(\u001b[0m\u001b[0mfunc\u001b[0m\u001b[0;34m)\u001b[0m\u001b[0;34m\u001b[0m\u001b[0;34m\u001b[0m\u001b[0m\n\u001b[1;32m    239\u001b[0m     \u001b[0;32mdef\u001b[0m \u001b[0mhelper\u001b[0m\u001b[0;34m(\u001b[0m\u001b[0;34m*\u001b[0m\u001b[0margs\u001b[0m\u001b[0;34m,\u001b[0m \u001b[0;34m**\u001b[0m\u001b[0mkwds\u001b[0m\u001b[0;34m)\u001b[0m\u001b[0;34m:\u001b[0m\u001b[0;34m\u001b[0m\u001b[0;34m\u001b[0m\u001b[0m\n\u001b[0;32m--> 240\u001b[0;31m         \u001b[0;32mreturn\u001b[0m \u001b[0m_GeneratorContextManager\u001b[0m\u001b[0;34m(\u001b[0m\u001b[0mfunc\u001b[0m\u001b[0;34m,\u001b[0m \u001b[0margs\u001b[0m\u001b[0;34m,\u001b[0m \u001b[0mkwds\u001b[0m\u001b[0;34m)\u001b[0m\u001b[0;34m\u001b[0m\u001b[0;34m\u001b[0m\u001b[0m\n\u001b[0m\u001b[1;32m    241\u001b[0m     \u001b[0;32mreturn\u001b[0m \u001b[0mhelper\u001b[0m\u001b[0;34m\u001b[0m\u001b[0;34m\u001b[0m\u001b[0m\n\u001b[1;32m    242\u001b[0m \u001b[0;34m\u001b[0m\u001b[0m\n",
      "\u001b[0;32m~/miniconda3/lib/python3.8/contextlib.py\u001b[0m in \u001b[0;36m__init__\u001b[0;34m(self, func, args, kwds)\u001b[0m\n\u001b[1;32m     82\u001b[0m     \u001b[0;32mdef\u001b[0m \u001b[0m__init__\u001b[0m\u001b[0;34m(\u001b[0m\u001b[0mself\u001b[0m\u001b[0;34m,\u001b[0m \u001b[0mfunc\u001b[0m\u001b[0;34m,\u001b[0m \u001b[0margs\u001b[0m\u001b[0;34m,\u001b[0m \u001b[0mkwds\u001b[0m\u001b[0;34m)\u001b[0m\u001b[0;34m:\u001b[0m\u001b[0;34m\u001b[0m\u001b[0;34m\u001b[0m\u001b[0m\n\u001b[1;32m     83\u001b[0m         \u001b[0mself\u001b[0m\u001b[0;34m.\u001b[0m\u001b[0mgen\u001b[0m \u001b[0;34m=\u001b[0m \u001b[0mfunc\u001b[0m\u001b[0;34m(\u001b[0m\u001b[0;34m*\u001b[0m\u001b[0margs\u001b[0m\u001b[0;34m,\u001b[0m \u001b[0;34m**\u001b[0m\u001b[0mkwds\u001b[0m\u001b[0;34m)\u001b[0m\u001b[0;34m\u001b[0m\u001b[0;34m\u001b[0m\u001b[0m\n\u001b[0;32m---> 84\u001b[0;31m         \u001b[0mself\u001b[0m\u001b[0;34m.\u001b[0m\u001b[0mfunc\u001b[0m\u001b[0;34m,\u001b[0m \u001b[0mself\u001b[0m\u001b[0;34m.\u001b[0m\u001b[0margs\u001b[0m\u001b[0;34m,\u001b[0m \u001b[0mself\u001b[0m\u001b[0;34m.\u001b[0m\u001b[0mkwds\u001b[0m \u001b[0;34m=\u001b[0m \u001b[0mfunc\u001b[0m\u001b[0;34m,\u001b[0m \u001b[0margs\u001b[0m\u001b[0;34m,\u001b[0m \u001b[0mkwds\u001b[0m\u001b[0;34m\u001b[0m\u001b[0;34m\u001b[0m\u001b[0m\n\u001b[0m\u001b[1;32m     85\u001b[0m         \u001b[0;31m# Issue 19330: ensure context manager instances have good docstrings\u001b[0m\u001b[0;34m\u001b[0m\u001b[0;34m\u001b[0m\u001b[0;34m\u001b[0m\u001b[0m\n\u001b[1;32m     86\u001b[0m         \u001b[0mdoc\u001b[0m \u001b[0;34m=\u001b[0m \u001b[0mgetattr\u001b[0m\u001b[0;34m(\u001b[0m\u001b[0mfunc\u001b[0m\u001b[0;34m,\u001b[0m \u001b[0;34m\"__doc__\"\u001b[0m\u001b[0;34m,\u001b[0m \u001b[0;32mNone\u001b[0m\u001b[0;34m)\u001b[0m\u001b[0;34m\u001b[0m\u001b[0;34m\u001b[0m\u001b[0m\n",
      "\u001b[0;31mKeyboardInterrupt\u001b[0m: "
     ]
    }
   ],
   "source": [
    "# simple check here: all commits in woc?\n",
    "# also add timestamp to df\n",
    "\n",
    "# why using pool is slower,,, \n",
    "\n",
    "# def is_in_woc(df_split: pd.DataFrame) -> bool:\n",
    "#     for index, row in df_split.iterrows():\n",
    "#         c = db.wocCommit.find_one({\"_id\": row['commit']})\n",
    "#         df_split.at[index, 'is_in_woc'] = True if c else False\n",
    "#     return df_split\n",
    "# n_workers=mp.cpu_count() // 2\n",
    "# df_split=np.array_split(dep_change, n_workers)\n",
    "# with mp.Pool(n_workers) as pool:\n",
    "#     dep_change = pd.concat(pool.imap(is_in_woc, df_split))\n",
    "# dep_change[dep_change['is_in_woc']==False]\n",
    "\n",
    "# going with single thread anyway\n",
    "if not os.path.exists('cache/migration_changes.csv.csv'):\n",
    "    for (index, commit) in tqdm(list(enumerate(dep_change['commit']))):\n",
    "        c = db.wocCommit.find_one({\"_id\": commit})\n",
    "        dep_change.at[index, 'is_in_woc'] = True if c else False\n",
    "        dep_change.at[index, 'time'] = c['timestamp'].replace(tzinfo=pytz.timezone('UTC'))\n",
    "\n",
    "    dep_change.to_csv('cache/migration_changes.csv', index=False)\n",
    "    dep_change"
   ]
  },
  {
   "cell_type": "code",
   "execution_count": 2,
   "metadata": {},
   "outputs": [
    {
     "output_type": "execute_result",
     "data": {
      "text/plain": [
       "         Unnamed: 0  Unnamed: 0.1               project  \\\n",
       "0                 0             0  Snailclimb/JavaGuide   \n",
       "1                 1             1  Snailclimb/JavaGuide   \n",
       "2                 2             2  Snailclimb/JavaGuide   \n",
       "3                 3             3  Snailclimb/JavaGuide   \n",
       "4                 4             4  Snailclimb/JavaGuide   \n",
       "...             ...           ...                   ...   \n",
       "3329244     3329244       3329244           88250/latke   \n",
       "3329245     3329245       3329245           88250/latke   \n",
       "3329246     3329246       3329246           88250/latke   \n",
       "3329247     3329247       3329247           88250/latke   \n",
       "3329248     3329248       3329248           88250/latke   \n",
       "\n",
       "                                           commit  \\\n",
       "0        e8aeaef43cbfb2b8a9b71c7b7f462c48b4adb9a6   \n",
       "1        e8aeaef43cbfb2b8a9b71c7b7f462c48b4adb9a6   \n",
       "2        e8aeaef43cbfb2b8a9b71c7b7f462c48b4adb9a6   \n",
       "3        a17a2800c92f918842d26a9e9261ae0bba89286d   \n",
       "4        a17a2800c92f918842d26a9e9261ae0bba89286d   \n",
       "...                                           ...   \n",
       "3329244  3275e026145638664016be01437bd82649b688ff   \n",
       "3329245  3275e026145638664016be01437bd82649b688ff   \n",
       "3329246  3275e026145638664016be01437bd82649b688ff   \n",
       "3329247  3275e026145638664016be01437bd82649b688ff   \n",
       "3329248  0c866c39da2ab37ef424828f5c836ddb75703cbf   \n",
       "\n",
       "                                                      file type  \\\n",
       "0        docs/dataStructures-algorithms/source code/sec...  add   \n",
       "1        docs/dataStructures-algorithms/source code/sec...  add   \n",
       "2        docs/dataStructures-algorithms/source code/sec...  add   \n",
       "3            数据结构与算法/source code/securityAlgorithm/pom.xml  add   \n",
       "4            数据结构与算法/source code/securityAlgorithm/pom.xml  add   \n",
       "...                                                    ...  ...   \n",
       "3329244                                            pom.xml  add   \n",
       "3329245                                            pom.xml  add   \n",
       "3329246                                            pom.xml  add   \n",
       "3329247                                            pom.xml  add   \n",
       "3329248                                            pom.xml  rem   \n",
       "\n",
       "                          lib1                             lib2    ver1  \\\n",
       "0                          NaN      commons-codec:commons-codec     NaN   \n",
       "1                          NaN                      junit:junit     NaN   \n",
       "2                          NaN  org.bouncycastle:bcprov-jdk15on     NaN   \n",
       "3                          NaN      commons-codec:commons-codec     NaN   \n",
       "4                          NaN                      junit:junit     NaN   \n",
       "...                        ...                              ...     ...   \n",
       "3329244                    NaN        commons-lang:commons-lang     NaN   \n",
       "3329245                    NaN              javassist:javassist     NaN   \n",
       "3329246                    NaN                  javax.mail:mail     NaN   \n",
       "3329247                    NaN       mysql:mysql-connector-java     NaN   \n",
       "3329248  org.slf4j:slf4j-jdk14                              NaN  1.7.30   \n",
       "\n",
       "           ver2  is_in_woc                       time  \n",
       "0           1.8       True  2019-03-25 09:19:36+00:00  \n",
       "1          4.12       True  2019-03-25 09:19:36+00:00  \n",
       "2          1.56       True  2019-03-25 09:19:36+00:00  \n",
       "3           1.8       True  2018-07-31 06:49:01+00:00  \n",
       "4         3.8.1       True  2018-07-31 06:49:01+00:00  \n",
       "...         ...        ...                        ...  \n",
       "3329244     NaN       True  2012-08-09 05:57:30+00:00  \n",
       "3329245     NaN       True  2012-08-09 05:57:30+00:00  \n",
       "3329246     NaN       True  2012-08-09 05:57:30+00:00  \n",
       "3329247  5.1.18       True  2012-08-09 05:57:30+00:00  \n",
       "3329248     NaN       True  2020-01-16 02:25:50+00:00  \n",
       "\n",
       "[3329249 rows x 12 columns]"
      ],
      "text/html": "<div>\n<style scoped>\n    .dataframe tbody tr th:only-of-type {\n        vertical-align: middle;\n    }\n\n    .dataframe tbody tr th {\n        vertical-align: top;\n    }\n\n    .dataframe thead th {\n        text-align: right;\n    }\n</style>\n<table border=\"1\" class=\"dataframe\">\n  <thead>\n    <tr style=\"text-align: right;\">\n      <th></th>\n      <th>Unnamed: 0</th>\n      <th>Unnamed: 0.1</th>\n      <th>project</th>\n      <th>commit</th>\n      <th>file</th>\n      <th>type</th>\n      <th>lib1</th>\n      <th>lib2</th>\n      <th>ver1</th>\n      <th>ver2</th>\n      <th>is_in_woc</th>\n      <th>time</th>\n    </tr>\n  </thead>\n  <tbody>\n    <tr>\n      <th>0</th>\n      <td>0</td>\n      <td>0</td>\n      <td>Snailclimb/JavaGuide</td>\n      <td>e8aeaef43cbfb2b8a9b71c7b7f462c48b4adb9a6</td>\n      <td>docs/dataStructures-algorithms/source code/sec...</td>\n      <td>add</td>\n      <td>NaN</td>\n      <td>commons-codec:commons-codec</td>\n      <td>NaN</td>\n      <td>1.8</td>\n      <td>True</td>\n      <td>2019-03-25 09:19:36+00:00</td>\n    </tr>\n    <tr>\n      <th>1</th>\n      <td>1</td>\n      <td>1</td>\n      <td>Snailclimb/JavaGuide</td>\n      <td>e8aeaef43cbfb2b8a9b71c7b7f462c48b4adb9a6</td>\n      <td>docs/dataStructures-algorithms/source code/sec...</td>\n      <td>add</td>\n      <td>NaN</td>\n      <td>junit:junit</td>\n      <td>NaN</td>\n      <td>4.12</td>\n      <td>True</td>\n      <td>2019-03-25 09:19:36+00:00</td>\n    </tr>\n    <tr>\n      <th>2</th>\n      <td>2</td>\n      <td>2</td>\n      <td>Snailclimb/JavaGuide</td>\n      <td>e8aeaef43cbfb2b8a9b71c7b7f462c48b4adb9a6</td>\n      <td>docs/dataStructures-algorithms/source code/sec...</td>\n      <td>add</td>\n      <td>NaN</td>\n      <td>org.bouncycastle:bcprov-jdk15on</td>\n      <td>NaN</td>\n      <td>1.56</td>\n      <td>True</td>\n      <td>2019-03-25 09:19:36+00:00</td>\n    </tr>\n    <tr>\n      <th>3</th>\n      <td>3</td>\n      <td>3</td>\n      <td>Snailclimb/JavaGuide</td>\n      <td>a17a2800c92f918842d26a9e9261ae0bba89286d</td>\n      <td>数据结构与算法/source code/securityAlgorithm/pom.xml</td>\n      <td>add</td>\n      <td>NaN</td>\n      <td>commons-codec:commons-codec</td>\n      <td>NaN</td>\n      <td>1.8</td>\n      <td>True</td>\n      <td>2018-07-31 06:49:01+00:00</td>\n    </tr>\n    <tr>\n      <th>4</th>\n      <td>4</td>\n      <td>4</td>\n      <td>Snailclimb/JavaGuide</td>\n      <td>a17a2800c92f918842d26a9e9261ae0bba89286d</td>\n      <td>数据结构与算法/source code/securityAlgorithm/pom.xml</td>\n      <td>add</td>\n      <td>NaN</td>\n      <td>junit:junit</td>\n      <td>NaN</td>\n      <td>3.8.1</td>\n      <td>True</td>\n      <td>2018-07-31 06:49:01+00:00</td>\n    </tr>\n    <tr>\n      <th>...</th>\n      <td>...</td>\n      <td>...</td>\n      <td>...</td>\n      <td>...</td>\n      <td>...</td>\n      <td>...</td>\n      <td>...</td>\n      <td>...</td>\n      <td>...</td>\n      <td>...</td>\n      <td>...</td>\n      <td>...</td>\n    </tr>\n    <tr>\n      <th>3329244</th>\n      <td>3329244</td>\n      <td>3329244</td>\n      <td>88250/latke</td>\n      <td>3275e026145638664016be01437bd82649b688ff</td>\n      <td>pom.xml</td>\n      <td>add</td>\n      <td>NaN</td>\n      <td>commons-lang:commons-lang</td>\n      <td>NaN</td>\n      <td>NaN</td>\n      <td>True</td>\n      <td>2012-08-09 05:57:30+00:00</td>\n    </tr>\n    <tr>\n      <th>3329245</th>\n      <td>3329245</td>\n      <td>3329245</td>\n      <td>88250/latke</td>\n      <td>3275e026145638664016be01437bd82649b688ff</td>\n      <td>pom.xml</td>\n      <td>add</td>\n      <td>NaN</td>\n      <td>javassist:javassist</td>\n      <td>NaN</td>\n      <td>NaN</td>\n      <td>True</td>\n      <td>2012-08-09 05:57:30+00:00</td>\n    </tr>\n    <tr>\n      <th>3329246</th>\n      <td>3329246</td>\n      <td>3329246</td>\n      <td>88250/latke</td>\n      <td>3275e026145638664016be01437bd82649b688ff</td>\n      <td>pom.xml</td>\n      <td>add</td>\n      <td>NaN</td>\n      <td>javax.mail:mail</td>\n      <td>NaN</td>\n      <td>NaN</td>\n      <td>True</td>\n      <td>2012-08-09 05:57:30+00:00</td>\n    </tr>\n    <tr>\n      <th>3329247</th>\n      <td>3329247</td>\n      <td>3329247</td>\n      <td>88250/latke</td>\n      <td>3275e026145638664016be01437bd82649b688ff</td>\n      <td>pom.xml</td>\n      <td>add</td>\n      <td>NaN</td>\n      <td>mysql:mysql-connector-java</td>\n      <td>NaN</td>\n      <td>5.1.18</td>\n      <td>True</td>\n      <td>2012-08-09 05:57:30+00:00</td>\n    </tr>\n    <tr>\n      <th>3329248</th>\n      <td>3329248</td>\n      <td>3329248</td>\n      <td>88250/latke</td>\n      <td>0c866c39da2ab37ef424828f5c836ddb75703cbf</td>\n      <td>pom.xml</td>\n      <td>rem</td>\n      <td>org.slf4j:slf4j-jdk14</td>\n      <td>NaN</td>\n      <td>1.7.30</td>\n      <td>NaN</td>\n      <td>True</td>\n      <td>2020-01-16 02:25:50+00:00</td>\n    </tr>\n  </tbody>\n</table>\n<p>3329249 rows × 12 columns</p>\n</div>"
     },
     "metadata": {},
     "execution_count": 2
    }
   ],
   "source": [
    "# load df from disk if ssh fails\n",
    "dep_change = pd.read_csv('cache/migration_changes.csv', low_memory=False)\n",
    "dep_change"
   ]
  },
  {
   "cell_type": "code",
   "execution_count": 3,
   "metadata": {},
   "outputs": [
    {
     "output_type": "execute_result",
     "data": {
      "text/plain": [
       "         Unnamed: 0  Unnamed: 0.1                 project  \\\n",
       "211394       211394        211394        aws/aws-sdk-java   \n",
       "201977       201977        201977        aws/aws-sdk-java   \n",
       "211395       211395        211395        aws/aws-sdk-java   \n",
       "201978       201978        201978        aws/aws-sdk-java   \n",
       "2452524     2452524       2452524       atlasmap/atlasmap   \n",
       "...             ...           ...                     ...   \n",
       "290189       290189        290189  vert-x3/vertx-examples   \n",
       "290455       290455        290455  vert-x3/vertx-examples   \n",
       "290456       290456        290456  vert-x3/vertx-examples   \n",
       "290143       290143        290143  vert-x3/vertx-examples   \n",
       "290587       290587        290587  vert-x3/vertx-examples   \n",
       "\n",
       "                                           commit  \\\n",
       "211394   f5261a7868898c8fbe7998e8a9b033aa85e05ce3   \n",
       "201977   f5261a7868898c8fbe7998e8a9b033aa85e05ce3   \n",
       "211395   5e405c2a4b5d9f39ace995039d949586882ce226   \n",
       "201978   5e405c2a4b5d9f39ace995039d949586882ce226   \n",
       "2452524  b7c64a031d3542334c4e84eb79d8b7a00e1c3279   \n",
       "...                                           ...   \n",
       "290189   b66c25b1ca0321989d8eb09a2e2eaf9d60aac97b   \n",
       "290455   b66c25b1ca0321989d8eb09a2e2eaf9d60aac97b   \n",
       "290456   b66c25b1ca0321989d8eb09a2e2eaf9d60aac97b   \n",
       "290143   b66c25b1ca0321989d8eb09a2e2eaf9d60aac97b   \n",
       "290587   b66c25b1ca0321989d8eb09a2e2eaf9d60aac97b   \n",
       "\n",
       "                                                      file    type  \\\n",
       "211394                        aws-java-sdk-opensdk/pom.xml  verchg   \n",
       "201977                         aws-java-sdk-bundle/pom.xml  verchg   \n",
       "211395                        aws-java-sdk-opensdk/pom.xml  verchg   \n",
       "201978                         aws-java-sdk-bundle/pom.xml  verchg   \n",
       "2452524                                     parent/pom.xml  verchg   \n",
       "...                                                    ...     ...   \n",
       "290189   openshift3-examples/vertx-openshift-applicatio...  verchg   \n",
       "290455          spring-examples/springboot-example/pom.xml  verchg   \n",
       "290456          spring-examples/springboot-example/pom.xml  verchg   \n",
       "290143   openshift3-examples/vertx-openshift-applicatio...  verchg   \n",
       "290587                          zookeeper-examples/pom.xml  verchg   \n",
       "\n",
       "                                            lib1  \\\n",
       "211394           com.amazonaws:aws-java-sdk-core   \n",
       "201977                com.amazonaws:aws-java-sdk   \n",
       "211395           com.amazonaws:aws-java-sdk-core   \n",
       "201978                com.amazonaws:aws-java-sdk   \n",
       "2452524  com.fasterxml.jackson.core:jackson-core   \n",
       "...                                          ...   \n",
       "290189                       io.vertx:vertx-core   \n",
       "290455                        io.vertx:vertx-web   \n",
       "290456                       io.vertx:vertx-core   \n",
       "290143                 io.vertx:vertx-infinispan   \n",
       "290587                  io.vertx:vertx-zookeeper   \n",
       "\n",
       "                                            lib2               ver1  \\\n",
       "211394           com.amazonaws:aws-java-sdk-core  1.11.428-SNAPSHOT   \n",
       "201977                com.amazonaws:aws-java-sdk  1.11.428-SNAPSHOT   \n",
       "211395           com.amazonaws:aws-java-sdk-core           1.11.428   \n",
       "201978                com.amazonaws:aws-java-sdk           1.11.428   \n",
       "2452524  com.fasterxml.jackson.core:jackson-core              2.8.5   \n",
       "...                                          ...                ...   \n",
       "290189                       io.vertx:vertx-core              3.8.5   \n",
       "290455                        io.vertx:vertx-web              3.8.5   \n",
       "290456                       io.vertx:vertx-core              3.8.5   \n",
       "290143                 io.vertx:vertx-infinispan              3.8.5   \n",
       "290587                  io.vertx:vertx-zookeeper              3.8.5   \n",
       "\n",
       "                      ver2  is_in_woc                       time  \n",
       "211394            1.11.428       True  2018-10-13 01:17:59+00:00  \n",
       "201977            1.11.428       True  2018-10-13 01:17:59+00:00  \n",
       "211395   1.11.429-SNAPSHOT       True  2018-10-13 01:19:33+00:00  \n",
       "201978   1.11.429-SNAPSHOT       True  2018-10-13 01:19:33+00:00  \n",
       "2452524             2.8.11       True  2018-10-13 02:50:43+00:00  \n",
       "...                    ...        ...                        ...  \n",
       "290189               3.9.0       True  2020-03-28 12:50:21+00:00  \n",
       "290455               3.9.0       True  2020-03-28 12:50:21+00:00  \n",
       "290456               3.9.0       True  2020-03-28 12:50:21+00:00  \n",
       "290143               3.9.0       True  2020-03-28 12:50:21+00:00  \n",
       "290587               3.9.0       True  2020-03-28 12:50:21+00:00  \n",
       "\n",
       "[639045 rows x 12 columns]"
      ],
      "text/html": "<div>\n<style scoped>\n    .dataframe tbody tr th:only-of-type {\n        vertical-align: middle;\n    }\n\n    .dataframe tbody tr th {\n        vertical-align: top;\n    }\n\n    .dataframe thead th {\n        text-align: right;\n    }\n</style>\n<table border=\"1\" class=\"dataframe\">\n  <thead>\n    <tr style=\"text-align: right;\">\n      <th></th>\n      <th>Unnamed: 0</th>\n      <th>Unnamed: 0.1</th>\n      <th>project</th>\n      <th>commit</th>\n      <th>file</th>\n      <th>type</th>\n      <th>lib1</th>\n      <th>lib2</th>\n      <th>ver1</th>\n      <th>ver2</th>\n      <th>is_in_woc</th>\n      <th>time</th>\n    </tr>\n  </thead>\n  <tbody>\n    <tr>\n      <th>211394</th>\n      <td>211394</td>\n      <td>211394</td>\n      <td>aws/aws-sdk-java</td>\n      <td>f5261a7868898c8fbe7998e8a9b033aa85e05ce3</td>\n      <td>aws-java-sdk-opensdk/pom.xml</td>\n      <td>verchg</td>\n      <td>com.amazonaws:aws-java-sdk-core</td>\n      <td>com.amazonaws:aws-java-sdk-core</td>\n      <td>1.11.428-SNAPSHOT</td>\n      <td>1.11.428</td>\n      <td>True</td>\n      <td>2018-10-13 01:17:59+00:00</td>\n    </tr>\n    <tr>\n      <th>201977</th>\n      <td>201977</td>\n      <td>201977</td>\n      <td>aws/aws-sdk-java</td>\n      <td>f5261a7868898c8fbe7998e8a9b033aa85e05ce3</td>\n      <td>aws-java-sdk-bundle/pom.xml</td>\n      <td>verchg</td>\n      <td>com.amazonaws:aws-java-sdk</td>\n      <td>com.amazonaws:aws-java-sdk</td>\n      <td>1.11.428-SNAPSHOT</td>\n      <td>1.11.428</td>\n      <td>True</td>\n      <td>2018-10-13 01:17:59+00:00</td>\n    </tr>\n    <tr>\n      <th>211395</th>\n      <td>211395</td>\n      <td>211395</td>\n      <td>aws/aws-sdk-java</td>\n      <td>5e405c2a4b5d9f39ace995039d949586882ce226</td>\n      <td>aws-java-sdk-opensdk/pom.xml</td>\n      <td>verchg</td>\n      <td>com.amazonaws:aws-java-sdk-core</td>\n      <td>com.amazonaws:aws-java-sdk-core</td>\n      <td>1.11.428</td>\n      <td>1.11.429-SNAPSHOT</td>\n      <td>True</td>\n      <td>2018-10-13 01:19:33+00:00</td>\n    </tr>\n    <tr>\n      <th>201978</th>\n      <td>201978</td>\n      <td>201978</td>\n      <td>aws/aws-sdk-java</td>\n      <td>5e405c2a4b5d9f39ace995039d949586882ce226</td>\n      <td>aws-java-sdk-bundle/pom.xml</td>\n      <td>verchg</td>\n      <td>com.amazonaws:aws-java-sdk</td>\n      <td>com.amazonaws:aws-java-sdk</td>\n      <td>1.11.428</td>\n      <td>1.11.429-SNAPSHOT</td>\n      <td>True</td>\n      <td>2018-10-13 01:19:33+00:00</td>\n    </tr>\n    <tr>\n      <th>2452524</th>\n      <td>2452524</td>\n      <td>2452524</td>\n      <td>atlasmap/atlasmap</td>\n      <td>b7c64a031d3542334c4e84eb79d8b7a00e1c3279</td>\n      <td>parent/pom.xml</td>\n      <td>verchg</td>\n      <td>com.fasterxml.jackson.core:jackson-core</td>\n      <td>com.fasterxml.jackson.core:jackson-core</td>\n      <td>2.8.5</td>\n      <td>2.8.11</td>\n      <td>True</td>\n      <td>2018-10-13 02:50:43+00:00</td>\n    </tr>\n    <tr>\n      <th>...</th>\n      <td>...</td>\n      <td>...</td>\n      <td>...</td>\n      <td>...</td>\n      <td>...</td>\n      <td>...</td>\n      <td>...</td>\n      <td>...</td>\n      <td>...</td>\n      <td>...</td>\n      <td>...</td>\n      <td>...</td>\n    </tr>\n    <tr>\n      <th>290189</th>\n      <td>290189</td>\n      <td>290189</td>\n      <td>vert-x3/vertx-examples</td>\n      <td>b66c25b1ca0321989d8eb09a2e2eaf9d60aac97b</td>\n      <td>openshift3-examples/vertx-openshift-applicatio...</td>\n      <td>verchg</td>\n      <td>io.vertx:vertx-core</td>\n      <td>io.vertx:vertx-core</td>\n      <td>3.8.5</td>\n      <td>3.9.0</td>\n      <td>True</td>\n      <td>2020-03-28 12:50:21+00:00</td>\n    </tr>\n    <tr>\n      <th>290455</th>\n      <td>290455</td>\n      <td>290455</td>\n      <td>vert-x3/vertx-examples</td>\n      <td>b66c25b1ca0321989d8eb09a2e2eaf9d60aac97b</td>\n      <td>spring-examples/springboot-example/pom.xml</td>\n      <td>verchg</td>\n      <td>io.vertx:vertx-web</td>\n      <td>io.vertx:vertx-web</td>\n      <td>3.8.5</td>\n      <td>3.9.0</td>\n      <td>True</td>\n      <td>2020-03-28 12:50:21+00:00</td>\n    </tr>\n    <tr>\n      <th>290456</th>\n      <td>290456</td>\n      <td>290456</td>\n      <td>vert-x3/vertx-examples</td>\n      <td>b66c25b1ca0321989d8eb09a2e2eaf9d60aac97b</td>\n      <td>spring-examples/springboot-example/pom.xml</td>\n      <td>verchg</td>\n      <td>io.vertx:vertx-core</td>\n      <td>io.vertx:vertx-core</td>\n      <td>3.8.5</td>\n      <td>3.9.0</td>\n      <td>True</td>\n      <td>2020-03-28 12:50:21+00:00</td>\n    </tr>\n    <tr>\n      <th>290143</th>\n      <td>290143</td>\n      <td>290143</td>\n      <td>vert-x3/vertx-examples</td>\n      <td>b66c25b1ca0321989d8eb09a2e2eaf9d60aac97b</td>\n      <td>openshift3-examples/vertx-openshift-applicatio...</td>\n      <td>verchg</td>\n      <td>io.vertx:vertx-infinispan</td>\n      <td>io.vertx:vertx-infinispan</td>\n      <td>3.8.5</td>\n      <td>3.9.0</td>\n      <td>True</td>\n      <td>2020-03-28 12:50:21+00:00</td>\n    </tr>\n    <tr>\n      <th>290587</th>\n      <td>290587</td>\n      <td>290587</td>\n      <td>vert-x3/vertx-examples</td>\n      <td>b66c25b1ca0321989d8eb09a2e2eaf9d60aac97b</td>\n      <td>zookeeper-examples/pom.xml</td>\n      <td>verchg</td>\n      <td>io.vertx:vertx-zookeeper</td>\n      <td>io.vertx:vertx-zookeeper</td>\n      <td>3.8.5</td>\n      <td>3.9.0</td>\n      <td>True</td>\n      <td>2020-03-28 12:50:21+00:00</td>\n    </tr>\n  </tbody>\n</table>\n<p>639045 rows × 12 columns</p>\n</div>"
     },
     "metadata": {},
     "execution_count": 3
    }
   ],
   "source": [
    "dep_change[pd.to_datetime(dep_change['time']) > datetime(2018, 10, 13, 1, 5, 24).replace(tzinfo=pytz.timezone('UTC'))].sort_values(by='time')"
   ]
  },
  {
   "cell_type": "code",
   "execution_count": 4,
   "metadata": {},
   "outputs": [
    {
     "output_type": "execute_result",
     "data": {
      "text/plain": [
       "         Unnamed: 0  Unnamed: 0.1               project  \\\n",
       "0                 0             0  Snailclimb/JavaGuide   \n",
       "1                 1             1  Snailclimb/JavaGuide   \n",
       "2                 2             2  Snailclimb/JavaGuide   \n",
       "3                 3             3  Snailclimb/JavaGuide   \n",
       "4                 4             4  Snailclimb/JavaGuide   \n",
       "...             ...           ...                   ...   \n",
       "3329243     3329243       3329243           88250/latke   \n",
       "3329244     3329244       3329244           88250/latke   \n",
       "3329245     3329245       3329245           88250/latke   \n",
       "3329246     3329246       3329246           88250/latke   \n",
       "3329247     3329247       3329247           88250/latke   \n",
       "\n",
       "                                           commit  \\\n",
       "0        e8aeaef43cbfb2b8a9b71c7b7f462c48b4adb9a6   \n",
       "1        e8aeaef43cbfb2b8a9b71c7b7f462c48b4adb9a6   \n",
       "2        e8aeaef43cbfb2b8a9b71c7b7f462c48b4adb9a6   \n",
       "3        a17a2800c92f918842d26a9e9261ae0bba89286d   \n",
       "4        a17a2800c92f918842d26a9e9261ae0bba89286d   \n",
       "...                                           ...   \n",
       "3329243  3275e026145638664016be01437bd82649b688ff   \n",
       "3329244  3275e026145638664016be01437bd82649b688ff   \n",
       "3329245  3275e026145638664016be01437bd82649b688ff   \n",
       "3329246  3275e026145638664016be01437bd82649b688ff   \n",
       "3329247  3275e026145638664016be01437bd82649b688ff   \n",
       "\n",
       "                                                      file type lib1  \\\n",
       "0        docs/dataStructures-algorithms/source code/sec...  add  NaN   \n",
       "1        docs/dataStructures-algorithms/source code/sec...  add  NaN   \n",
       "2        docs/dataStructures-algorithms/source code/sec...  add  NaN   \n",
       "3            数据结构与算法/source code/securityAlgorithm/pom.xml  add  NaN   \n",
       "4            数据结构与算法/source code/securityAlgorithm/pom.xml  add  NaN   \n",
       "...                                                    ...  ...  ...   \n",
       "3329243                                            pom.xml  add  NaN   \n",
       "3329244                                            pom.xml  add  NaN   \n",
       "3329245                                            pom.xml  add  NaN   \n",
       "3329246                                            pom.xml  add  NaN   \n",
       "3329247                                            pom.xml  add  NaN   \n",
       "\n",
       "                                    lib2 ver1    ver2  is_in_woc  \\\n",
       "0            commons-codec:commons-codec  NaN     1.8       True   \n",
       "1                            junit:junit  NaN    4.12       True   \n",
       "2        org.bouncycastle:bcprov-jdk15on  NaN    1.56       True   \n",
       "3            commons-codec:commons-codec  NaN     1.8       True   \n",
       "4                            junit:junit  NaN   3.8.1       True   \n",
       "...                                  ...  ...     ...        ...   \n",
       "3329243                org.testng:testng  NaN     NaN       True   \n",
       "3329244        commons-lang:commons-lang  NaN     NaN       True   \n",
       "3329245              javassist:javassist  NaN     NaN       True   \n",
       "3329246                  javax.mail:mail  NaN     NaN       True   \n",
       "3329247       mysql:mysql-connector-java  NaN  5.1.18       True   \n",
       "\n",
       "                              time  \n",
       "0        2019-03-25 09:19:36+00:00  \n",
       "1        2019-03-25 09:19:36+00:00  \n",
       "2        2019-03-25 09:19:36+00:00  \n",
       "3        2018-07-31 06:49:01+00:00  \n",
       "4        2018-07-31 06:49:01+00:00  \n",
       "...                            ...  \n",
       "3329243  2012-08-09 05:57:30+00:00  \n",
       "3329244  2012-08-09 05:57:30+00:00  \n",
       "3329245  2012-08-09 05:57:30+00:00  \n",
       "3329246  2012-08-09 05:57:30+00:00  \n",
       "3329247  2012-08-09 05:57:30+00:00  \n",
       "\n",
       "[1962594 rows x 12 columns]"
      ],
      "text/html": "<div>\n<style scoped>\n    .dataframe tbody tr th:only-of-type {\n        vertical-align: middle;\n    }\n\n    .dataframe tbody tr th {\n        vertical-align: top;\n    }\n\n    .dataframe thead th {\n        text-align: right;\n    }\n</style>\n<table border=\"1\" class=\"dataframe\">\n  <thead>\n    <tr style=\"text-align: right;\">\n      <th></th>\n      <th>Unnamed: 0</th>\n      <th>Unnamed: 0.1</th>\n      <th>project</th>\n      <th>commit</th>\n      <th>file</th>\n      <th>type</th>\n      <th>lib1</th>\n      <th>lib2</th>\n      <th>ver1</th>\n      <th>ver2</th>\n      <th>is_in_woc</th>\n      <th>time</th>\n    </tr>\n  </thead>\n  <tbody>\n    <tr>\n      <th>0</th>\n      <td>0</td>\n      <td>0</td>\n      <td>Snailclimb/JavaGuide</td>\n      <td>e8aeaef43cbfb2b8a9b71c7b7f462c48b4adb9a6</td>\n      <td>docs/dataStructures-algorithms/source code/sec...</td>\n      <td>add</td>\n      <td>NaN</td>\n      <td>commons-codec:commons-codec</td>\n      <td>NaN</td>\n      <td>1.8</td>\n      <td>True</td>\n      <td>2019-03-25 09:19:36+00:00</td>\n    </tr>\n    <tr>\n      <th>1</th>\n      <td>1</td>\n      <td>1</td>\n      <td>Snailclimb/JavaGuide</td>\n      <td>e8aeaef43cbfb2b8a9b71c7b7f462c48b4adb9a6</td>\n      <td>docs/dataStructures-algorithms/source code/sec...</td>\n      <td>add</td>\n      <td>NaN</td>\n      <td>junit:junit</td>\n      <td>NaN</td>\n      <td>4.12</td>\n      <td>True</td>\n      <td>2019-03-25 09:19:36+00:00</td>\n    </tr>\n    <tr>\n      <th>2</th>\n      <td>2</td>\n      <td>2</td>\n      <td>Snailclimb/JavaGuide</td>\n      <td>e8aeaef43cbfb2b8a9b71c7b7f462c48b4adb9a6</td>\n      <td>docs/dataStructures-algorithms/source code/sec...</td>\n      <td>add</td>\n      <td>NaN</td>\n      <td>org.bouncycastle:bcprov-jdk15on</td>\n      <td>NaN</td>\n      <td>1.56</td>\n      <td>True</td>\n      <td>2019-03-25 09:19:36+00:00</td>\n    </tr>\n    <tr>\n      <th>3</th>\n      <td>3</td>\n      <td>3</td>\n      <td>Snailclimb/JavaGuide</td>\n      <td>a17a2800c92f918842d26a9e9261ae0bba89286d</td>\n      <td>数据结构与算法/source code/securityAlgorithm/pom.xml</td>\n      <td>add</td>\n      <td>NaN</td>\n      <td>commons-codec:commons-codec</td>\n      <td>NaN</td>\n      <td>1.8</td>\n      <td>True</td>\n      <td>2018-07-31 06:49:01+00:00</td>\n    </tr>\n    <tr>\n      <th>4</th>\n      <td>4</td>\n      <td>4</td>\n      <td>Snailclimb/JavaGuide</td>\n      <td>a17a2800c92f918842d26a9e9261ae0bba89286d</td>\n      <td>数据结构与算法/source code/securityAlgorithm/pom.xml</td>\n      <td>add</td>\n      <td>NaN</td>\n      <td>junit:junit</td>\n      <td>NaN</td>\n      <td>3.8.1</td>\n      <td>True</td>\n      <td>2018-07-31 06:49:01+00:00</td>\n    </tr>\n    <tr>\n      <th>...</th>\n      <td>...</td>\n      <td>...</td>\n      <td>...</td>\n      <td>...</td>\n      <td>...</td>\n      <td>...</td>\n      <td>...</td>\n      <td>...</td>\n      <td>...</td>\n      <td>...</td>\n      <td>...</td>\n      <td>...</td>\n    </tr>\n    <tr>\n      <th>3329243</th>\n      <td>3329243</td>\n      <td>3329243</td>\n      <td>88250/latke</td>\n      <td>3275e026145638664016be01437bd82649b688ff</td>\n      <td>pom.xml</td>\n      <td>add</td>\n      <td>NaN</td>\n      <td>org.testng:testng</td>\n      <td>NaN</td>\n      <td>NaN</td>\n      <td>True</td>\n      <td>2012-08-09 05:57:30+00:00</td>\n    </tr>\n    <tr>\n      <th>3329244</th>\n      <td>3329244</td>\n      <td>3329244</td>\n      <td>88250/latke</td>\n      <td>3275e026145638664016be01437bd82649b688ff</td>\n      <td>pom.xml</td>\n      <td>add</td>\n      <td>NaN</td>\n      <td>commons-lang:commons-lang</td>\n      <td>NaN</td>\n      <td>NaN</td>\n      <td>True</td>\n      <td>2012-08-09 05:57:30+00:00</td>\n    </tr>\n    <tr>\n      <th>3329245</th>\n      <td>3329245</td>\n      <td>3329245</td>\n      <td>88250/latke</td>\n      <td>3275e026145638664016be01437bd82649b688ff</td>\n      <td>pom.xml</td>\n      <td>add</td>\n      <td>NaN</td>\n      <td>javassist:javassist</td>\n      <td>NaN</td>\n      <td>NaN</td>\n      <td>True</td>\n      <td>2012-08-09 05:57:30+00:00</td>\n    </tr>\n    <tr>\n      <th>3329246</th>\n      <td>3329246</td>\n      <td>3329246</td>\n      <td>88250/latke</td>\n      <td>3275e026145638664016be01437bd82649b688ff</td>\n      <td>pom.xml</td>\n      <td>add</td>\n      <td>NaN</td>\n      <td>javax.mail:mail</td>\n      <td>NaN</td>\n      <td>NaN</td>\n      <td>True</td>\n      <td>2012-08-09 05:57:30+00:00</td>\n    </tr>\n    <tr>\n      <th>3329247</th>\n      <td>3329247</td>\n      <td>3329247</td>\n      <td>88250/latke</td>\n      <td>3275e026145638664016be01437bd82649b688ff</td>\n      <td>pom.xml</td>\n      <td>add</td>\n      <td>NaN</td>\n      <td>mysql:mysql-connector-java</td>\n      <td>NaN</td>\n      <td>5.1.18</td>\n      <td>True</td>\n      <td>2012-08-09 05:57:30+00:00</td>\n    </tr>\n  </tbody>\n</table>\n<p>1962594 rows × 12 columns</p>\n</div>"
     },
     "metadata": {},
     "execution_count": 4
    }
   ],
   "source": [
    "# 5. 间接依赖里是否已经包含l\n",
    "# 6. 其他依赖配置文件里是否已经声明了l\n",
    "# for case 5 & 6, we only care about 'add'\n",
    " \n",
    "dep_add = dep_change[dep_change['type']=='add']\n",
    "dep_add"
   ]
  },
  {
   "cell_type": "code",
   "execution_count": 7,
   "metadata": {},
   "outputs": [
    {
     "output_type": "execute_result",
     "data": {
      "text/plain": [
       "datetime.datetime(2007, 3, 24, 17, 33, 17, tzinfo=<UTC>)"
      ]
     },
     "metadata": {},
     "execution_count": 7
    }
   ],
   "source": [
    "# for better efficiency -> time in df\n",
    "# return commit time in UTC\n",
    "commits_not_found = set()\n",
    "\n",
    "def get_commit_time(commit: str) -> datetime:\n",
    "    c = db.wocCommit.find_one({\"_id\": commit})\n",
    "    if c:\n",
    "        return c['timestamp'].replace(tzinfo=pytz.timezone('UTC'))\n",
    "    else:\n",
    "        # should throw an exception here\n",
    "        commits_not_found.insert(commit)\n",
    "        return None\n",
    "\n",
    "def get_dep_add_before(lib:str, before: datetime) -> pd.DataFrame:\n",
    "    dep_add_lib = get_dep_add(lib)\n",
    "    is_commit_before_migration = [get_commit_time(x) < before for x in dep_add_lib['commit']]\n",
    "    return dep_add_lib[is_commit_before_migration]\n",
    "\n",
    "get_commit_time('d195553b17713fa47551942d9601d5af990e175f')"
   ]
  },
  {
   "cell_type": "code",
   "execution_count": 8,
   "metadata": {},
   "outputs": [
    {
     "output_type": "execute_result",
     "data": {
      "text/plain": [
       "         Unnamed: 0  Unnamed: 0.1                        project  \\\n",
       "14963         14963         14963    spring-projects/spring-boot   \n",
       "19554         19554         19554    spring-projects/spring-boot   \n",
       "24732         24732         24732    spring-projects/spring-boot   \n",
       "24739         24739         24739    spring-projects/spring-boot   \n",
       "45107         45107         45107            SeleniumHQ/selenium   \n",
       "...             ...           ...                            ...   \n",
       "3319588     3319588       3319588  eclipse-efx/efxclipse-eclipse   \n",
       "3322033     3322033       3322033                   naver/hadoop   \n",
       "3322220     3322220       3322220                   naver/hadoop   \n",
       "3322552     3322552       3322552                   naver/hadoop   \n",
       "3322764     3322764       3322764                   naver/hadoop   \n",
       "\n",
       "                                           commit  \\\n",
       "14963    c1ec5e5c0e9651f8404c3a085ff39731d748b706   \n",
       "19554    da82f086927578b0938114ec360ab0fce9d1eb80   \n",
       "24732    d255a7f0023a3a83ab7fc856346fe3c734fb0235   \n",
       "24739    ae4559eb4f67a3cc1bc88b96b6b7abb747afe7fd   \n",
       "45107    b8835e66a9db18ffe803e326b42775f8dba9a0bb   \n",
       "...                                           ...   \n",
       "3319588  4c3ea5e0634ac498a3a4e45315634e5b64d9fdd3   \n",
       "3322033  1f804b5d2031ddbae4f6ce17dbae3e950ecdde10   \n",
       "3322220  1f804b5d2031ddbae4f6ce17dbae3e950ecdde10   \n",
       "3322552  1f804b5d2031ddbae4f6ce17dbae3e950ecdde10   \n",
       "3322764  56268ffc41a191689f29ee5671e79286b9a6a8fb   \n",
       "\n",
       "                                                      file type lib1  \\\n",
       "14963                           spring-boot-parent/pom.xml  add  NaN   \n",
       "19554    spring-boot-samples/spring-boot-sample-ant/pom...  add  NaN   \n",
       "24732         spring-boot-tools/spring-boot-antlib/pom.xml  add  NaN   \n",
       "24739         spring-boot-tools/spring-boot-antlib/pom.xml  add  NaN   \n",
       "45107                                              pom.xml  add  NaN   \n",
       "...                                                    ...  ...  ...   \n",
       "3319588     bundles/tooling/org.eclipse.fx.ide.ant/pom.xml  add  NaN   \n",
       "3322033        hadoop-common-project/hadoop-common/pom.xml  add  NaN   \n",
       "3322220            hadoop-hdfs-project/hadoop-hdfs/pom.xml  add  NaN   \n",
       "3322552                             hadoop-project/pom.xml  add  NaN   \n",
       "3322764              hadoop-tools/hadoop-streaming/pom.xml  add  NaN   \n",
       "\n",
       "                       lib2 ver1   ver2  is_in_woc                       time  \n",
       "14963    org.apache.ant:ant  NaN  1.7.0       True  2013-10-08 09:41:35+00:00  \n",
       "19554    org.apache.ant:ant  NaN  1.9.3       True  2015-06-30 07:30:33+00:00  \n",
       "24732    org.apache.ant:ant  NaN  1.9.3       True  2015-06-26 23:23:27+00:00  \n",
       "24739    org.apache.ant:ant  NaN  1.9.3       True  2015-06-30 07:30:28+00:00  \n",
       "45107    org.apache.ant:ant  NaN  1.7.1       True  2009-05-14 18:33:45+00:00  \n",
       "...                     ...  ...    ...        ...                        ...  \n",
       "3319588  org.apache.ant:ant  NaN  1.8.4       True  2013-07-01 12:45:47+00:00  \n",
       "3322033  org.apache.ant:ant  NaN    NaN       True  2012-05-28 14:58:13+00:00  \n",
       "3322220  org.apache.ant:ant  NaN    NaN       True  2012-05-28 14:58:13+00:00  \n",
       "3322552  org.apache.ant:ant  NaN  1.8.1       True  2012-05-28 14:58:13+00:00  \n",
       "3322764  org.apache.ant:ant  NaN    NaN       True  2014-04-09 04:10:23+00:00  \n",
       "\n",
       "[2740 rows x 12 columns]"
      ],
      "text/html": "<div>\n<style scoped>\n    .dataframe tbody tr th:only-of-type {\n        vertical-align: middle;\n    }\n\n    .dataframe tbody tr th {\n        vertical-align: top;\n    }\n\n    .dataframe thead th {\n        text-align: right;\n    }\n</style>\n<table border=\"1\" class=\"dataframe\">\n  <thead>\n    <tr style=\"text-align: right;\">\n      <th></th>\n      <th>Unnamed: 0</th>\n      <th>Unnamed: 0.1</th>\n      <th>project</th>\n      <th>commit</th>\n      <th>file</th>\n      <th>type</th>\n      <th>lib1</th>\n      <th>lib2</th>\n      <th>ver1</th>\n      <th>ver2</th>\n      <th>is_in_woc</th>\n      <th>time</th>\n    </tr>\n  </thead>\n  <tbody>\n    <tr>\n      <th>14963</th>\n      <td>14963</td>\n      <td>14963</td>\n      <td>spring-projects/spring-boot</td>\n      <td>c1ec5e5c0e9651f8404c3a085ff39731d748b706</td>\n      <td>spring-boot-parent/pom.xml</td>\n      <td>add</td>\n      <td>NaN</td>\n      <td>org.apache.ant:ant</td>\n      <td>NaN</td>\n      <td>1.7.0</td>\n      <td>True</td>\n      <td>2013-10-08 09:41:35+00:00</td>\n    </tr>\n    <tr>\n      <th>19554</th>\n      <td>19554</td>\n      <td>19554</td>\n      <td>spring-projects/spring-boot</td>\n      <td>da82f086927578b0938114ec360ab0fce9d1eb80</td>\n      <td>spring-boot-samples/spring-boot-sample-ant/pom...</td>\n      <td>add</td>\n      <td>NaN</td>\n      <td>org.apache.ant:ant</td>\n      <td>NaN</td>\n      <td>1.9.3</td>\n      <td>True</td>\n      <td>2015-06-30 07:30:33+00:00</td>\n    </tr>\n    <tr>\n      <th>24732</th>\n      <td>24732</td>\n      <td>24732</td>\n      <td>spring-projects/spring-boot</td>\n      <td>d255a7f0023a3a83ab7fc856346fe3c734fb0235</td>\n      <td>spring-boot-tools/spring-boot-antlib/pom.xml</td>\n      <td>add</td>\n      <td>NaN</td>\n      <td>org.apache.ant:ant</td>\n      <td>NaN</td>\n      <td>1.9.3</td>\n      <td>True</td>\n      <td>2015-06-26 23:23:27+00:00</td>\n    </tr>\n    <tr>\n      <th>24739</th>\n      <td>24739</td>\n      <td>24739</td>\n      <td>spring-projects/spring-boot</td>\n      <td>ae4559eb4f67a3cc1bc88b96b6b7abb747afe7fd</td>\n      <td>spring-boot-tools/spring-boot-antlib/pom.xml</td>\n      <td>add</td>\n      <td>NaN</td>\n      <td>org.apache.ant:ant</td>\n      <td>NaN</td>\n      <td>1.9.3</td>\n      <td>True</td>\n      <td>2015-06-30 07:30:28+00:00</td>\n    </tr>\n    <tr>\n      <th>45107</th>\n      <td>45107</td>\n      <td>45107</td>\n      <td>SeleniumHQ/selenium</td>\n      <td>b8835e66a9db18ffe803e326b42775f8dba9a0bb</td>\n      <td>pom.xml</td>\n      <td>add</td>\n      <td>NaN</td>\n      <td>org.apache.ant:ant</td>\n      <td>NaN</td>\n      <td>1.7.1</td>\n      <td>True</td>\n      <td>2009-05-14 18:33:45+00:00</td>\n    </tr>\n    <tr>\n      <th>...</th>\n      <td>...</td>\n      <td>...</td>\n      <td>...</td>\n      <td>...</td>\n      <td>...</td>\n      <td>...</td>\n      <td>...</td>\n      <td>...</td>\n      <td>...</td>\n      <td>...</td>\n      <td>...</td>\n      <td>...</td>\n    </tr>\n    <tr>\n      <th>3319588</th>\n      <td>3319588</td>\n      <td>3319588</td>\n      <td>eclipse-efx/efxclipse-eclipse</td>\n      <td>4c3ea5e0634ac498a3a4e45315634e5b64d9fdd3</td>\n      <td>bundles/tooling/org.eclipse.fx.ide.ant/pom.xml</td>\n      <td>add</td>\n      <td>NaN</td>\n      <td>org.apache.ant:ant</td>\n      <td>NaN</td>\n      <td>1.8.4</td>\n      <td>True</td>\n      <td>2013-07-01 12:45:47+00:00</td>\n    </tr>\n    <tr>\n      <th>3322033</th>\n      <td>3322033</td>\n      <td>3322033</td>\n      <td>naver/hadoop</td>\n      <td>1f804b5d2031ddbae4f6ce17dbae3e950ecdde10</td>\n      <td>hadoop-common-project/hadoop-common/pom.xml</td>\n      <td>add</td>\n      <td>NaN</td>\n      <td>org.apache.ant:ant</td>\n      <td>NaN</td>\n      <td>NaN</td>\n      <td>True</td>\n      <td>2012-05-28 14:58:13+00:00</td>\n    </tr>\n    <tr>\n      <th>3322220</th>\n      <td>3322220</td>\n      <td>3322220</td>\n      <td>naver/hadoop</td>\n      <td>1f804b5d2031ddbae4f6ce17dbae3e950ecdde10</td>\n      <td>hadoop-hdfs-project/hadoop-hdfs/pom.xml</td>\n      <td>add</td>\n      <td>NaN</td>\n      <td>org.apache.ant:ant</td>\n      <td>NaN</td>\n      <td>NaN</td>\n      <td>True</td>\n      <td>2012-05-28 14:58:13+00:00</td>\n    </tr>\n    <tr>\n      <th>3322552</th>\n      <td>3322552</td>\n      <td>3322552</td>\n      <td>naver/hadoop</td>\n      <td>1f804b5d2031ddbae4f6ce17dbae3e950ecdde10</td>\n      <td>hadoop-project/pom.xml</td>\n      <td>add</td>\n      <td>NaN</td>\n      <td>org.apache.ant:ant</td>\n      <td>NaN</td>\n      <td>1.8.1</td>\n      <td>True</td>\n      <td>2012-05-28 14:58:13+00:00</td>\n    </tr>\n    <tr>\n      <th>3322764</th>\n      <td>3322764</td>\n      <td>3322764</td>\n      <td>naver/hadoop</td>\n      <td>56268ffc41a191689f29ee5671e79286b9a6a8fb</td>\n      <td>hadoop-tools/hadoop-streaming/pom.xml</td>\n      <td>add</td>\n      <td>NaN</td>\n      <td>org.apache.ant:ant</td>\n      <td>NaN</td>\n      <td>NaN</td>\n      <td>True</td>\n      <td>2014-04-09 04:10:23+00:00</td>\n    </tr>\n  </tbody>\n</table>\n<p>2740 rows × 12 columns</p>\n</div>"
     },
     "metadata": {},
     "execution_count": 8
    }
   ],
   "source": [
    "# get commits that added lib to dependencies\n",
    "def get_dep_add(lib: str) -> pd.DataFrame:\n",
    "    return dep_add[dep_add['lib2']==lib]\n",
    "\n",
    "\n",
    "def get_dep_add_before(lib:str, before: datetime) -> pd.DataFrame:\n",
    "    dep_add_lib = get_dep_add(lib)\n",
    "    is_commit_before_migration = [dateParser(row['time']) < before for index, row in dep_add_lib.iterrows()]\n",
    "    return dep_add_lib[is_commit_before_migration]\n",
    "\n",
    "get_dep_add_before('org.apache.ant:ant', before=datetime.now().replace(tzinfo=pytz.timezone('UTC')))"
   ]
  },
  {
   "cell_type": "code",
   "execution_count": 9,
   "metadata": {},
   "outputs": [],
   "source": [
    "# exceptions\n",
    "class LioNotFoundException(Exception):\n",
    "    pass\n",
    "class WocNotFoundException(Exception):\n",
    "    pass\n",
    "class LibNotFoundException(Exception):\n",
    "    pass"
   ]
  },
  {
   "cell_type": "code",
   "execution_count": 10,
   "metadata": {},
   "outputs": [
    {
     "output_type": "execute_result",
     "data": {
      "text/plain": [
       "('2.1.RC1', '1.3.2-alpha', '')"
      ]
     },
     "metadata": {},
     "execution_count": 10
    }
   ],
   "source": [
    "def parse_version(version: str) -> str:\n",
    "    # ref: https://stackoverflow.com/questions/6618868\n",
    "    if match := re.search('(\\d+(?:\\.\\d+)+[-.]?[a-zA-Z\\d]*)', version):\n",
    "        return match.group(1)\n",
    "    else:\n",
    "        return ''\n",
    "\n",
    "parse_version(\"[2.1.RC1,)\"), parse_version(\"[1.3.2-alpha,)\"), parse_version(\"$\\{shuwarin.dreaming\\}\")"
   ]
  },
  {
   "cell_type": "code",
   "execution_count": 11,
   "metadata": {},
   "outputs": [
    {
     "output_type": "execute_result",
     "data": {
      "text/plain": [
       "('1.7.0', datetime.datetime(2005, 11, 22, 18, 6, 39, tzinfo=tzlocal()))"
      ]
     },
     "metadata": {},
     "execution_count": 11
    }
   ],
   "source": [
    "# get corresponding version by searching raw_db (libraries.versions)\n",
    "# deprecated: conflicts between raw_db & lio/woc\n",
    "\n",
    "# wtf, why version[0]['Number'] is int\n",
    "\n",
    "def get_first_version(lib: str) -> str:\n",
    "    versions = list(raw_db.versions.find({\"Platform\": \"Maven\", \"Project Name\": lib}, sort=[(\"Published Timestamp\", pymongo.ASCENDING)]))\n",
    "    if not versions:\n",
    "        raise LioNotFoundException(f'No version found for {lib}')\n",
    "    return str(versions[0]['Number'])\n",
    "\n",
    "def get_last_version(lib: str) -> str:\n",
    "    versions = list(raw_db.versions.find({\"Platform\": \"Maven\", \"Project Name\": lib}, sort=[(\"Published Timestamp\", pymongo.DESCENDING)]))\n",
    "    if not versions:\n",
    "        raise LioNotFoundException(f'No version found for {lib}')\n",
    "    return str(versions[0]['Number'])\n",
    "\n",
    "def get_last_version_before(lib: str, before: datetime) -> str:\n",
    "    if not before:  # to make life easier\n",
    "        return get_last_version(lib)\n",
    "    versions = list(raw_db.versions.find({\"Platform\": \"Maven\", \"Project Name\": lib}, sort=[(\"Published Timestamp\", pymongo.DESCENDING)]))\n",
    "    for version in versions:\n",
    "        if(dateParser(version['Published Timestamp']) < before):\n",
    "            return str(version['Number'])\n",
    "    raise LioNotFoundException(f'No version found for {lib} before {before}')\n",
    "    return ''\n",
    "\n",
    "# this function will NOT handle version mismatch; make sure it's valid\n",
    "def get_version_published_time(lib: str, version: str) -> datetime:\n",
    "    versions = list(raw_db.versions.find({\"Platform\": \"Maven\", \"Project Name\": lib, \"Number\": version}, sort=[(\"Published Timestamp\", pymongo.DESCENDING)]))\n",
    "    if not versions:\n",
    "        raise LioNotFoundException(f'{lib} {version} not found')\n",
    "    return dateParser(versions[0]['Published Timestamp'])\n",
    "\n",
    "get_last_version_before('ant:ant', datetime.now().replace(tzinfo=pytz.timezone('UTC'))), get_version_published_time('ant:ant', '1.6.5')"
   ]
  },
  {
   "cell_type": "code",
   "execution_count": 10,
   "metadata": {},
   "outputs": [
    {
     "ename": "KeyboardInterrupt",
     "evalue": "",
     "output_type": "error",
     "traceback": [
      "\u001b[0;31m---------------------------------------------------------------------------\u001b[0m",
      "\u001b[0;31mKeyboardInterrupt\u001b[0m                         Traceback (most recent call last)",
      "\u001b[0;32m<ipython-input-10-7c5496549210>\u001b[0m in \u001b[0;36m<module>\u001b[0;34m\u001b[0m\n\u001b[1;32m     32\u001b[0m     \u001b[0;32mreturn\u001b[0m \u001b[0maggregate_res\u001b[0m\u001b[0;34m[\u001b[0m\u001b[0;36m0\u001b[0m\u001b[0;34m]\u001b[0m\u001b[0;34m[\u001b[0m\u001b[0;34m'Number'\u001b[0m\u001b[0;34m]\u001b[0m\u001b[0;34m\u001b[0m\u001b[0;34m\u001b[0m\u001b[0m\n\u001b[1;32m     33\u001b[0m \u001b[0;34m\u001b[0m\u001b[0m\n\u001b[0;32m---> 34\u001b[0;31m \u001b[0mget_most_possible_version_lio_text\u001b[0m\u001b[0;34m(\u001b[0m\u001b[0;34m'ant:ant'\u001b[0m\u001b[0;34m,\u001b[0m \u001b[0;34m'[1.6.5]'\u001b[0m\u001b[0;34m)\u001b[0m\u001b[0;34m\u001b[0m\u001b[0;34m\u001b[0m\u001b[0m\n\u001b[0m",
      "\u001b[0;32m<ipython-input-10-7c5496549210>\u001b[0m in \u001b[0;36mget_most_possible_version_lio_text\u001b[0;34m(lib, version, before)\u001b[0m\n\u001b[1;32m     13\u001b[0m         \u001b[0msort\u001b[0m \u001b[0;34m=\u001b[0m \u001b[0;34m{\u001b[0m\u001b[0;34m\"$sort\"\u001b[0m\u001b[0;34m:\u001b[0m\u001b[0;34m{\u001b[0m\u001b[0;34m\"score\"\u001b[0m\u001b[0;34m:\u001b[0m\u001b[0;34m{\u001b[0m\u001b[0;34m\"$meta\"\u001b[0m\u001b[0;34m:\u001b[0m \u001b[0;34m\"textScore\"\u001b[0m\u001b[0;34m}\u001b[0m\u001b[0;34m,\u001b[0m \u001b[0;34m\"Published Timestamp\"\u001b[0m\u001b[0;34m:\u001b[0m \u001b[0;34m-\u001b[0m\u001b[0;36m1\u001b[0m\u001b[0;34m}\u001b[0m\u001b[0;34m}\u001b[0m\u001b[0;34m\u001b[0m\u001b[0;34m\u001b[0m\u001b[0m\n\u001b[1;32m     14\u001b[0m \u001b[0;34m\u001b[0m\u001b[0m\n\u001b[0;32m---> 15\u001b[0;31m     \u001b[0maggregate_res\u001b[0m \u001b[0;34m=\u001b[0m \u001b[0mlist\u001b[0m\u001b[0;34m(\u001b[0m\u001b[0mraw_db\u001b[0m\u001b[0;34m.\u001b[0m\u001b[0mversions\u001b[0m\u001b[0;34m.\u001b[0m\u001b[0maggregate\u001b[0m\u001b[0;34m(\u001b[0m\u001b[0;34m[\u001b[0m\u001b[0mmatch\u001b[0m\u001b[0;34m,\u001b[0m \u001b[0msort\u001b[0m\u001b[0;34m]\u001b[0m\u001b[0;34m,\u001b[0m \u001b[0mallowDiskUse\u001b[0m\u001b[0;34m=\u001b[0m\u001b[0;32mTrue\u001b[0m\u001b[0;34m)\u001b[0m\u001b[0;34m)\u001b[0m\u001b[0;34m\u001b[0m\u001b[0;34m\u001b[0m\u001b[0m\n\u001b[0m\u001b[1;32m     16\u001b[0m \u001b[0;34m\u001b[0m\u001b[0m\n\u001b[1;32m     17\u001b[0m     \u001b[0;32mif\u001b[0m \u001b[0;32mnot\u001b[0m \u001b[0maggregate_res\u001b[0m\u001b[0;34m:\u001b[0m\u001b[0;34m\u001b[0m\u001b[0;34m\u001b[0m\u001b[0m\n",
      "\u001b[0;32m~/miniconda3/lib/python3.8/site-packages/pymongo/collection.py\u001b[0m in \u001b[0;36maggregate\u001b[0;34m(self, pipeline, session, **kwargs)\u001b[0m\n\u001b[1;32m   2451\u001b[0m         \"\"\"\n\u001b[1;32m   2452\u001b[0m         \u001b[0;32mwith\u001b[0m \u001b[0mself\u001b[0m\u001b[0;34m.\u001b[0m\u001b[0m__database\u001b[0m\u001b[0;34m.\u001b[0m\u001b[0mclient\u001b[0m\u001b[0;34m.\u001b[0m\u001b[0m_tmp_session\u001b[0m\u001b[0;34m(\u001b[0m\u001b[0msession\u001b[0m\u001b[0;34m,\u001b[0m \u001b[0mclose\u001b[0m\u001b[0;34m=\u001b[0m\u001b[0;32mFalse\u001b[0m\u001b[0;34m)\u001b[0m \u001b[0;32mas\u001b[0m \u001b[0ms\u001b[0m\u001b[0;34m:\u001b[0m\u001b[0;34m\u001b[0m\u001b[0;34m\u001b[0m\u001b[0m\n\u001b[0;32m-> 2453\u001b[0;31m             return self._aggregate(_CollectionAggregationCommand,\n\u001b[0m\u001b[1;32m   2454\u001b[0m                                    \u001b[0mpipeline\u001b[0m\u001b[0;34m,\u001b[0m\u001b[0;34m\u001b[0m\u001b[0;34m\u001b[0m\u001b[0m\n\u001b[1;32m   2455\u001b[0m                                    \u001b[0mCommandCursor\u001b[0m\u001b[0;34m,\u001b[0m\u001b[0;34m\u001b[0m\u001b[0;34m\u001b[0m\u001b[0m\n",
      "\u001b[0;32m~/miniconda3/lib/python3.8/site-packages/pymongo/collection.py\u001b[0m in \u001b[0;36m_aggregate\u001b[0;34m(self, aggregation_command, pipeline, cursor_class, session, explicit_session, **kwargs)\u001b[0m\n\u001b[1;32m   2373\u001b[0m             \u001b[0mself\u001b[0m\u001b[0;34m,\u001b[0m \u001b[0mcursor_class\u001b[0m\u001b[0;34m,\u001b[0m \u001b[0mpipeline\u001b[0m\u001b[0;34m,\u001b[0m \u001b[0mkwargs\u001b[0m\u001b[0;34m,\u001b[0m \u001b[0mexplicit_session\u001b[0m\u001b[0;34m,\u001b[0m\u001b[0;34m\u001b[0m\u001b[0;34m\u001b[0m\u001b[0m\n\u001b[1;32m   2374\u001b[0m             user_fields={'cursor': {'firstBatch': 1}}, use_cursor=use_cursor)\n\u001b[0;32m-> 2375\u001b[0;31m         return self.__database.client._retryable_read(\n\u001b[0m\u001b[1;32m   2376\u001b[0m             \u001b[0mcmd\u001b[0m\u001b[0;34m.\u001b[0m\u001b[0mget_cursor\u001b[0m\u001b[0;34m,\u001b[0m \u001b[0mcmd\u001b[0m\u001b[0;34m.\u001b[0m\u001b[0mget_read_preference\u001b[0m\u001b[0;34m(\u001b[0m\u001b[0msession\u001b[0m\u001b[0;34m)\u001b[0m\u001b[0;34m,\u001b[0m \u001b[0msession\u001b[0m\u001b[0;34m,\u001b[0m\u001b[0;34m\u001b[0m\u001b[0;34m\u001b[0m\u001b[0m\n\u001b[1;32m   2377\u001b[0m             retryable=not cmd._performs_write)\n",
      "\u001b[0;32m~/miniconda3/lib/python3.8/site-packages/pymongo/mongo_client.py\u001b[0m in \u001b[0;36m_retryable_read\u001b[0;34m(self, func, read_pref, session, address, retryable, exhaust)\u001b[0m\n\u001b[1;32m   1469\u001b[0m                         \u001b[0;31m# not support retryable reads, raise the last error.\u001b[0m\u001b[0;34m\u001b[0m\u001b[0;34m\u001b[0m\u001b[0;34m\u001b[0m\u001b[0m\n\u001b[1;32m   1470\u001b[0m                         \u001b[0;32mraise\u001b[0m \u001b[0mlast_error\u001b[0m\u001b[0;34m\u001b[0m\u001b[0;34m\u001b[0m\u001b[0m\n\u001b[0;32m-> 1471\u001b[0;31m                     \u001b[0;32mreturn\u001b[0m \u001b[0mfunc\u001b[0m\u001b[0;34m(\u001b[0m\u001b[0msession\u001b[0m\u001b[0;34m,\u001b[0m \u001b[0mserver\u001b[0m\u001b[0;34m,\u001b[0m \u001b[0msock_info\u001b[0m\u001b[0;34m,\u001b[0m \u001b[0mslave_ok\u001b[0m\u001b[0;34m)\u001b[0m\u001b[0;34m\u001b[0m\u001b[0;34m\u001b[0m\u001b[0m\n\u001b[0m\u001b[1;32m   1472\u001b[0m             \u001b[0;32mexcept\u001b[0m \u001b[0mServerSelectionTimeoutError\u001b[0m\u001b[0;34m:\u001b[0m\u001b[0;34m\u001b[0m\u001b[0;34m\u001b[0m\u001b[0m\n\u001b[1;32m   1473\u001b[0m                 \u001b[0;32mif\u001b[0m \u001b[0mretrying\u001b[0m\u001b[0;34m:\u001b[0m\u001b[0;34m\u001b[0m\u001b[0;34m\u001b[0m\u001b[0m\n",
      "\u001b[0;32m~/miniconda3/lib/python3.8/site-packages/pymongo/aggregation.py\u001b[0m in \u001b[0;36mget_cursor\u001b[0;34m(self, session, server, sock_info, slave_ok)\u001b[0m\n\u001b[1;32m    134\u001b[0m \u001b[0;34m\u001b[0m\u001b[0m\n\u001b[1;32m    135\u001b[0m         \u001b[0;31m# Run command.\u001b[0m\u001b[0;34m\u001b[0m\u001b[0;34m\u001b[0m\u001b[0;34m\u001b[0m\u001b[0m\n\u001b[0;32m--> 136\u001b[0;31m         result = sock_info.command(\n\u001b[0m\u001b[1;32m    137\u001b[0m             \u001b[0mself\u001b[0m\u001b[0;34m.\u001b[0m\u001b[0m_database\u001b[0m\u001b[0;34m.\u001b[0m\u001b[0mname\u001b[0m\u001b[0;34m,\u001b[0m\u001b[0;34m\u001b[0m\u001b[0;34m\u001b[0m\u001b[0m\n\u001b[1;32m    138\u001b[0m             \u001b[0mcmd\u001b[0m\u001b[0;34m,\u001b[0m\u001b[0;34m\u001b[0m\u001b[0;34m\u001b[0m\u001b[0m\n",
      "\u001b[0;32m~/miniconda3/lib/python3.8/site-packages/pymongo/pool.py\u001b[0m in \u001b[0;36mcommand\u001b[0;34m(self, dbname, spec, slave_ok, read_preference, codec_options, check, allowable_errors, check_keys, read_concern, write_concern, parse_write_concern_error, collation, session, client, retryable_write, publish_events, user_fields, exhaust_allowed)\u001b[0m\n\u001b[1;32m    697\u001b[0m         \u001b[0;31m# Catch socket.error, KeyboardInterrupt, etc. and close ourselves.\u001b[0m\u001b[0;34m\u001b[0m\u001b[0;34m\u001b[0m\u001b[0;34m\u001b[0m\u001b[0m\n\u001b[1;32m    698\u001b[0m         \u001b[0;32mexcept\u001b[0m \u001b[0mBaseException\u001b[0m \u001b[0;32mas\u001b[0m \u001b[0merror\u001b[0m\u001b[0;34m:\u001b[0m\u001b[0;34m\u001b[0m\u001b[0;34m\u001b[0m\u001b[0m\n\u001b[0;32m--> 699\u001b[0;31m             \u001b[0mself\u001b[0m\u001b[0;34m.\u001b[0m\u001b[0m_raise_connection_failure\u001b[0m\u001b[0;34m(\u001b[0m\u001b[0merror\u001b[0m\u001b[0;34m)\u001b[0m\u001b[0;34m\u001b[0m\u001b[0;34m\u001b[0m\u001b[0m\n\u001b[0m\u001b[1;32m    700\u001b[0m \u001b[0;34m\u001b[0m\u001b[0m\n\u001b[1;32m    701\u001b[0m     \u001b[0;32mdef\u001b[0m \u001b[0msend_message\u001b[0m\u001b[0;34m(\u001b[0m\u001b[0mself\u001b[0m\u001b[0;34m,\u001b[0m \u001b[0mmessage\u001b[0m\u001b[0;34m,\u001b[0m \u001b[0mmax_doc_size\u001b[0m\u001b[0;34m)\u001b[0m\u001b[0;34m:\u001b[0m\u001b[0;34m\u001b[0m\u001b[0;34m\u001b[0m\u001b[0m\n",
      "\u001b[0;32m~/miniconda3/lib/python3.8/site-packages/pymongo/pool.py\u001b[0m in \u001b[0;36mcommand\u001b[0;34m(self, dbname, spec, slave_ok, read_preference, codec_options, check, allowable_errors, check_keys, read_concern, write_concern, parse_write_concern_error, collation, session, client, retryable_write, publish_events, user_fields, exhaust_allowed)\u001b[0m\n\u001b[1;32m    681\u001b[0m             \u001b[0mself\u001b[0m\u001b[0;34m.\u001b[0m\u001b[0m_raise_if_not_writable\u001b[0m\u001b[0;34m(\u001b[0m\u001b[0munacknowledged\u001b[0m\u001b[0;34m)\u001b[0m\u001b[0;34m\u001b[0m\u001b[0;34m\u001b[0m\u001b[0m\n\u001b[1;32m    682\u001b[0m         \u001b[0;32mtry\u001b[0m\u001b[0;34m:\u001b[0m\u001b[0;34m\u001b[0m\u001b[0;34m\u001b[0m\u001b[0m\n\u001b[0;32m--> 683\u001b[0;31m             return command(self, dbname, spec, slave_ok,\n\u001b[0m\u001b[1;32m    684\u001b[0m                            \u001b[0mself\u001b[0m\u001b[0;34m.\u001b[0m\u001b[0mis_mongos\u001b[0m\u001b[0;34m,\u001b[0m \u001b[0mread_preference\u001b[0m\u001b[0;34m,\u001b[0m \u001b[0mcodec_options\u001b[0m\u001b[0;34m,\u001b[0m\u001b[0;34m\u001b[0m\u001b[0;34m\u001b[0m\u001b[0m\n\u001b[1;32m    685\u001b[0m                            \u001b[0msession\u001b[0m\u001b[0;34m,\u001b[0m \u001b[0mclient\u001b[0m\u001b[0;34m,\u001b[0m \u001b[0mcheck\u001b[0m\u001b[0;34m,\u001b[0m \u001b[0mallowable_errors\u001b[0m\u001b[0;34m,\u001b[0m\u001b[0;34m\u001b[0m\u001b[0;34m\u001b[0m\u001b[0m\n",
      "\u001b[0;32m~/miniconda3/lib/python3.8/site-packages/pymongo/network.py\u001b[0m in \u001b[0;36mcommand\u001b[0;34m(sock_info, dbname, spec, slave_ok, is_mongos, read_preference, codec_options, session, client, check, allowable_errors, address, check_keys, listeners, max_bson_size, read_concern, parse_write_concern_error, collation, compression_ctx, use_op_msg, unacknowledged, user_fields, exhaust_allowed)\u001b[0m\n\u001b[1;32m    148\u001b[0m             \u001b[0mresponse_doc\u001b[0m \u001b[0;34m=\u001b[0m \u001b[0;34m{\u001b[0m\u001b[0;34m\"ok\"\u001b[0m\u001b[0;34m:\u001b[0m \u001b[0;36m1\u001b[0m\u001b[0;34m}\u001b[0m\u001b[0;34m\u001b[0m\u001b[0;34m\u001b[0m\u001b[0m\n\u001b[1;32m    149\u001b[0m         \u001b[0;32melse\u001b[0m\u001b[0;34m:\u001b[0m\u001b[0;34m\u001b[0m\u001b[0;34m\u001b[0m\u001b[0m\n\u001b[0;32m--> 150\u001b[0;31m             \u001b[0mreply\u001b[0m \u001b[0;34m=\u001b[0m \u001b[0mreceive_message\u001b[0m\u001b[0;34m(\u001b[0m\u001b[0msock_info\u001b[0m\u001b[0;34m,\u001b[0m \u001b[0mrequest_id\u001b[0m\u001b[0;34m)\u001b[0m\u001b[0;34m\u001b[0m\u001b[0;34m\u001b[0m\u001b[0m\n\u001b[0m\u001b[1;32m    151\u001b[0m             \u001b[0msock_info\u001b[0m\u001b[0;34m.\u001b[0m\u001b[0mmore_to_come\u001b[0m \u001b[0;34m=\u001b[0m \u001b[0mreply\u001b[0m\u001b[0;34m.\u001b[0m\u001b[0mmore_to_come\u001b[0m\u001b[0;34m\u001b[0m\u001b[0;34m\u001b[0m\u001b[0m\n\u001b[1;32m    152\u001b[0m             unpacked_docs = reply.unpack_response(\n",
      "\u001b[0;32m~/miniconda3/lib/python3.8/site-packages/pymongo/network.py\u001b[0m in \u001b[0;36mreceive_message\u001b[0;34m(sock_info, request_id, max_message_size)\u001b[0m\n\u001b[1;32m    193\u001b[0m     \u001b[0;31m# Ignore the response's request id.\u001b[0m\u001b[0;34m\u001b[0m\u001b[0;34m\u001b[0m\u001b[0;34m\u001b[0m\u001b[0m\n\u001b[1;32m    194\u001b[0m     length, _, response_to, op_code = _UNPACK_HEADER(\n\u001b[0;32m--> 195\u001b[0;31m         _receive_data_on_socket(sock_info, 16, deadline))\n\u001b[0m\u001b[1;32m    196\u001b[0m     \u001b[0;31m# No request_id for exhaust cursor \"getMore\".\u001b[0m\u001b[0;34m\u001b[0m\u001b[0;34m\u001b[0m\u001b[0;34m\u001b[0m\u001b[0m\n\u001b[1;32m    197\u001b[0m     \u001b[0;32mif\u001b[0m \u001b[0mrequest_id\u001b[0m \u001b[0;32mis\u001b[0m \u001b[0;32mnot\u001b[0m \u001b[0;32mNone\u001b[0m\u001b[0;34m:\u001b[0m\u001b[0;34m\u001b[0m\u001b[0;34m\u001b[0m\u001b[0m\n",
      "\u001b[0;32m~/miniconda3/lib/python3.8/site-packages/pymongo/network.py\u001b[0m in \u001b[0;36m_receive_data_on_socket\u001b[0;34m(sock_info, length, deadline)\u001b[0m\n\u001b[1;32m    284\u001b[0m             \u001b[0;32mtry\u001b[0m\u001b[0;34m:\u001b[0m\u001b[0;34m\u001b[0m\u001b[0;34m\u001b[0m\u001b[0m\n\u001b[1;32m    285\u001b[0m                 \u001b[0mwait_for_read\u001b[0m\u001b[0;34m(\u001b[0m\u001b[0msock_info\u001b[0m\u001b[0;34m,\u001b[0m \u001b[0mdeadline\u001b[0m\u001b[0;34m)\u001b[0m\u001b[0;34m\u001b[0m\u001b[0;34m\u001b[0m\u001b[0m\n\u001b[0;32m--> 286\u001b[0;31m                 \u001b[0mchunk_length\u001b[0m \u001b[0;34m=\u001b[0m \u001b[0msock_info\u001b[0m\u001b[0;34m.\u001b[0m\u001b[0msock\u001b[0m\u001b[0;34m.\u001b[0m\u001b[0mrecv_into\u001b[0m\u001b[0;34m(\u001b[0m\u001b[0mmv\u001b[0m\u001b[0;34m[\u001b[0m\u001b[0mbytes_read\u001b[0m\u001b[0;34m:\u001b[0m\u001b[0;34m]\u001b[0m\u001b[0;34m)\u001b[0m\u001b[0;34m\u001b[0m\u001b[0;34m\u001b[0m\u001b[0m\n\u001b[0m\u001b[1;32m    287\u001b[0m             \u001b[0;32mexcept\u001b[0m \u001b[0;34m(\u001b[0m\u001b[0mIOError\u001b[0m\u001b[0;34m,\u001b[0m \u001b[0mOSError\u001b[0m\u001b[0;34m)\u001b[0m \u001b[0;32mas\u001b[0m \u001b[0mexc\u001b[0m\u001b[0;34m:\u001b[0m\u001b[0;34m\u001b[0m\u001b[0;34m\u001b[0m\u001b[0m\n\u001b[1;32m    288\u001b[0m                 \u001b[0;32mif\u001b[0m \u001b[0m_errno_from_exception\u001b[0m\u001b[0;34m(\u001b[0m\u001b[0mexc\u001b[0m\u001b[0;34m)\u001b[0m \u001b[0;34m==\u001b[0m \u001b[0merrno\u001b[0m\u001b[0;34m.\u001b[0m\u001b[0mEINTR\u001b[0m\u001b[0;34m:\u001b[0m\u001b[0;34m\u001b[0m\u001b[0;34m\u001b[0m\u001b[0m\n",
      "\u001b[0;31mKeyboardInterrupt\u001b[0m: "
     ]
    }
   ],
   "source": [
    "# get corresponding version by searching raw_db (libraries.versions)\n",
    "# deprecated: conflicts between raw_db & lio/woc; slow\n",
    "\n",
    "# parse version string to the most possible version lib actually use (text search)\n",
    "# suprisingly slow,,,\n",
    "def get_most_possible_version_lio_text(lib: str, version=\"\", before=None) -> str:\n",
    "    match = {\"$match\":{\"Platform\": \"Maven\", \"Project Name\": lib}}\n",
    "    sort = {\"$sort\":{\"Published Timestamp\": -1}}\n",
    "\n",
    "    if version: \n",
    "        # setup text index to use text query\n",
    "        match = {\"$match\":{\"Platform\": \"Maven\", \"Project Name\": lib, \"$text\": {\"$search\":version}}}\n",
    "        sort = {\"$sort\":{\"score\":{\"$meta\": \"textScore\"}, \"Published Timestamp\": -1}}\n",
    "\n",
    "    aggregate_res = list(raw_db.versions.aggregate([match, sort], allowDiskUse=True))\n",
    "\n",
    "    if not aggregate_res:\n",
    "        raise LioNotFoundException(f'{lib} {version} not found in versions')\n",
    "    # exact match\n",
    "    if version == aggregate_res[0]['Number']:\n",
    "        return aggregate_res[0]['Number']\n",
    "    # if 'before' specified, return latest version before commit\n",
    "    elif before is not None:\n",
    "        res_before_commit = []\n",
    "        for version in aggregate_res:\n",
    "            if dateParser(version['Published Timestamp']) < before:\n",
    "                res_before_commit.append(version['Number'])\n",
    "        if not res_before_commit:\n",
    "            raise LioNotFoundException(f'{lib} {version} before {before} not found in versions')\n",
    "        return res_before_commit[0]\n",
    "  \n",
    "    return aggregate_res[0]['Number']\n",
    "\n",
    "get_most_possible_version_lio_text('ant:ant', '[1.6.5]')"
   ]
  },
  {
   "cell_type": "code",
   "execution_count": null,
   "metadata": {},
   "outputs": [],
   "source": [
    "# deprecated: conflicts between raw_db & lio/woc; slow\n",
    "\n",
    "# lookup direct dependencies in lioProjectDependency\n",
    "# return format: [{lib:a:b, version: 1.0}]\n",
    "def get_direct_dependencies_lio_text(lib: str, version=\"\", commitTime=None) -> list:\n",
    "    # no need to catch exception here: raw_db = lio\n",
    "    version=get_most_possible_version_lio_text(lib, version)\n",
    "    res = list(db.lioProjectDependency.find({\"projectName\": lib, \"versionNumber\": version}, sort=[(\"versionNumber\", pymongo.DESCENDING)]))\n",
    "    res_dep = []\n",
    "    for dep in res:\n",
    "        res_dep.append({'lib':dep['dependencyName'], 'version':dep['dependencyRequirements']})\n",
    "    return res_dep\n",
    "\n",
    "get_direct_dependencies_lio_text('ant:ant', '[1.6.5]')"
   ]
  },
  {
   "cell_type": "code",
   "execution_count": 13,
   "metadata": {},
   "outputs": [
    {
     "output_type": "execute_result",
     "data": {
      "text/plain": [
       "{'lib': 'org.hibernate:hibernate-core',\n",
       " 'version': '3.6.0.Final',\n",
       " 'dep': {'org.jboss.javaee:jboss-jacc-api_JDK4': '1.1.0',\n",
       "  'javax.xml.bind:jaxb-api': '2.2',\n",
       "  'ant:ant': '1.6.5',\n",
       "  'com.sun.xml.bind:jaxb-impl': '2.1.12',\n",
       "  'javax.transaction:jta': '1.1'}}"
      ]
     },
     "metadata": {},
     "execution_count": 13
    }
   ],
   "source": [
    "# lookup direct dependencies in lioProjectDependency\n",
    "# return format: { lib: 'lib', version: '1.1', dep: {'a': '1.0 } }\n",
    "\n",
    "def get_direct_dependencies_lio(lib: str, version=\"\", commitTime=None):\n",
    "    res = []\n",
    "    version_=None  # most possible candidiate in database\n",
    "    group_id = lib.split(':')[0]\n",
    "    artifact_id = lib.split(':')[-1]\n",
    "\n",
    "    # skip 1-4 if version is empty\n",
    "    if version:\n",
    "        # 1. exact matching\n",
    "        res = list(db.lioProjectDependency.find({\"projectName\": lib, \"versionNumber\": version},\n",
    "            sort=[(\"versionNumber\", pymongo.DESCENDING)]))\n",
    "        # 2. version*\n",
    "        if not res:\n",
    "            version_=version\n",
    "            res = list(db.lioProjectDependency.find({\"projectName\": lib, \"versionNumber\": {'$regex' :f\"^{version_}\"}},\n",
    "                sort=[(\"versionNumber\", pymongo.DESCENDING)]))\n",
    "        # 3. remove dash\n",
    "        if not res and '-' in version:\n",
    "            version_=version.split('-')[0]\n",
    "            res = list(db.lioProjectDependency.find({\"projectName\": lib, \"versionNumber\": {'$regex' :f\"^{version_}\"}},\n",
    "                sort=[(\"versionNumber\", pymongo.DESCENDING)]))\n",
    "        # 4. remove last dot\n",
    "        if not res:\n",
    "            version_='.'.join(version.split('.')[:-1])\n",
    "            # version_ may be an empty string?\n",
    "            if version_:\n",
    "                res = list(db.lioProjectDependency.find({\"projectName\": lib, \"versionNumber\": {'$regex' :f\"^{version_}\"}},\n",
    "                    sort=[(\"versionNumber\", pymongo.DESCENDING)]))\n",
    "    \n",
    "    # 5. find last version before commit\n",
    "    # chances of conflicts btw maven & lio seems rare\n",
    "    if not res and commitTime:\n",
    "        version_ = get_last_version_before(lib=lib, before=commitTime)\n",
    "        # print(version_)\n",
    "        res = list(db.lioProjectDependency.find({\"projectName\": lib, \"versionNumber\": {'$regex' :f\"^{version_}\"}},\n",
    "              sort=[(\"versionNumber\", pymongo.DESCENDING)]))\n",
    "\n",
    "    # sanity check here: published before commit (if we use regex to filter version)\n",
    "    if version_ is not None and commitTime:\n",
    "        res_filtered = []\n",
    "        for item in res:\n",
    "            try:\n",
    "                published_time = get_version_published_time(lib, item['versionNumber'])\n",
    "            except LioNotFoundException:  # not handling it\n",
    "                continue\n",
    "            if published_time < commitTime:\n",
    "                res_filtered.append(item)\n",
    "        res = res_filtered\n",
    "\n",
    "    # 6. find all\n",
    "    if not res:\n",
    "        res = list(db.lioProjectDependency.find({\"groupId\": group_id, \"artifactId\": artifact_id},\n",
    "            sort=[(\"versionNumber\", pymongo.DESCENDING)]))\n",
    "    if not res:\n",
    "        \n",
    "        raise LioNotFoundException(f'{lib} {version} not found after all attempts')\n",
    "\n",
    "    final_version = res[0][\"versionNumber\"]\n",
    "    res_dep = {}\n",
    "    for dep in res:\n",
    "        if dep['versionNumber'] == final_version:\n",
    "           res_dep[dep['dependencyName']] = parse_version(dep['dependencyRequirements'])  # parse version and save\n",
    "    return { 'lib':lib, 'version':final_version, 'dep':res_dep}\n",
    "\n",
    "get_direct_dependencies_lio(\"org.hibernate:hibernate-core\", '3.6.0', \n",
    "    datetime(2010, 11, 22, 18, 6, 39).replace(tzinfo=pytz.timezone('UTC')))"
   ]
  },
  {
   "cell_type": "code",
   "execution_count": 15,
   "metadata": {},
   "outputs": [
    {
     "output_type": "execute_result",
     "data": {
      "text/plain": [
       "{'lib': 'org.hibernate:hibernate-core',\n",
       " 'version': '3.6.0.Final',\n",
       " 'dep': {'dom4j:dom4j': '',\n",
       "  'commons-collections:commons-collections': '',\n",
       "  'javassist:javassist': '',\n",
       "  'org.jboss.javaee:jboss-jacc-api_JDK4': '1.1.0',\n",
       "  'org.hibernate.javax.persistence:hibernate-jpa-2.0-api': '',\n",
       "  'javax.xml.bind:jaxb-api': '2.2',\n",
       "  'antlr:antlr': '',\n",
       "  'org.hibernate:hibernate-validator': '',\n",
       "  'com.sun.xml.bind:jaxb-impl': '2.1.12',\n",
       "  'cglib:cglib': '',\n",
       "  'com.h2database:h2': '',\n",
       "  'org.hibernate:hibernate-commons-annotations': '',\n",
       "  'javax.validation:validation-api': '',\n",
       "  'ant:ant': '1.6.5',\n",
       "  'javax.transaction:jta': '1.1'}}"
      ]
     },
     "metadata": {},
     "execution_count": 15
    }
   ],
   "source": [
    "# lookup direct dependencies in libraryVersionToDependency\n",
    "# return format: { lib: 'lib', version: '1.1', dep: {'a': '1.0 } }\n",
    "\n",
    "def get_direct_dependencies_lib(lib: str, version=\"\", commitTime=None):\n",
    "    res = []\n",
    "    version_=None  # most possible candidiate in database\n",
    "    group_id = lib.split(':')[0]\n",
    "    artifact_id = lib.split(':')[-1]\n",
    "\n",
    "    # skip 1-4 if version is empty\n",
    "    if version:\n",
    "        # 1. exact matching\n",
    "        res = list(db.libraryVersionToDependency.find({\"groupId\": group_id, \"artifactId\": artifact_id, \"version\": version},\n",
    "            sort=[(\"version\", pymongo.DESCENDING)]))\n",
    "        # 2. version*\n",
    "        if not res:\n",
    "            version_=version\n",
    "            res = list(db.libraryVersionToDependency.find({\"groupId\": group_id, \"artifactId\": artifact_id, \n",
    "                \"version\": {'$regex' :f\"^{version_}\"}},sort=[(\"version\", pymongo.DESCENDING)]))\n",
    "        # 3. remove dash\n",
    "        if not res and '-' in version:\n",
    "            version_=version.split('-')[0]\n",
    "            res = list(db.libraryVersionToDependency.find({\"groupId\": group_id, \"artifactId\": artifact_id, \n",
    "                \"version\": {'$regex' :f\"^{version_}\"}},sort=[(\"version\", pymongo.DESCENDING)]))\n",
    "        # 4. remove last dot\n",
    "        if not res:\n",
    "            version_='.'.join(version.split('.')[:-1])\n",
    "            # version_ may be an empty string?\n",
    "            if version_:\n",
    "                res = list(db.libraryVersionToDependency.find({\"groupId\": group_id, \"artifactId\": artifact_id, \n",
    "                    \"version\": {'$regex' :f\"^{version_}\"}},sort=[(\"version\", pymongo.DESCENDING)]))\n",
    "    \n",
    "    # 5. find last version before commit\n",
    "    # chances of conflicts btw maven & lio seems rare\n",
    "    if not res and commitTime:\n",
    "        version_ = get_last_version_before(lib=lib, before=commitTime)\n",
    "        # print(version_)\n",
    "        res = list(db.libraryVersionToDependency.find({\"groupId\": group_id, \"artifactId\": artifact_id, \n",
    "            \"version\": {'$regex' :f\"^{version_}\"}},sort=[(\"version\", pymongo.DESCENDING)]))\n",
    "\n",
    "    # sanity check here: published before commit (if we use regex to filter version)\n",
    "    if version_ is not None and commitTime:\n",
    "        res_filtered = []\n",
    "        for item in res:\n",
    "            try:\n",
    "                published_time = get_version_published_time(lib, item['version'])\n",
    "            except LioNotFoundException:  # not handling it\n",
    "                continue\n",
    "            if published_time < commitTime:\n",
    "                res_filtered.append(item)\n",
    "        res = res_filtered\n",
    "\n",
    "    # 6. find all\n",
    "    if not res:\n",
    "        res = list(db.libraryVersionToDependency.find({\"groupId\": group_id, \"artifactId\": artifact_id},\n",
    "            sort=[(\"version\", pymongo.DESCENDING)]))\n",
    "    if not res:\n",
    "        raise LibNotFoundException(f'{lib} {version} not found after all attempts')\n",
    "\n",
    "    # unify return format\n",
    "    res_dep = {}\n",
    "    for dep in res[0]['dependencies']:\n",
    "        res_dep[dep['groupId']+':'+dep['artifactId']]=parse_version(dep['version'])  # parse version and save\n",
    "    return { 'lib':lib, 'version':res[0]['version'], 'dep':res_dep}\n",
    "\n",
    "get_direct_dependencies_lib(\"org.hibernate:hibernate-core\", '3.6.0', \n",
    "    datetime(2010, 11, 22, 18, 6, 39).replace(tzinfo=pytz.timezone('UTC')))\n"
   ]
  },
  {
   "cell_type": "code",
   "execution_count": 16,
   "metadata": {},
   "outputs": [
    {
     "output_type": "execute_result",
     "data": {
      "text/plain": [
       "{'lib': 'org.hibernate:hibernate-core',\n",
       " 'version': '3.6.0.Final',\n",
       " 'dep': {'dom4j:dom4j': '',\n",
       "  'commons-collections:commons-collections': '',\n",
       "  'javassist:javassist': '',\n",
       "  'org.jboss.javaee:jboss-jacc-api_JDK4': '1.1.0',\n",
       "  'org.hibernate.javax.persistence:hibernate-jpa-2.0-api': '',\n",
       "  'javax.xml.bind:jaxb-api': '2.2',\n",
       "  'antlr:antlr': '',\n",
       "  'org.hibernate:hibernate-validator': '',\n",
       "  'com.sun.xml.bind:jaxb-impl': '2.1.12',\n",
       "  'cglib:cglib': '',\n",
       "  'com.h2database:h2': '',\n",
       "  'org.hibernate:hibernate-commons-annotations': '',\n",
       "  'javax.validation:validation-api': '',\n",
       "  'ant:ant': '1.6.5',\n",
       "  'javax.transaction:jta': '1.1'}}"
      ]
     },
     "metadata": {},
     "execution_count": 16
    }
   ],
   "source": [
    "class DependencyVersionNotEqual(Exception):\n",
    "    pass\n",
    "\n",
    "# log on mismatch\n",
    "dep_mismatch = []\n",
    "dep_nonexist = []\n",
    "\n",
    "# lookup in lib & lio, merge results\n",
    "# return format: { lib: 'lib', version: '1.1', dep: {'a': '1.0 } }\n",
    "def get_direct_dependencies(lib: str, version: str, commitTime=None):\n",
    "    res_lio = res_lib = {}\n",
    "    try:\n",
    "        res_lio = get_direct_dependencies_lio(lib, version, commitTime)\n",
    "        res_lib = get_direct_dependencies_lib(lib, version, commitTime)\n",
    "    except (LioNotFoundException, LibNotFoundException) as e:\n",
    "        # not exist in dataset,,,\n",
    "        # print(e, file=sys.stderr)\n",
    "        dep_nonexist.append({'lib': lib, 'version': version, 'commitTime': commitTime})\n",
    "        return {'lib': lib, 'version': version, 'dep': {}}\n",
    "    \n",
    "    if res_lib == res_lio:\n",
    "        return res_lib\n",
    "    else:\n",
    "        dep_mismatch.append({'lib': res_lib, 'lio': res_lio})\n",
    "        # print({'lib': res_lib, 'lio': res_lio})\n",
    "        \n",
    "        # pick newer version if ver1!=ver2\n",
    "        if res_lio['version'] != res_lib['version']:\n",
    "            try:\n",
    "                rel_lio = get_version_published_time(lib=lib, version=res_lio['version'])\n",
    "                rel_lib = get_version_published_time(lib=lib, version=res_lib['version'])\n",
    "                return res_lib if rel_lib > rel_lio else res_lio\n",
    "            except (LioNotFoundException, LibNotFoundException):\n",
    "                # compare version string if version not found in rawdb\n",
    "                dep_nonexist.append({'lib': lib, 'version': version, 'commitTime': commitTime})\n",
    "                return res_lib if res_lib['version'] > res_lio['version'] else res_lio\n",
    "\n",
    "        # merge dependencies if ver1=ver2\n",
    "        else:\n",
    "            res_dep = res_lib['dep']\n",
    "            for key, value in res_lio['dep'].items():\n",
    "                if key in res_dep and res_dep[key] != value:  # lib & lio contain same dependency, diff version\n",
    "                    # we can pick the non-empty one if 1 of 2 strs is empty\n",
    "                    raise DependencyVersionNotEqual(f'{lib} {version} dep {key} lio: {value} / lib: {res_dep[key]}')\n",
    "                    # ugly handling here,, but we're running out options\n",
    "                    res_dep[key] = max(res_dep[key], value)\n",
    "                else:\n",
    "                    res_dep[key] = value\n",
    "            return {'lib': lib, 'version': res_lio['version'], 'dep': res_dep}\n",
    "\n",
    "get_direct_dependencies(\"org.hibernate:hibernate-core\", '3.6.0', \n",
    "    datetime(2010, 11, 22, 18, 6, 39).replace(tzinfo=pytz.timezone('UTC')))"
   ]
  },
  {
   "cell_type": "code",
   "execution_count": 19,
   "metadata": {},
   "outputs": [
    {
     "output_type": "execute_result",
     "data": {
      "text/plain": [
       "(None, {'aya': 'kuro'}, None)"
      ]
     },
     "metadata": {},
     "execution_count": 19
    }
   ],
   "source": [
    "# use leveldb to cache direct dependencies\n",
    "import json\n",
    "import plyvel\n",
    "\n",
    "try:\n",
    "    if cache_db.closed:\n",
    "        cache_db = plyvel.DB('cache/migration', create_if_missing=True)\n",
    "except NameError:\n",
    "    cache_db = plyvel.DB('cache/migration', create_if_missing=True)\n",
    "\n",
    "def cache_put(k: str, v: dict):\n",
    "    key = k.encode('utf-8')\n",
    "    value = json.dumps(v).encode('utf-8')\n",
    "    cache_db.put(key, value)\n",
    "\n",
    "def cache_get(k: str):\n",
    "    key = k.encode('utf-8')\n",
    "    res = cache_db.get(key)\n",
    "    return json.loads(res) if res else None\n",
    "\n",
    "def cache_delete(k: str):\n",
    "    key = k.encode('utf-8')\n",
    "    cache_db.delete(key)\n",
    "\n",
    "cache_put('shuwarin', {'aya': 'kuro'}), cache_get('shuwarin'), cache_delete('shuwarin')"
   ]
  },
  {
   "cell_type": "code",
   "execution_count": 20,
   "metadata": {},
   "outputs": [],
   "source": [
    "# cache direct dependencies\n",
    "from functools import wraps\n",
    "\n",
    "total_lookup = 0\n",
    "cache_hit = 0\n",
    "\n",
    "def cache_direct_dep(f):\n",
    "    @wraps(f)\n",
    "    def wrapper(lib: str, version=\"\", commitTime=None):\n",
    "        global total_lookup, cache_hit\n",
    "        total_lookup += 1\n",
    "        if not version:\n",
    "            try:\n",
    "                version = get_last_version_before(lib=lib, before=commitTime)  # get last version before commit\n",
    "            except LioNotFoundException:\n",
    "                version = \"\"  \n",
    "        # if no version found, cache doesn't make any sence\n",
    "        cache = cache_get(lib+''+version) if version else None\n",
    "        if cache:\n",
    "            cache_hit += 1\n",
    "            return cache\n",
    "        else:\n",
    "            res = f(lib, version, commitTime) \n",
    "            cache_put(lib+''+version, res)  # use argument rather than real version\n",
    "            return res\n",
    "    return wrapper\n",
    "\n",
    "import time\n",
    "def timethis(f):\n",
    "    def wrapper(*args,**kwargs):\n",
    "        start_time=time.perf_counter()\n",
    "        res=f(*args,**kwargs)\n",
    "        stop_time=time.perf_counter()\n",
    "        print(f'{f.__name__} took {(stop_time - start_time)*1000} ms')\n",
    "        return res\n",
    "    return wrapper"
   ]
  },
  {
   "cell_type": "code",
   "execution_count": 21,
   "metadata": {},
   "outputs": [
    {
     "output_type": "execute_result",
     "data": {
      "text/plain": [
       "{'lib': 'junit:junit',\n",
       " 'version': '4.12',\n",
       " 'dep': {'org.hamcrest:hamcrest-core': '1.3'}}"
      ]
     },
     "metadata": {},
     "execution_count": 21
    }
   ],
   "source": [
    "# WARNING: if version not specified,\n",
    "# get_direct_dependencies_cache would use lastest version in raw_db.versions rather than lio/lib\n",
    "\n",
    "# @timethis\n",
    "@cache_direct_dep\n",
    "def get_direct_dependencies_cache(lib: str, version: str, commitTime=None):\n",
    "    return get_direct_dependencies(lib, version, commitTime)\n",
    "\n",
    "get_direct_dependencies_cache(\"org.hibernate:hibernate-core\", '', datetime(2020, 11, 22, 18, 6, 39).replace(tzinfo=pytz.timezone('UTC')))\n",
    "get_direct_dependencies_cache(\"junit:junit\", '4.12')"
   ]
  },
  {
   "cell_type": "code",
   "execution_count": 22,
   "metadata": {},
   "outputs": [
    {
     "output_type": "error",
     "ename": "NameError",
     "evalue": "name 'dep_unique' is not defined",
     "traceback": [
      "\u001b[0;31m---------------------------------------------------------------------------\u001b[0m",
      "\u001b[0;31mNameError\u001b[0m                                 Traceback (most recent call last)",
      "\u001b[0;32m<ipython-input-22-2435a2c2c2b6>\u001b[0m in \u001b[0;36m<module>\u001b[0;34m\u001b[0m\n\u001b[1;32m      5\u001b[0m \u001b[0;32mfrom\u001b[0m \u001b[0mtqdm\u001b[0m\u001b[0;34m.\u001b[0m\u001b[0mcontrib\u001b[0m\u001b[0;34m.\u001b[0m\u001b[0mconcurrent\u001b[0m \u001b[0;32mimport\u001b[0m \u001b[0mprocess_map\u001b[0m  \u001b[0;31m# basically a ProcessPoolExecutor\u001b[0m\u001b[0;34m\u001b[0m\u001b[0;34m\u001b[0m\u001b[0m\n\u001b[1;32m      6\u001b[0m \u001b[0mn_workers\u001b[0m \u001b[0;34m=\u001b[0m \u001b[0;36m4\u001b[0m\u001b[0;34m\u001b[0m\u001b[0;34m\u001b[0m\u001b[0m\n\u001b[0;32m----> 7\u001b[0;31m \u001b[0mdf_parts\u001b[0m \u001b[0;34m=\u001b[0m \u001b[0mnp\u001b[0m\u001b[0;34m.\u001b[0m\u001b[0marray_split\u001b[0m\u001b[0;34m(\u001b[0m\u001b[0mdep_unique\u001b[0m \u001b[0;34m,\u001b[0m\u001b[0mn_workers\u001b[0m\u001b[0;34m)\u001b[0m\u001b[0;34m\u001b[0m\u001b[0;34m\u001b[0m\u001b[0m\n\u001b[0m\u001b[1;32m      8\u001b[0m \u001b[0mdep_unique\u001b[0m \u001b[0;34m=\u001b[0m \u001b[0mpd\u001b[0m\u001b[0;34m.\u001b[0m\u001b[0mconcat\u001b[0m\u001b[0;34m(\u001b[0m\u001b[0mprocess_map\u001b[0m\u001b[0;34m(\u001b[0m\u001b[0mthread_worker\u001b[0m\u001b[0;34m,\u001b[0m \u001b[0mdf_parts\u001b[0m\u001b[0;34m,\u001b[0m \u001b[0mmax_workers\u001b[0m\u001b[0;34m=\u001b[0m\u001b[0mn_workers\u001b[0m\u001b[0;34m)\u001b[0m\u001b[0;34m)\u001b[0m\u001b[0;34m\u001b[0m\u001b[0;34m\u001b[0m\u001b[0m\n\u001b[1;32m      9\u001b[0m \u001b[0;34m\u001b[0m\u001b[0m\n",
      "\u001b[0;31mNameError\u001b[0m: name 'dep_unique' is not defined"
     ]
    }
   ],
   "source": [
    "def thread_worker(df: pd.DataFrame):\n",
    "    tqdm.pandas()\n",
    "    dep_add['ver_lio'] = dep_add.progress_apply(lambda x: get_direct_dependencies_cache(x['lib'], x['version'], dateParser(x['time'])), axis=1)\n",
    "\n",
    "from tqdm.contrib.concurrent import process_map  # basically a ProcessPoolExecutor\n",
    "n_workers = 4\n",
    "df_parts = np.array_split(dep_add ,n_workers)\n",
    "dep_unique = pd.concat(process_map(thread_worker, df_parts, max_workers=n_workers))\n",
    "\n",
    "dep_unique"
   ]
  },
  {
   "cell_type": "code",
   "execution_count": 23,
   "metadata": {},
   "outputs": [
    {
     "ename": "NameError",
     "evalue": "name 'get_direct_dependencies' is not defined",
     "output_type": "error",
     "traceback": [
      "\u001b[0;31m---------------------------------------------------------------------------\u001b[0m",
      "\u001b[0;31mNameError\u001b[0m                                 Traceback (most recent call last)",
      "\u001b[0;32m<ipython-input-23-b1e4e2c3e5a5>\u001b[0m in \u001b[0;36m<module>\u001b[0;34m\u001b[0m\n\u001b[1;32m     12\u001b[0m     \u001b[0;32mreturn\u001b[0m \u001b[0mdirect_res\u001b[0m\u001b[0;34m\u001b[0m\u001b[0;34m\u001b[0m\u001b[0m\n\u001b[1;32m     13\u001b[0m \u001b[0;34m\u001b[0m\u001b[0m\n\u001b[0;32m---> 14\u001b[0;31m \u001b[0mget_all_dependencies\u001b[0m\u001b[0;34m(\u001b[0m\u001b[0mlib\u001b[0m\u001b[0;34m=\u001b[0m\u001b[0;34m\"org.hibernate:hibernate-core\"\u001b[0m\u001b[0;34m,\u001b[0m \u001b[0mdepth\u001b[0m\u001b[0;34m=\u001b[0m\u001b[0;36m4\u001b[0m\u001b[0;34m)\u001b[0m\u001b[0;34m\u001b[0m\u001b[0;34m\u001b[0m\u001b[0m\n\u001b[0m",
      "\u001b[0;32m<ipython-input-23-b1e4e2c3e5a5>\u001b[0m in \u001b[0;36mget_all_dependencies\u001b[0;34m(lib, version, commitTime, depth)\u001b[0m\n\u001b[1;32m      8\u001b[0m     \u001b[0mdirect_res\u001b[0m\u001b[0;34m[\u001b[0m\u001b[0;34m'trans'\u001b[0m\u001b[0;34m]\u001b[0m \u001b[0;34m=\u001b[0m \u001b[0;34m[\u001b[0m\u001b[0;34m]\u001b[0m\u001b[0;34m\u001b[0m\u001b[0;34m\u001b[0m\u001b[0m\n\u001b[1;32m      9\u001b[0m     \u001b[0;32mfor\u001b[0m \u001b[0mkey\u001b[0m\u001b[0;34m,\u001b[0m \u001b[0mvalue\u001b[0m \u001b[0;32min\u001b[0m \u001b[0mdirect_res\u001b[0m\u001b[0;34m[\u001b[0m\u001b[0;34m'dep'\u001b[0m\u001b[0;34m]\u001b[0m\u001b[0;34m.\u001b[0m\u001b[0mitems\u001b[0m\u001b[0;34m(\u001b[0m\u001b[0;34m)\u001b[0m\u001b[0;34m:\u001b[0m\u001b[0;34m\u001b[0m\u001b[0;34m\u001b[0m\u001b[0m\n\u001b[0;32m---> 10\u001b[0;31m         \u001b[0mtemp_res\u001b[0m \u001b[0;34m=\u001b[0m \u001b[0mget_all_dependencies\u001b[0m\u001b[0;34m(\u001b[0m\u001b[0mkey\u001b[0m\u001b[0;34m,\u001b[0m \u001b[0mvalue\u001b[0m\u001b[0;34m,\u001b[0m \u001b[0mcommitTime\u001b[0m\u001b[0;34m,\u001b[0m \u001b[0mdepth\u001b[0m\u001b[0;34m-\u001b[0m\u001b[0;36m1\u001b[0m\u001b[0;34m)\u001b[0m\u001b[0;34m\u001b[0m\u001b[0;34m\u001b[0m\u001b[0m\n\u001b[0m\u001b[1;32m     11\u001b[0m         \u001b[0mdirect_res\u001b[0m\u001b[0;34m[\u001b[0m\u001b[0;34m'trans'\u001b[0m\u001b[0;34m]\u001b[0m\u001b[0;34m.\u001b[0m\u001b[0mappend\u001b[0m\u001b[0;34m(\u001b[0m\u001b[0mtemp_res\u001b[0m\u001b[0;34m)\u001b[0m\u001b[0;34m\u001b[0m\u001b[0;34m\u001b[0m\u001b[0m\n\u001b[1;32m     12\u001b[0m     \u001b[0;32mreturn\u001b[0m \u001b[0mdirect_res\u001b[0m\u001b[0;34m\u001b[0m\u001b[0;34m\u001b[0m\u001b[0m\n",
      "\u001b[0;32m<ipython-input-23-b1e4e2c3e5a5>\u001b[0m in \u001b[0;36mget_all_dependencies\u001b[0;34m(lib, version, commitTime, depth)\u001b[0m\n\u001b[1;32m      8\u001b[0m     \u001b[0mdirect_res\u001b[0m\u001b[0;34m[\u001b[0m\u001b[0;34m'trans'\u001b[0m\u001b[0;34m]\u001b[0m \u001b[0;34m=\u001b[0m \u001b[0;34m[\u001b[0m\u001b[0;34m]\u001b[0m\u001b[0;34m\u001b[0m\u001b[0;34m\u001b[0m\u001b[0m\n\u001b[1;32m      9\u001b[0m     \u001b[0;32mfor\u001b[0m \u001b[0mkey\u001b[0m\u001b[0;34m,\u001b[0m \u001b[0mvalue\u001b[0m \u001b[0;32min\u001b[0m \u001b[0mdirect_res\u001b[0m\u001b[0;34m[\u001b[0m\u001b[0;34m'dep'\u001b[0m\u001b[0;34m]\u001b[0m\u001b[0;34m.\u001b[0m\u001b[0mitems\u001b[0m\u001b[0;34m(\u001b[0m\u001b[0;34m)\u001b[0m\u001b[0;34m:\u001b[0m\u001b[0;34m\u001b[0m\u001b[0;34m\u001b[0m\u001b[0m\n\u001b[0;32m---> 10\u001b[0;31m         \u001b[0mtemp_res\u001b[0m \u001b[0;34m=\u001b[0m \u001b[0mget_all_dependencies\u001b[0m\u001b[0;34m(\u001b[0m\u001b[0mkey\u001b[0m\u001b[0;34m,\u001b[0m \u001b[0mvalue\u001b[0m\u001b[0;34m,\u001b[0m \u001b[0mcommitTime\u001b[0m\u001b[0;34m,\u001b[0m \u001b[0mdepth\u001b[0m\u001b[0;34m-\u001b[0m\u001b[0;36m1\u001b[0m\u001b[0;34m)\u001b[0m\u001b[0;34m\u001b[0m\u001b[0;34m\u001b[0m\u001b[0m\n\u001b[0m\u001b[1;32m     11\u001b[0m         \u001b[0mdirect_res\u001b[0m\u001b[0;34m[\u001b[0m\u001b[0;34m'trans'\u001b[0m\u001b[0;34m]\u001b[0m\u001b[0;34m.\u001b[0m\u001b[0mappend\u001b[0m\u001b[0;34m(\u001b[0m\u001b[0mtemp_res\u001b[0m\u001b[0;34m)\u001b[0m\u001b[0;34m\u001b[0m\u001b[0;34m\u001b[0m\u001b[0m\n\u001b[1;32m     12\u001b[0m     \u001b[0;32mreturn\u001b[0m \u001b[0mdirect_res\u001b[0m\u001b[0;34m\u001b[0m\u001b[0;34m\u001b[0m\u001b[0m\n",
      "\u001b[0;32m<ipython-input-23-b1e4e2c3e5a5>\u001b[0m in \u001b[0;36mget_all_dependencies\u001b[0;34m(lib, version, commitTime, depth)\u001b[0m\n\u001b[1;32m      8\u001b[0m     \u001b[0mdirect_res\u001b[0m\u001b[0;34m[\u001b[0m\u001b[0;34m'trans'\u001b[0m\u001b[0;34m]\u001b[0m \u001b[0;34m=\u001b[0m \u001b[0;34m[\u001b[0m\u001b[0;34m]\u001b[0m\u001b[0;34m\u001b[0m\u001b[0;34m\u001b[0m\u001b[0m\n\u001b[1;32m      9\u001b[0m     \u001b[0;32mfor\u001b[0m \u001b[0mkey\u001b[0m\u001b[0;34m,\u001b[0m \u001b[0mvalue\u001b[0m \u001b[0;32min\u001b[0m \u001b[0mdirect_res\u001b[0m\u001b[0;34m[\u001b[0m\u001b[0;34m'dep'\u001b[0m\u001b[0;34m]\u001b[0m\u001b[0;34m.\u001b[0m\u001b[0mitems\u001b[0m\u001b[0;34m(\u001b[0m\u001b[0;34m)\u001b[0m\u001b[0;34m:\u001b[0m\u001b[0;34m\u001b[0m\u001b[0;34m\u001b[0m\u001b[0m\n\u001b[0;32m---> 10\u001b[0;31m         \u001b[0mtemp_res\u001b[0m \u001b[0;34m=\u001b[0m \u001b[0mget_all_dependencies\u001b[0m\u001b[0;34m(\u001b[0m\u001b[0mkey\u001b[0m\u001b[0;34m,\u001b[0m \u001b[0mvalue\u001b[0m\u001b[0;34m,\u001b[0m \u001b[0mcommitTime\u001b[0m\u001b[0;34m,\u001b[0m \u001b[0mdepth\u001b[0m\u001b[0;34m-\u001b[0m\u001b[0;36m1\u001b[0m\u001b[0;34m)\u001b[0m\u001b[0;34m\u001b[0m\u001b[0;34m\u001b[0m\u001b[0m\n\u001b[0m\u001b[1;32m     11\u001b[0m         \u001b[0mdirect_res\u001b[0m\u001b[0;34m[\u001b[0m\u001b[0;34m'trans'\u001b[0m\u001b[0;34m]\u001b[0m\u001b[0;34m.\u001b[0m\u001b[0mappend\u001b[0m\u001b[0;34m(\u001b[0m\u001b[0mtemp_res\u001b[0m\u001b[0;34m)\u001b[0m\u001b[0;34m\u001b[0m\u001b[0;34m\u001b[0m\u001b[0m\n\u001b[1;32m     12\u001b[0m     \u001b[0;32mreturn\u001b[0m \u001b[0mdirect_res\u001b[0m\u001b[0;34m\u001b[0m\u001b[0;34m\u001b[0m\u001b[0m\n",
      "\u001b[0;32m<ipython-input-23-b1e4e2c3e5a5>\u001b[0m in \u001b[0;36mget_all_dependencies\u001b[0;34m(lib, version, commitTime, depth)\u001b[0m\n\u001b[1;32m      8\u001b[0m     \u001b[0mdirect_res\u001b[0m\u001b[0;34m[\u001b[0m\u001b[0;34m'trans'\u001b[0m\u001b[0;34m]\u001b[0m \u001b[0;34m=\u001b[0m \u001b[0;34m[\u001b[0m\u001b[0;34m]\u001b[0m\u001b[0;34m\u001b[0m\u001b[0;34m\u001b[0m\u001b[0m\n\u001b[1;32m      9\u001b[0m     \u001b[0;32mfor\u001b[0m \u001b[0mkey\u001b[0m\u001b[0;34m,\u001b[0m \u001b[0mvalue\u001b[0m \u001b[0;32min\u001b[0m \u001b[0mdirect_res\u001b[0m\u001b[0;34m[\u001b[0m\u001b[0;34m'dep'\u001b[0m\u001b[0;34m]\u001b[0m\u001b[0;34m.\u001b[0m\u001b[0mitems\u001b[0m\u001b[0;34m(\u001b[0m\u001b[0;34m)\u001b[0m\u001b[0;34m:\u001b[0m\u001b[0;34m\u001b[0m\u001b[0;34m\u001b[0m\u001b[0m\n\u001b[0;32m---> 10\u001b[0;31m         \u001b[0mtemp_res\u001b[0m \u001b[0;34m=\u001b[0m \u001b[0mget_all_dependencies\u001b[0m\u001b[0;34m(\u001b[0m\u001b[0mkey\u001b[0m\u001b[0;34m,\u001b[0m \u001b[0mvalue\u001b[0m\u001b[0;34m,\u001b[0m \u001b[0mcommitTime\u001b[0m\u001b[0;34m,\u001b[0m \u001b[0mdepth\u001b[0m\u001b[0;34m-\u001b[0m\u001b[0;36m1\u001b[0m\u001b[0;34m)\u001b[0m\u001b[0;34m\u001b[0m\u001b[0;34m\u001b[0m\u001b[0m\n\u001b[0m\u001b[1;32m     11\u001b[0m         \u001b[0mdirect_res\u001b[0m\u001b[0;34m[\u001b[0m\u001b[0;34m'trans'\u001b[0m\u001b[0;34m]\u001b[0m\u001b[0;34m.\u001b[0m\u001b[0mappend\u001b[0m\u001b[0;34m(\u001b[0m\u001b[0mtemp_res\u001b[0m\u001b[0;34m)\u001b[0m\u001b[0;34m\u001b[0m\u001b[0;34m\u001b[0m\u001b[0m\n\u001b[1;32m     12\u001b[0m     \u001b[0;32mreturn\u001b[0m \u001b[0mdirect_res\u001b[0m\u001b[0;34m\u001b[0m\u001b[0;34m\u001b[0m\u001b[0m\n",
      "\u001b[0;32m<ipython-input-23-b1e4e2c3e5a5>\u001b[0m in \u001b[0;36mget_all_dependencies\u001b[0;34m(lib, version, commitTime, depth)\u001b[0m\n\u001b[1;32m      4\u001b[0m \u001b[0;32mdef\u001b[0m \u001b[0mget_all_dependencies\u001b[0m\u001b[0;34m(\u001b[0m\u001b[0mlib\u001b[0m\u001b[0;34m:\u001b[0m \u001b[0mstr\u001b[0m\u001b[0;34m,\u001b[0m \u001b[0mversion\u001b[0m\u001b[0;34m=\u001b[0m\u001b[0;34m\"\"\u001b[0m\u001b[0;34m,\u001b[0m \u001b[0mcommitTime\u001b[0m\u001b[0;34m=\u001b[0m\u001b[0;32mNone\u001b[0m\u001b[0;34m,\u001b[0m \u001b[0mdepth\u001b[0m\u001b[0;34m=\u001b[0m\u001b[0;36m0\u001b[0m\u001b[0;34m)\u001b[0m\u001b[0;34m:\u001b[0m\u001b[0;34m\u001b[0m\u001b[0;34m\u001b[0m\u001b[0m\n\u001b[1;32m      5\u001b[0m     \u001b[0;32mif\u001b[0m \u001b[0mdepth\u001b[0m \u001b[0;34m==\u001b[0m \u001b[0;36m0\u001b[0m\u001b[0;34m:\u001b[0m\u001b[0;34m\u001b[0m\u001b[0;34m\u001b[0m\u001b[0m\n\u001b[0;32m----> 6\u001b[0;31m         \u001b[0;32mreturn\u001b[0m \u001b[0mget_direct_dependencies_cache\u001b[0m\u001b[0;34m(\u001b[0m\u001b[0mlib\u001b[0m\u001b[0;34m,\u001b[0m \u001b[0mversion\u001b[0m\u001b[0;34m,\u001b[0m \u001b[0mcommitTime\u001b[0m\u001b[0;34m)\u001b[0m\u001b[0;34m\u001b[0m\u001b[0;34m\u001b[0m\u001b[0m\n\u001b[0m\u001b[1;32m      7\u001b[0m     \u001b[0mdirect_res\u001b[0m \u001b[0;34m=\u001b[0m \u001b[0mget_direct_dependencies_cache\u001b[0m\u001b[0;34m(\u001b[0m\u001b[0mlib\u001b[0m\u001b[0;34m,\u001b[0m \u001b[0mversion\u001b[0m\u001b[0;34m,\u001b[0m \u001b[0mcommitTime\u001b[0m\u001b[0;34m)\u001b[0m\u001b[0;34m\u001b[0m\u001b[0;34m\u001b[0m\u001b[0m\n\u001b[1;32m      8\u001b[0m     \u001b[0mdirect_res\u001b[0m\u001b[0;34m[\u001b[0m\u001b[0;34m'trans'\u001b[0m\u001b[0;34m]\u001b[0m \u001b[0;34m=\u001b[0m \u001b[0;34m[\u001b[0m\u001b[0;34m]\u001b[0m\u001b[0;34m\u001b[0m\u001b[0;34m\u001b[0m\u001b[0m\n",
      "\u001b[0;32m<ipython-input-21-80165751c0f3>\u001b[0m in \u001b[0;36mwrapper\u001b[0;34m(lib, version, commitTime)\u001b[0m\n\u001b[1;32m     21\u001b[0m             \u001b[0;32mreturn\u001b[0m \u001b[0mcache\u001b[0m\u001b[0;34m\u001b[0m\u001b[0;34m\u001b[0m\u001b[0m\n\u001b[1;32m     22\u001b[0m         \u001b[0;32melse\u001b[0m\u001b[0;34m:\u001b[0m\u001b[0;34m\u001b[0m\u001b[0;34m\u001b[0m\u001b[0m\n\u001b[0;32m---> 23\u001b[0;31m             \u001b[0mres\u001b[0m \u001b[0;34m=\u001b[0m \u001b[0mf\u001b[0m\u001b[0;34m(\u001b[0m\u001b[0mlib\u001b[0m\u001b[0;34m,\u001b[0m \u001b[0mversion\u001b[0m\u001b[0;34m,\u001b[0m \u001b[0mcommitTime\u001b[0m\u001b[0;34m)\u001b[0m\u001b[0;34m\u001b[0m\u001b[0;34m\u001b[0m\u001b[0m\n\u001b[0m\u001b[1;32m     24\u001b[0m             \u001b[0mcache_put\u001b[0m\u001b[0;34m(\u001b[0m\u001b[0mlib\u001b[0m\u001b[0;34m+\u001b[0m\u001b[0;34m''\u001b[0m\u001b[0;34m+\u001b[0m\u001b[0mversion\u001b[0m\u001b[0;34m,\u001b[0m \u001b[0mres\u001b[0m\u001b[0;34m)\u001b[0m  \u001b[0;31m# use argument rather than real version\u001b[0m\u001b[0;34m\u001b[0m\u001b[0;34m\u001b[0m\u001b[0m\n\u001b[1;32m     25\u001b[0m             \u001b[0;32mreturn\u001b[0m \u001b[0mres\u001b[0m\u001b[0;34m\u001b[0m\u001b[0;34m\u001b[0m\u001b[0m\n",
      "\u001b[0;32m<ipython-input-22-d4928883b8d8>\u001b[0m in \u001b[0;36mget_direct_dependencies_cache\u001b[0;34m(lib, version, commitTime)\u001b[0m\n\u001b[1;32m      5\u001b[0m \u001b[0;34m@\u001b[0m\u001b[0mcache_direct_dep\u001b[0m\u001b[0;34m\u001b[0m\u001b[0;34m\u001b[0m\u001b[0m\n\u001b[1;32m      6\u001b[0m \u001b[0;32mdef\u001b[0m \u001b[0mget_direct_dependencies_cache\u001b[0m\u001b[0;34m(\u001b[0m\u001b[0mlib\u001b[0m\u001b[0;34m:\u001b[0m \u001b[0mstr\u001b[0m\u001b[0;34m,\u001b[0m \u001b[0mversion\u001b[0m\u001b[0;34m:\u001b[0m \u001b[0mstr\u001b[0m\u001b[0;34m,\u001b[0m \u001b[0mcommitTime\u001b[0m\u001b[0;34m=\u001b[0m\u001b[0;32mNone\u001b[0m\u001b[0;34m)\u001b[0m\u001b[0;34m:\u001b[0m\u001b[0;34m\u001b[0m\u001b[0;34m\u001b[0m\u001b[0m\n\u001b[0;32m----> 7\u001b[0;31m     \u001b[0;32mreturn\u001b[0m \u001b[0mget_direct_dependencies\u001b[0m\u001b[0;34m(\u001b[0m\u001b[0mlib\u001b[0m\u001b[0;34m,\u001b[0m \u001b[0mversion\u001b[0m\u001b[0;34m,\u001b[0m \u001b[0mcommitTime\u001b[0m\u001b[0;34m)\u001b[0m\u001b[0;34m\u001b[0m\u001b[0;34m\u001b[0m\u001b[0m\n\u001b[0m\u001b[1;32m      8\u001b[0m \u001b[0;34m\u001b[0m\u001b[0m\n\u001b[1;32m      9\u001b[0m \u001b[0mget_direct_dependencies_cache\u001b[0m\u001b[0;34m(\u001b[0m\u001b[0;34m\"org.hibernate:hibernate-core\"\u001b[0m\u001b[0;34m,\u001b[0m \u001b[0;34m''\u001b[0m\u001b[0;34m,\u001b[0m \u001b[0mdatetime\u001b[0m\u001b[0;34m(\u001b[0m\u001b[0;36m2020\u001b[0m\u001b[0;34m,\u001b[0m \u001b[0;36m11\u001b[0m\u001b[0;34m,\u001b[0m \u001b[0;36m22\u001b[0m\u001b[0;34m,\u001b[0m \u001b[0;36m18\u001b[0m\u001b[0;34m,\u001b[0m \u001b[0;36m6\u001b[0m\u001b[0;34m,\u001b[0m \u001b[0;36m39\u001b[0m\u001b[0;34m)\u001b[0m\u001b[0;34m.\u001b[0m\u001b[0mreplace\u001b[0m\u001b[0;34m(\u001b[0m\u001b[0mtzinfo\u001b[0m\u001b[0;34m=\u001b[0m\u001b[0mpytz\u001b[0m\u001b[0;34m.\u001b[0m\u001b[0mtimezone\u001b[0m\u001b[0;34m(\u001b[0m\u001b[0;34m'UTC'\u001b[0m\u001b[0;34m)\u001b[0m\u001b[0;34m)\u001b[0m\u001b[0;34m)\u001b[0m\u001b[0;34m\u001b[0m\u001b[0;34m\u001b[0m\u001b[0m\n",
      "\u001b[0;31mNameError\u001b[0m: name 'get_direct_dependencies' is not defined"
     ]
    }
   ],
   "source": [
    "# simple recursive lookup\n",
    "# slow, 100ms with cache, 100s without cache (depth=4)\n",
    "# @timethis\n",
    "def get_all_dependencies(lib: str, version=\"\", commitTime=None, depth=0):\n",
    "    if depth == 0:\n",
    "        return get_direct_dependencies_cache(lib, version, commitTime)\n",
    "    direct_res = get_direct_dependencies_cache(lib, version, commitTime)\n",
    "    direct_res['trans'] = []\n",
    "    for key, value in direct_res['dep'].items():\n",
    "        temp_res = get_all_dependencies(key, value, commitTime, depth-1)\n",
    "        direct_res['trans'].append(temp_res)\n",
    "    return direct_res\n",
    "\n",
    "get_all_dependencies(lib=\"org.hibernate:hibernate-core\", depth=4)"
   ]
  },
  {
   "cell_type": "code",
   "execution_count": 26,
   "metadata": {},
   "outputs": [
    {
     "data": {
      "image/png": "[encoded data removed]",
      "text/plain": [
       "<Figure size 432x288 with 1 Axes>"
      ]
     },
     "metadata": {},
     "output_type": "display_data"
    }
   ],
   "source": [
    "import networkx as nx \n",
    "dep_graph = nx.DiGraph()\n",
    "\n",
    "# dependency graph should be acyclic\n",
    "class LoopInDependencyGraph(Exception):\n",
    "    pass \n",
    "\n",
    "def add_to_dependency_graph(lib: str, version=\"\", commitTime=None, max_depth=100):\n",
    "    if max_depth == 0:\n",
    "        raise LoopInDependencyGraph(f'{lib} {version}')\n",
    "\n",
    "    direct_res = get_direct_dependencies_cache(lib, version, commitTime)\n",
    "    node_name = direct_res['lib'] + ' ' + direct_res['version']\n",
    "    if not dep_graph.has_node(node_name):\n",
    "        for key, value in direct_res['dep'].items():\n",
    "            subnode_name = add_to_dependency_graph(key, value, commitTime, max_depth-1)\n",
    "            dep_graph.add_edge(node_name, subnode_name)\n",
    "    return node_name\n",
    "\n",
    "import matplotlib.pyplot as plt \n",
    "add_to_dependency_graph('org.apache.ant:ant', '1.7.0', datetime(2020, 11, 22, 18, 6, 39).replace(tzinfo=pytz.timezone('UTC')))\n",
    "nx.draw(dep_graph, with_labels=True)\n",
    "plt.show()"
   ]
  },
  {
   "cell_type": "code",
   "execution_count": 17,
   "metadata": {},
   "outputs": [
    {
     "output_type": "execute_result",
     "data": {
      "text/plain": [
       "(array(['commons-codec:commons-codec:1.8', 'junit:junit:4.12',\n",
       "        'org.bouncycastle:bcprov-jdk15on:1.56', ...,\n",
       "        'org.b3log:latke-repository-h2:0.5.0-SNAPSHOT',\n",
       "        'org.b3log:latke:${project.parent.version}',\n",
       "        'com.yahoo.platform.yui:yuicompressor:\\n'], dtype=object),\n",
       " array(['?:?', 'org.junit.jupiter:junit-jupiter-api:?', 'junit:junit:?',\n",
       "        ..., 'org.b3log:latke:?',\n",
       "        'org.b3log:latke:${project.parent.version}',\n",
       "        'org.slf4j:slf4j-jdk14:1.7.30'], dtype=object))"
      ]
     },
     "metadata": {},
     "execution_count": 17
    }
   ],
   "source": [
    "# replace nan with '?'\n",
    "dep_change = dep_change.fillna('?')\n",
    "# dep_add.drop(columns=['Unnamed: 0', 'Unnamed: 0.1'], inplace=True)\n",
    "dep_name1 = pd.unique(dep_change['lib2'] + ':' + dep_change['ver2'])\n",
    "dep_name2 = pd.unique(dep_change['lib1'] + ':' + dep_change['ver1'])\n",
    "dep_name1, dep_name2"
   ]
  },
  {
   "cell_type": "code",
   "execution_count": 18,
   "metadata": {},
   "outputs": [
    {
     "output_type": "execute_result",
     "data": {
      "text/plain": [
       "                                                 dep_name\n",
       "0                         commons-codec:commons-codec:1.8\n",
       "1                                        junit:junit:4.12\n",
       "2                    org.bouncycastle:bcprov-jdk15on:1.56\n",
       "3                                       junit:junit:3.8.1\n",
       "4                                           junit:junit:?\n",
       "...                                                   ...\n",
       "657421  io.swagger:swagger-annotations:${swagger.core....\n",
       "657422         com.alibaba.rocketmq:rocketmq-client:3.5.9\n",
       "657423                                  org.b3log:latke:?\n",
       "657424          org.b3log:latke:${project.parent.version}\n",
       "657425                       org.slf4j:slf4j-jdk14:1.7.30\n",
       "\n",
       "[657426 rows x 1 columns]"
      ],
      "text/html": "<div>\n<style scoped>\n    .dataframe tbody tr th:only-of-type {\n        vertical-align: middle;\n    }\n\n    .dataframe tbody tr th {\n        vertical-align: top;\n    }\n\n    .dataframe thead th {\n        text-align: right;\n    }\n</style>\n<table border=\"1\" class=\"dataframe\">\n  <thead>\n    <tr style=\"text-align: right;\">\n      <th></th>\n      <th>dep_name</th>\n    </tr>\n  </thead>\n  <tbody>\n    <tr>\n      <th>0</th>\n      <td>commons-codec:commons-codec:1.8</td>\n    </tr>\n    <tr>\n      <th>1</th>\n      <td>junit:junit:4.12</td>\n    </tr>\n    <tr>\n      <th>2</th>\n      <td>org.bouncycastle:bcprov-jdk15on:1.56</td>\n    </tr>\n    <tr>\n      <th>3</th>\n      <td>junit:junit:3.8.1</td>\n    </tr>\n    <tr>\n      <th>4</th>\n      <td>junit:junit:?</td>\n    </tr>\n    <tr>\n      <th>...</th>\n      <td>...</td>\n    </tr>\n    <tr>\n      <th>657421</th>\n      <td>io.swagger:swagger-annotations:${swagger.core....</td>\n    </tr>\n    <tr>\n      <th>657422</th>\n      <td>com.alibaba.rocketmq:rocketmq-client:3.5.9</td>\n    </tr>\n    <tr>\n      <th>657423</th>\n      <td>org.b3log:latke:?</td>\n    </tr>\n    <tr>\n      <th>657424</th>\n      <td>org.b3log:latke:${project.parent.version}</td>\n    </tr>\n    <tr>\n      <th>657425</th>\n      <td>org.slf4j:slf4j-jdk14:1.7.30</td>\n    </tr>\n  </tbody>\n</table>\n<p>657426 rows × 1 columns</p>\n</div>"
     },
     "metadata": {},
     "execution_count": 18
    }
   ],
   "source": [
    "dep_names = np.concatenate((dep_name1, dep_name2), axis=0)\n",
    "dep_unique = pd.DataFrame(dep_names, columns=['dep_name'])\n",
    "dep_unique"
   ]
  },
  {
   "cell_type": "code",
   "execution_count": 15,
   "metadata": {},
   "outputs": [
    {
     "output_type": "error",
     "ename": "NameError",
     "evalue": "name 'dep_unique' is not defined",
     "traceback": [
      "\u001b[0;31m---------------------------------------------------------------------------\u001b[0m",
      "\u001b[0;31mNameError\u001b[0m                                 Traceback (most recent call last)",
      "\u001b[0;32m<ipython-input-15-409489f5591b>\u001b[0m in \u001b[0;36m<module>\u001b[0;34m\u001b[0m\n\u001b[0;32m----> 1\u001b[0;31m \u001b[0;32mfor\u001b[0m \u001b[0mindex\u001b[0m\u001b[0;34m,\u001b[0m \u001b[0mrow\u001b[0m \u001b[0;32min\u001b[0m \u001b[0mtqdm\u001b[0m\u001b[0;34m(\u001b[0m\u001b[0mlist\u001b[0m\u001b[0;34m(\u001b[0m\u001b[0mdep_unique\u001b[0m\u001b[0;34m.\u001b[0m\u001b[0miterrows\u001b[0m\u001b[0;34m(\u001b[0m\u001b[0;34m)\u001b[0m\u001b[0;34m)\u001b[0m\u001b[0;34m)\u001b[0m\u001b[0;34m:\u001b[0m\u001b[0;34m\u001b[0m\u001b[0;34m\u001b[0m\u001b[0m\n\u001b[0m\u001b[1;32m      2\u001b[0m     \u001b[0mdep_unique\u001b[0m\u001b[0;34m.\u001b[0m\u001b[0mat\u001b[0m\u001b[0;34m[\u001b[0m\u001b[0mindex\u001b[0m\u001b[0;34m,\u001b[0m \u001b[0;34m'lib'\u001b[0m\u001b[0;34m]\u001b[0m \u001b[0;34m=\u001b[0m \u001b[0;34m':'\u001b[0m\u001b[0;34m.\u001b[0m\u001b[0mjoin\u001b[0m\u001b[0;34m(\u001b[0m\u001b[0mstr\u001b[0m\u001b[0;34m(\u001b[0m\u001b[0mrow\u001b[0m\u001b[0;34m[\u001b[0m\u001b[0;34m'dep_name'\u001b[0m\u001b[0;34m]\u001b[0m\u001b[0;34m)\u001b[0m\u001b[0;34m.\u001b[0m\u001b[0msplit\u001b[0m\u001b[0;34m(\u001b[0m\u001b[0;34m':'\u001b[0m\u001b[0;34m)\u001b[0m\u001b[0;34m[\u001b[0m\u001b[0;34m:\u001b[0m\u001b[0;34m-\u001b[0m\u001b[0;36m1\u001b[0m\u001b[0;34m]\u001b[0m\u001b[0;34m)\u001b[0m\u001b[0;34m\u001b[0m\u001b[0;34m\u001b[0m\u001b[0m\n\u001b[1;32m      3\u001b[0m     \u001b[0mdep_unique\u001b[0m\u001b[0;34m.\u001b[0m\u001b[0mat\u001b[0m\u001b[0;34m[\u001b[0m\u001b[0mindex\u001b[0m\u001b[0;34m,\u001b[0m \u001b[0;34m'version'\u001b[0m\u001b[0;34m]\u001b[0m \u001b[0;34m=\u001b[0m \u001b[0mparse_version\u001b[0m\u001b[0;34m(\u001b[0m\u001b[0mstr\u001b[0m\u001b[0;34m(\u001b[0m\u001b[0mrow\u001b[0m\u001b[0;34m[\u001b[0m\u001b[0;34m'dep_name'\u001b[0m\u001b[0;34m]\u001b[0m\u001b[0;34m)\u001b[0m\u001b[0;34m.\u001b[0m\u001b[0msplit\u001b[0m\u001b[0;34m(\u001b[0m\u001b[0;34m':'\u001b[0m\u001b[0;34m)\u001b[0m\u001b[0;34m[\u001b[0m\u001b[0;34m-\u001b[0m\u001b[0;36m1\u001b[0m\u001b[0;34m]\u001b[0m\u001b[0;34m)\u001b[0m\u001b[0;34m\u001b[0m\u001b[0;34m\u001b[0m\u001b[0m\n\u001b[1;32m      4\u001b[0m     \u001b[0;32mtry\u001b[0m\u001b[0;34m:\u001b[0m\u001b[0;34m\u001b[0m\u001b[0;34m\u001b[0m\u001b[0m\n\u001b[1;32m      5\u001b[0m         \u001b[0mdep_unique\u001b[0m\u001b[0;34m.\u001b[0m\u001b[0mat\u001b[0m\u001b[0;34m[\u001b[0m\u001b[0mindex\u001b[0m\u001b[0;34m,\u001b[0m \u001b[0;34m'published_time'\u001b[0m\u001b[0;34m]\u001b[0m \u001b[0;34m=\u001b[0m \u001b[0mget_version_published_time\u001b[0m\u001b[0;34m(\u001b[0m\u001b[0mdep_unique\u001b[0m\u001b[0;34m.\u001b[0m\u001b[0mat\u001b[0m\u001b[0;34m[\u001b[0m\u001b[0mindex\u001b[0m\u001b[0;34m,\u001b[0m \u001b[0;34m'lib'\u001b[0m\u001b[0;34m]\u001b[0m\u001b[0;34m,\u001b[0m \u001b[0mdep_unique\u001b[0m\u001b[0;34m.\u001b[0m\u001b[0mat\u001b[0m\u001b[0;34m[\u001b[0m\u001b[0mindex\u001b[0m\u001b[0;34m,\u001b[0m \u001b[0;34m'version'\u001b[0m\u001b[0;34m]\u001b[0m\u001b[0;34m)\u001b[0m\u001b[0;34m\u001b[0m\u001b[0;34m\u001b[0m\u001b[0m\n",
      "\u001b[0;31mNameError\u001b[0m: name 'dep_unique' is not defined"
     ]
    }
   ],
   "source": [
    "for index, row in tqdm(list(dep_unique.iterrows())):\n",
    "    dep_unique.at[index, 'lib'] = ':'.join(str(row['dep_name']).split(':')[:-1])\n",
    "    dep_unique.at[index, 'version'] = parse_version(str(row['dep_name']).split(':')[-1])\n",
    "    try:\n",
    "        dep_unique.at[index, 'published_time'] = get_version_published_time(dep_unique.at[index, 'lib'], dep_unique.at[index, 'version'])\n",
    "    except LioNotFoundException:\n",
    "        dep_unique.at[index, 'published_time'] = None\n",
    "# checkpoint here\n",
    "dep_unique.to_csv('cache/dep_unique.csv', index=False)\n",
    "dep_unique"
   ]
  },
  {
   "cell_type": "code",
   "execution_count": 19,
   "metadata": {},
   "outputs": [
    {
     "output_type": "execute_result",
     "data": {
      "text/plain": [
       "                                                 dep_name  \\\n",
       "0                         commons-codec:commons-codec:1.8   \n",
       "1                                        junit:junit:4.12   \n",
       "2                    org.bouncycastle:bcprov-jdk15on:1.56   \n",
       "3                                       junit:junit:3.8.1   \n",
       "4                                           junit:junit:?   \n",
       "...                                                   ...   \n",
       "657421  io.swagger:swagger-annotations:${swagger.core....   \n",
       "657422         com.alibaba.rocketmq:rocketmq-client:3.5.9   \n",
       "657423                                  org.b3log:latke:?   \n",
       "657424          org.b3log:latke:${project.parent.version}   \n",
       "657425                       org.slf4j:slf4j-jdk14:1.7.30   \n",
       "\n",
       "                                         lib version  \\\n",
       "0                commons-codec:commons-codec     1.8   \n",
       "1                                junit:junit    4.12   \n",
       "2            org.bouncycastle:bcprov-jdk15on    1.56   \n",
       "3                                junit:junit   3.8.1   \n",
       "4                                junit:junit     NaN   \n",
       "...                                      ...     ...   \n",
       "657421        io.swagger:swagger-annotations     NaN   \n",
       "657422  com.alibaba.rocketmq:rocketmq-client   3.5.9   \n",
       "657423                       org.b3log:latke     NaN   \n",
       "657424                       org.b3log:latke     NaN   \n",
       "657425                 org.slf4j:slf4j-jdk14  1.7.30   \n",
       "\n",
       "                   published_time  \n",
       "0                             NaN  \n",
       "1                             NaN  \n",
       "2                             NaN  \n",
       "3       2005-08-01 09:42:48+00:00  \n",
       "4                             NaN  \n",
       "...                           ...  \n",
       "657421                        NaN  \n",
       "657422  2016-09-15 07:16:54+00:00  \n",
       "657423                        NaN  \n",
       "657424                        NaN  \n",
       "657425                        NaN  \n",
       "\n",
       "[657426 rows x 4 columns]"
      ],
      "text/html": "<div>\n<style scoped>\n    .dataframe tbody tr th:only-of-type {\n        vertical-align: middle;\n    }\n\n    .dataframe tbody tr th {\n        vertical-align: top;\n    }\n\n    .dataframe thead th {\n        text-align: right;\n    }\n</style>\n<table border=\"1\" class=\"dataframe\">\n  <thead>\n    <tr style=\"text-align: right;\">\n      <th></th>\n      <th>dep_name</th>\n      <th>lib</th>\n      <th>version</th>\n      <th>published_time</th>\n    </tr>\n  </thead>\n  <tbody>\n    <tr>\n      <th>0</th>\n      <td>commons-codec:commons-codec:1.8</td>\n      <td>commons-codec:commons-codec</td>\n      <td>1.8</td>\n      <td>NaN</td>\n    </tr>\n    <tr>\n      <th>1</th>\n      <td>junit:junit:4.12</td>\n      <td>junit:junit</td>\n      <td>4.12</td>\n      <td>NaN</td>\n    </tr>\n    <tr>\n      <th>2</th>\n      <td>org.bouncycastle:bcprov-jdk15on:1.56</td>\n      <td>org.bouncycastle:bcprov-jdk15on</td>\n      <td>1.56</td>\n      <td>NaN</td>\n    </tr>\n    <tr>\n      <th>3</th>\n      <td>junit:junit:3.8.1</td>\n      <td>junit:junit</td>\n      <td>3.8.1</td>\n      <td>2005-08-01 09:42:48+00:00</td>\n    </tr>\n    <tr>\n      <th>4</th>\n      <td>junit:junit:?</td>\n      <td>junit:junit</td>\n      <td>NaN</td>\n      <td>NaN</td>\n    </tr>\n    <tr>\n      <th>...</th>\n      <td>...</td>\n      <td>...</td>\n      <td>...</td>\n      <td>...</td>\n    </tr>\n    <tr>\n      <th>657421</th>\n      <td>io.swagger:swagger-annotations:${swagger.core....</td>\n      <td>io.swagger:swagger-annotations</td>\n      <td>NaN</td>\n      <td>NaN</td>\n    </tr>\n    <tr>\n      <th>657422</th>\n      <td>com.alibaba.rocketmq:rocketmq-client:3.5.9</td>\n      <td>com.alibaba.rocketmq:rocketmq-client</td>\n      <td>3.5.9</td>\n      <td>2016-09-15 07:16:54+00:00</td>\n    </tr>\n    <tr>\n      <th>657423</th>\n      <td>org.b3log:latke:?</td>\n      <td>org.b3log:latke</td>\n      <td>NaN</td>\n      <td>NaN</td>\n    </tr>\n    <tr>\n      <th>657424</th>\n      <td>org.b3log:latke:${project.parent.version}</td>\n      <td>org.b3log:latke</td>\n      <td>NaN</td>\n      <td>NaN</td>\n    </tr>\n    <tr>\n      <th>657425</th>\n      <td>org.slf4j:slf4j-jdk14:1.7.30</td>\n      <td>org.slf4j:slf4j-jdk14</td>\n      <td>1.7.30</td>\n      <td>NaN</td>\n    </tr>\n  </tbody>\n</table>\n<p>657426 rows × 4 columns</p>\n</div>"
     },
     "metadata": {},
     "execution_count": 19
    }
   ],
   "source": [
    "dep_unique=pd.read_csv('cache/dep_unique.csv', low_memory=False)\n",
    "dep_unique"
   ]
  },
  {
   "cell_type": "code",
   "execution_count": null,
   "metadata": {
    "tags": []
   },
   "outputs": [
    {
     "data": {
      "application/vnd.jupyter.widget-view+json": {
       "model_id": "d992afe95c22435c99d2025462f77e02",
       "version_major": 2,
       "version_minor": 0
      },
      "text/plain": [
       "HBox(children=(HTML(value=''), FloatProgress(value=0.0, max=119807.0), HTML(value='')))"
      ]
     },
     "metadata": {},
     "output_type": "display_data"
    }
   ],
   "source": [
    "from tqdm.contrib.concurrent import thread_map\n",
    "import pickle\n",
    "\n",
    "# log on mismatch\n",
    "\n",
    "dep_mismatch = []\n",
    "dep_nonexist = []\n",
    "dep_loop = []\n",
    "dep_not_equal = []\n",
    "total_lookup = 0\n",
    "cache_hit = 0\n",
    "\n",
    "dep_graph = nx.DiGraph()\n",
    "\n",
    "def thread_worker(row):\n",
    "    try:\n",
    "        # data format loss in csv?\n",
    "        lib = str(row['lib'])\n",
    "        version = str(row['version'])\n",
    "        published_time = pd.to_datetime(row['published_time']) if row['published_time'] else None\n",
    "        add_to_dependency_graph(lib, version, published_time, 25)  # only handle 25 layers\n",
    "    except (LioNotFoundException, LibNotFoundException) as e:\n",
    "        print(e, file=sys.stderr)\n",
    "        dep_nonexist.append({'lib':row['lib'], 'version':row['version'], \"msg\": e})\n",
    "    except LoopInDependencyGraph as e:\n",
    "        dep_loop.append({'lib':row['lib'], 'version':row['version'], \"msg\": e})\n",
    "    except DependencyVersionNotEqual as e:\n",
    "        dep_not_equal.append({'lib':row['lib'], 'version':row['version'], \"msg\": e})\n",
    "\n",
    "n_workers = mp.cpu_count() // 2\n",
    "args = [x[1] for x in dep_unique.iterrows()]\n",
    "thread_map(thread_worker, args, max_workers=n_workers)  # didn't know you can do this\n",
    "\n",
    "# checkpoint here\n",
    "nx.write_gpickle(dep_graph, \"cache/dep_graph.gz\")\n",
    "pickle.dump(dep_mismatch, \"cache/mismatch.pkl\")\n",
    "pickle.dump(dep_nonexist, \"cache/nonexist.pkl\")\n",
    "pickle.dump(dep_loop, \"cache/loop.pkl\")\n",
    "pickle.dump(dep_not_equal,\"cache/not_equal.pkl\")\n",
    "print(f\"{dep_graph.number_of_nodes()} libs, {dep_graph.number_of_edges()} deps\")\n",
    "print(f\"cache hits:{cache_hit}/{total_lookup}\")\n",
    "print(f\"mismatch:{len(dep_mismatch)}, nonexist:{len(dep_nonexist)}, too_deep:{len(dep_loop)}, not_equal{len(dep_not_equal)}\")"
   ]
  },
  {
   "cell_type": "code",
   "execution_count": 7,
   "metadata": {},
   "outputs": [
    {
     "output_type": "error",
     "ename": "FileNotFoundError",
     "evalue": "[Errno 2] No such file or directory: 'cache/dep_graph.gz'",
     "traceback": [
      "\u001b[0;31m---------------------------------------------------------------------------\u001b[0m",
      "\u001b[0;31mFileNotFoundError\u001b[0m                         Traceback (most recent call last)",
      "\u001b[0;32m<ipython-input-7-7514e1d34e20>\u001b[0m in \u001b[0;36m<module>\u001b[0;34m\u001b[0m\n\u001b[1;32m      1\u001b[0m \u001b[0;32mimport\u001b[0m \u001b[0mnetworkx\u001b[0m \u001b[0;32mas\u001b[0m \u001b[0mnx\u001b[0m\u001b[0;34m\u001b[0m\u001b[0;34m\u001b[0m\u001b[0m\n\u001b[0;32m----> 2\u001b[0;31m \u001b[0mdep_graph\u001b[0m \u001b[0;34m=\u001b[0m \u001b[0mnx\u001b[0m\u001b[0;34m.\u001b[0m\u001b[0mread_gpickle\u001b[0m\u001b[0;34m(\u001b[0m\u001b[0;34m\"cache/dep_graph.gz\"\u001b[0m\u001b[0;34m)\u001b[0m\u001b[0;34m\u001b[0m\u001b[0;34m\u001b[0m\u001b[0m\n\u001b[0m\u001b[1;32m      3\u001b[0m \u001b[0mdep_mismatch\u001b[0m \u001b[0;34m=\u001b[0m \u001b[0mpickle\u001b[0m\u001b[0;34m.\u001b[0m\u001b[0mload\u001b[0m\u001b[0;34m(\u001b[0m\u001b[0;34m\"cache/mismatch.pkl\"\u001b[0m\u001b[0;34m)\u001b[0m\u001b[0;34m\u001b[0m\u001b[0;34m\u001b[0m\u001b[0m\n\u001b[1;32m      4\u001b[0m \u001b[0mdep_nonexist\u001b[0m \u001b[0;34m=\u001b[0m \u001b[0mpickle\u001b[0m\u001b[0;34m.\u001b[0m\u001b[0mdump\u001b[0m\u001b[0;34m(\u001b[0m\u001b[0;34m\"cache/nonexist.pkl\"\u001b[0m\u001b[0;34m)\u001b[0m\u001b[0;34m\u001b[0m\u001b[0;34m\u001b[0m\u001b[0m\n\u001b[1;32m      5\u001b[0m \u001b[0mdep_loop\u001b[0m \u001b[0;34m=\u001b[0m \u001b[0mpickle\u001b[0m\u001b[0;34m.\u001b[0m\u001b[0mdump\u001b[0m\u001b[0;34m(\u001b[0m\u001b[0;34m\"cache/loop.pkl\"\u001b[0m\u001b[0;34m)\u001b[0m\u001b[0;34m\u001b[0m\u001b[0;34m\u001b[0m\u001b[0m\n",
      "\u001b[0;32m<decorator-gen-770>\u001b[0m in \u001b[0;36mread_gpickle\u001b[0;34m(path)\u001b[0m\n",
      "\u001b[0;32m~/miniconda3/lib/python3.8/site-packages/networkx/utils/decorators.py\u001b[0m in \u001b[0;36m_open_file\u001b[0;34m(func_to_be_decorated, *args, **kwargs)\u001b[0m\n\u001b[1;32m    211\u001b[0m         \u001b[0;32mif\u001b[0m \u001b[0misinstance\u001b[0m\u001b[0;34m(\u001b[0m\u001b[0mpath\u001b[0m\u001b[0;34m,\u001b[0m \u001b[0mstr\u001b[0m\u001b[0;34m)\u001b[0m\u001b[0;34m:\u001b[0m\u001b[0;34m\u001b[0m\u001b[0;34m\u001b[0m\u001b[0m\n\u001b[1;32m    212\u001b[0m             \u001b[0mext\u001b[0m \u001b[0;34m=\u001b[0m \u001b[0msplitext\u001b[0m\u001b[0;34m(\u001b[0m\u001b[0mpath\u001b[0m\u001b[0;34m)\u001b[0m\u001b[0;34m[\u001b[0m\u001b[0;36m1\u001b[0m\u001b[0;34m]\u001b[0m\u001b[0;34m\u001b[0m\u001b[0;34m\u001b[0m\u001b[0m\n\u001b[0;32m--> 213\u001b[0;31m             \u001b[0mfobj\u001b[0m \u001b[0;34m=\u001b[0m \u001b[0m_dispatch_dict\u001b[0m\u001b[0;34m[\u001b[0m\u001b[0mext\u001b[0m\u001b[0;34m]\u001b[0m\u001b[0;34m(\u001b[0m\u001b[0mpath\u001b[0m\u001b[0;34m,\u001b[0m \u001b[0mmode\u001b[0m\u001b[0;34m=\u001b[0m\u001b[0mmode\u001b[0m\u001b[0;34m)\u001b[0m\u001b[0;34m\u001b[0m\u001b[0;34m\u001b[0m\u001b[0m\n\u001b[0m\u001b[1;32m    214\u001b[0m             \u001b[0mclose_fobj\u001b[0m \u001b[0;34m=\u001b[0m \u001b[0;32mTrue\u001b[0m\u001b[0;34m\u001b[0m\u001b[0;34m\u001b[0m\u001b[0m\n\u001b[1;32m    215\u001b[0m         \u001b[0;32melif\u001b[0m \u001b[0mhasattr\u001b[0m\u001b[0;34m(\u001b[0m\u001b[0mpath\u001b[0m\u001b[0;34m,\u001b[0m \u001b[0;34m\"read\"\u001b[0m\u001b[0;34m)\u001b[0m\u001b[0;34m:\u001b[0m\u001b[0;34m\u001b[0m\u001b[0;34m\u001b[0m\u001b[0m\n",
      "\u001b[0;32m~/miniconda3/lib/python3.8/site-packages/networkx/utils/decorators.py\u001b[0m in \u001b[0;36m_open_gz\u001b[0;34m(path, mode)\u001b[0m\n\u001b[1;32m     84\u001b[0m     \u001b[0;32mimport\u001b[0m \u001b[0mgzip\u001b[0m\u001b[0;34m\u001b[0m\u001b[0;34m\u001b[0m\u001b[0m\n\u001b[1;32m     85\u001b[0m \u001b[0;34m\u001b[0m\u001b[0m\n\u001b[0;32m---> 86\u001b[0;31m     \u001b[0;32mreturn\u001b[0m \u001b[0mgzip\u001b[0m\u001b[0;34m.\u001b[0m\u001b[0mopen\u001b[0m\u001b[0;34m(\u001b[0m\u001b[0mpath\u001b[0m\u001b[0;34m,\u001b[0m \u001b[0mmode\u001b[0m\u001b[0;34m=\u001b[0m\u001b[0mmode\u001b[0m\u001b[0;34m)\u001b[0m\u001b[0;34m\u001b[0m\u001b[0;34m\u001b[0m\u001b[0m\n\u001b[0m\u001b[1;32m     87\u001b[0m \u001b[0;34m\u001b[0m\u001b[0m\n\u001b[1;32m     88\u001b[0m \u001b[0;34m\u001b[0m\u001b[0m\n",
      "\u001b[0;32m~/miniconda3/lib/python3.8/gzip.py\u001b[0m in \u001b[0;36mopen\u001b[0;34m(filename, mode, compresslevel, encoding, errors, newline)\u001b[0m\n\u001b[1;32m     56\u001b[0m     \u001b[0mgz_mode\u001b[0m \u001b[0;34m=\u001b[0m \u001b[0mmode\u001b[0m\u001b[0;34m.\u001b[0m\u001b[0mreplace\u001b[0m\u001b[0;34m(\u001b[0m\u001b[0;34m\"t\"\u001b[0m\u001b[0;34m,\u001b[0m \u001b[0;34m\"\"\u001b[0m\u001b[0;34m)\u001b[0m\u001b[0;34m\u001b[0m\u001b[0;34m\u001b[0m\u001b[0m\n\u001b[1;32m     57\u001b[0m     \u001b[0;32mif\u001b[0m \u001b[0misinstance\u001b[0m\u001b[0;34m(\u001b[0m\u001b[0mfilename\u001b[0m\u001b[0;34m,\u001b[0m \u001b[0;34m(\u001b[0m\u001b[0mstr\u001b[0m\u001b[0;34m,\u001b[0m \u001b[0mbytes\u001b[0m\u001b[0;34m,\u001b[0m \u001b[0mos\u001b[0m\u001b[0;34m.\u001b[0m\u001b[0mPathLike\u001b[0m\u001b[0;34m)\u001b[0m\u001b[0;34m)\u001b[0m\u001b[0;34m:\u001b[0m\u001b[0;34m\u001b[0m\u001b[0;34m\u001b[0m\u001b[0m\n\u001b[0;32m---> 58\u001b[0;31m         \u001b[0mbinary_file\u001b[0m \u001b[0;34m=\u001b[0m \u001b[0mGzipFile\u001b[0m\u001b[0;34m(\u001b[0m\u001b[0mfilename\u001b[0m\u001b[0;34m,\u001b[0m \u001b[0mgz_mode\u001b[0m\u001b[0;34m,\u001b[0m \u001b[0mcompresslevel\u001b[0m\u001b[0;34m)\u001b[0m\u001b[0;34m\u001b[0m\u001b[0;34m\u001b[0m\u001b[0m\n\u001b[0m\u001b[1;32m     59\u001b[0m     \u001b[0;32melif\u001b[0m \u001b[0mhasattr\u001b[0m\u001b[0;34m(\u001b[0m\u001b[0mfilename\u001b[0m\u001b[0;34m,\u001b[0m \u001b[0;34m\"read\"\u001b[0m\u001b[0;34m)\u001b[0m \u001b[0;32mor\u001b[0m \u001b[0mhasattr\u001b[0m\u001b[0;34m(\u001b[0m\u001b[0mfilename\u001b[0m\u001b[0;34m,\u001b[0m \u001b[0;34m\"write\"\u001b[0m\u001b[0;34m)\u001b[0m\u001b[0;34m:\u001b[0m\u001b[0;34m\u001b[0m\u001b[0;34m\u001b[0m\u001b[0m\n\u001b[1;32m     60\u001b[0m         \u001b[0mbinary_file\u001b[0m \u001b[0;34m=\u001b[0m \u001b[0mGzipFile\u001b[0m\u001b[0;34m(\u001b[0m\u001b[0;32mNone\u001b[0m\u001b[0;34m,\u001b[0m \u001b[0mgz_mode\u001b[0m\u001b[0;34m,\u001b[0m \u001b[0mcompresslevel\u001b[0m\u001b[0;34m,\u001b[0m \u001b[0mfilename\u001b[0m\u001b[0;34m)\u001b[0m\u001b[0;34m\u001b[0m\u001b[0;34m\u001b[0m\u001b[0m\n",
      "\u001b[0;32m~/miniconda3/lib/python3.8/gzip.py\u001b[0m in \u001b[0;36m__init__\u001b[0;34m(self, filename, mode, compresslevel, fileobj, mtime)\u001b[0m\n\u001b[1;32m    171\u001b[0m             \u001b[0mmode\u001b[0m \u001b[0;34m+=\u001b[0m \u001b[0;34m'b'\u001b[0m\u001b[0;34m\u001b[0m\u001b[0;34m\u001b[0m\u001b[0m\n\u001b[1;32m    172\u001b[0m         \u001b[0;32mif\u001b[0m \u001b[0mfileobj\u001b[0m \u001b[0;32mis\u001b[0m \u001b[0;32mNone\u001b[0m\u001b[0;34m:\u001b[0m\u001b[0;34m\u001b[0m\u001b[0;34m\u001b[0m\u001b[0m\n\u001b[0;32m--> 173\u001b[0;31m             \u001b[0mfileobj\u001b[0m \u001b[0;34m=\u001b[0m \u001b[0mself\u001b[0m\u001b[0;34m.\u001b[0m\u001b[0mmyfileobj\u001b[0m \u001b[0;34m=\u001b[0m \u001b[0mbuiltins\u001b[0m\u001b[0;34m.\u001b[0m\u001b[0mopen\u001b[0m\u001b[0;34m(\u001b[0m\u001b[0mfilename\u001b[0m\u001b[0;34m,\u001b[0m \u001b[0mmode\u001b[0m \u001b[0;32mor\u001b[0m \u001b[0;34m'rb'\u001b[0m\u001b[0;34m)\u001b[0m\u001b[0;34m\u001b[0m\u001b[0;34m\u001b[0m\u001b[0m\n\u001b[0m\u001b[1;32m    174\u001b[0m         \u001b[0;32mif\u001b[0m \u001b[0mfilename\u001b[0m \u001b[0;32mis\u001b[0m \u001b[0;32mNone\u001b[0m\u001b[0;34m:\u001b[0m\u001b[0;34m\u001b[0m\u001b[0;34m\u001b[0m\u001b[0m\n\u001b[1;32m    175\u001b[0m             \u001b[0mfilename\u001b[0m \u001b[0;34m=\u001b[0m \u001b[0mgetattr\u001b[0m\u001b[0;34m(\u001b[0m\u001b[0mfileobj\u001b[0m\u001b[0;34m,\u001b[0m \u001b[0;34m'name'\u001b[0m\u001b[0;34m,\u001b[0m \u001b[0;34m''\u001b[0m\u001b[0;34m)\u001b[0m\u001b[0;34m\u001b[0m\u001b[0;34m\u001b[0m\u001b[0m\n",
      "\u001b[0;31mFileNotFoundError\u001b[0m: [Errno 2] No such file or directory: 'cache/dep_graph.gz'"
     ]
    }
   ],
   "source": [
    "import networkx as nx\n",
    "dep_graph = nx.read_gpickle(\"cache/dep_graph.gz\")\n",
    "dep_mismatch = pickle.load(\"cache/mismatch.pkl\")\n",
    "dep_nonexist = pickle.dump(\"cache/nonexist.pkl\")\n",
    "dep_loop = pickle.dump(\"cache/loop.pkl\")\n",
    "dep_not_equal = pickle.dump(\"cache/not_equal.pkl\")\n",
    "print(f\"{dep_graph.number_of_nodes()} libs, {dep_graph.number_of_edges()} deps\")\n",
    "print(f\"cache hits:{cache_hit}/{total_lookup}\")\n",
    "print(f\"mismatch:{len(dep_mismatch)}, nonexist:{len(dep_nonexist)}, too_deep:{len(dep_loop)}, not_equal{len(dep_not_equal)}\")"
   ]
  },
  {
   "cell_type": "code",
   "execution_count": null,
   "metadata": {},
   "outputs": [],
   "source": []
  }
 ],
 "metadata": {
  "kernelspec": {
   "display_name": "Python 3",
   "language": "python",
   "name": "python3"
  },
  "language_info": {
   "codemirror_mode": {
    "name": "ipython",
    "version": 3
   },
   "file_extension": ".py",
   "mimetype": "text/x-python",
   "name": "python",
   "nbconvert_exporter": "python",
   "pygments_lexer": "ipython3",
   "version": "3.8.5-final"
  }
 },
 "nbformat": 4,
 "nbformat_minor": 2
}