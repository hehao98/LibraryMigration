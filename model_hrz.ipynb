{
 "metadata": {
  "language_info": {
   "codemirror_mode": {
    "name": "ipython",
    "version": 3
   },
   "file_extension": ".py",
   "mimetype": "text/x-python",
   "name": "python",
   "nbconvert_exporter": "python",
   "pygments_lexer": "ipython3",
   "version": "3.8.5-final"
  },
  "orig_nbformat": 2,
  "kernelspec": {
   "name": "python3",
   "display_name": "Python 3.8.5 64-bit ('base': conda)",
   "metadata": {
    "interpreter": {
     "hash": "ce912873324fe2f245988b44af0f688c56bde94db105b868695e8f8dfd2c4408"
    }
   }
  }
 },
 "nbformat": 4,
 "nbformat_minor": 2,
 "cells": [
  {
   "cell_type": "code",
   "execution_count": 5,
   "metadata": {},
   "outputs": [],
   "source": [
    "from datetime import datetime\n",
    "import pymongo\n",
    "import pytz\n",
    "import pandas as pd\n",
    "from dateutil.parser import parse as dateParser\n",
    "import datautil\n",
    "import re\n",
    "import numpy as np\n",
    "import sys\n",
    "import matplotlib.pyplot as plt\n",
    "from typing import List, Set\n",
    "import csv\n",
    "from tqdm.auto import tqdm   # progress bar keeps human being happy\n",
    "import multiprocessing as mp"
   ]
  },
  {
   "cell_type": "code",
   "execution_count": 6,
   "metadata": {},
   "outputs": [
    {
     "output_type": "execute_result",
     "data": {
      "text/plain": [
       "Database(MongoClient(host=['127.0.0.1:27017'], document_class=dict, tz_aware=False, connect=True), 'libraries')"
      ]
     },
     "metadata": {},
     "execution_count": 6
    }
   ],
   "source": [
    "# connect to mongodb\n",
    "MONGO_URL = \"mongodb://127.0.0.1:27017\"\n",
    "db = pymongo.MongoClient(MONGO_URL, connect=False).migration_helper\n",
    "raw_db = pymongo.MongoClient(MONGO_URL).libraries\n",
    "raw_db"
   ]
  },
  {
   "cell_type": "code",
   "execution_count": 7,
   "metadata": {},
   "outputs": [
    {
     "output_type": "stream",
     "name": "stdout",
     "text": [
      "3329249\n"
     ]
    }
   ],
   "source": [
    "# saving migration_changes.csv: too big for the repo\n",
    "import datautil\n",
    "import pandas as pd\n",
    "dep_change = datautil.select_dependency_changes_all()\n",
    "print(len(dep_change))"
   ]
  },
  {
   "cell_type": "code",
   "execution_count": 8,
   "metadata": {},
   "outputs": [
    {
     "output_type": "execute_result",
     "data": {
      "text/plain": [
       "                                    project  \\\n",
       "38154                      eugenp/tutorials   \n",
       "45081                   SeleniumHQ/selenium   \n",
       "45139                   SeleniumHQ/selenium   \n",
       "45201                   SeleniumHQ/selenium   \n",
       "45204                   SeleniumHQ/selenium   \n",
       "...                                     ...   \n",
       "3308454                       myabc/appfuse   \n",
       "3308672  emmanuelbernard/hibernate-core-ogm   \n",
       "3308701  emmanuelbernard/hibernate-core-ogm   \n",
       "3308719  emmanuelbernard/hibernate-core-ogm   \n",
       "3309168                     gritchou/Ulysse   \n",
       "\n",
       "                                           commit  \\\n",
       "38154    e85ec983d1c38dd41bfa566247671d9b5ea60e19   \n",
       "45081    d195553b17713fa47551942d9601d5af990e175f   \n",
       "45139    0f1cc1f7e1e50383c83ff432f5918f27568b0a50   \n",
       "45201    0973e11b4228a50c3a84bed37a7ff2aa7368d0cb   \n",
       "45204    d195553b17713fa47551942d9601d5af990e175f   \n",
       "...                                           ...   \n",
       "3308454  7773d03a7ae542b82ce03565d484532b2bf4fc90   \n",
       "3308672  d8d6d82e30960e0c255950eaf875ad48831b12b0   \n",
       "3308701  a797998927e2cbba9ec34ca7dc31b42a192fa2f1   \n",
       "3308719  835ae2c0bfbbf6bdf2c4ea2d9d1b7619d02cb1c4   \n",
       "3309168  8daf9044fe2e0b71b2c37e3b1e56b1f9cb92f3f4   \n",
       "\n",
       "                                                      file    type     lib1  \\\n",
       "38154    servlet-jsp-lihongjie/apache-tomcat-7.0.82-src...     add      NaN   \n",
       "45081                                              pom.xml     add      NaN   \n",
       "45139                                remote/server/pom.xml     add      NaN   \n",
       "45201                              server-coreless/pom.xml     add      NaN   \n",
       "45204                              server-coreless/pom.xml  verchg  ant:ant   \n",
       "...                                                    ...     ...      ...   \n",
       "3308454                                 web/common/pom.xml  verchg  ant:ant   \n",
       "3308672                                  code/core/pom.xml     add      NaN   \n",
       "3308701                                       core/pom.xml     add      NaN   \n",
       "3308719                               distribution/pom.xml     add      NaN   \n",
       "3309168  factory/factory-service-bugtracker/src/main/li...     add      NaN   \n",
       "\n",
       "            lib2   ver1            ver2  \n",
       "38154    ant:ant    NaN           1.7.0  \n",
       "45081    ant:ant    NaN           1.6.5  \n",
       "45139    ant:ant    NaN           1.6.5  \n",
       "45201    ant:ant    NaN           1.6.5  \n",
       "45204    ant:ant  1.6.5             NaN  \n",
       "...          ...    ...             ...  \n",
       "3308454  ant:ant  1.6.5  ${ant.version}  \n",
       "3308672  ant:ant    NaN           1.6.5  \n",
       "3308701  ant:ant    NaN           1.6.5  \n",
       "3308719  ant:ant    NaN           1.6.5  \n",
       "3309168  ant:ant    NaN           1.7.0  \n",
       "\n",
       "[828 rows x 8 columns]"
      ],
      "text/html": "<div>\n<style scoped>\n    .dataframe tbody tr th:only-of-type {\n        vertical-align: middle;\n    }\n\n    .dataframe tbody tr th {\n        vertical-align: top;\n    }\n\n    .dataframe thead th {\n        text-align: right;\n    }\n</style>\n<table border=\"1\" class=\"dataframe\">\n  <thead>\n    <tr style=\"text-align: right;\">\n      <th></th>\n      <th>project</th>\n      <th>commit</th>\n      <th>file</th>\n      <th>type</th>\n      <th>lib1</th>\n      <th>lib2</th>\n      <th>ver1</th>\n      <th>ver2</th>\n    </tr>\n  </thead>\n  <tbody>\n    <tr>\n      <th>38154</th>\n      <td>eugenp/tutorials</td>\n      <td>e85ec983d1c38dd41bfa566247671d9b5ea60e19</td>\n      <td>servlet-jsp-lihongjie/apache-tomcat-7.0.82-src...</td>\n      <td>add</td>\n      <td>NaN</td>\n      <td>ant:ant</td>\n      <td>NaN</td>\n      <td>1.7.0</td>\n    </tr>\n    <tr>\n      <th>45081</th>\n      <td>SeleniumHQ/selenium</td>\n      <td>d195553b17713fa47551942d9601d5af990e175f</td>\n      <td>pom.xml</td>\n      <td>add</td>\n      <td>NaN</td>\n      <td>ant:ant</td>\n      <td>NaN</td>\n      <td>1.6.5</td>\n    </tr>\n    <tr>\n      <th>45139</th>\n      <td>SeleniumHQ/selenium</td>\n      <td>0f1cc1f7e1e50383c83ff432f5918f27568b0a50</td>\n      <td>remote/server/pom.xml</td>\n      <td>add</td>\n      <td>NaN</td>\n      <td>ant:ant</td>\n      <td>NaN</td>\n      <td>1.6.5</td>\n    </tr>\n    <tr>\n      <th>45201</th>\n      <td>SeleniumHQ/selenium</td>\n      <td>0973e11b4228a50c3a84bed37a7ff2aa7368d0cb</td>\n      <td>server-coreless/pom.xml</td>\n      <td>add</td>\n      <td>NaN</td>\n      <td>ant:ant</td>\n      <td>NaN</td>\n      <td>1.6.5</td>\n    </tr>\n    <tr>\n      <th>45204</th>\n      <td>SeleniumHQ/selenium</td>\n      <td>d195553b17713fa47551942d9601d5af990e175f</td>\n      <td>server-coreless/pom.xml</td>\n      <td>verchg</td>\n      <td>ant:ant</td>\n      <td>ant:ant</td>\n      <td>1.6.5</td>\n      <td>NaN</td>\n    </tr>\n    <tr>\n      <th>...</th>\n      <td>...</td>\n      <td>...</td>\n      <td>...</td>\n      <td>...</td>\n      <td>...</td>\n      <td>...</td>\n      <td>...</td>\n      <td>...</td>\n    </tr>\n    <tr>\n      <th>3308454</th>\n      <td>myabc/appfuse</td>\n      <td>7773d03a7ae542b82ce03565d484532b2bf4fc90</td>\n      <td>web/common/pom.xml</td>\n      <td>verchg</td>\n      <td>ant:ant</td>\n      <td>ant:ant</td>\n      <td>1.6.5</td>\n      <td>${ant.version}</td>\n    </tr>\n    <tr>\n      <th>3308672</th>\n      <td>emmanuelbernard/hibernate-core-ogm</td>\n      <td>d8d6d82e30960e0c255950eaf875ad48831b12b0</td>\n      <td>code/core/pom.xml</td>\n      <td>add</td>\n      <td>NaN</td>\n      <td>ant:ant</td>\n      <td>NaN</td>\n      <td>1.6.5</td>\n    </tr>\n    <tr>\n      <th>3308701</th>\n      <td>emmanuelbernard/hibernate-core-ogm</td>\n      <td>a797998927e2cbba9ec34ca7dc31b42a192fa2f1</td>\n      <td>core/pom.xml</td>\n      <td>add</td>\n      <td>NaN</td>\n      <td>ant:ant</td>\n      <td>NaN</td>\n      <td>1.6.5</td>\n    </tr>\n    <tr>\n      <th>3308719</th>\n      <td>emmanuelbernard/hibernate-core-ogm</td>\n      <td>835ae2c0bfbbf6bdf2c4ea2d9d1b7619d02cb1c4</td>\n      <td>distribution/pom.xml</td>\n      <td>add</td>\n      <td>NaN</td>\n      <td>ant:ant</td>\n      <td>NaN</td>\n      <td>1.6.5</td>\n    </tr>\n    <tr>\n      <th>3309168</th>\n      <td>gritchou/Ulysse</td>\n      <td>8daf9044fe2e0b71b2c37e3b1e56b1f9cb92f3f4</td>\n      <td>factory/factory-service-bugtracker/src/main/li...</td>\n      <td>add</td>\n      <td>NaN</td>\n      <td>ant:ant</td>\n      <td>NaN</td>\n      <td>1.7.0</td>\n    </tr>\n  </tbody>\n</table>\n<p>828 rows × 8 columns</p>\n</div>"
     },
     "metadata": {},
     "execution_count": 8
    }
   ],
   "source": [
    "dep_change[dep_change['lib2']=='ant:ant']"
   ]
  },
  {
   "cell_type": "code",
   "execution_count": 9,
   "metadata": {
    "tags": []
   },
   "outputs": [
    {
     "output_type": "display_data",
     "data": {
      "text/plain": "HBox(children=(HTML(value=''), FloatProgress(value=0.0, max=3329249.0), HTML(value='')))",
      "application/vnd.jupyter.widget-view+json": {
       "version_major": 2,
       "version_minor": 0,
       "model_id": "324aa77b8a154426860bbab268125702"
      }
     },
     "metadata": {}
    },
    {
     "output_type": "stream",
     "name": "stdout",
     "text": [
      "\n"
     ]
    },
    {
     "output_type": "error",
     "ename": "KeyboardInterrupt",
     "evalue": "",
     "traceback": [
      "\u001b[0;31m---------------------------------------------------------------------------\u001b[0m",
      "\u001b[0;31mKeyboardInterrupt\u001b[0m                         Traceback (most recent call last)",
      "\u001b[0;32m<ipython-input-9-4dbc377fd1d0>\u001b[0m in \u001b[0;36m<module>\u001b[0;34m\u001b[0m\n\u001b[1;32m     17\u001b[0m \u001b[0;31m# going with single thread anyway\u001b[0m\u001b[0;34m\u001b[0m\u001b[0;34m\u001b[0m\u001b[0;34m\u001b[0m\u001b[0m\n\u001b[1;32m     18\u001b[0m \u001b[0;32mfor\u001b[0m \u001b[0;34m(\u001b[0m\u001b[0mindex\u001b[0m\u001b[0;34m,\u001b[0m \u001b[0mcommit\u001b[0m\u001b[0;34m)\u001b[0m \u001b[0;32min\u001b[0m \u001b[0mtqdm\u001b[0m\u001b[0;34m(\u001b[0m\u001b[0mlist\u001b[0m\u001b[0;34m(\u001b[0m\u001b[0menumerate\u001b[0m\u001b[0;34m(\u001b[0m\u001b[0mdep_change\u001b[0m\u001b[0;34m[\u001b[0m\u001b[0;34m'commit'\u001b[0m\u001b[0;34m]\u001b[0m\u001b[0;34m)\u001b[0m\u001b[0;34m)\u001b[0m\u001b[0;34m)\u001b[0m\u001b[0;34m:\u001b[0m\u001b[0;34m\u001b[0m\u001b[0;34m\u001b[0m\u001b[0m\n\u001b[0;32m---> 19\u001b[0;31m     \u001b[0mc\u001b[0m \u001b[0;34m=\u001b[0m \u001b[0mdb\u001b[0m\u001b[0;34m.\u001b[0m\u001b[0mwocCommit\u001b[0m\u001b[0;34m.\u001b[0m\u001b[0mfind_one\u001b[0m\u001b[0;34m(\u001b[0m\u001b[0;34m{\u001b[0m\u001b[0;34m\"_id\"\u001b[0m\u001b[0;34m:\u001b[0m \u001b[0mcommit\u001b[0m\u001b[0;34m}\u001b[0m\u001b[0;34m)\u001b[0m\u001b[0;34m\u001b[0m\u001b[0;34m\u001b[0m\u001b[0m\n\u001b[0m\u001b[1;32m     20\u001b[0m     \u001b[0mdep_change\u001b[0m\u001b[0;34m.\u001b[0m\u001b[0mat\u001b[0m\u001b[0;34m[\u001b[0m\u001b[0mindex\u001b[0m\u001b[0;34m,\u001b[0m \u001b[0;34m'is_in_woc'\u001b[0m\u001b[0;34m]\u001b[0m \u001b[0;34m=\u001b[0m \u001b[0;32mTrue\u001b[0m \u001b[0;32mif\u001b[0m \u001b[0mc\u001b[0m \u001b[0;32melse\u001b[0m \u001b[0;32mFalse\u001b[0m\u001b[0;34m\u001b[0m\u001b[0;34m\u001b[0m\u001b[0m\n\u001b[1;32m     21\u001b[0m     \u001b[0mdep_change\u001b[0m\u001b[0;34m.\u001b[0m\u001b[0mat\u001b[0m\u001b[0;34m[\u001b[0m\u001b[0mindex\u001b[0m\u001b[0;34m,\u001b[0m \u001b[0;34m'time'\u001b[0m\u001b[0;34m]\u001b[0m \u001b[0;34m=\u001b[0m \u001b[0mc\u001b[0m\u001b[0;34m[\u001b[0m\u001b[0;34m'timestamp'\u001b[0m\u001b[0;34m]\u001b[0m\u001b[0;34m.\u001b[0m\u001b[0mreplace\u001b[0m\u001b[0;34m(\u001b[0m\u001b[0mtzinfo\u001b[0m\u001b[0;34m=\u001b[0m\u001b[0mpytz\u001b[0m\u001b[0;34m.\u001b[0m\u001b[0mtimezone\u001b[0m\u001b[0;34m(\u001b[0m\u001b[0;34m'UTC'\u001b[0m\u001b[0;34m)\u001b[0m\u001b[0;34m)\u001b[0m\u001b[0;34m\u001b[0m\u001b[0;34m\u001b[0m\u001b[0m\n",
      "\u001b[0;32m~/miniconda3/lib/python3.8/site-packages/pymongo/collection.py\u001b[0m in \u001b[0;36mfind_one\u001b[0;34m(self, filter, *args, **kwargs)\u001b[0m\n\u001b[1;32m   1317\u001b[0m \u001b[0;34m\u001b[0m\u001b[0m\n\u001b[1;32m   1318\u001b[0m         \u001b[0mcursor\u001b[0m \u001b[0;34m=\u001b[0m \u001b[0mself\u001b[0m\u001b[0;34m.\u001b[0m\u001b[0mfind\u001b[0m\u001b[0;34m(\u001b[0m\u001b[0mfilter\u001b[0m\u001b[0;34m,\u001b[0m \u001b[0;34m*\u001b[0m\u001b[0margs\u001b[0m\u001b[0;34m,\u001b[0m \u001b[0;34m**\u001b[0m\u001b[0mkwargs\u001b[0m\u001b[0;34m)\u001b[0m\u001b[0;34m\u001b[0m\u001b[0;34m\u001b[0m\u001b[0m\n\u001b[0;32m-> 1319\u001b[0;31m         \u001b[0;32mfor\u001b[0m \u001b[0mresult\u001b[0m \u001b[0;32min\u001b[0m \u001b[0mcursor\u001b[0m\u001b[0;34m.\u001b[0m\u001b[0mlimit\u001b[0m\u001b[0;34m(\u001b[0m\u001b[0;34m-\u001b[0m\u001b[0;36m1\u001b[0m\u001b[0;34m)\u001b[0m\u001b[0;34m:\u001b[0m\u001b[0;34m\u001b[0m\u001b[0;34m\u001b[0m\u001b[0m\n\u001b[0m\u001b[1;32m   1320\u001b[0m             \u001b[0;32mreturn\u001b[0m \u001b[0mresult\u001b[0m\u001b[0;34m\u001b[0m\u001b[0;34m\u001b[0m\u001b[0m\n\u001b[1;32m   1321\u001b[0m         \u001b[0;32mreturn\u001b[0m \u001b[0;32mNone\u001b[0m\u001b[0;34m\u001b[0m\u001b[0;34m\u001b[0m\u001b[0m\n",
      "\u001b[0;32m~/miniconda3/lib/python3.8/site-packages/pymongo/cursor.py\u001b[0m in \u001b[0;36mnext\u001b[0;34m(self)\u001b[0m\n\u001b[1;32m   1205\u001b[0m         \u001b[0;32mif\u001b[0m \u001b[0mself\u001b[0m\u001b[0;34m.\u001b[0m\u001b[0m__empty\u001b[0m\u001b[0;34m:\u001b[0m\u001b[0;34m\u001b[0m\u001b[0;34m\u001b[0m\u001b[0m\n\u001b[1;32m   1206\u001b[0m             \u001b[0;32mraise\u001b[0m \u001b[0mStopIteration\u001b[0m\u001b[0;34m\u001b[0m\u001b[0;34m\u001b[0m\u001b[0m\n\u001b[0;32m-> 1207\u001b[0;31m         \u001b[0;32mif\u001b[0m \u001b[0mlen\u001b[0m\u001b[0;34m(\u001b[0m\u001b[0mself\u001b[0m\u001b[0;34m.\u001b[0m\u001b[0m__data\u001b[0m\u001b[0;34m)\u001b[0m \u001b[0;32mor\u001b[0m \u001b[0mself\u001b[0m\u001b[0;34m.\u001b[0m\u001b[0m_refresh\u001b[0m\u001b[0;34m(\u001b[0m\u001b[0;34m)\u001b[0m\u001b[0;34m:\u001b[0m\u001b[0;34m\u001b[0m\u001b[0;34m\u001b[0m\u001b[0m\n\u001b[0m\u001b[1;32m   1208\u001b[0m             \u001b[0;32mif\u001b[0m \u001b[0mself\u001b[0m\u001b[0;34m.\u001b[0m\u001b[0m__manipulate\u001b[0m\u001b[0;34m:\u001b[0m\u001b[0;34m\u001b[0m\u001b[0;34m\u001b[0m\u001b[0m\n\u001b[1;32m   1209\u001b[0m                 \u001b[0m_db\u001b[0m \u001b[0;34m=\u001b[0m \u001b[0mself\u001b[0m\u001b[0;34m.\u001b[0m\u001b[0m__collection\u001b[0m\u001b[0;34m.\u001b[0m\u001b[0mdatabase\u001b[0m\u001b[0;34m\u001b[0m\u001b[0;34m\u001b[0m\u001b[0m\n",
      "\u001b[0;32m~/miniconda3/lib/python3.8/site-packages/pymongo/cursor.py\u001b[0m in \u001b[0;36m_refresh\u001b[0;34m(self)\u001b[0m\n\u001b[1;32m   1122\u001b[0m                                   \u001b[0mself\u001b[0m\u001b[0;34m.\u001b[0m\u001b[0m__collection\u001b[0m\u001b[0;34m.\u001b[0m\u001b[0mdatabase\u001b[0m\u001b[0;34m.\u001b[0m\u001b[0mclient\u001b[0m\u001b[0;34m,\u001b[0m\u001b[0;34m\u001b[0m\u001b[0;34m\u001b[0m\u001b[0m\n\u001b[1;32m   1123\u001b[0m                                   self.__allow_disk_use)\n\u001b[0;32m-> 1124\u001b[0;31m             \u001b[0mself\u001b[0m\u001b[0;34m.\u001b[0m\u001b[0m__send_message\u001b[0m\u001b[0;34m(\u001b[0m\u001b[0mq\u001b[0m\u001b[0;34m)\u001b[0m\u001b[0;34m\u001b[0m\u001b[0;34m\u001b[0m\u001b[0m\n\u001b[0m\u001b[1;32m   1125\u001b[0m         \u001b[0;32melif\u001b[0m \u001b[0mself\u001b[0m\u001b[0;34m.\u001b[0m\u001b[0m__id\u001b[0m\u001b[0;34m:\u001b[0m  \u001b[0;31m# Get More\u001b[0m\u001b[0;34m\u001b[0m\u001b[0;34m\u001b[0m\u001b[0m\n\u001b[1;32m   1126\u001b[0m             \u001b[0;32mif\u001b[0m \u001b[0mself\u001b[0m\u001b[0;34m.\u001b[0m\u001b[0m__limit\u001b[0m\u001b[0;34m:\u001b[0m\u001b[0;34m\u001b[0m\u001b[0;34m\u001b[0m\u001b[0m\n",
      "\u001b[0;32m~/miniconda3/lib/python3.8/site-packages/pymongo/cursor.py\u001b[0m in \u001b[0;36m__send_message\u001b[0;34m(self, operation)\u001b[0m\n\u001b[1;32m    997\u001b[0m \u001b[0;34m\u001b[0m\u001b[0m\n\u001b[1;32m    998\u001b[0m         \u001b[0;32mtry\u001b[0m\u001b[0;34m:\u001b[0m\u001b[0;34m\u001b[0m\u001b[0;34m\u001b[0m\u001b[0m\n\u001b[0;32m--> 999\u001b[0;31m             response = client._run_operation_with_response(\n\u001b[0m\u001b[1;32m   1000\u001b[0m                 \u001b[0moperation\u001b[0m\u001b[0;34m,\u001b[0m \u001b[0mself\u001b[0m\u001b[0;34m.\u001b[0m\u001b[0m_unpack_response\u001b[0m\u001b[0;34m,\u001b[0m \u001b[0mexhaust\u001b[0m\u001b[0;34m=\u001b[0m\u001b[0mself\u001b[0m\u001b[0;34m.\u001b[0m\u001b[0m__exhaust\u001b[0m\u001b[0;34m,\u001b[0m\u001b[0;34m\u001b[0m\u001b[0;34m\u001b[0m\u001b[0m\n\u001b[1;32m   1001\u001b[0m                 address=self.__address)\n",
      "\u001b[0;32m~/miniconda3/lib/python3.8/site-packages/pymongo/mongo_client.py\u001b[0m in \u001b[0;36m_run_operation_with_response\u001b[0;34m(self, operation, unpack_res, exhaust, address)\u001b[0m\n\u001b[1;32m   1366\u001b[0m                 unpack_res)\n\u001b[1;32m   1367\u001b[0m \u001b[0;34m\u001b[0m\u001b[0m\n\u001b[0;32m-> 1368\u001b[0;31m         return self._retryable_read(\n\u001b[0m\u001b[1;32m   1369\u001b[0m             \u001b[0m_cmd\u001b[0m\u001b[0;34m,\u001b[0m \u001b[0moperation\u001b[0m\u001b[0;34m.\u001b[0m\u001b[0mread_preference\u001b[0m\u001b[0;34m,\u001b[0m \u001b[0moperation\u001b[0m\u001b[0;34m.\u001b[0m\u001b[0msession\u001b[0m\u001b[0;34m,\u001b[0m\u001b[0;34m\u001b[0m\u001b[0;34m\u001b[0m\u001b[0m\n\u001b[1;32m   1370\u001b[0m             \u001b[0maddress\u001b[0m\u001b[0;34m=\u001b[0m\u001b[0maddress\u001b[0m\u001b[0;34m,\u001b[0m\u001b[0;34m\u001b[0m\u001b[0;34m\u001b[0m\u001b[0m\n",
      "\u001b[0;32m~/miniconda3/lib/python3.8/site-packages/pymongo/mongo_client.py\u001b[0m in \u001b[0;36m_retryable_read\u001b[0;34m(self, func, read_pref, session, address, retryable, exhaust)\u001b[0m\n\u001b[1;32m   1469\u001b[0m                         \u001b[0;31m# not support retryable reads, raise the last error.\u001b[0m\u001b[0;34m\u001b[0m\u001b[0;34m\u001b[0m\u001b[0;34m\u001b[0m\u001b[0m\n\u001b[1;32m   1470\u001b[0m                         \u001b[0;32mraise\u001b[0m \u001b[0mlast_error\u001b[0m\u001b[0;34m\u001b[0m\u001b[0;34m\u001b[0m\u001b[0m\n\u001b[0;32m-> 1471\u001b[0;31m                     \u001b[0;32mreturn\u001b[0m \u001b[0mfunc\u001b[0m\u001b[0;34m(\u001b[0m\u001b[0msession\u001b[0m\u001b[0;34m,\u001b[0m \u001b[0mserver\u001b[0m\u001b[0;34m,\u001b[0m \u001b[0msock_info\u001b[0m\u001b[0;34m,\u001b[0m \u001b[0mslave_ok\u001b[0m\u001b[0;34m)\u001b[0m\u001b[0;34m\u001b[0m\u001b[0;34m\u001b[0m\u001b[0m\n\u001b[0m\u001b[1;32m   1472\u001b[0m             \u001b[0;32mexcept\u001b[0m \u001b[0mServerSelectionTimeoutError\u001b[0m\u001b[0;34m:\u001b[0m\u001b[0;34m\u001b[0m\u001b[0;34m\u001b[0m\u001b[0m\n\u001b[1;32m   1473\u001b[0m                 \u001b[0;32mif\u001b[0m \u001b[0mretrying\u001b[0m\u001b[0;34m:\u001b[0m\u001b[0;34m\u001b[0m\u001b[0;34m\u001b[0m\u001b[0m\n",
      "\u001b[0;32m~/miniconda3/lib/python3.8/site-packages/pymongo/mongo_client.py\u001b[0m in \u001b[0;36m_cmd\u001b[0;34m(session, server, sock_info, slave_ok)\u001b[0m\n\u001b[1;32m   1358\u001b[0m \u001b[0;34m\u001b[0m\u001b[0m\n\u001b[1;32m   1359\u001b[0m         \u001b[0;32mdef\u001b[0m \u001b[0m_cmd\u001b[0m\u001b[0;34m(\u001b[0m\u001b[0msession\u001b[0m\u001b[0;34m,\u001b[0m \u001b[0mserver\u001b[0m\u001b[0;34m,\u001b[0m \u001b[0msock_info\u001b[0m\u001b[0;34m,\u001b[0m \u001b[0mslave_ok\u001b[0m\u001b[0;34m)\u001b[0m\u001b[0;34m:\u001b[0m\u001b[0;34m\u001b[0m\u001b[0;34m\u001b[0m\u001b[0m\n\u001b[0;32m-> 1360\u001b[0;31m             return server.run_operation_with_response(\n\u001b[0m\u001b[1;32m   1361\u001b[0m                 \u001b[0msock_info\u001b[0m\u001b[0;34m,\u001b[0m\u001b[0;34m\u001b[0m\u001b[0;34m\u001b[0m\u001b[0m\n\u001b[1;32m   1362\u001b[0m                 \u001b[0moperation\u001b[0m\u001b[0;34m,\u001b[0m\u001b[0;34m\u001b[0m\u001b[0;34m\u001b[0m\u001b[0m\n",
      "\u001b[0;32m~/miniconda3/lib/python3.8/site-packages/pymongo/server.py\u001b[0m in \u001b[0;36mrun_operation_with_response\u001b[0;34m(self, sock_info, operation, set_slave_okay, listeners, exhaust, unpack_res)\u001b[0m\n\u001b[1;32m    115\u001b[0m             \u001b[0;32mif\u001b[0m \u001b[0msend_message\u001b[0m\u001b[0;34m:\u001b[0m\u001b[0;34m\u001b[0m\u001b[0;34m\u001b[0m\u001b[0m\n\u001b[1;32m    116\u001b[0m                 \u001b[0msock_info\u001b[0m\u001b[0;34m.\u001b[0m\u001b[0msend_message\u001b[0m\u001b[0;34m(\u001b[0m\u001b[0mdata\u001b[0m\u001b[0;34m,\u001b[0m \u001b[0mmax_doc_size\u001b[0m\u001b[0;34m)\u001b[0m\u001b[0;34m\u001b[0m\u001b[0;34m\u001b[0m\u001b[0m\n\u001b[0;32m--> 117\u001b[0;31m                 \u001b[0mreply\u001b[0m \u001b[0;34m=\u001b[0m \u001b[0msock_info\u001b[0m\u001b[0;34m.\u001b[0m\u001b[0mreceive_message\u001b[0m\u001b[0;34m(\u001b[0m\u001b[0mrequest_id\u001b[0m\u001b[0;34m)\u001b[0m\u001b[0;34m\u001b[0m\u001b[0;34m\u001b[0m\u001b[0m\n\u001b[0m\u001b[1;32m    118\u001b[0m             \u001b[0;32melse\u001b[0m\u001b[0;34m:\u001b[0m\u001b[0;34m\u001b[0m\u001b[0;34m\u001b[0m\u001b[0m\n\u001b[1;32m    119\u001b[0m                 \u001b[0mreply\u001b[0m \u001b[0;34m=\u001b[0m \u001b[0msock_info\u001b[0m\u001b[0;34m.\u001b[0m\u001b[0mreceive_message\u001b[0m\u001b[0;34m(\u001b[0m\u001b[0;32mNone\u001b[0m\u001b[0;34m)\u001b[0m\u001b[0;34m\u001b[0m\u001b[0;34m\u001b[0m\u001b[0m\n",
      "\u001b[0;32m~/miniconda3/lib/python3.8/site-packages/pymongo/pool.py\u001b[0m in \u001b[0;36mreceive_message\u001b[0;34m(self, request_id)\u001b[0m\n\u001b[1;32m    724\u001b[0m             \u001b[0;32mreturn\u001b[0m \u001b[0mreceive_message\u001b[0m\u001b[0;34m(\u001b[0m\u001b[0mself\u001b[0m\u001b[0;34m,\u001b[0m \u001b[0mrequest_id\u001b[0m\u001b[0;34m,\u001b[0m \u001b[0mself\u001b[0m\u001b[0;34m.\u001b[0m\u001b[0mmax_message_size\u001b[0m\u001b[0;34m)\u001b[0m\u001b[0;34m\u001b[0m\u001b[0;34m\u001b[0m\u001b[0m\n\u001b[1;32m    725\u001b[0m         \u001b[0;32mexcept\u001b[0m \u001b[0mBaseException\u001b[0m \u001b[0;32mas\u001b[0m \u001b[0merror\u001b[0m\u001b[0;34m:\u001b[0m\u001b[0;34m\u001b[0m\u001b[0;34m\u001b[0m\u001b[0m\n\u001b[0;32m--> 726\u001b[0;31m             \u001b[0mself\u001b[0m\u001b[0;34m.\u001b[0m\u001b[0m_raise_connection_failure\u001b[0m\u001b[0;34m(\u001b[0m\u001b[0merror\u001b[0m\u001b[0;34m)\u001b[0m\u001b[0;34m\u001b[0m\u001b[0;34m\u001b[0m\u001b[0m\n\u001b[0m\u001b[1;32m    727\u001b[0m \u001b[0;34m\u001b[0m\u001b[0m\n\u001b[1;32m    728\u001b[0m     \u001b[0;32mdef\u001b[0m \u001b[0m_raise_if_not_writable\u001b[0m\u001b[0;34m(\u001b[0m\u001b[0mself\u001b[0m\u001b[0;34m,\u001b[0m \u001b[0munacknowledged\u001b[0m\u001b[0;34m)\u001b[0m\u001b[0;34m:\u001b[0m\u001b[0;34m\u001b[0m\u001b[0;34m\u001b[0m\u001b[0m\n",
      "\u001b[0;32m~/miniconda3/lib/python3.8/site-packages/pymongo/pool.py\u001b[0m in \u001b[0;36mreceive_message\u001b[0;34m(self, request_id)\u001b[0m\n\u001b[1;32m    722\u001b[0m         \"\"\"\n\u001b[1;32m    723\u001b[0m         \u001b[0;32mtry\u001b[0m\u001b[0;34m:\u001b[0m\u001b[0;34m\u001b[0m\u001b[0;34m\u001b[0m\u001b[0m\n\u001b[0;32m--> 724\u001b[0;31m             \u001b[0;32mreturn\u001b[0m \u001b[0mreceive_message\u001b[0m\u001b[0;34m(\u001b[0m\u001b[0mself\u001b[0m\u001b[0;34m,\u001b[0m \u001b[0mrequest_id\u001b[0m\u001b[0;34m,\u001b[0m \u001b[0mself\u001b[0m\u001b[0;34m.\u001b[0m\u001b[0mmax_message_size\u001b[0m\u001b[0;34m)\u001b[0m\u001b[0;34m\u001b[0m\u001b[0;34m\u001b[0m\u001b[0m\n\u001b[0m\u001b[1;32m    725\u001b[0m         \u001b[0;32mexcept\u001b[0m \u001b[0mBaseException\u001b[0m \u001b[0;32mas\u001b[0m \u001b[0merror\u001b[0m\u001b[0;34m:\u001b[0m\u001b[0;34m\u001b[0m\u001b[0;34m\u001b[0m\u001b[0m\n\u001b[1;32m    726\u001b[0m             \u001b[0mself\u001b[0m\u001b[0;34m.\u001b[0m\u001b[0m_raise_connection_failure\u001b[0m\u001b[0;34m(\u001b[0m\u001b[0merror\u001b[0m\u001b[0;34m)\u001b[0m\u001b[0;34m\u001b[0m\u001b[0;34m\u001b[0m\u001b[0m\n",
      "\u001b[0;32m~/miniconda3/lib/python3.8/site-packages/pymongo/network.py\u001b[0m in \u001b[0;36mreceive_message\u001b[0;34m(sock_info, request_id, max_message_size)\u001b[0m\n\u001b[1;32m    193\u001b[0m     \u001b[0;31m# Ignore the response's request id.\u001b[0m\u001b[0;34m\u001b[0m\u001b[0;34m\u001b[0m\u001b[0;34m\u001b[0m\u001b[0m\n\u001b[1;32m    194\u001b[0m     length, _, response_to, op_code = _UNPACK_HEADER(\n\u001b[0;32m--> 195\u001b[0;31m         _receive_data_on_socket(sock_info, 16, deadline))\n\u001b[0m\u001b[1;32m    196\u001b[0m     \u001b[0;31m# No request_id for exhaust cursor \"getMore\".\u001b[0m\u001b[0;34m\u001b[0m\u001b[0;34m\u001b[0m\u001b[0;34m\u001b[0m\u001b[0m\n\u001b[1;32m    197\u001b[0m     \u001b[0;32mif\u001b[0m \u001b[0mrequest_id\u001b[0m \u001b[0;32mis\u001b[0m \u001b[0;32mnot\u001b[0m \u001b[0;32mNone\u001b[0m\u001b[0;34m:\u001b[0m\u001b[0;34m\u001b[0m\u001b[0;34m\u001b[0m\u001b[0m\n",
      "\u001b[0;32m~/miniconda3/lib/python3.8/site-packages/pymongo/network.py\u001b[0m in \u001b[0;36m_receive_data_on_socket\u001b[0;34m(sock_info, length, deadline)\u001b[0m\n\u001b[1;32m    284\u001b[0m             \u001b[0;32mtry\u001b[0m\u001b[0;34m:\u001b[0m\u001b[0;34m\u001b[0m\u001b[0;34m\u001b[0m\u001b[0m\n\u001b[1;32m    285\u001b[0m                 \u001b[0mwait_for_read\u001b[0m\u001b[0;34m(\u001b[0m\u001b[0msock_info\u001b[0m\u001b[0;34m,\u001b[0m \u001b[0mdeadline\u001b[0m\u001b[0;34m)\u001b[0m\u001b[0;34m\u001b[0m\u001b[0;34m\u001b[0m\u001b[0m\n\u001b[0;32m--> 286\u001b[0;31m                 \u001b[0mchunk_length\u001b[0m \u001b[0;34m=\u001b[0m \u001b[0msock_info\u001b[0m\u001b[0;34m.\u001b[0m\u001b[0msock\u001b[0m\u001b[0;34m.\u001b[0m\u001b[0mrecv_into\u001b[0m\u001b[0;34m(\u001b[0m\u001b[0mmv\u001b[0m\u001b[0;34m[\u001b[0m\u001b[0mbytes_read\u001b[0m\u001b[0;34m:\u001b[0m\u001b[0;34m]\u001b[0m\u001b[0;34m)\u001b[0m\u001b[0;34m\u001b[0m\u001b[0;34m\u001b[0m\u001b[0m\n\u001b[0m\u001b[1;32m    287\u001b[0m             \u001b[0;32mexcept\u001b[0m \u001b[0;34m(\u001b[0m\u001b[0mIOError\u001b[0m\u001b[0;34m,\u001b[0m \u001b[0mOSError\u001b[0m\u001b[0;34m)\u001b[0m \u001b[0;32mas\u001b[0m \u001b[0mexc\u001b[0m\u001b[0;34m:\u001b[0m\u001b[0;34m\u001b[0m\u001b[0;34m\u001b[0m\u001b[0m\n\u001b[1;32m    288\u001b[0m                 \u001b[0;32mif\u001b[0m \u001b[0m_errno_from_exception\u001b[0m\u001b[0;34m(\u001b[0m\u001b[0mexc\u001b[0m\u001b[0;34m)\u001b[0m \u001b[0;34m==\u001b[0m \u001b[0merrno\u001b[0m\u001b[0;34m.\u001b[0m\u001b[0mEINTR\u001b[0m\u001b[0;34m:\u001b[0m\u001b[0;34m\u001b[0m\u001b[0;34m\u001b[0m\u001b[0m\n",
      "\u001b[0;31mKeyboardInterrupt\u001b[0m: "
     ]
    }
   ],
   "source": [
    "# simple check here: all commits in woc?\n",
    "# also add timestamp to df\n",
    "\n",
    "# why using pool is slower,,, \n",
    "\n",
    "# def is_in_woc(df_split: pd.DataFrame) -> bool:\n",
    "#     for index, row in df_split.iterrows():\n",
    "#         c = db.wocCommit.find_one({\"_id\": row['commit']})\n",
    "#         df_split.at[index, 'is_in_woc'] = True if c else False\n",
    "#     return df_split\n",
    "# n_workers=mp.cpu_count() // 2\n",
    "# df_split=np.array_split(dep_change, n_workers)\n",
    "# with mp.Pool(n_workers) as pool:\n",
    "#     dep_change = pd.concat(pool.imap(is_in_woc, df_split))\n",
    "# dep_change[dep_change['is_in_woc']==False]\n",
    "\n",
    "# going with single thread anyway\n",
    "for (index, commit) in tqdm(list(enumerate(dep_change['commit']))):\n",
    "    c = db.wocCommit.find_one({\"_id\": commit})\n",
    "    dep_change.at[index, 'is_in_woc'] = True if c else False\n",
    "    dep_change.at[index, 'time'] = c['timestamp'].replace(tzinfo=pytz.timezone('UTC'))\n",
    "\n",
    "dep_change.to_csv('data/migration_changes.csv')\n",
    "dep_change"
   ]
  },
  {
   "cell_type": "code",
   "execution_count": 3,
   "metadata": {},
   "outputs": [
    {
     "output_type": "execute_result",
     "data": {
      "text/plain": [
       "         Unnamed: 0  Unnamed: 0.1               project  \\\n",
       "0                 0             0  Snailclimb/JavaGuide   \n",
       "1                 1             1  Snailclimb/JavaGuide   \n",
       "2                 2             2  Snailclimb/JavaGuide   \n",
       "3                 3             3  Snailclimb/JavaGuide   \n",
       "4                 4             4  Snailclimb/JavaGuide   \n",
       "...             ...           ...                   ...   \n",
       "3329244     3329244       3329244           88250/latke   \n",
       "3329245     3329245       3329245           88250/latke   \n",
       "3329246     3329246       3329246           88250/latke   \n",
       "3329247     3329247       3329247           88250/latke   \n",
       "3329248     3329248       3329248           88250/latke   \n",
       "\n",
       "                                           commit  \\\n",
       "0        e8aeaef43cbfb2b8a9b71c7b7f462c48b4adb9a6   \n",
       "1        e8aeaef43cbfb2b8a9b71c7b7f462c48b4adb9a6   \n",
       "2        e8aeaef43cbfb2b8a9b71c7b7f462c48b4adb9a6   \n",
       "3        a17a2800c92f918842d26a9e9261ae0bba89286d   \n",
       "4        a17a2800c92f918842d26a9e9261ae0bba89286d   \n",
       "...                                           ...   \n",
       "3329244  3275e026145638664016be01437bd82649b688ff   \n",
       "3329245  3275e026145638664016be01437bd82649b688ff   \n",
       "3329246  3275e026145638664016be01437bd82649b688ff   \n",
       "3329247  3275e026145638664016be01437bd82649b688ff   \n",
       "3329248  0c866c39da2ab37ef424828f5c836ddb75703cbf   \n",
       "\n",
       "                                                      file type  \\\n",
       "0        docs/dataStructures-algorithms/source code/sec...  add   \n",
       "1        docs/dataStructures-algorithms/source code/sec...  add   \n",
       "2        docs/dataStructures-algorithms/source code/sec...  add   \n",
       "3            数据结构与算法/source code/securityAlgorithm/pom.xml  add   \n",
       "4            数据结构与算法/source code/securityAlgorithm/pom.xml  add   \n",
       "...                                                    ...  ...   \n",
       "3329244                                            pom.xml  add   \n",
       "3329245                                            pom.xml  add   \n",
       "3329246                                            pom.xml  add   \n",
       "3329247                                            pom.xml  add   \n",
       "3329248                                            pom.xml  rem   \n",
       "\n",
       "                          lib1                             lib2    ver1  \\\n",
       "0                          NaN      commons-codec:commons-codec     NaN   \n",
       "1                          NaN                      junit:junit     NaN   \n",
       "2                          NaN  org.bouncycastle:bcprov-jdk15on     NaN   \n",
       "3                          NaN      commons-codec:commons-codec     NaN   \n",
       "4                          NaN                      junit:junit     NaN   \n",
       "...                        ...                              ...     ...   \n",
       "3329244                    NaN        commons-lang:commons-lang     NaN   \n",
       "3329245                    NaN              javassist:javassist     NaN   \n",
       "3329246                    NaN                  javax.mail:mail     NaN   \n",
       "3329247                    NaN       mysql:mysql-connector-java     NaN   \n",
       "3329248  org.slf4j:slf4j-jdk14                              NaN  1.7.30   \n",
       "\n",
       "           ver2  is_in_woc                       time  \n",
       "0           1.8       True  2019-03-25 09:19:36+00:00  \n",
       "1          4.12       True  2019-03-25 09:19:36+00:00  \n",
       "2          1.56       True  2019-03-25 09:19:36+00:00  \n",
       "3           1.8       True  2018-07-31 06:49:01+00:00  \n",
       "4         3.8.1       True  2018-07-31 06:49:01+00:00  \n",
       "...         ...        ...                        ...  \n",
       "3329244     NaN       True  2012-08-09 05:57:30+00:00  \n",
       "3329245     NaN       True  2012-08-09 05:57:30+00:00  \n",
       "3329246     NaN       True  2012-08-09 05:57:30+00:00  \n",
       "3329247  5.1.18       True  2012-08-09 05:57:30+00:00  \n",
       "3329248     NaN       True  2020-01-16 02:25:50+00:00  \n",
       "\n",
       "[3329249 rows x 12 columns]"
      ],
      "text/html": "<div>\n<style scoped>\n    .dataframe tbody tr th:only-of-type {\n        vertical-align: middle;\n    }\n\n    .dataframe tbody tr th {\n        vertical-align: top;\n    }\n\n    .dataframe thead th {\n        text-align: right;\n    }\n</style>\n<table border=\"1\" class=\"dataframe\">\n  <thead>\n    <tr style=\"text-align: right;\">\n      <th></th>\n      <th>Unnamed: 0</th>\n      <th>Unnamed: 0.1</th>\n      <th>project</th>\n      <th>commit</th>\n      <th>file</th>\n      <th>type</th>\n      <th>lib1</th>\n      <th>lib2</th>\n      <th>ver1</th>\n      <th>ver2</th>\n      <th>is_in_woc</th>\n      <th>time</th>\n    </tr>\n  </thead>\n  <tbody>\n    <tr>\n      <th>0</th>\n      <td>0</td>\n      <td>0</td>\n      <td>Snailclimb/JavaGuide</td>\n      <td>e8aeaef43cbfb2b8a9b71c7b7f462c48b4adb9a6</td>\n      <td>docs/dataStructures-algorithms/source code/sec...</td>\n      <td>add</td>\n      <td>NaN</td>\n      <td>commons-codec:commons-codec</td>\n      <td>NaN</td>\n      <td>1.8</td>\n      <td>True</td>\n      <td>2019-03-25 09:19:36+00:00</td>\n    </tr>\n    <tr>\n      <th>1</th>\n      <td>1</td>\n      <td>1</td>\n      <td>Snailclimb/JavaGuide</td>\n      <td>e8aeaef43cbfb2b8a9b71c7b7f462c48b4adb9a6</td>\n      <td>docs/dataStructures-algorithms/source code/sec...</td>\n      <td>add</td>\n      <td>NaN</td>\n      <td>junit:junit</td>\n      <td>NaN</td>\n      <td>4.12</td>\n      <td>True</td>\n      <td>2019-03-25 09:19:36+00:00</td>\n    </tr>\n    <tr>\n      <th>2</th>\n      <td>2</td>\n      <td>2</td>\n      <td>Snailclimb/JavaGuide</td>\n      <td>e8aeaef43cbfb2b8a9b71c7b7f462c48b4adb9a6</td>\n      <td>docs/dataStructures-algorithms/source code/sec...</td>\n      <td>add</td>\n      <td>NaN</td>\n      <td>org.bouncycastle:bcprov-jdk15on</td>\n      <td>NaN</td>\n      <td>1.56</td>\n      <td>True</td>\n      <td>2019-03-25 09:19:36+00:00</td>\n    </tr>\n    <tr>\n      <th>3</th>\n      <td>3</td>\n      <td>3</td>\n      <td>Snailclimb/JavaGuide</td>\n      <td>a17a2800c92f918842d26a9e9261ae0bba89286d</td>\n      <td>数据结构与算法/source code/securityAlgorithm/pom.xml</td>\n      <td>add</td>\n      <td>NaN</td>\n      <td>commons-codec:commons-codec</td>\n      <td>NaN</td>\n      <td>1.8</td>\n      <td>True</td>\n      <td>2018-07-31 06:49:01+00:00</td>\n    </tr>\n    <tr>\n      <th>4</th>\n      <td>4</td>\n      <td>4</td>\n      <td>Snailclimb/JavaGuide</td>\n      <td>a17a2800c92f918842d26a9e9261ae0bba89286d</td>\n      <td>数据结构与算法/source code/securityAlgorithm/pom.xml</td>\n      <td>add</td>\n      <td>NaN</td>\n      <td>junit:junit</td>\n      <td>NaN</td>\n      <td>3.8.1</td>\n      <td>True</td>\n      <td>2018-07-31 06:49:01+00:00</td>\n    </tr>\n    <tr>\n      <th>...</th>\n      <td>...</td>\n      <td>...</td>\n      <td>...</td>\n      <td>...</td>\n      <td>...</td>\n      <td>...</td>\n      <td>...</td>\n      <td>...</td>\n      <td>...</td>\n      <td>...</td>\n      <td>...</td>\n      <td>...</td>\n    </tr>\n    <tr>\n      <th>3329244</th>\n      <td>3329244</td>\n      <td>3329244</td>\n      <td>88250/latke</td>\n      <td>3275e026145638664016be01437bd82649b688ff</td>\n      <td>pom.xml</td>\n      <td>add</td>\n      <td>NaN</td>\n      <td>commons-lang:commons-lang</td>\n      <td>NaN</td>\n      <td>NaN</td>\n      <td>True</td>\n      <td>2012-08-09 05:57:30+00:00</td>\n    </tr>\n    <tr>\n      <th>3329245</th>\n      <td>3329245</td>\n      <td>3329245</td>\n      <td>88250/latke</td>\n      <td>3275e026145638664016be01437bd82649b688ff</td>\n      <td>pom.xml</td>\n      <td>add</td>\n      <td>NaN</td>\n      <td>javassist:javassist</td>\n      <td>NaN</td>\n      <td>NaN</td>\n      <td>True</td>\n      <td>2012-08-09 05:57:30+00:00</td>\n    </tr>\n    <tr>\n      <th>3329246</th>\n      <td>3329246</td>\n      <td>3329246</td>\n      <td>88250/latke</td>\n      <td>3275e026145638664016be01437bd82649b688ff</td>\n      <td>pom.xml</td>\n      <td>add</td>\n      <td>NaN</td>\n      <td>javax.mail:mail</td>\n      <td>NaN</td>\n      <td>NaN</td>\n      <td>True</td>\n      <td>2012-08-09 05:57:30+00:00</td>\n    </tr>\n    <tr>\n      <th>3329247</th>\n      <td>3329247</td>\n      <td>3329247</td>\n      <td>88250/latke</td>\n      <td>3275e026145638664016be01437bd82649b688ff</td>\n      <td>pom.xml</td>\n      <td>add</td>\n      <td>NaN</td>\n      <td>mysql:mysql-connector-java</td>\n      <td>NaN</td>\n      <td>5.1.18</td>\n      <td>True</td>\n      <td>2012-08-09 05:57:30+00:00</td>\n    </tr>\n    <tr>\n      <th>3329248</th>\n      <td>3329248</td>\n      <td>3329248</td>\n      <td>88250/latke</td>\n      <td>0c866c39da2ab37ef424828f5c836ddb75703cbf</td>\n      <td>pom.xml</td>\n      <td>rem</td>\n      <td>org.slf4j:slf4j-jdk14</td>\n      <td>NaN</td>\n      <td>1.7.30</td>\n      <td>NaN</td>\n      <td>True</td>\n      <td>2020-01-16 02:25:50+00:00</td>\n    </tr>\n  </tbody>\n</table>\n<p>3329249 rows × 12 columns</p>\n</div>"
     },
     "metadata": {},
     "execution_count": 3
    }
   ],
   "source": [
    "# load df from disk if ssh fails\n",
    "dep_change = pd.read_csv('data/migration_changes.csv', low_memory=False)\n",
    "dep_change"
   ]
  },
  {
   "cell_type": "code",
   "execution_count": 4,
   "metadata": {},
   "outputs": [
    {
     "output_type": "execute_result",
     "data": {
      "text/plain": [
       "         Unnamed: 0  Unnamed: 0.1               project  \\\n",
       "0                 0             0  Snailclimb/JavaGuide   \n",
       "1                 1             1  Snailclimb/JavaGuide   \n",
       "2                 2             2  Snailclimb/JavaGuide   \n",
       "3                 3             3  Snailclimb/JavaGuide   \n",
       "4                 4             4  Snailclimb/JavaGuide   \n",
       "...             ...           ...                   ...   \n",
       "3329243     3329243       3329243           88250/latke   \n",
       "3329244     3329244       3329244           88250/latke   \n",
       "3329245     3329245       3329245           88250/latke   \n",
       "3329246     3329246       3329246           88250/latke   \n",
       "3329247     3329247       3329247           88250/latke   \n",
       "\n",
       "                                           commit  \\\n",
       "0        e8aeaef43cbfb2b8a9b71c7b7f462c48b4adb9a6   \n",
       "1        e8aeaef43cbfb2b8a9b71c7b7f462c48b4adb9a6   \n",
       "2        e8aeaef43cbfb2b8a9b71c7b7f462c48b4adb9a6   \n",
       "3        a17a2800c92f918842d26a9e9261ae0bba89286d   \n",
       "4        a17a2800c92f918842d26a9e9261ae0bba89286d   \n",
       "...                                           ...   \n",
       "3329243  3275e026145638664016be01437bd82649b688ff   \n",
       "3329244  3275e026145638664016be01437bd82649b688ff   \n",
       "3329245  3275e026145638664016be01437bd82649b688ff   \n",
       "3329246  3275e026145638664016be01437bd82649b688ff   \n",
       "3329247  3275e026145638664016be01437bd82649b688ff   \n",
       "\n",
       "                                                      file type lib1  \\\n",
       "0        docs/dataStructures-algorithms/source code/sec...  add  NaN   \n",
       "1        docs/dataStructures-algorithms/source code/sec...  add  NaN   \n",
       "2        docs/dataStructures-algorithms/source code/sec...  add  NaN   \n",
       "3            数据结构与算法/source code/securityAlgorithm/pom.xml  add  NaN   \n",
       "4            数据结构与算法/source code/securityAlgorithm/pom.xml  add  NaN   \n",
       "...                                                    ...  ...  ...   \n",
       "3329243                                            pom.xml  add  NaN   \n",
       "3329244                                            pom.xml  add  NaN   \n",
       "3329245                                            pom.xml  add  NaN   \n",
       "3329246                                            pom.xml  add  NaN   \n",
       "3329247                                            pom.xml  add  NaN   \n",
       "\n",
       "                                    lib2 ver1    ver2  is_in_woc  \\\n",
       "0            commons-codec:commons-codec  NaN     1.8       True   \n",
       "1                            junit:junit  NaN    4.12       True   \n",
       "2        org.bouncycastle:bcprov-jdk15on  NaN    1.56       True   \n",
       "3            commons-codec:commons-codec  NaN     1.8       True   \n",
       "4                            junit:junit  NaN   3.8.1       True   \n",
       "...                                  ...  ...     ...        ...   \n",
       "3329243                org.testng:testng  NaN     NaN       True   \n",
       "3329244        commons-lang:commons-lang  NaN     NaN       True   \n",
       "3329245              javassist:javassist  NaN     NaN       True   \n",
       "3329246                  javax.mail:mail  NaN     NaN       True   \n",
       "3329247       mysql:mysql-connector-java  NaN  5.1.18       True   \n",
       "\n",
       "                              time  \n",
       "0        2019-03-25 09:19:36+00:00  \n",
       "1        2019-03-25 09:19:36+00:00  \n",
       "2        2019-03-25 09:19:36+00:00  \n",
       "3        2018-07-31 06:49:01+00:00  \n",
       "4        2018-07-31 06:49:01+00:00  \n",
       "...                            ...  \n",
       "3329243  2012-08-09 05:57:30+00:00  \n",
       "3329244  2012-08-09 05:57:30+00:00  \n",
       "3329245  2012-08-09 05:57:30+00:00  \n",
       "3329246  2012-08-09 05:57:30+00:00  \n",
       "3329247  2012-08-09 05:57:30+00:00  \n",
       "\n",
       "[1962594 rows x 12 columns]"
      ],
      "text/html": "<div>\n<style scoped>\n    .dataframe tbody tr th:only-of-type {\n        vertical-align: middle;\n    }\n\n    .dataframe tbody tr th {\n        vertical-align: top;\n    }\n\n    .dataframe thead th {\n        text-align: right;\n    }\n</style>\n<table border=\"1\" class=\"dataframe\">\n  <thead>\n    <tr style=\"text-align: right;\">\n      <th></th>\n      <th>Unnamed: 0</th>\n      <th>Unnamed: 0.1</th>\n      <th>project</th>\n      <th>commit</th>\n      <th>file</th>\n      <th>type</th>\n      <th>lib1</th>\n      <th>lib2</th>\n      <th>ver1</th>\n      <th>ver2</th>\n      <th>is_in_woc</th>\n      <th>time</th>\n    </tr>\n  </thead>\n  <tbody>\n    <tr>\n      <th>0</th>\n      <td>0</td>\n      <td>0</td>\n      <td>Snailclimb/JavaGuide</td>\n      <td>e8aeaef43cbfb2b8a9b71c7b7f462c48b4adb9a6</td>\n      <td>docs/dataStructures-algorithms/source code/sec...</td>\n      <td>add</td>\n      <td>NaN</td>\n      <td>commons-codec:commons-codec</td>\n      <td>NaN</td>\n      <td>1.8</td>\n      <td>True</td>\n      <td>2019-03-25 09:19:36+00:00</td>\n    </tr>\n    <tr>\n      <th>1</th>\n      <td>1</td>\n      <td>1</td>\n      <td>Snailclimb/JavaGuide</td>\n      <td>e8aeaef43cbfb2b8a9b71c7b7f462c48b4adb9a6</td>\n      <td>docs/dataStructures-algorithms/source code/sec...</td>\n      <td>add</td>\n      <td>NaN</td>\n      <td>junit:junit</td>\n      <td>NaN</td>\n      <td>4.12</td>\n      <td>True</td>\n      <td>2019-03-25 09:19:36+00:00</td>\n    </tr>\n    <tr>\n      <th>2</th>\n      <td>2</td>\n      <td>2</td>\n      <td>Snailclimb/JavaGuide</td>\n      <td>e8aeaef43cbfb2b8a9b71c7b7f462c48b4adb9a6</td>\n      <td>docs/dataStructures-algorithms/source code/sec...</td>\n      <td>add</td>\n      <td>NaN</td>\n      <td>org.bouncycastle:bcprov-jdk15on</td>\n      <td>NaN</td>\n      <td>1.56</td>\n      <td>True</td>\n      <td>2019-03-25 09:19:36+00:00</td>\n    </tr>\n    <tr>\n      <th>3</th>\n      <td>3</td>\n      <td>3</td>\n      <td>Snailclimb/JavaGuide</td>\n      <td>a17a2800c92f918842d26a9e9261ae0bba89286d</td>\n      <td>数据结构与算法/source code/securityAlgorithm/pom.xml</td>\n      <td>add</td>\n      <td>NaN</td>\n      <td>commons-codec:commons-codec</td>\n      <td>NaN</td>\n      <td>1.8</td>\n      <td>True</td>\n      <td>2018-07-31 06:49:01+00:00</td>\n    </tr>\n    <tr>\n      <th>4</th>\n      <td>4</td>\n      <td>4</td>\n      <td>Snailclimb/JavaGuide</td>\n      <td>a17a2800c92f918842d26a9e9261ae0bba89286d</td>\n      <td>数据结构与算法/source code/securityAlgorithm/pom.xml</td>\n      <td>add</td>\n      <td>NaN</td>\n      <td>junit:junit</td>\n      <td>NaN</td>\n      <td>3.8.1</td>\n      <td>True</td>\n      <td>2018-07-31 06:49:01+00:00</td>\n    </tr>\n    <tr>\n      <th>...</th>\n      <td>...</td>\n      <td>...</td>\n      <td>...</td>\n      <td>...</td>\n      <td>...</td>\n      <td>...</td>\n      <td>...</td>\n      <td>...</td>\n      <td>...</td>\n      <td>...</td>\n      <td>...</td>\n      <td>...</td>\n    </tr>\n    <tr>\n      <th>3329243</th>\n      <td>3329243</td>\n      <td>3329243</td>\n      <td>88250/latke</td>\n      <td>3275e026145638664016be01437bd82649b688ff</td>\n      <td>pom.xml</td>\n      <td>add</td>\n      <td>NaN</td>\n      <td>org.testng:testng</td>\n      <td>NaN</td>\n      <td>NaN</td>\n      <td>True</td>\n      <td>2012-08-09 05:57:30+00:00</td>\n    </tr>\n    <tr>\n      <th>3329244</th>\n      <td>3329244</td>\n      <td>3329244</td>\n      <td>88250/latke</td>\n      <td>3275e026145638664016be01437bd82649b688ff</td>\n      <td>pom.xml</td>\n      <td>add</td>\n      <td>NaN</td>\n      <td>commons-lang:commons-lang</td>\n      <td>NaN</td>\n      <td>NaN</td>\n      <td>True</td>\n      <td>2012-08-09 05:57:30+00:00</td>\n    </tr>\n    <tr>\n      <th>3329245</th>\n      <td>3329245</td>\n      <td>3329245</td>\n      <td>88250/latke</td>\n      <td>3275e026145638664016be01437bd82649b688ff</td>\n      <td>pom.xml</td>\n      <td>add</td>\n      <td>NaN</td>\n      <td>javassist:javassist</td>\n      <td>NaN</td>\n      <td>NaN</td>\n      <td>True</td>\n      <td>2012-08-09 05:57:30+00:00</td>\n    </tr>\n    <tr>\n      <th>3329246</th>\n      <td>3329246</td>\n      <td>3329246</td>\n      <td>88250/latke</td>\n      <td>3275e026145638664016be01437bd82649b688ff</td>\n      <td>pom.xml</td>\n      <td>add</td>\n      <td>NaN</td>\n      <td>javax.mail:mail</td>\n      <td>NaN</td>\n      <td>NaN</td>\n      <td>True</td>\n      <td>2012-08-09 05:57:30+00:00</td>\n    </tr>\n    <tr>\n      <th>3329247</th>\n      <td>3329247</td>\n      <td>3329247</td>\n      <td>88250/latke</td>\n      <td>3275e026145638664016be01437bd82649b688ff</td>\n      <td>pom.xml</td>\n      <td>add</td>\n      <td>NaN</td>\n      <td>mysql:mysql-connector-java</td>\n      <td>NaN</td>\n      <td>5.1.18</td>\n      <td>True</td>\n      <td>2012-08-09 05:57:30+00:00</td>\n    </tr>\n  </tbody>\n</table>\n<p>1962594 rows × 12 columns</p>\n</div>"
     },
     "metadata": {},
     "execution_count": 4
    }
   ],
   "source": [
    "# 5. 间接依赖里是否已经包含l\n",
    "# 6. 其他依赖配置文件里是否已经声明了l\n",
    "# for case 5 & 6, we only care about 'add'\n",
    " \n",
    "dep_add = dep_change[dep_change['type']=='add']\n",
    "dep_add"
   ]
  },
  {
   "cell_type": "code",
   "execution_count": 16,
   "metadata": {},
   "outputs": [
    {
     "output_type": "execute_result",
     "data": {
      "text/plain": [
       "datetime.datetime(2007, 3, 24, 17, 33, 17, tzinfo=<UTC>)"
      ]
     },
     "metadata": {},
     "execution_count": 16
    }
   ],
   "source": [
    "# deprecated code: commits_not_found is []\n",
    "# for better efficiency -> time in df\n",
    "# return commit time in UTC\n",
    "commits_not_found = set()\n",
    "\n",
    "def get_commit_time(commit: str) -> datetime:\n",
    "    c = db.wocCommit.find_one({\"_id\": commit})\n",
    "    if c:\n",
    "        return c['timestamp'].replace(tzinfo=pytz.timezone('UTC'))\n",
    "    else:\n",
    "        # should throw an exception here\n",
    "        commits_not_found.insert(commit)\n",
    "        return None\n",
    "\n",
    "get_commit_time('d195553b17713fa47551942d9601d5af990e175f')\n",
    "\n",
    "def get_dep_add_before(lib:str, before: datetime) -> pd.DataFrame:\n",
    "    dep_add_lib = get_dep_add(lib)\n",
    "    is_commit_before_migration = [get_commit_time(x) < before for x in dep_add_lib['commit']]\n",
    "    return dep_add_lib[is_commit_before_migration]"
   ]
  },
  {
   "cell_type": "code",
   "execution_count": 5,
   "metadata": {},
   "outputs": [
    {
     "output_type": "execute_result",
     "data": {
      "text/plain": [
       "         Unnamed: 0  Unnamed: 0.1                        project  \\\n",
       "14963         14963         14963    spring-projects/spring-boot   \n",
       "19554         19554         19554    spring-projects/spring-boot   \n",
       "24732         24732         24732    spring-projects/spring-boot   \n",
       "24739         24739         24739    spring-projects/spring-boot   \n",
       "45107         45107         45107            SeleniumHQ/selenium   \n",
       "...             ...           ...                            ...   \n",
       "3319588     3319588       3319588  eclipse-efx/efxclipse-eclipse   \n",
       "3322033     3322033       3322033                   naver/hadoop   \n",
       "3322220     3322220       3322220                   naver/hadoop   \n",
       "3322552     3322552       3322552                   naver/hadoop   \n",
       "3322764     3322764       3322764                   naver/hadoop   \n",
       "\n",
       "                                           commit  \\\n",
       "14963    c1ec5e5c0e9651f8404c3a085ff39731d748b706   \n",
       "19554    da82f086927578b0938114ec360ab0fce9d1eb80   \n",
       "24732    d255a7f0023a3a83ab7fc856346fe3c734fb0235   \n",
       "24739    ae4559eb4f67a3cc1bc88b96b6b7abb747afe7fd   \n",
       "45107    b8835e66a9db18ffe803e326b42775f8dba9a0bb   \n",
       "...                                           ...   \n",
       "3319588  4c3ea5e0634ac498a3a4e45315634e5b64d9fdd3   \n",
       "3322033  1f804b5d2031ddbae4f6ce17dbae3e950ecdde10   \n",
       "3322220  1f804b5d2031ddbae4f6ce17dbae3e950ecdde10   \n",
       "3322552  1f804b5d2031ddbae4f6ce17dbae3e950ecdde10   \n",
       "3322764  56268ffc41a191689f29ee5671e79286b9a6a8fb   \n",
       "\n",
       "                                                      file type lib1  \\\n",
       "14963                           spring-boot-parent/pom.xml  add  NaN   \n",
       "19554    spring-boot-samples/spring-boot-sample-ant/pom...  add  NaN   \n",
       "24732         spring-boot-tools/spring-boot-antlib/pom.xml  add  NaN   \n",
       "24739         spring-boot-tools/spring-boot-antlib/pom.xml  add  NaN   \n",
       "45107                                              pom.xml  add  NaN   \n",
       "...                                                    ...  ...  ...   \n",
       "3319588     bundles/tooling/org.eclipse.fx.ide.ant/pom.xml  add  NaN   \n",
       "3322033        hadoop-common-project/hadoop-common/pom.xml  add  NaN   \n",
       "3322220            hadoop-hdfs-project/hadoop-hdfs/pom.xml  add  NaN   \n",
       "3322552                             hadoop-project/pom.xml  add  NaN   \n",
       "3322764              hadoop-tools/hadoop-streaming/pom.xml  add  NaN   \n",
       "\n",
       "                       lib2 ver1   ver2  is_in_woc                       time  \n",
       "14963    org.apache.ant:ant  NaN  1.7.0       True  2013-10-08 09:41:35+00:00  \n",
       "19554    org.apache.ant:ant  NaN  1.9.3       True  2015-06-30 07:30:33+00:00  \n",
       "24732    org.apache.ant:ant  NaN  1.9.3       True  2015-06-26 23:23:27+00:00  \n",
       "24739    org.apache.ant:ant  NaN  1.9.3       True  2015-06-30 07:30:28+00:00  \n",
       "45107    org.apache.ant:ant  NaN  1.7.1       True  2009-05-14 18:33:45+00:00  \n",
       "...                     ...  ...    ...        ...                        ...  \n",
       "3319588  org.apache.ant:ant  NaN  1.8.4       True  2013-07-01 12:45:47+00:00  \n",
       "3322033  org.apache.ant:ant  NaN    NaN       True  2012-05-28 14:58:13+00:00  \n",
       "3322220  org.apache.ant:ant  NaN    NaN       True  2012-05-28 14:58:13+00:00  \n",
       "3322552  org.apache.ant:ant  NaN  1.8.1       True  2012-05-28 14:58:13+00:00  \n",
       "3322764  org.apache.ant:ant  NaN    NaN       True  2014-04-09 04:10:23+00:00  \n",
       "\n",
       "[2740 rows x 12 columns]"
      ],
      "text/html": "<div>\n<style scoped>\n    .dataframe tbody tr th:only-of-type {\n        vertical-align: middle;\n    }\n\n    .dataframe tbody tr th {\n        vertical-align: top;\n    }\n\n    .dataframe thead th {\n        text-align: right;\n    }\n</style>\n<table border=\"1\" class=\"dataframe\">\n  <thead>\n    <tr style=\"text-align: right;\">\n      <th></th>\n      <th>Unnamed: 0</th>\n      <th>Unnamed: 0.1</th>\n      <th>project</th>\n      <th>commit</th>\n      <th>file</th>\n      <th>type</th>\n      <th>lib1</th>\n      <th>lib2</th>\n      <th>ver1</th>\n      <th>ver2</th>\n      <th>is_in_woc</th>\n      <th>time</th>\n    </tr>\n  </thead>\n  <tbody>\n    <tr>\n      <th>14963</th>\n      <td>14963</td>\n      <td>14963</td>\n      <td>spring-projects/spring-boot</td>\n      <td>c1ec5e5c0e9651f8404c3a085ff39731d748b706</td>\n      <td>spring-boot-parent/pom.xml</td>\n      <td>add</td>\n      <td>NaN</td>\n      <td>org.apache.ant:ant</td>\n      <td>NaN</td>\n      <td>1.7.0</td>\n      <td>True</td>\n      <td>2013-10-08 09:41:35+00:00</td>\n    </tr>\n    <tr>\n      <th>19554</th>\n      <td>19554</td>\n      <td>19554</td>\n      <td>spring-projects/spring-boot</td>\n      <td>da82f086927578b0938114ec360ab0fce9d1eb80</td>\n      <td>spring-boot-samples/spring-boot-sample-ant/pom...</td>\n      <td>add</td>\n      <td>NaN</td>\n      <td>org.apache.ant:ant</td>\n      <td>NaN</td>\n      <td>1.9.3</td>\n      <td>True</td>\n      <td>2015-06-30 07:30:33+00:00</td>\n    </tr>\n    <tr>\n      <th>24732</th>\n      <td>24732</td>\n      <td>24732</td>\n      <td>spring-projects/spring-boot</td>\n      <td>d255a7f0023a3a83ab7fc856346fe3c734fb0235</td>\n      <td>spring-boot-tools/spring-boot-antlib/pom.xml</td>\n      <td>add</td>\n      <td>NaN</td>\n      <td>org.apache.ant:ant</td>\n      <td>NaN</td>\n      <td>1.9.3</td>\n      <td>True</td>\n      <td>2015-06-26 23:23:27+00:00</td>\n    </tr>\n    <tr>\n      <th>24739</th>\n      <td>24739</td>\n      <td>24739</td>\n      <td>spring-projects/spring-boot</td>\n      <td>ae4559eb4f67a3cc1bc88b96b6b7abb747afe7fd</td>\n      <td>spring-boot-tools/spring-boot-antlib/pom.xml</td>\n      <td>add</td>\n      <td>NaN</td>\n      <td>org.apache.ant:ant</td>\n      <td>NaN</td>\n      <td>1.9.3</td>\n      <td>True</td>\n      <td>2015-06-30 07:30:28+00:00</td>\n    </tr>\n    <tr>\n      <th>45107</th>\n      <td>45107</td>\n      <td>45107</td>\n      <td>SeleniumHQ/selenium</td>\n      <td>b8835e66a9db18ffe803e326b42775f8dba9a0bb</td>\n      <td>pom.xml</td>\n      <td>add</td>\n      <td>NaN</td>\n      <td>org.apache.ant:ant</td>\n      <td>NaN</td>\n      <td>1.7.1</td>\n      <td>True</td>\n      <td>2009-05-14 18:33:45+00:00</td>\n    </tr>\n    <tr>\n      <th>...</th>\n      <td>...</td>\n      <td>...</td>\n      <td>...</td>\n      <td>...</td>\n      <td>...</td>\n      <td>...</td>\n      <td>...</td>\n      <td>...</td>\n      <td>...</td>\n      <td>...</td>\n      <td>...</td>\n      <td>...</td>\n    </tr>\n    <tr>\n      <th>3319588</th>\n      <td>3319588</td>\n      <td>3319588</td>\n      <td>eclipse-efx/efxclipse-eclipse</td>\n      <td>4c3ea5e0634ac498a3a4e45315634e5b64d9fdd3</td>\n      <td>bundles/tooling/org.eclipse.fx.ide.ant/pom.xml</td>\n      <td>add</td>\n      <td>NaN</td>\n      <td>org.apache.ant:ant</td>\n      <td>NaN</td>\n      <td>1.8.4</td>\n      <td>True</td>\n      <td>2013-07-01 12:45:47+00:00</td>\n    </tr>\n    <tr>\n      <th>3322033</th>\n      <td>3322033</td>\n      <td>3322033</td>\n      <td>naver/hadoop</td>\n      <td>1f804b5d2031ddbae4f6ce17dbae3e950ecdde10</td>\n      <td>hadoop-common-project/hadoop-common/pom.xml</td>\n      <td>add</td>\n      <td>NaN</td>\n      <td>org.apache.ant:ant</td>\n      <td>NaN</td>\n      <td>NaN</td>\n      <td>True</td>\n      <td>2012-05-28 14:58:13+00:00</td>\n    </tr>\n    <tr>\n      <th>3322220</th>\n      <td>3322220</td>\n      <td>3322220</td>\n      <td>naver/hadoop</td>\n      <td>1f804b5d2031ddbae4f6ce17dbae3e950ecdde10</td>\n      <td>hadoop-hdfs-project/hadoop-hdfs/pom.xml</td>\n      <td>add</td>\n      <td>NaN</td>\n      <td>org.apache.ant:ant</td>\n      <td>NaN</td>\n      <td>NaN</td>\n      <td>True</td>\n      <td>2012-05-28 14:58:13+00:00</td>\n    </tr>\n    <tr>\n      <th>3322552</th>\n      <td>3322552</td>\n      <td>3322552</td>\n      <td>naver/hadoop</td>\n      <td>1f804b5d2031ddbae4f6ce17dbae3e950ecdde10</td>\n      <td>hadoop-project/pom.xml</td>\n      <td>add</td>\n      <td>NaN</td>\n      <td>org.apache.ant:ant</td>\n      <td>NaN</td>\n      <td>1.8.1</td>\n      <td>True</td>\n      <td>2012-05-28 14:58:13+00:00</td>\n    </tr>\n    <tr>\n      <th>3322764</th>\n      <td>3322764</td>\n      <td>3322764</td>\n      <td>naver/hadoop</td>\n      <td>56268ffc41a191689f29ee5671e79286b9a6a8fb</td>\n      <td>hadoop-tools/hadoop-streaming/pom.xml</td>\n      <td>add</td>\n      <td>NaN</td>\n      <td>org.apache.ant:ant</td>\n      <td>NaN</td>\n      <td>NaN</td>\n      <td>True</td>\n      <td>2014-04-09 04:10:23+00:00</td>\n    </tr>\n  </tbody>\n</table>\n<p>2740 rows × 12 columns</p>\n</div>"
     },
     "metadata": {},
     "execution_count": 5
    }
   ],
   "source": [
    "# get commits that added lib to dependencies\n",
    "def get_dep_add(lib: str) -> pd.DataFrame:\n",
    "    return dep_add[dep_add['lib2']==lib]\n",
    "\n",
    "\n",
    "def get_dep_add_before(lib:str, before: datetime) -> pd.DataFrame:\n",
    "    dep_add_lib = get_dep_add(lib)\n",
    "    is_commit_before_migration = [dateParser(row['time']) < before for index, row in dep_add_lib.iterrows()]\n",
    "    return dep_add_lib[is_commit_before_migration]\n",
    "\n",
    "get_dep_add_before('org.apache.ant:ant', before=datetime.now().replace(tzinfo=pytz.timezone('UTC')))"
   ]
  },
  {
   "cell_type": "code",
   "execution_count": 6,
   "metadata": {},
   "outputs": [],
   "source": [
    "# exceptions\n",
    "class LioNotFoundException(Exception):\n",
    "    pass\n",
    "class WocNotFoundException(Exception):\n",
    "    pass\n",
    "class LibNotFoundException(Exception):\n",
    "    pass"
   ]
  },
  {
   "cell_type": "code",
   "execution_count": 46,
   "metadata": {},
   "outputs": [
    {
     "output_type": "execute_result",
     "data": {
      "text/plain": [
       "('1.7.0', datetime.datetime(2005, 11, 22, 18, 6, 39, tzinfo=tzlocal()))"
      ]
     },
     "metadata": {},
     "execution_count": 46
    }
   ],
   "source": [
    "# source: raw_db (lio)\n",
    "def get_first_version(lib: str) -> str:\n",
    "    versions = list(raw_db.versions.find({\"Platform\": \"Maven\", \"Project Name\": lib}, sort=[(\"Published Timestamp\", pymongo.ASCENDING)]))\n",
    "    return versions[0]['Number']\n",
    "\n",
    "def get_last_version(lib: str) -> str:\n",
    "    versions = list(raw_db.versions.find({\"Platform\": \"Maven\", \"Project Name\": lib}, sort=[(\"Published Timestamp\", pymongo.DESCENDING)]))\n",
    "    return versions[0]['Number']\n",
    "\n",
    "def get_last_version_before(lib: str, before: datetime) -> str:\n",
    "    versions = list(raw_db.versions.find({\"Platform\": \"Maven\", \"Project Name\": lib}, sort=[(\"Published Timestamp\", pymongo.DESCENDING)]))\n",
    "    for version in versions:\n",
    "        if(dateParser(version['Published Timestamp']) < before):\n",
    "            return version['Number']\n",
    "    raise LioNotFoundException(f'No version found for {lib} before {before}')\n",
    "    return ''\n",
    "\n",
    "# this function will NOT handle version mismatch; make sure it's valid\n",
    "def get_version_published_time(lib: str, version: str) -> datetime:\n",
    "    versions = list(raw_db.versions.find({\"Platform\": \"Maven\", \"Project Name\": lib, \"Number\": version}, sort=[(\"Published Timestamp\", pymongo.DESCENDING)]))\n",
    "    if not versions:\n",
    "        raise LioNotFoundException(f'{lib} {version} not found')\n",
    "    return dateParser(versions[0]['Published Timestamp'])\n",
    "\n",
    "get_last_version_before('ant:ant', datetime.now().replace(tzinfo=pytz.timezone('UTC'))), get_version_published_time('ant:ant', '1.6.5')"
   ]
  },
  {
   "cell_type": "code",
   "execution_count": 4,
   "metadata": {},
   "outputs": [
    {
     "output_type": "error",
     "ename": "NameError",
     "evalue": "name 'raw_db' is not defined",
     "traceback": [
      "\u001b[0;31m---------------------------------------------------------------------------\u001b[0m",
      "\u001b[0;31mNameError\u001b[0m                                 Traceback (most recent call last)",
      "\u001b[0;32m<ipython-input-4-198c68320478>\u001b[0m in \u001b[0;36m<module>\u001b[0;34m\u001b[0m\n\u001b[1;32m     29\u001b[0m     \u001b[0;32mreturn\u001b[0m \u001b[0maggregate_res\u001b[0m\u001b[0;34m[\u001b[0m\u001b[0;36m0\u001b[0m\u001b[0;34m]\u001b[0m\u001b[0;34m[\u001b[0m\u001b[0;34m'Number'\u001b[0m\u001b[0;34m]\u001b[0m\u001b[0;34m\u001b[0m\u001b[0;34m\u001b[0m\u001b[0m\n\u001b[1;32m     30\u001b[0m \u001b[0;34m\u001b[0m\u001b[0m\n\u001b[0;32m---> 31\u001b[0;31m \u001b[0mget_most_possible_version_lio\u001b[0m\u001b[0;34m(\u001b[0m\u001b[0;34m'ant:ant'\u001b[0m\u001b[0;34m,\u001b[0m \u001b[0;34m'[1.7.0]'\u001b[0m\u001b[0;34m)\u001b[0m\u001b[0;34m\u001b[0m\u001b[0;34m\u001b[0m\u001b[0m\n\u001b[0m",
      "\u001b[0;32m<ipython-input-4-198c68320478>\u001b[0m in \u001b[0;36mget_most_possible_version_lio\u001b[0;34m(lib, version, before)\u001b[0m\n\u001b[1;32m     10\u001b[0m         \u001b[0msort\u001b[0m \u001b[0;34m=\u001b[0m \u001b[0;34m{\u001b[0m\u001b[0;34m\"$sort\"\u001b[0m\u001b[0;34m:\u001b[0m\u001b[0;34m{\u001b[0m\u001b[0;34m\"score\"\u001b[0m\u001b[0;34m:\u001b[0m\u001b[0;34m{\u001b[0m\u001b[0;34m\"$meta\"\u001b[0m\u001b[0;34m:\u001b[0m \u001b[0;34m\"textScore\"\u001b[0m\u001b[0;34m}\u001b[0m\u001b[0;34m,\u001b[0m \u001b[0;34m\"Published Timestamp\"\u001b[0m\u001b[0;34m:\u001b[0m \u001b[0;34m-\u001b[0m\u001b[0;36m1\u001b[0m\u001b[0;34m}\u001b[0m\u001b[0;34m}\u001b[0m\u001b[0;34m\u001b[0m\u001b[0;34m\u001b[0m\u001b[0m\n\u001b[1;32m     11\u001b[0m \u001b[0;34m\u001b[0m\u001b[0m\n\u001b[0;32m---> 12\u001b[0;31m     \u001b[0maggregate_res\u001b[0m \u001b[0;34m=\u001b[0m \u001b[0mlist\u001b[0m\u001b[0;34m(\u001b[0m\u001b[0mraw_db\u001b[0m\u001b[0;34m.\u001b[0m\u001b[0mversions\u001b[0m\u001b[0;34m.\u001b[0m\u001b[0maggregate\u001b[0m\u001b[0;34m(\u001b[0m\u001b[0;34m[\u001b[0m\u001b[0mmatch\u001b[0m\u001b[0;34m,\u001b[0m \u001b[0msort\u001b[0m\u001b[0;34m]\u001b[0m\u001b[0;34m,\u001b[0m \u001b[0mallowDiskUse\u001b[0m\u001b[0;34m=\u001b[0m\u001b[0;32mTrue\u001b[0m\u001b[0;34m)\u001b[0m\u001b[0;34m)\u001b[0m\u001b[0;34m\u001b[0m\u001b[0;34m\u001b[0m\u001b[0m\n\u001b[0m\u001b[1;32m     13\u001b[0m \u001b[0;34m\u001b[0m\u001b[0m\n\u001b[1;32m     14\u001b[0m     \u001b[0;32mif\u001b[0m \u001b[0;32mnot\u001b[0m \u001b[0maggregate_res\u001b[0m\u001b[0;34m:\u001b[0m\u001b[0;34m\u001b[0m\u001b[0;34m\u001b[0m\u001b[0m\n",
      "\u001b[0;31mNameError\u001b[0m: name 'raw_db' is not defined"
     ]
    }
   ],
   "source": [
    "# parse version string to the most possible version lib actually use\n",
    "# this runs suprisingly slow; maybe text search?\n",
    "def get_most_possible_version_lio(lib: str, version=\"\", before=None) -> str:\n",
    "    match = {\"$match\":{\"Platform\": \"Maven\", \"Project Name\": lib}}\n",
    "    sort = {\"$sort\":{\"Published Timestamp\": -1}}\n",
    "\n",
    "    if version: \n",
    "        # setup text index to use text query\n",
    "        match = {\"$match\":{\"Platform\": \"Maven\", \"Project Name\": lib, \"$text\": {\"$search\":version}}}\n",
    "        sort = {\"$sort\":{\"score\":{\"$meta\": \"textScore\"}, \"Published Timestamp\": -1}}\n",
    "\n",
    "    aggregate_res = list(raw_db.versions.aggregate([match, sort], allowDiskUse=True))\n",
    "\n",
    "    if not aggregate_res:\n",
    "        raise LioNotFoundException(f'{lib} {version} not found in versions')\n",
    "    # exact match\n",
    "    if version == aggregate_res[0]['Number']:\n",
    "        return aggregate_res[0]['Number']\n",
    "    # if 'before' specified, return latest version before commit\n",
    "    elif before is not None:\n",
    "        res_before_commit = []\n",
    "        for version in aggregate_res:\n",
    "            if dateParser(version['Published Timestamp']) < before:\n",
    "                res_before_commit.append(version['Number'])\n",
    "        if not res_before_commit:\n",
    "            raise LioNotFoundException(f'{lib} {version} before {before} not found in versions')\n",
    "        return res_before_commit[0]\n",
    "  \n",
    "    return aggregate_res[0]['Number']\n",
    "\n",
    "get_most_possible_version_lio('ant:ant', '[1.7.0]')"
   ]
  },
  {
   "cell_type": "code",
   "execution_count": 3,
   "metadata": {},
   "outputs": [
    {
     "output_type": "error",
     "ename": "NameError",
     "evalue": "name 'get_most_possible_version_lio' is not defined",
     "traceback": [
      "\u001b[0;31m---------------------------------------------------------------------------\u001b[0m",
      "\u001b[0;31mNameError\u001b[0m                                 Traceback (most recent call last)",
      "\u001b[0;32m<ipython-input-3-8732f575a9e2>\u001b[0m in \u001b[0;36m<module>\u001b[0;34m\u001b[0m\n\u001b[1;32m      9\u001b[0m         \u001b[0mres_dep\u001b[0m\u001b[0;34m.\u001b[0m\u001b[0mappend\u001b[0m\u001b[0;34m(\u001b[0m\u001b[0;34m{\u001b[0m\u001b[0;34m'lib'\u001b[0m\u001b[0;34m:\u001b[0m\u001b[0mdep\u001b[0m\u001b[0;34m[\u001b[0m\u001b[0;34m'dependencyName'\u001b[0m\u001b[0;34m]\u001b[0m\u001b[0;34m,\u001b[0m \u001b[0;34m'version'\u001b[0m\u001b[0;34m:\u001b[0m\u001b[0mdep\u001b[0m\u001b[0;34m[\u001b[0m\u001b[0;34m'dependencyRequirements'\u001b[0m\u001b[0;34m]\u001b[0m\u001b[0;34m}\u001b[0m\u001b[0;34m)\u001b[0m\u001b[0;34m\u001b[0m\u001b[0;34m\u001b[0m\u001b[0m\n\u001b[1;32m     10\u001b[0m     \u001b[0;32mreturn\u001b[0m \u001b[0mres_dep\u001b[0m\u001b[0;34m\u001b[0m\u001b[0;34m\u001b[0m\u001b[0m\n\u001b[0;32m---> 11\u001b[0;31m \u001b[0mget_direct_dependencies_lio\u001b[0m\u001b[0;34m(\u001b[0m\u001b[0;34m'ant:ant'\u001b[0m\u001b[0;34m,\u001b[0m \u001b[0;34m'1.7.0'\u001b[0m\u001b[0;34m)\u001b[0m\u001b[0;34m\u001b[0m\u001b[0;34m\u001b[0m\u001b[0m\n\u001b[0m",
      "\u001b[0;32m<ipython-input-3-8732f575a9e2>\u001b[0m in \u001b[0;36mget_direct_dependencies_lio\u001b[0;34m(lib, version, commitTime)\u001b[0m\n\u001b[1;32m      3\u001b[0m \u001b[0;32mdef\u001b[0m \u001b[0mget_direct_dependencies_lio\u001b[0m\u001b[0;34m(\u001b[0m\u001b[0mlib\u001b[0m\u001b[0;34m:\u001b[0m \u001b[0mstr\u001b[0m\u001b[0;34m,\u001b[0m \u001b[0mversion\u001b[0m\u001b[0;34m=\u001b[0m\u001b[0;34m\"\"\u001b[0m\u001b[0;34m,\u001b[0m \u001b[0mcommitTime\u001b[0m\u001b[0;34m=\u001b[0m\u001b[0;32mNone\u001b[0m\u001b[0;34m)\u001b[0m \u001b[0;34m->\u001b[0m \u001b[0mlist\u001b[0m\u001b[0;34m:\u001b[0m\u001b[0;34m\u001b[0m\u001b[0;34m\u001b[0m\u001b[0m\n\u001b[1;32m      4\u001b[0m     \u001b[0;31m# no need to catch exception here: raw_db = lio\u001b[0m\u001b[0;34m\u001b[0m\u001b[0;34m\u001b[0m\u001b[0;34m\u001b[0m\u001b[0m\n\u001b[0;32m----> 5\u001b[0;31m     \u001b[0mversion\u001b[0m\u001b[0;34m=\u001b[0m\u001b[0mget_most_possible_version_lio\u001b[0m\u001b[0;34m(\u001b[0m\u001b[0mlib\u001b[0m\u001b[0;34m,\u001b[0m \u001b[0mversion\u001b[0m\u001b[0;34m)\u001b[0m\u001b[0;34m\u001b[0m\u001b[0;34m\u001b[0m\u001b[0m\n\u001b[0m\u001b[1;32m      6\u001b[0m     \u001b[0mres\u001b[0m \u001b[0;34m=\u001b[0m \u001b[0mlist\u001b[0m\u001b[0;34m(\u001b[0m\u001b[0mdb\u001b[0m\u001b[0;34m.\u001b[0m\u001b[0mlioProjectDependency\u001b[0m\u001b[0;34m.\u001b[0m\u001b[0mfind\u001b[0m\u001b[0;34m(\u001b[0m\u001b[0;34m{\u001b[0m\u001b[0;34m\"projectName\"\u001b[0m\u001b[0;34m:\u001b[0m \u001b[0mlib\u001b[0m\u001b[0;34m,\u001b[0m \u001b[0;34m\"versionNumber\"\u001b[0m\u001b[0;34m:\u001b[0m \u001b[0mversion\u001b[0m\u001b[0;34m}\u001b[0m\u001b[0;34m,\u001b[0m \u001b[0msort\u001b[0m\u001b[0;34m=\u001b[0m\u001b[0;34m[\u001b[0m\u001b[0;34m(\u001b[0m\u001b[0;34m\"version\"\u001b[0m\u001b[0;34m,\u001b[0m \u001b[0mpymongo\u001b[0m\u001b[0;34m.\u001b[0m\u001b[0mDESCENDING\u001b[0m\u001b[0;34m)\u001b[0m\u001b[0;34m]\u001b[0m\u001b[0;34m)\u001b[0m\u001b[0;34m)\u001b[0m\u001b[0;34m\u001b[0m\u001b[0;34m\u001b[0m\u001b[0m\n\u001b[1;32m      7\u001b[0m     \u001b[0mres_dep\u001b[0m \u001b[0;34m=\u001b[0m \u001b[0;34m[\u001b[0m\u001b[0;34m]\u001b[0m\u001b[0;34m\u001b[0m\u001b[0;34m\u001b[0m\u001b[0m\n",
      "\u001b[0;31mNameError\u001b[0m: name 'get_most_possible_version_lio' is not defined"
     ]
    }
   ],
   "source": [
    "# lookup direct dependencies in lioProjectDependency\n",
    "# return format: [{lib:a:b, version: 1.0}]\n",
    "def get_direct_dependencies_lio(lib: str, version=\"\", commitTime=None) -> list:\n",
    "    # no need to catch exception here: raw_db = lio\n",
    "    version=get_most_possible_version_lio(lib, version)\n",
    "    res = list(db.lioProjectDependency.find({\"projectName\": lib, \"versionNumber\": version}, sort=[(\"version\", pymongo.DESCENDING)]))\n",
    "    res_dep = []\n",
    "    for dep in res:\n",
    "        res_dep.append({'lib':dep['dependencyName'], 'version':dep['dependencyRequirements']})\n",
    "    return res_dep\n",
    "get_direct_dependencies_lio('ant:ant', '1.7.0')"
   ]
  },
  {
   "cell_type": "code",
   "execution_count": 2,
   "metadata": {},
   "outputs": [
    {
     "output_type": "error",
     "ename": "NameError",
     "evalue": "name 'List' is not defined",
     "traceback": [
      "\u001b[0;31m---------------------------------------------------------------------------\u001b[0m",
      "\u001b[0;31mNameError\u001b[0m                                 Traceback (most recent call last)",
      "\u001b[0;32m<ipython-input-2-8daea721113a>\u001b[0m in \u001b[0;36m<module>\u001b[0;34m\u001b[0m\n\u001b[1;32m      3\u001b[0m \u001b[0;31m# return format: [{lib:a:b, version: 1.0}]\u001b[0m\u001b[0;34m\u001b[0m\u001b[0;34m\u001b[0m\u001b[0;34m\u001b[0m\u001b[0m\n\u001b[1;32m      4\u001b[0m \u001b[0;34m\u001b[0m\u001b[0m\n\u001b[0;32m----> 5\u001b[0;31m \u001b[0;32mdef\u001b[0m \u001b[0mget_direct_dependencies_lib\u001b[0m\u001b[0;34m(\u001b[0m\u001b[0mlib\u001b[0m\u001b[0;34m:\u001b[0m \u001b[0mstr\u001b[0m\u001b[0;34m,\u001b[0m \u001b[0mversion\u001b[0m\u001b[0;34m=\u001b[0m\u001b[0;34m\"\"\u001b[0m\u001b[0;34m,\u001b[0m \u001b[0mcommitTime\u001b[0m\u001b[0;34m=\u001b[0m\u001b[0;32mNone\u001b[0m\u001b[0;34m)\u001b[0m \u001b[0;34m->\u001b[0m \u001b[0mList\u001b[0m\u001b[0;34m:\u001b[0m\u001b[0;34m\u001b[0m\u001b[0;34m\u001b[0m\u001b[0m\n\u001b[0m\u001b[1;32m      6\u001b[0m     \u001b[0mres\u001b[0m \u001b[0;34m=\u001b[0m \u001b[0;34m[\u001b[0m\u001b[0;34m]\u001b[0m\u001b[0;34m\u001b[0m\u001b[0;34m\u001b[0m\u001b[0m\n\u001b[1;32m      7\u001b[0m     \u001b[0mversion_\u001b[0m\u001b[0;34m=\u001b[0m\u001b[0;32mNone\u001b[0m  \u001b[0;31m# most possible candidiate in database\u001b[0m\u001b[0;34m\u001b[0m\u001b[0;34m\u001b[0m\u001b[0m\n",
      "\u001b[0;31mNameError\u001b[0m: name 'List' is not defined"
     ]
    }
   ],
   "source": [
    "# lookup direct dependencies in libraryVersionToDependency\n",
    "# return most possible candidates\n",
    "# return format: [{lib:a:b, version: 1.0}]\n",
    "\n",
    "def get_direct_dependencies_lib(lib: str, version=\"\", commitTime=None) -> list:\n",
    "    res = []\n",
    "    version_=None  # most possible candidiate in database\n",
    "    group_id = lib.split(':')[0]\n",
    "    artifact_id = lib.split(':')[-1]\n",
    "\n",
    "    # skip 1-4 if version is empty\n",
    "    if version:\n",
    "        # 1. exact matching\n",
    "        res = list(db.libraryVersionToDependency.find({\"groupId\": group_id, \"artifactId\": artifact_id, \"version\": version},\n",
    "            sort=[(\"version\", pymongo.DESCENDING)]))\n",
    "        # 2. version*\n",
    "        if not res:\n",
    "            version_=version\n",
    "            res = list(db.libraryVersionToDependency.find({\"groupId\": group_id, \"artifactId\": artifact_id, \n",
    "                \"version\": {'$regex' :f\"^{version_}\"}},sort=[(\"version\", pymongo.DESCENDING)]))\n",
    "        # 3. remove dash\n",
    "        if not res and '-' in version:\n",
    "            version_=version.split('-')[0]\n",
    "            res = list(db.libraryVersionToDependency.find({\"groupId\": group_id, \"artifactId\": artifact_id, \n",
    "                \"version\": {'$regex' :f\"^{version_}\"}},sort=[(\"version\", pymongo.DESCENDING)]))\n",
    "        # 4. remove last dot\n",
    "        if not res:\n",
    "            version_='.'.join(version.split('.')[:-1])\n",
    "            # version_ may be an empty string?\n",
    "            if version_:\n",
    "                res = list(db.libraryVersionToDependency.find({\"groupId\": group_id, \"artifactId\": artifact_id, \n",
    "                    \"version\": {'$regex' :f\"^{version_}\"}},sort=[(\"version\", pymongo.DESCENDING)]))\n",
    "    \n",
    "    # 5. find last version before commit\n",
    "    # chances of conflicts btw maven & lio seems rare\n",
    "    if not res and commitTime:\n",
    "        version_ = get_last_version_before(lib=lib, before=commitTime)\n",
    "        # print(version_)\n",
    "        res = list(db.libraryVersionToDependency.find({\"groupId\": group_id, \"artifactId\": artifact_id, \n",
    "            \"version\": {'$regex' :f\"^{version_}\"}},sort=[(\"version\", pymongo.DESCENDING)]))\n",
    "\n",
    "    # sanity check here: published before commit (if we use regex to filter version)\n",
    "    if version_ is not None and commitTime:\n",
    "        res_filtered = []\n",
    "        for item in res:\n",
    "            try:\n",
    "                published_time = get_version_published_time(lib, item['version'])\n",
    "            except LioNotFoundException:  # not handling it\n",
    "                continue\n",
    "            if published_time < commitTime:\n",
    "                res_filtered.append(item)\n",
    "        res = res_filtered\n",
    "\n",
    "    # 6. find all\n",
    "    if not res:\n",
    "        res = list(db.libraryVersionToDependency.find({\"groupId\": group_id, \"artifactId\": artifact_id},\n",
    "            sort=[(\"version\", pymongo.DESCENDING)]))\n",
    "    if not res:\n",
    "        raise LibNotFoundException(f'{lib} {version} not found after all attempts')\n",
    "\n",
    "    # unify return format\n",
    "    res_dep = res[0]['dependencies']\n",
    "    for dep in res_dep:\n",
    "        dep['lib']=dep['groupId']+':'+dep['artifactId']\n",
    "        del dep['groupId'], dep['artifactId']\n",
    "    return res_dep\n",
    "\n",
    "get_direct_dependencies_lib(\"org.hibernate:hibernate-core\", '', \n",
    "    datetime(2010, 11, 22, 18, 6, 39).replace(tzinfo=pytz.timezone('UTC')))\n"
   ]
  },
  {
   "cell_type": "code",
   "execution_count": null,
   "metadata": {},
   "outputs": [],
   "source": []
  }
 ]
}