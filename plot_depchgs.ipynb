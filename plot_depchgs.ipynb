{
 "cells": [
  {
   "cell_type": "code",
   "execution_count": 1,
   "metadata": {
    "pycharm": {
     "is_executing": true
    }
   },
   "outputs": [],
   "source": [
    "import os\n",
    "import datautil\n",
    "import itertools\n",
    "import numpy as np\n",
    "import pandas as pd\n",
    "import matplotlib.pyplot as plt\n",
    "import seaborn as sns\n",
    "from collections import defaultdict"
   ]
  },
  {
   "cell_type": "code",
   "execution_count": 2,
   "metadata": {
    "collapsed": false,
    "jupyter": {
     "outputs_hidden": false
    },
    "pycharm": {
     "is_executing": true,
     "name": "#%%\n"
    },
    "tags": []
   },
   "outputs": [
    {
     "name": "stdout",
     "output_type": "stream",
     "text": [
      "19652 projects, 14630 libraries, 3329249 dep changes\n"
     ]
    }
   ],
   "source": [
    "projects = datautil.select_projects_from_libraries_io()\n",
    "libraries = datautil.select_libraries_from_libraries_io()\n",
    "migrations = datautil.select_migrations()\n",
    "lib_names = set(libraries[\"name\"])\n",
    "rules = datautil.select_rules(lib_names)\n",
    "dep_changes = datautil.select_dependency_changes_all()\n",
    "print(f\"{len(projects)} projects, {len(libraries)} libraries, {len(dep_changes)} dep changes\")"
   ]
  },
  {
   "cell_type": "code",
   "execution_count": 3,
   "metadata": {
    "collapsed": false,
    "jupyter": {
     "outputs_hidden": false
    },
    "pycharm": {
     "name": "#%%\n"
    }
   },
   "outputs": [
    {
     "data": {
      "text/html": [
       "<div>\n",
       "<style scoped>\n",
       "    .dataframe tbody tr th:only-of-type {\n",
       "        vertical-align: middle;\n",
       "    }\n",
       "\n",
       "    .dataframe tbody tr th {\n",
       "        vertical-align: top;\n",
       "    }\n",
       "\n",
       "    .dataframe thead th {\n",
       "        text-align: right;\n",
       "    }\n",
       "</style>\n",
       "<table border=\"1\" class=\"dataframe\">\n",
       "  <thead>\n",
       "    <tr style=\"text-align: right;\">\n",
       "      <th></th>\n",
       "      <th>project</th>\n",
       "      <th>commit</th>\n",
       "      <th>file</th>\n",
       "      <th>type</th>\n",
       "      <th>lib1</th>\n",
       "      <th>lib2</th>\n",
       "      <th>ver1</th>\n",
       "      <th>ver2</th>\n",
       "    </tr>\n",
       "  </thead>\n",
       "  <tbody>\n",
       "    <tr>\n",
       "      <th>0</th>\n",
       "      <td>Snailclimb/JavaGuide</td>\n",
       "      <td>e8aeaef43cbfb2b8a9b71c7b7f462c48b4adb9a6</td>\n",
       "      <td>docs/dataStructures-algorithms/source code/sec...</td>\n",
       "      <td>add</td>\n",
       "      <td></td>\n",
       "      <td>commons-codec:commons-codec</td>\n",
       "      <td></td>\n",
       "      <td>1.8</td>\n",
       "    </tr>\n",
       "    <tr>\n",
       "      <th>1</th>\n",
       "      <td>Snailclimb/JavaGuide</td>\n",
       "      <td>e8aeaef43cbfb2b8a9b71c7b7f462c48b4adb9a6</td>\n",
       "      <td>docs/dataStructures-algorithms/source code/sec...</td>\n",
       "      <td>add</td>\n",
       "      <td></td>\n",
       "      <td>junit:junit</td>\n",
       "      <td></td>\n",
       "      <td>4.12</td>\n",
       "    </tr>\n",
       "    <tr>\n",
       "      <th>2</th>\n",
       "      <td>Snailclimb/JavaGuide</td>\n",
       "      <td>e8aeaef43cbfb2b8a9b71c7b7f462c48b4adb9a6</td>\n",
       "      <td>docs/dataStructures-algorithms/source code/sec...</td>\n",
       "      <td>add</td>\n",
       "      <td></td>\n",
       "      <td>org.bouncycastle:bcprov-jdk15on</td>\n",
       "      <td></td>\n",
       "      <td>1.56</td>\n",
       "    </tr>\n",
       "    <tr>\n",
       "      <th>3</th>\n",
       "      <td>Snailclimb/JavaGuide</td>\n",
       "      <td>a17a2800c92f918842d26a9e9261ae0bba89286d</td>\n",
       "      <td>数据结构与算法/source code/securityAlgorithm/pom.xml</td>\n",
       "      <td>add</td>\n",
       "      <td></td>\n",
       "      <td>commons-codec:commons-codec</td>\n",
       "      <td></td>\n",
       "      <td>1.8</td>\n",
       "    </tr>\n",
       "    <tr>\n",
       "      <th>4</th>\n",
       "      <td>Snailclimb/JavaGuide</td>\n",
       "      <td>a17a2800c92f918842d26a9e9261ae0bba89286d</td>\n",
       "      <td>数据结构与算法/source code/securityAlgorithm/pom.xml</td>\n",
       "      <td>add</td>\n",
       "      <td></td>\n",
       "      <td>junit:junit</td>\n",
       "      <td></td>\n",
       "      <td>3.8.1</td>\n",
       "    </tr>\n",
       "  </tbody>\n",
       "</table>\n",
       "</div>"
      ],
      "text/plain": [
       "                project                                    commit  \\\n",
       "0  Snailclimb/JavaGuide  e8aeaef43cbfb2b8a9b71c7b7f462c48b4adb9a6   \n",
       "1  Snailclimb/JavaGuide  e8aeaef43cbfb2b8a9b71c7b7f462c48b4adb9a6   \n",
       "2  Snailclimb/JavaGuide  e8aeaef43cbfb2b8a9b71c7b7f462c48b4adb9a6   \n",
       "3  Snailclimb/JavaGuide  a17a2800c92f918842d26a9e9261ae0bba89286d   \n",
       "4  Snailclimb/JavaGuide  a17a2800c92f918842d26a9e9261ae0bba89286d   \n",
       "\n",
       "                                                file type lib1  \\\n",
       "0  docs/dataStructures-algorithms/source code/sec...  add        \n",
       "1  docs/dataStructures-algorithms/source code/sec...  add        \n",
       "2  docs/dataStructures-algorithms/source code/sec...  add        \n",
       "3      数据结构与算法/source code/securityAlgorithm/pom.xml  add        \n",
       "4      数据结构与算法/source code/securityAlgorithm/pom.xml  add        \n",
       "\n",
       "                              lib2 ver1   ver2  \n",
       "0      commons-codec:commons-codec         1.8  \n",
       "1                      junit:junit        4.12  \n",
       "2  org.bouncycastle:bcprov-jdk15on        1.56  \n",
       "3      commons-codec:commons-codec         1.8  \n",
       "4                      junit:junit       3.8.1  "
      ]
     },
     "execution_count": 3,
     "metadata": {},
     "output_type": "execute_result"
    }
   ],
   "source": [
    "dep_changes.head()"
   ]
  },
  {
   "cell_type": "code",
   "execution_count": 4,
   "metadata": {
    "collapsed": false,
    "jupyter": {
     "outputs_hidden": false
    },
    "pycharm": {
     "name": "#%%\n"
    }
   },
   "outputs": [
    {
     "data": {
      "text/html": [
       "<div>\n",
       "<style scoped>\n",
       "    .dataframe tbody tr th:only-of-type {\n",
       "        vertical-align: middle;\n",
       "    }\n",
       "\n",
       "    .dataframe tbody tr th {\n",
       "        vertical-align: top;\n",
       "    }\n",
       "\n",
       "    .dataframe thead th {\n",
       "        text-align: right;\n",
       "    }\n",
       "</style>\n",
       "<table border=\"1\" class=\"dataframe\">\n",
       "  <thead>\n",
       "    <tr style=\"text-align: right;\">\n",
       "      <th></th>\n",
       "      <th>project</th>\n",
       "      <th>changes</th>\n",
       "      <th>adoptions</th>\n",
       "      <th>removals</th>\n",
       "      <th>verchgs</th>\n",
       "      <th>commits</th>\n",
       "      <th>change_commits</th>\n",
       "      <th>adoption_commits</th>\n",
       "      <th>removal_commits</th>\n",
       "      <th>verchg_commits</th>\n",
       "      <th>possible_migrations</th>\n",
       "      <th>confirmed_migrations</th>\n",
       "    </tr>\n",
       "  </thead>\n",
       "  <tbody>\n",
       "    <tr>\n",
       "      <th>0</th>\n",
       "      <td>01org/graphbuilder</td>\n",
       "      <td>37</td>\n",
       "      <td>32</td>\n",
       "      <td>1</td>\n",
       "      <td>4</td>\n",
       "      <td>62</td>\n",
       "      <td>3</td>\n",
       "      <td>3</td>\n",
       "      <td>1</td>\n",
       "      <td>2</td>\n",
       "      <td>2</td>\n",
       "      <td>0</td>\n",
       "    </tr>\n",
       "    <tr>\n",
       "      <th>1</th>\n",
       "      <td>07kit/07kit</td>\n",
       "      <td>20</td>\n",
       "      <td>20</td>\n",
       "      <td>0</td>\n",
       "      <td>0</td>\n",
       "      <td>45</td>\n",
       "      <td>2</td>\n",
       "      <td>2</td>\n",
       "      <td>0</td>\n",
       "      <td>0</td>\n",
       "      <td>0</td>\n",
       "      <td>0</td>\n",
       "    </tr>\n",
       "    <tr>\n",
       "      <th>2</th>\n",
       "      <td>0ang3el/HQLi-playground</td>\n",
       "      <td>1</td>\n",
       "      <td>1</td>\n",
       "      <td>0</td>\n",
       "      <td>0</td>\n",
       "      <td>5</td>\n",
       "      <td>1</td>\n",
       "      <td>1</td>\n",
       "      <td>0</td>\n",
       "      <td>0</td>\n",
       "      <td>0</td>\n",
       "      <td>0</td>\n",
       "    </tr>\n",
       "    <tr>\n",
       "      <th>3</th>\n",
       "      <td>0nise/shell-plus</td>\n",
       "      <td>1</td>\n",
       "      <td>1</td>\n",
       "      <td>0</td>\n",
       "      <td>0</td>\n",
       "      <td>8</td>\n",
       "      <td>1</td>\n",
       "      <td>1</td>\n",
       "      <td>0</td>\n",
       "      <td>0</td>\n",
       "      <td>0</td>\n",
       "      <td>0</td>\n",
       "    </tr>\n",
       "    <tr>\n",
       "      <th>4</th>\n",
       "      <td>0opslab/opslabJutil</td>\n",
       "      <td>15</td>\n",
       "      <td>10</td>\n",
       "      <td>3</td>\n",
       "      <td>2</td>\n",
       "      <td>364</td>\n",
       "      <td>4</td>\n",
       "      <td>2</td>\n",
       "      <td>2</td>\n",
       "      <td>1</td>\n",
       "      <td>1</td>\n",
       "      <td>0</td>\n",
       "    </tr>\n",
       "  </tbody>\n",
       "</table>\n",
       "</div>"
      ],
      "text/plain": [
       "                   project  changes  adoptions  removals  verchgs  commits  \\\n",
       "0       01org/graphbuilder       37         32         1        4       62   \n",
       "1              07kit/07kit       20         20         0        0       45   \n",
       "2  0ang3el/HQLi-playground        1          1         0        0        5   \n",
       "3         0nise/shell-plus        1          1         0        0        8   \n",
       "4      0opslab/opslabJutil       15         10         3        2      364   \n",
       "\n",
       "   change_commits  adoption_commits  removal_commits  verchg_commits  \\\n",
       "0               3                 3                1               2   \n",
       "1               2                 2                0               0   \n",
       "2               1                 1                0               0   \n",
       "3               1                 1                0               0   \n",
       "4               4                 2                2               1   \n",
       "\n",
       "   possible_migrations  confirmed_migrations  \n",
       "0                    2                     0  \n",
       "1                    0                     0  \n",
       "2                    0                     0  \n",
       "3                    0                     0  \n",
       "4                    1                     0  "
      ]
     },
     "execution_count": 4,
     "metadata": {},
     "output_type": "execute_result"
    }
   ],
   "source": [
    "proj2commits = dict(zip(projects.nameWithOwner, projects.commitsCount))\n",
    "rule_set = set(zip(rules.fromLib, rules.toLib))\n",
    "proj_stats = dict()\n",
    "for proj, df in dep_changes.groupby([\"project\"]):\n",
    "    proj_stats[proj] = {\n",
    "        \"project\": proj,\n",
    "        \"changes\": len(df),\n",
    "        \"adoptions\": len(df[df.type == \"add\"]),\n",
    "        \"removals\": len(df[df.type == \"rem\"]),\n",
    "        \"verchgs\": len(df[df.type == \"verchg\"]),\n",
    "        \"commits\": proj2commits[proj],\n",
    "        \"change_commits\": len(set(df.commit)),\n",
    "        \"adoption_commits\": len(set(df[df.type == \"add\"].commit)),\n",
    "        \"removal_commits\": len(set(df[df.type == \"rem\"].commit)),\n",
    "        \"verchg_commits\": len(set(df[df.type == \"verchg\"].commit)),\n",
    "        \"possible_migrations\": 0,\n",
    "        \"confirmed_migrations\": 0\n",
    "    }\n",
    "    for path, df2 in df.groupby([\"file\"]):\n",
    "        for added_lib, removed_lib in itertools.product(set(df2.lib2), set(df2.lib1)):\n",
    "            if (removed_lib, added_lib) in rule_set:\n",
    "                proj_stats[proj][\"possible_migrations\"] += 1\n",
    "for idx, row in migrations.iterrows():\n",
    "    if row[\"repoName\"].replace(\"_\", \"/\") not in proj_stats:\n",
    "        continue\n",
    "    proj_stats[row[\"repoName\"].replace(\"_\", \"/\")][\"confirmed_migrations\"] += 1\n",
    "proj_stats = pd.DataFrame(proj_stats.values())\n",
    "proj_stats.head()"
   ]
  },
  {
   "cell_type": "code",
   "execution_count": 5,
   "metadata": {
    "collapsed": false,
    "jupyter": {
     "outputs_hidden": false
    },
    "pycharm": {
     "name": "#%%\n"
    }
   },
   "outputs": [
    {
     "name": "stdout",
     "output_type": "stream",
     "text": [
      "For all projects:\n",
      "18584 / 18912 (98.27%) projects with at least one library adoption\n",
      "8583 / 18912 (45.38%) projects with at least one library removal\n",
      "9404 / 18912 (49.73%) projects with at least one version change\n"
     ]
    }
   ],
   "source": [
    "def percent(df, cond) -> str:\n",
    "    return f\"{len(df[cond])} / {len(df)} ({len(df[cond]) / len(df) * 100:.2f}%)\"\n",
    "\n",
    "print(\"For all projects:\")\n",
    "print(f\"{percent(proj_stats, proj_stats.adoptions != 0)} projects with at least one library adoption\")\n",
    "print(f\"{percent(proj_stats, proj_stats.removals != 0)} projects with at least one library removal\")\n",
    "print(f\"{percent(proj_stats, proj_stats.verchgs != 0)} projects with at least one version change\")\n",
    "# print(f\"{percent(proj_stats, proj_stats.possible_migrations != 0)} projects with at least one possible migration\")\n",
    "# print(f\"{percent(proj_stats, proj_stats.confirmed_migrations != 0)} projects with at least one confirmed migration\")"
   ]
  },
  {
   "cell_type": "code",
   "execution_count": 6,
   "metadata": {},
   "outputs": [
    {
     "name": "stdout",
     "output_type": "stream",
     "text": [
      "For the 20% projects with most commits:\n",
      "3746 / 3782 (99.05%) projects with at least one library adoption\n",
      "2976 / 3782 (78.69%) projects with at least one library removal\n",
      "2987 / 3782 (78.98%) projects with at least one version change\n"
     ]
    }
   ],
   "source": [
    "splits = np.array_split(proj_stats.sort_values(by=\"commits\"), 5)[-1]\n",
    "print(\"For the 20% projects with most commits:\")\n",
    "print(f\"{percent(splits, splits.adoptions != 0)} projects with at least one library adoption\")\n",
    "print(f\"{percent(splits, splits.removals != 0)} projects with at least one library removal\")\n",
    "print(f\"{percent(splits, splits.verchgs != 0)} projects with at least one version change\")"
   ]
  },
  {
   "cell_type": "code",
   "execution_count": 7,
   "metadata": {},
   "outputs": [
    {
     "data": {
      "image/png": "[encoded data removed]",
      "text/plain": [
       "<Figure size 648x288 with 3 Axes>"
      ]
     },
     "metadata": {
      "needs_background": "light"
     },
     "output_type": "display_data"
    }
   ],
   "source": [
    "splits = np.array_split(proj_stats.sort_values(by=\"commits\"), 10)\n",
    "ranges = list(map(lambda x: f\"{min(x.commits)}-{max(x.commits)}\", splits))\n",
    "adt_rate = list(map(lambda x: len(x[x.adoptions != 0]) / len(x), splits))\n",
    "rem_rate = list(map(lambda x: len(x[x.removals != 0]) / len(x), splits))\n",
    "ver_rate = list(map(lambda x: len(x[x.verchgs != 0]) / len(x), splits))\n",
    "proj_stats_f = proj_stats[proj_stats.removals != 0].copy()\n",
    "\n",
    "fig, axes = plt.subplots(1, 2, figsize=(9,4))\n",
    "axes[0].plot(ranges, adt_rate, marker=\"o\", label=\"adoption\")\n",
    "axes[0].plot(ranges, rem_rate, marker=\"^\", label=\"removal\")\n",
    "axes[0].plot(ranges, ver_rate, marker=\"x\", label=\"version change\")\n",
    "axes[0].set_xlabel(\"Number of Commits\")\n",
    "axes[0].set_ylabel(\"Percentage of Projects\")\n",
    "axes[0].legend()\n",
    "\n",
    "axes[1].boxplot(x=[\n",
    "    proj_stats_f.changes,\n",
    "    proj_stats_f.adoptions,\n",
    "    proj_stats_f.removals,\n",
    "    proj_stats_f.verchgs],\n",
    "    labels=[\"any\", \"adoption\", \"removal\", \"version\"], \n",
    "    positions=[0,0.5,1,1.5], widths=0.5)\n",
    "axes[1].set_yscale(\"log\")\n",
    "axes[1].set_ylabel(\"Number of Changes\")\n",
    "axes[1].set_xlabel(\"Change Type\")\n",
    "ax2 = axes[1].twinx()\n",
    "ax2.boxplot(x=[\n",
    "    proj_stats_f.change_commits / proj_stats_f.commits,\n",
    "    proj_stats_f.adoption_commits / proj_stats_f.commits,\n",
    "    proj_stats_f.removal_commits / proj_stats_f.commits,\n",
    "    proj_stats_f.verchg_commits / proj_stats_f.commits,\n",
    "    ], labels=[\"any\", \"adoption\", \"removal\", \"version\"], positions=[2.5,3,3.5,4], widths=0.5)\n",
    "ax2.set_yscale(\"log\")\n",
    "ax2.set_ylabel(\"Proportion of Commits with Change\")\n",
    "\n",
    "fig.autofmt_xdate()\n",
    "fig.savefig(\"plots/depchgs.pdf\", bbox_inches=\"tight\")"
   ]
  },
  {
   "cell_type": "code",
   "execution_count": 8,
   "metadata": {
    "collapsed": false,
    "jupyter": {
     "outputs_hidden": false
    },
    "pycharm": {
     "name": "#%%\n"
    }
   },
   "outputs": [
    {
     "data": {
      "text/html": [
       "<div>\n",
       "<style scoped>\n",
       "    .dataframe tbody tr th:only-of-type {\n",
       "        vertical-align: middle;\n",
       "    }\n",
       "\n",
       "    .dataframe tbody tr th {\n",
       "        vertical-align: top;\n",
       "    }\n",
       "\n",
       "    .dataframe thead th {\n",
       "        text-align: right;\n",
       "    }\n",
       "</style>\n",
       "<table border=\"1\" class=\"dataframe\">\n",
       "  <thead>\n",
       "    <tr style=\"text-align: right;\">\n",
       "      <th></th>\n",
       "      <th>changes</th>\n",
       "      <th>adoptions</th>\n",
       "      <th>removals</th>\n",
       "      <th>verchgs</th>\n",
       "      <th>commit_portion_c</th>\n",
       "      <th>commit_portion_a</th>\n",
       "      <th>commit_portion_r</th>\n",
       "      <th>commit_portion_v</th>\n",
       "    </tr>\n",
       "  </thead>\n",
       "  <tbody>\n",
       "    <tr>\n",
       "      <th>count</th>\n",
       "      <td>8583.000000</td>\n",
       "      <td>8583.000000</td>\n",
       "      <td>8583.000000</td>\n",
       "      <td>8583.000000</td>\n",
       "      <td>8583.000000</td>\n",
       "      <td>8583.000000</td>\n",
       "      <td>8583.000000</td>\n",
       "      <td>8583.000000</td>\n",
       "    </tr>\n",
       "    <tr>\n",
       "      <th>mean</th>\n",
       "      <td>364.922987</td>\n",
       "      <td>207.355587</td>\n",
       "      <td>38.219271</td>\n",
       "      <td>119.348130</td>\n",
       "      <td>0.060244</td>\n",
       "      <td>0.043147</td>\n",
       "      <td>0.016610</td>\n",
       "      <td>0.019294</td>\n",
       "    </tr>\n",
       "    <tr>\n",
       "      <th>std</th>\n",
       "      <td>3830.449277</td>\n",
       "      <td>2928.303482</td>\n",
       "      <td>190.967456</td>\n",
       "      <td>2189.013936</td>\n",
       "      <td>0.080219</td>\n",
       "      <td>0.066868</td>\n",
       "      <td>0.029031</td>\n",
       "      <td>0.037184</td>\n",
       "    </tr>\n",
       "    <tr>\n",
       "      <th>min</th>\n",
       "      <td>1.000000</td>\n",
       "      <td>0.000000</td>\n",
       "      <td>1.000000</td>\n",
       "      <td>0.000000</td>\n",
       "      <td>0.000042</td>\n",
       "      <td>0.000000</td>\n",
       "      <td>0.000010</td>\n",
       "      <td>0.000000</td>\n",
       "    </tr>\n",
       "    <tr>\n",
       "      <th>25%</th>\n",
       "      <td>19.000000</td>\n",
       "      <td>12.000000</td>\n",
       "      <td>2.000000</td>\n",
       "      <td>1.000000</td>\n",
       "      <td>0.013699</td>\n",
       "      <td>0.008277</td>\n",
       "      <td>0.003058</td>\n",
       "      <td>0.001055</td>\n",
       "    </tr>\n",
       "    <tr>\n",
       "      <th>50%</th>\n",
       "      <td>55.000000</td>\n",
       "      <td>34.000000</td>\n",
       "      <td>6.000000</td>\n",
       "      <td>7.000000</td>\n",
       "      <td>0.032787</td>\n",
       "      <td>0.020725</td>\n",
       "      <td>0.007576</td>\n",
       "      <td>0.006793</td>\n",
       "    </tr>\n",
       "    <tr>\n",
       "      <th>75%</th>\n",
       "      <td>165.000000</td>\n",
       "      <td>107.000000</td>\n",
       "      <td>20.000000</td>\n",
       "      <td>28.000000</td>\n",
       "      <td>0.072000</td>\n",
       "      <td>0.048027</td>\n",
       "      <td>0.017857</td>\n",
       "      <td>0.020984</td>\n",
       "    </tr>\n",
       "    <tr>\n",
       "      <th>max</th>\n",
       "      <td>263230.000000</td>\n",
       "      <td>260138.000000</td>\n",
       "      <td>9299.000000</td>\n",
       "      <td>174325.000000</td>\n",
       "      <td>1.000000</td>\n",
       "      <td>1.000000</td>\n",
       "      <td>0.500000</td>\n",
       "      <td>0.655709</td>\n",
       "    </tr>\n",
       "  </tbody>\n",
       "</table>\n",
       "</div>"
      ],
      "text/plain": [
       "             changes      adoptions     removals        verchgs  \\\n",
       "count    8583.000000    8583.000000  8583.000000    8583.000000   \n",
       "mean      364.922987     207.355587    38.219271     119.348130   \n",
       "std      3830.449277    2928.303482   190.967456    2189.013936   \n",
       "min         1.000000       0.000000     1.000000       0.000000   \n",
       "25%        19.000000      12.000000     2.000000       1.000000   \n",
       "50%        55.000000      34.000000     6.000000       7.000000   \n",
       "75%       165.000000     107.000000    20.000000      28.000000   \n",
       "max    263230.000000  260138.000000  9299.000000  174325.000000   \n",
       "\n",
       "       commit_portion_c  commit_portion_a  commit_portion_r  commit_portion_v  \n",
       "count       8583.000000       8583.000000       8583.000000       8583.000000  \n",
       "mean           0.060244          0.043147          0.016610          0.019294  \n",
       "std            0.080219          0.066868          0.029031          0.037184  \n",
       "min            0.000042          0.000000          0.000010          0.000000  \n",
       "25%            0.013699          0.008277          0.003058          0.001055  \n",
       "50%            0.032787          0.020725          0.007576          0.006793  \n",
       "75%            0.072000          0.048027          0.017857          0.020984  \n",
       "max            1.000000          1.000000          0.500000          0.655709  "
      ]
     },
     "execution_count": 8,
     "metadata": {},
     "output_type": "execute_result"
    }
   ],
   "source": [
    "proj_stats_f[\"commit_portion_c\"] = proj_stats_f.change_commits / proj_stats_f.commits\n",
    "proj_stats_f[\"commit_portion_a\"] = proj_stats_f.adoption_commits / proj_stats_f.commits\n",
    "proj_stats_f[\"commit_portion_r\"] = proj_stats_f.removal_commits / proj_stats_f.commits\n",
    "proj_stats_f[\"commit_portion_v\"] = proj_stats_f.verchg_commits / proj_stats_f.commits\n",
    "proj_stats_f[[\"changes\", \"adoptions\", \"removals\", \"verchgs\", \"commit_portion_c\", \"commit_portion_a\", \"commit_portion_r\", \"commit_portion_v\"]].describe()"
   ]
  },
  {
   "cell_type": "code",
   "execution_count": 9,
   "metadata": {
    "collapsed": false,
    "jupyter": {
     "outputs_hidden": false
    },
    "pycharm": {
     "name": "#%%\n"
    }
   },
   "outputs": [
    {
     "data": {
      "text/plain": [
       "count    8583.000000\n",
       "mean        0.649900\n",
       "std         0.867564\n",
       "min       -48.666667\n",
       "25%         0.601996\n",
       "50%         0.785925\n",
       "75%         0.896552\n",
       "max         0.999084\n",
       "Name: retention, dtype: float64"
      ]
     },
     "execution_count": 9,
     "metadata": {},
     "output_type": "execute_result"
    }
   ],
   "source": [
    "proj_stats_f[\"retention\"] = 1 - proj_stats_f.removals / np.maximum(1, proj_stats_f.adoptions)\n",
    "proj_stats_f[\"retention\"].describe()"
   ]
  },
  {
   "cell_type": "code",
   "execution_count": 10,
   "metadata": {
    "collapsed": false,
    "jupyter": {
     "outputs_hidden": false
    },
    "pycharm": {
     "name": "#%%\n"
    }
   },
   "outputs": [
    {
     "data": {
      "text/plain": [
       "count    12814.000000\n",
       "mean         0.720282\n",
       "std          0.418516\n",
       "min        -16.250000\n",
       "25%          0.651663\n",
       "50%          0.821429\n",
       "75%          0.948914\n",
       "max          1.000000\n",
       "Name: retention, dtype: float64"
      ]
     },
     "execution_count": 10,
     "metadata": {},
     "output_type": "execute_result"
    }
   ],
   "source": [
    "lib_retention = defaultdict(lambda: [0, 0])\n",
    "for type, lib1, lib2 in zip(dep_changes.type, dep_changes.lib1, dep_changes.lib2):\n",
    "    if type == \"add\":\n",
    "        lib_retention[lib2][1] += 1\n",
    "    elif type == \"rem\":\n",
    "        lib_retention[lib1][0] += 1\n",
    "libraries[\"retention\"] = libraries.name.map(lambda n: 1 - lib_retention[n][0] / max(1, lib_retention[n][1]))\n",
    "libraries[libraries.name.isin(dep_changes[\"lib2\"])][\"retention\"].describe()"
   ]
  },
  {
   "cell_type": "code",
   "execution_count": 11,
   "metadata": {
    "collapsed": false,
    "jupyter": {
     "outputs_hidden": false
    },
    "pycharm": {
     "name": "#%%\n"
    }
   },
   "outputs": [
    {
     "data": {
      "image/png": "[encoded data removed]",
      "text/plain": [
       "<Figure size 576x216 with 2 Axes>"
      ]
     },
     "metadata": {
      "needs_background": "light"
     },
     "output_type": "display_data"
    }
   ],
   "source": [
    "fig, axes = plt.subplots(1, 2, figsize=(8,3))\n",
    "sns.histplot(data=proj_stats_f[proj_stats_f[\"change_commits\"] >= 10], x=\"retention\", binwidth=0.05, binrange=(0, 1), ax=axes[0])\n",
    "axes[0].set_xlabel(\"Retention Rate by Project\")\n",
    "axes[0].set_xlim(0, 1)\n",
    "sns.histplot(data=libraries[libraries.name.isin(dep_changes[\"lib2\"])], x=\"retention\", binwidth=0.05, binrange=(0, 1), ax=axes[1])\n",
    "axes[1].set_ylabel(\"\")\n",
    "axes[1].set_xlabel(\"Retention Rate by Libraries\")\n",
    "axes[1].set_xlim(0, 1)\n",
    "fig.savefig(\"plots/retention.pdf\", bbox_inches=\"tight\")"
   ]
  }
 ],
 "metadata": {
  "kernelspec": {
   "display_name": "Python 3",
   "language": "python",
   "name": "python3"
  },
  "language_info": {
   "codemirror_mode": {
    "name": "ipython",
    "version": 3
   },
   "file_extension": ".py",
   "mimetype": "text/x-python",
   "name": "python",
   "nbconvert_exporter": "python",
   "pygments_lexer": "ipython3",
   "version": "3.8.5"
  }
 },
 "nbformat": 4,
 "nbformat_minor": 4
}
