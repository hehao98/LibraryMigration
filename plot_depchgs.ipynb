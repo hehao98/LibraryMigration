{
 "cells": [
  {
   "cell_type": "code",
   "execution_count": 1,
   "metadata": {
    "pycharm": {
     "is_executing": true
    }
   },
   "outputs": [],
   "source": [
    "import os\n",
    "import datautil\n",
    "import itertools\n",
    "import numpy as np\n",
    "import pandas as pd\n",
    "import matplotlib.pyplot as plt\n",
    "import seaborn as sns\n",
    "from collections import defaultdict"
   ]
  },
  {
   "cell_type": "code",
   "execution_count": 2,
   "metadata": {
    "collapsed": false,
    "jupyter": {
     "outputs_hidden": false
    },
    "pycharm": {
     "is_executing": true,
     "name": "#%%\n"
    },
    "tags": []
   },
   "outputs": [
    {
     "name": "stdout",
     "output_type": "stream",
     "text": [
      "19652 projects, 4022 libraries, 2629992 dep changes\n"
     ]
    }
   ],
   "source": [
    "projects = datautil.select_projects_from_libraries_io()\n",
    "libraries = datautil.select_libraries()\n",
    "migrations = datautil.select_migrations()\n",
    "lib_names = set(libraries[\"name\"])\n",
    "rules = datautil.select_rules(lib_names)\n",
    "dep_changes = datautil.select_dependency_changes_all(lib_names)\n",
    "print(f\"{len(projects)} projects, {len(libraries)} libraries, {len(dep_changes)} dep changes\")"
   ]
  },
  {
   "cell_type": "code",
   "execution_count": 3,
   "metadata": {
    "collapsed": false,
    "jupyter": {
     "outputs_hidden": false
    },
    "pycharm": {
     "name": "#%%\n"
    }
   },
   "outputs": [
    {
     "data": {
      "text/html": [
       "<div>\n",
       "<style scoped>\n",
       "    .dataframe tbody tr th:only-of-type {\n",
       "        vertical-align: middle;\n",
       "    }\n",
       "\n",
       "    .dataframe tbody tr th {\n",
       "        vertical-align: top;\n",
       "    }\n",
       "\n",
       "    .dataframe thead th {\n",
       "        text-align: right;\n",
       "    }\n",
       "</style>\n",
       "<table border=\"1\" class=\"dataframe\">\n",
       "  <thead>\n",
       "    <tr style=\"text-align: right;\">\n",
       "      <th></th>\n",
       "      <th>project</th>\n",
       "      <th>commit</th>\n",
       "      <th>file</th>\n",
       "      <th>type</th>\n",
       "      <th>lib1</th>\n",
       "      <th>lib2</th>\n",
       "      <th>ver1</th>\n",
       "      <th>ver2</th>\n",
       "    </tr>\n",
       "  </thead>\n",
       "  <tbody>\n",
       "    <tr>\n",
       "      <th>0</th>\n",
       "      <td>Snailclimb/JavaGuide</td>\n",
       "      <td>e8aeaef43cbfb2b8a9b71c7b7f462c48b4adb9a6</td>\n",
       "      <td>docs/dataStructures-algorithms/source code/sec...</td>\n",
       "      <td>add</td>\n",
       "      <td>NaN</td>\n",
       "      <td>commons-codec:commons-codec</td>\n",
       "      <td>NaN</td>\n",
       "      <td>1.8</td>\n",
       "    </tr>\n",
       "    <tr>\n",
       "      <th>1</th>\n",
       "      <td>Snailclimb/JavaGuide</td>\n",
       "      <td>e8aeaef43cbfb2b8a9b71c7b7f462c48b4adb9a6</td>\n",
       "      <td>docs/dataStructures-algorithms/source code/sec...</td>\n",
       "      <td>add</td>\n",
       "      <td>NaN</td>\n",
       "      <td>junit:junit</td>\n",
       "      <td>NaN</td>\n",
       "      <td>4.12</td>\n",
       "    </tr>\n",
       "    <tr>\n",
       "      <th>2</th>\n",
       "      <td>Snailclimb/JavaGuide</td>\n",
       "      <td>e8aeaef43cbfb2b8a9b71c7b7f462c48b4adb9a6</td>\n",
       "      <td>docs/dataStructures-algorithms/source code/sec...</td>\n",
       "      <td>add</td>\n",
       "      <td>NaN</td>\n",
       "      <td>org.bouncycastle:bcprov-jdk15on</td>\n",
       "      <td>NaN</td>\n",
       "      <td>1.56</td>\n",
       "    </tr>\n",
       "    <tr>\n",
       "      <th>3</th>\n",
       "      <td>Snailclimb/JavaGuide</td>\n",
       "      <td>a17a2800c92f918842d26a9e9261ae0bba89286d</td>\n",
       "      <td>数据结构与算法/source code/securityAlgorithm/pom.xml</td>\n",
       "      <td>add</td>\n",
       "      <td>NaN</td>\n",
       "      <td>commons-codec:commons-codec</td>\n",
       "      <td>NaN</td>\n",
       "      <td>1.8</td>\n",
       "    </tr>\n",
       "    <tr>\n",
       "      <th>4</th>\n",
       "      <td>Snailclimb/JavaGuide</td>\n",
       "      <td>a17a2800c92f918842d26a9e9261ae0bba89286d</td>\n",
       "      <td>数据结构与算法/source code/securityAlgorithm/pom.xml</td>\n",
       "      <td>add</td>\n",
       "      <td>NaN</td>\n",
       "      <td>junit:junit</td>\n",
       "      <td>NaN</td>\n",
       "      <td>3.8.1</td>\n",
       "    </tr>\n",
       "  </tbody>\n",
       "</table>\n",
       "</div>"
      ],
      "text/plain": [
       "                project                                    commit  \\\n",
       "0  Snailclimb/JavaGuide  e8aeaef43cbfb2b8a9b71c7b7f462c48b4adb9a6   \n",
       "1  Snailclimb/JavaGuide  e8aeaef43cbfb2b8a9b71c7b7f462c48b4adb9a6   \n",
       "2  Snailclimb/JavaGuide  e8aeaef43cbfb2b8a9b71c7b7f462c48b4adb9a6   \n",
       "3  Snailclimb/JavaGuide  a17a2800c92f918842d26a9e9261ae0bba89286d   \n",
       "4  Snailclimb/JavaGuide  a17a2800c92f918842d26a9e9261ae0bba89286d   \n",
       "\n",
       "                                                file type lib1  \\\n",
       "0  docs/dataStructures-algorithms/source code/sec...  add  NaN   \n",
       "1  docs/dataStructures-algorithms/source code/sec...  add  NaN   \n",
       "2  docs/dataStructures-algorithms/source code/sec...  add  NaN   \n",
       "3      数据结构与算法/source code/securityAlgorithm/pom.xml  add  NaN   \n",
       "4      数据结构与算法/source code/securityAlgorithm/pom.xml  add  NaN   \n",
       "\n",
       "                              lib2 ver1   ver2  \n",
       "0      commons-codec:commons-codec  NaN    1.8  \n",
       "1                      junit:junit  NaN   4.12  \n",
       "2  org.bouncycastle:bcprov-jdk15on  NaN   1.56  \n",
       "3      commons-codec:commons-codec  NaN    1.8  \n",
       "4                      junit:junit  NaN  3.8.1  "
      ]
     },
     "execution_count": 3,
     "metadata": {},
     "output_type": "execute_result"
    }
   ],
   "source": [
    "dep_changes.head()"
   ]
  },
  {
   "cell_type": "code",
   "execution_count": 4,
   "metadata": {
    "collapsed": false,
    "jupyter": {
     "outputs_hidden": false
    },
    "pycharm": {
     "name": "#%%\n"
    }
   },
   "outputs": [
    {
     "data": {
      "text/html": [
       "<div>\n",
       "<style scoped>\n",
       "    .dataframe tbody tr th:only-of-type {\n",
       "        vertical-align: middle;\n",
       "    }\n",
       "\n",
       "    .dataframe tbody tr th {\n",
       "        vertical-align: top;\n",
       "    }\n",
       "\n",
       "    .dataframe thead th {\n",
       "        text-align: right;\n",
       "    }\n",
       "</style>\n",
       "<table border=\"1\" class=\"dataframe\">\n",
       "  <thead>\n",
       "    <tr style=\"text-align: right;\">\n",
       "      <th></th>\n",
       "      <th>project</th>\n",
       "      <th>changes</th>\n",
       "      <th>adoptions</th>\n",
       "      <th>removals</th>\n",
       "      <th>verchgs</th>\n",
       "      <th>commits</th>\n",
       "      <th>change_commits</th>\n",
       "      <th>adoption_commits</th>\n",
       "      <th>removal_commits</th>\n",
       "      <th>verchg_commits</th>\n",
       "      <th>possible_migrations</th>\n",
       "      <th>confirmed_migrations</th>\n",
       "    </tr>\n",
       "  </thead>\n",
       "  <tbody>\n",
       "    <tr>\n",
       "      <th>0</th>\n",
       "      <td>01org/graphbuilder</td>\n",
       "      <td>36</td>\n",
       "      <td>31</td>\n",
       "      <td>1</td>\n",
       "      <td>4</td>\n",
       "      <td>62</td>\n",
       "      <td>3</td>\n",
       "      <td>3</td>\n",
       "      <td>1</td>\n",
       "      <td>2</td>\n",
       "      <td>2</td>\n",
       "      <td>0</td>\n",
       "    </tr>\n",
       "    <tr>\n",
       "      <th>1</th>\n",
       "      <td>07kit/07kit</td>\n",
       "      <td>20</td>\n",
       "      <td>20</td>\n",
       "      <td>0</td>\n",
       "      <td>0</td>\n",
       "      <td>45</td>\n",
       "      <td>2</td>\n",
       "      <td>2</td>\n",
       "      <td>0</td>\n",
       "      <td>0</td>\n",
       "      <td>0</td>\n",
       "      <td>0</td>\n",
       "    </tr>\n",
       "    <tr>\n",
       "      <th>2</th>\n",
       "      <td>0ang3el/HQLi-playground</td>\n",
       "      <td>1</td>\n",
       "      <td>1</td>\n",
       "      <td>0</td>\n",
       "      <td>0</td>\n",
       "      <td>5</td>\n",
       "      <td>1</td>\n",
       "      <td>1</td>\n",
       "      <td>0</td>\n",
       "      <td>0</td>\n",
       "      <td>0</td>\n",
       "      <td>0</td>\n",
       "    </tr>\n",
       "    <tr>\n",
       "      <th>3</th>\n",
       "      <td>0nise/shell-plus</td>\n",
       "      <td>1</td>\n",
       "      <td>1</td>\n",
       "      <td>0</td>\n",
       "      <td>0</td>\n",
       "      <td>8</td>\n",
       "      <td>1</td>\n",
       "      <td>1</td>\n",
       "      <td>0</td>\n",
       "      <td>0</td>\n",
       "      <td>0</td>\n",
       "      <td>0</td>\n",
       "    </tr>\n",
       "    <tr>\n",
       "      <th>4</th>\n",
       "      <td>0opslab/opslabJutil</td>\n",
       "      <td>15</td>\n",
       "      <td>10</td>\n",
       "      <td>3</td>\n",
       "      <td>2</td>\n",
       "      <td>364</td>\n",
       "      <td>4</td>\n",
       "      <td>2</td>\n",
       "      <td>2</td>\n",
       "      <td>1</td>\n",
       "      <td>1</td>\n",
       "      <td>0</td>\n",
       "    </tr>\n",
       "  </tbody>\n",
       "</table>\n",
       "</div>"
      ],
      "text/plain": [
       "                   project  changes  adoptions  removals  verchgs  commits  \\\n",
       "0       01org/graphbuilder       36         31         1        4       62   \n",
       "1              07kit/07kit       20         20         0        0       45   \n",
       "2  0ang3el/HQLi-playground        1          1         0        0        5   \n",
       "3         0nise/shell-plus        1          1         0        0        8   \n",
       "4      0opslab/opslabJutil       15         10         3        2      364   \n",
       "\n",
       "   change_commits  adoption_commits  removal_commits  verchg_commits  \\\n",
       "0               3                 3                1               2   \n",
       "1               2                 2                0               0   \n",
       "2               1                 1                0               0   \n",
       "3               1                 1                0               0   \n",
       "4               4                 2                2               1   \n",
       "\n",
       "   possible_migrations  confirmed_migrations  \n",
       "0                    2                     0  \n",
       "1                    0                     0  \n",
       "2                    0                     0  \n",
       "3                    0                     0  \n",
       "4                    1                     0  "
      ]
     },
     "execution_count": 4,
     "metadata": {},
     "output_type": "execute_result"
    }
   ],
   "source": [
    "proj2commits = dict(zip(projects.nameWithOwner, projects.commitsCount))\n",
    "rule_set = set(zip(rules.fromLib, rules.toLib))\n",
    "proj_stats = dict()\n",
    "for proj, df in dep_changes.groupby([\"project\"]):\n",
    "    proj_stats[proj] = {\n",
    "        \"project\": proj,\n",
    "        \"changes\": len(df),\n",
    "        \"adoptions\": len(df[df.type == \"add\"]),\n",
    "        \"removals\": len(df[df.type == \"rem\"]),\n",
    "        \"verchgs\": len(df[df.type == \"verchg\"]),\n",
    "        \"commits\": proj2commits[proj],\n",
    "        \"change_commits\": len(set(df.commit)),\n",
    "        \"adoption_commits\": len(set(df[df.type == \"add\"].commit)),\n",
    "        \"removal_commits\": len(set(df[df.type == \"rem\"].commit)),\n",
    "        \"verchg_commits\": len(set(df[df.type == \"verchg\"].commit)),\n",
    "        \"possible_migrations\": 0,\n",
    "        \"confirmed_migrations\": 0\n",
    "    }\n",
    "    for path, df2 in df.groupby([\"file\"]):\n",
    "        for added_lib, removed_lib in itertools.product(set(df2.lib2), set(df2.lib1)):\n",
    "            if (removed_lib, added_lib) in rule_set:\n",
    "                proj_stats[proj][\"possible_migrations\"] += 1\n",
    "for idx, row in migrations.iterrows():\n",
    "    if row[\"repoName\"].replace(\"_\", \"/\") not in proj_stats:\n",
    "        continue\n",
    "    proj_stats[row[\"repoName\"].replace(\"_\", \"/\")][\"confirmed_migrations\"] += 1\n",
    "proj_stats = pd.DataFrame(proj_stats.values())\n",
    "proj_stats.head()"
   ]
  },
  {
   "cell_type": "code",
   "execution_count": 5,
   "metadata": {
    "collapsed": false,
    "jupyter": {
     "outputs_hidden": false
    },
    "pycharm": {
     "name": "#%%\n"
    }
   },
   "outputs": [
    {
     "name": "stdout",
     "output_type": "stream",
     "text": [
      "For all projects:\n",
      "18479 / 18807 (98.26%) projects with at least one library adoption\n",
      "8369 / 18807 (44.50%) projects with at least one library removal\n",
      "9104 / 18807 (48.41%) projects with at least one version change\n",
      "5145 / 18807 (27.36%) projects with at least one possible migration\n",
      "1592 / 18807 (8.46%) projects with at least one confirmed migration\n"
     ]
    }
   ],
   "source": [
    "def percent(df, cond) -> str:\n",
    "    return f\"{len(df[cond])} / {len(df)} ({len(df[cond]) / len(df) * 100:.2f}%)\"\n",
    "\n",
    "print(\"For all projects:\")\n",
    "print(f\"{percent(proj_stats, proj_stats.adoptions != 0)} projects with at least one library adoption\")\n",
    "print(f\"{percent(proj_stats, proj_stats.removals != 0)} projects with at least one library removal\")\n",
    "print(f\"{percent(proj_stats, proj_stats.verchgs != 0)} projects with at least one version change\")\n",
    "print(f\"{percent(proj_stats, proj_stats.possible_migrations != 0)} projects with at least one possible migration\")\n",
    "print(f\"{percent(proj_stats, proj_stats.confirmed_migrations != 0)} projects with at least one confirmed migration\")"
   ]
  },
  {
   "cell_type": "code",
   "execution_count": 6,
   "metadata": {},
   "outputs": [
    {
     "name": "stdout",
     "output_type": "stream",
     "text": [
      "For the 20% projects with most commits:\n",
      "3723 / 3761 (98.99%) projects with at least one library adoption\n",
      "2923 / 3761 (77.72%) projects with at least one library removal\n",
      "2930 / 3761 (77.90%) projects with at least one version change\n",
      "2219 / 3761 (59.00%) projects with at least one possible migration\n",
      "1025 / 3761 (27.25%) projects with at least one confirmed migration\n"
     ]
    }
   ],
   "source": [
    "splits = np.array_split(proj_stats.sort_values(by=\"commits\"), 5)[-1]\n",
    "print(\"For the 20% projects with most commits:\")\n",
    "print(f\"{percent(splits, splits.adoptions != 0)} projects with at least one library adoption\")\n",
    "print(f\"{percent(splits, splits.removals != 0)} projects with at least one library removal\")\n",
    "print(f\"{percent(splits, splits.verchgs != 0)} projects with at least one version change\")\n",
    "print(f\"{percent(splits, splits.possible_migrations != 0)} projects with at least one possible migration\")\n",
    "print(f\"{percent(splits, splits.confirmed_migrations != 0)} projects with at least one confirmed migration\")"
   ]
  },
  {
   "cell_type": "code",
   "execution_count": 7,
   "metadata": {},
   "outputs": [
    {
     "data": {
      "image/png": "[encoded data removed]",
      "text/plain": [
       "<Figure size 648x288 with 3 Axes>"
      ]
     },
     "metadata": {
      "needs_background": "light"
     },
     "output_type": "display_data"
    }
   ],
   "source": [
    "splits = np.array_split(proj_stats.sort_values(by=\"commits\"), 10)\n",
    "ranges = list(map(lambda x: f\"{min(x.commits)}-{max(x.commits)}\", splits))\n",
    "adt_rate = list(map(lambda x: len(x[x.adoptions != 0]) / len(x), splits))\n",
    "rem_rate = list(map(lambda x: len(x[x.removals != 0]) / len(x), splits))\n",
    "ver_rate = list(map(lambda x: len(x[x.verchgs != 0]) / len(x), splits))\n",
    "posmig_rate = list(map(lambda x: len(x[x.possible_migrations != 0]) / len(x), splits))\n",
    "conmig_rate = list(map(lambda x: len(x[x.confirmed_migrations != 0]) / len(x), splits))\n",
    "proj_stats_f = proj_stats[proj_stats.removals != 0].copy()\n",
    "\n",
    "fig, axes = plt.subplots(1, 2, figsize=(9,4))\n",
    "axes[0].plot(ranges, adt_rate, marker=\"o\", label=\"adoption\")\n",
    "axes[0].plot(ranges, rem_rate, marker=\"^\", label=\"removal\")\n",
    "axes[0].plot(ranges, ver_rate, marker=\"x\", label=\"version change\")\n",
    "axes[0].plot(ranges, posmig_rate, marker=\"v\", label=\"possible migration\")\n",
    "axes[0].plot(ranges, conmig_rate, marker=\"*\", label=\"confirmed migration\")\n",
    "axes[0].set_xlabel(\"Number of Commits\")\n",
    "axes[0].set_ylabel(\"Percentage of Projects\")\n",
    "axes[0].legend()\n",
    "\n",
    "axes[1].boxplot(x=[\n",
    "    proj_stats_f.changes,\n",
    "    proj_stats_f.adoptions,\n",
    "    proj_stats_f.removals,\n",
    "    proj_stats_f.verchgs,\n",
    "    ],\n",
    "    labels=[\"any\", \"adoption\", \"removal\", \"version\"], \n",
    "    positions=[0,0.5,1,1.5], widths=0.5)\n",
    "axes[1].set_yscale(\"log\")\n",
    "axes[1].set_ylabel(\"Number of Changes\")\n",
    "axes[1].set_xlabel(\"Change Type\")\n",
    "ax2 = axes[1].twinx()\n",
    "ax2.boxplot(x=[\n",
    "    proj_stats_f.change_commits / proj_stats_f.commits,\n",
    "    proj_stats_f.adoption_commits / proj_stats_f.commits,\n",
    "    proj_stats_f.removal_commits / proj_stats_f.commits,\n",
    "    proj_stats_f.verchg_commits / proj_stats_f.commits,\n",
    "    ], labels=[\"any\", \"adoption\", \"removal\", \"version\"], positions=[2.5,3,3.5,4], widths=0.5)\n",
    "ax2.set_yscale(\"log\")\n",
    "ax2.set_ylabel(\"Proportion of Commits with Change\")\n",
    "\n",
    "fig.autofmt_xdate()\n",
    "fig.savefig(\"plots/depchgs.pdf\", bbox_inches=\"tight\")"
   ]
  },
  {
   "cell_type": "code",
   "execution_count": 8,
   "metadata": {
    "collapsed": false,
    "jupyter": {
     "outputs_hidden": false
    },
    "pycharm": {
     "name": "#%%\n"
    }
   },
   "outputs": [
    {
     "data": {
      "text/html": [
       "<div>\n",
       "<style scoped>\n",
       "    .dataframe tbody tr th:only-of-type {\n",
       "        vertical-align: middle;\n",
       "    }\n",
       "\n",
       "    .dataframe tbody tr th {\n",
       "        vertical-align: top;\n",
       "    }\n",
       "\n",
       "    .dataframe thead th {\n",
       "        text-align: right;\n",
       "    }\n",
       "</style>\n",
       "<table border=\"1\" class=\"dataframe\">\n",
       "  <thead>\n",
       "    <tr style=\"text-align: right;\">\n",
       "      <th></th>\n",
       "      <th>changes</th>\n",
       "      <th>adoptions</th>\n",
       "      <th>removals</th>\n",
       "      <th>verchgs</th>\n",
       "      <th>commit_portion_c</th>\n",
       "      <th>commit_portion_a</th>\n",
       "      <th>commit_portion_r</th>\n",
       "      <th>commit_portion_v</th>\n",
       "    </tr>\n",
       "  </thead>\n",
       "  <tbody>\n",
       "    <tr>\n",
       "      <th>count</th>\n",
       "      <td>8369.000000</td>\n",
       "      <td>8369.000000</td>\n",
       "      <td>8369.000000</td>\n",
       "      <td>8369.000000</td>\n",
       "      <td>8369.000000</td>\n",
       "      <td>8369.000000</td>\n",
       "      <td>8369.000000</td>\n",
       "      <td>8369.000000</td>\n",
       "    </tr>\n",
       "    <tr>\n",
       "      <th>mean</th>\n",
       "      <td>291.248775</td>\n",
       "      <td>190.223802</td>\n",
       "      <td>34.669614</td>\n",
       "      <td>66.355359</td>\n",
       "      <td>0.057656</td>\n",
       "      <td>0.042277</td>\n",
       "      <td>0.016178</td>\n",
       "      <td>0.017210</td>\n",
       "    </tr>\n",
       "    <tr>\n",
       "      <th>std</th>\n",
       "      <td>3056.944330</td>\n",
       "      <td>2837.519260</td>\n",
       "      <td>171.199690</td>\n",
       "      <td>794.567724</td>\n",
       "      <td>0.079368</td>\n",
       "      <td>0.066665</td>\n",
       "      <td>0.028856</td>\n",
       "      <td>0.034677</td>\n",
       "    </tr>\n",
       "    <tr>\n",
       "      <th>min</th>\n",
       "      <td>1.000000</td>\n",
       "      <td>0.000000</td>\n",
       "      <td>1.000000</td>\n",
       "      <td>0.000000</td>\n",
       "      <td>0.000042</td>\n",
       "      <td>0.000000</td>\n",
       "      <td>0.000010</td>\n",
       "      <td>0.000000</td>\n",
       "    </tr>\n",
       "    <tr>\n",
       "      <th>25%</th>\n",
       "      <td>19.000000</td>\n",
       "      <td>11.000000</td>\n",
       "      <td>2.000000</td>\n",
       "      <td>1.000000</td>\n",
       "      <td>0.012793</td>\n",
       "      <td>0.007874</td>\n",
       "      <td>0.002913</td>\n",
       "      <td>0.000777</td>\n",
       "    </tr>\n",
       "    <tr>\n",
       "      <th>50%</th>\n",
       "      <td>52.000000</td>\n",
       "      <td>33.000000</td>\n",
       "      <td>6.000000</td>\n",
       "      <td>6.000000</td>\n",
       "      <td>0.030674</td>\n",
       "      <td>0.020000</td>\n",
       "      <td>0.007156</td>\n",
       "      <td>0.005865</td>\n",
       "    </tr>\n",
       "    <tr>\n",
       "      <th>75%</th>\n",
       "      <td>152.000000</td>\n",
       "      <td>102.000000</td>\n",
       "      <td>19.000000</td>\n",
       "      <td>24.000000</td>\n",
       "      <td>0.068182</td>\n",
       "      <td>0.046667</td>\n",
       "      <td>0.017241</td>\n",
       "      <td>0.017937</td>\n",
       "    </tr>\n",
       "    <tr>\n",
       "      <th>max</th>\n",
       "      <td>253901.000000</td>\n",
       "      <td>250914.000000</td>\n",
       "      <td>8460.000000</td>\n",
       "      <td>45003.000000</td>\n",
       "      <td>1.000000</td>\n",
       "      <td>1.000000</td>\n",
       "      <td>0.500000</td>\n",
       "      <td>0.655709</td>\n",
       "    </tr>\n",
       "  </tbody>\n",
       "</table>\n",
       "</div>"
      ],
      "text/plain": [
       "             changes      adoptions     removals       verchgs  \\\n",
       "count    8369.000000    8369.000000  8369.000000   8369.000000   \n",
       "mean      291.248775     190.223802    34.669614     66.355359   \n",
       "std      3056.944330    2837.519260   171.199690    794.567724   \n",
       "min         1.000000       0.000000     1.000000      0.000000   \n",
       "25%        19.000000      11.000000     2.000000      1.000000   \n",
       "50%        52.000000      33.000000     6.000000      6.000000   \n",
       "75%       152.000000     102.000000    19.000000     24.000000   \n",
       "max    253901.000000  250914.000000  8460.000000  45003.000000   \n",
       "\n",
       "       commit_portion_c  commit_portion_a  commit_portion_r  commit_portion_v  \n",
       "count       8369.000000       8369.000000       8369.000000       8369.000000  \n",
       "mean           0.057656          0.042277          0.016178          0.017210  \n",
       "std            0.079368          0.066665          0.028856          0.034677  \n",
       "min            0.000042          0.000000          0.000010          0.000000  \n",
       "25%            0.012793          0.007874          0.002913          0.000777  \n",
       "50%            0.030674          0.020000          0.007156          0.005865  \n",
       "75%            0.068182          0.046667          0.017241          0.017937  \n",
       "max            1.000000          1.000000          0.500000          0.655709  "
      ]
     },
     "execution_count": 8,
     "metadata": {},
     "output_type": "execute_result"
    }
   ],
   "source": [
    "proj_stats_f[\"commit_portion_c\"] = proj_stats_f.change_commits / proj_stats_f.commits\n",
    "proj_stats_f[\"commit_portion_a\"] = proj_stats_f.adoption_commits / proj_stats_f.commits\n",
    "proj_stats_f[\"commit_portion_r\"] = proj_stats_f.removal_commits / proj_stats_f.commits\n",
    "proj_stats_f[\"commit_portion_v\"] = proj_stats_f.verchg_commits / proj_stats_f.commits\n",
    "proj_stats_f[[\"changes\", \"adoptions\", \"removals\", \"verchgs\", \"commit_portion_c\", \"commit_portion_a\", \"commit_portion_r\", \"commit_portion_v\"]].describe()"
   ]
  },
  {
   "cell_type": "code",
   "execution_count": 9,
   "metadata": {
    "collapsed": false,
    "jupyter": {
     "outputs_hidden": false
    },
    "pycharm": {
     "name": "#%%\n"
    }
   },
   "outputs": [
    {
     "data": {
      "text/plain": [
       "count    8369.000000\n",
       "mean        0.649496\n",
       "std         0.863091\n",
       "min       -52.196429\n",
       "25%         0.600000\n",
       "50%         0.785714\n",
       "75%         0.896552\n",
       "max         0.999074\n",
       "Name: retention, dtype: float64"
      ]
     },
     "execution_count": 9,
     "metadata": {},
     "output_type": "execute_result"
    }
   ],
   "source": [
    "proj_stats_f[\"retention\"] = 1 - proj_stats_f.removals / np.maximum(1, proj_stats_f.adoptions)\n",
    "proj_stats_f[\"retention\"].describe()"
   ]
  },
  {
   "cell_type": "code",
   "execution_count": 10,
   "metadata": {
    "collapsed": false,
    "jupyter": {
     "outputs_hidden": false
    },
    "pycharm": {
     "name": "#%%\n"
    }
   },
   "outputs": [
    {
     "data": {
      "text/plain": [
       "count    4022.000000\n",
       "mean        0.751264\n",
       "std         0.219149\n",
       "min        -2.391304\n",
       "25%         0.694600\n",
       "50%         0.801887\n",
       "75%         0.871035\n",
       "max         1.000000\n",
       "Name: retention, dtype: float64"
      ]
     },
     "execution_count": 10,
     "metadata": {},
     "output_type": "execute_result"
    }
   ],
   "source": [
    "lib_retention = defaultdict(lambda: [0, 0])\n",
    "for type, lib1, lib2 in zip(dep_changes.type, dep_changes.lib1, dep_changes.lib2):\n",
    "    if type == \"add\":\n",
    "        lib_retention[lib2][1] += 1\n",
    "    elif type == \"rem\":\n",
    "        lib_retention[lib1][0] += 1\n",
    "libraries[\"retention\"] = libraries.name.map(lambda n: 1 - lib_retention[n][0] / max(1, lib_retention[n][1]))\n",
    "libraries[libraries.name.isin(dep_changes[\"lib2\"])][\"retention\"].describe()"
   ]
  },
  {
   "cell_type": "code",
   "execution_count": 11,
   "metadata": {
    "collapsed": false,
    "jupyter": {
     "outputs_hidden": false
    },
    "pycharm": {
     "name": "#%%\n"
    }
   },
   "outputs": [
    {
     "data": {
      "image/png": "[encoded data removed]",
      "text/plain": [
       "<Figure size 576x216 with 2 Axes>"
      ]
     },
     "metadata": {
      "needs_background": "light"
     },
     "output_type": "display_data"
    }
   ],
   "source": [
    "fig, axes = plt.subplots(1, 2, figsize=(8,3))\n",
    "sns.histplot(data=proj_stats_f[proj_stats_f[\"change_commits\"] >= 10], x=\"retention\", binwidth=0.05, binrange=(0, 1), ax=axes[0])\n",
    "axes[0].set_xlabel(\"Retention Rate by Project\")\n",
    "axes[0].set_xlim(0, 1)\n",
    "sns.histplot(data=libraries[libraries.name.isin(dep_changes[\"lib2\"])], x=\"retention\", binwidth=0.05, binrange=(0, 1), ax=axes[1])\n",
    "axes[1].set_ylabel(\"\")\n",
    "axes[1].set_xlabel(\"Retention Rate by Libraries\")\n",
    "axes[1].set_xlim(0, 1)\n",
    "fig.savefig(\"plots/retention.pdf\", bbox_inches=\"tight\")"
   ]
  },
  {
   "cell_type": "code",
   "execution_count": null,
   "metadata": {},
   "outputs": [],
   "source": []
  }
 ],
 "metadata": {
  "kernelspec": {
   "display_name": "Python 3",
   "language": "python",
   "name": "python3"
  },
  "language_info": {
   "codemirror_mode": {
    "name": "ipython",
    "version": 3
   },
   "file_extension": ".py",
   "mimetype": "text/x-python",
   "name": "python",
   "nbconvert_exporter": "python",
   "pygments_lexer": "ipython3",
   "version": "3.8.5"
  }
 },
 "nbformat": 4,
 "nbformat_minor": 4
}
