{
 "cells": [
  {
   "cell_type": "code",
   "execution_count": 1,
   "id": "4d82119b-f828-445f-b407-88755baae9dc",
   "metadata": {},
   "outputs": [
    {
     "data": {
      "text/plain": [
       "'mongodb://mongo:27017'"
      ]
     },
     "execution_count": 1,
     "metadata": {},
     "output_type": "execute_result"
    }
   ],
   "source": [
    "# remove after use\n",
    "# read credentials from config\n",
    "import os\n",
    "import configparser\n",
    "\n",
    "config = configparser.ConfigParser()\n",
    "if (os.path.exists('config.ini')):\n",
    "    config.read('config.ini')\n",
    "else:\n",
    "    raise Exception('config.ini not found')\n",
    "    \n",
    "MONGO_URL='mongodb://' + config['MongoDB']['addr']\n",
    "MONGO_URL"
   ]
  },
  {
   "cell_type": "code",
   "execution_count": 2,
   "id": "3abd0b1b-8480-413f-a956-619d547650f7",
   "metadata": {},
   "outputs": [],
   "source": [
    "import pymongo\n",
    "# establish db connection\n",
    "db = pymongo.MongoClient(MONGO_URL).migration_helper"
   ]
  },
  {
   "cell_type": "code",
   "execution_count": 3,
   "id": "6e718a6a-2555-4f05-8d06-6f0abdb37e6a",
   "metadata": {},
   "outputs": [
    {
     "data": {
      "text/plain": [
       "['lioProjectDependency',\n",
       " 'wocCommit',\n",
       " 'wocDepSeq3',\n",
       " 'lioProject',\n",
       " 'wocRepository',\n",
       " 'libraryGroupArtifact',\n",
       " 'libraryVersion',\n",
       " 'lioRepositoryDependency']"
      ]
     },
     "execution_count": 3,
     "metadata": {},
     "output_type": "execute_result"
    }
   ],
   "source": [
    "db.list_collection_names()"
   ]
  },
  {
   "cell_type": "code",
   "execution_count": null,
   "id": "4dbdd68f-cb59-4739-853c-4fbf9df5c099",
   "metadata": {},
   "outputs": [],
   "source": []
  }
 ],
 "metadata": {
  "kernelspec": {
   "display_name": "Python 3",
   "language": "python",
   "name": "python3"
  },
  "language_info": {
   "codemirror_mode": {
    "name": "ipython",
    "version": 3
   },
   "file_extension": ".py",
   "mimetype": "text/x-python",
   "name": "python",
   "nbconvert_exporter": "python",
   "pygments_lexer": "ipython3",
   "version": "3.8.8"
  }
 },
 "nbformat": 4,
 "nbformat_minor": 5
}
