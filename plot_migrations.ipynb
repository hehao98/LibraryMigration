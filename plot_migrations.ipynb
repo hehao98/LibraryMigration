{
 "metadata": {
  "language_info": {
   "codemirror_mode": {
    "name": "ipython",
    "version": 3
   },
   "file_extension": ".py",
   "mimetype": "text/x-python",
   "name": "python",
   "nbconvert_exporter": "python",
   "pygments_lexer": "ipython3",
   "version": "3.7.6-final"
  },
  "orig_nbformat": 2,
  "kernelspec": {
   "name": "python3",
   "display_name": "Python 3",
   "language": "python"
  }
 },
 "nbformat": 4,
 "nbformat_minor": 2,
 "cells": [
  {
   "cell_type": "code",
   "execution_count": 7,
   "metadata": {},
   "outputs": [],
   "source": [
    "import util"
   ]
  },
  {
   "cell_type": "code",
   "execution_count": 8,
   "metadata": {},
   "outputs": [
    {
     "output_type": "stream",
     "name": "stdout",
     "text": [
      "13704\n407 from libs, 621 to libs, 788 total libs\n3215 total commits\n1616 repositories\n13281 startCommit == endCommit\n1257 migration rules\n"
     ]
    }
   ],
   "source": [
    "libraries = util.select_libraries_from_libraries_io()\n",
    "migrations = util.select_migrations()\n",
    "rules = util.select_rules(set(libraries[\"name\"]))\n",
    "\n",
    "print(len(migrations))\n",
    "print(f\"{len(set(migrations.fromLib))} from libs, {len(set(migrations.toLib))} to libs, {len(set(migrations.fromLib) | set(migrations.toLib))} total libs\")\n",
    "print(f\"{len(set(migrations.startCommit) | set(migrations.endCommit))} total commits\")\n",
    "print(f\"{len(set(migrations.repoName))} repositories\")\n",
    "print(f\"{len(migrations[migrations.startCommit == migrations.endCommit])} startCommit == endCommit\")\n",
    "print(f\"{len(set(zip(migrations.fromLib, migrations.toLib)))} migration rules\")"
   ]
  },
  {
   "cell_type": "code",
   "execution_count": null,
   "metadata": {},
   "outputs": [],
   "source": []
  }
 ]
}