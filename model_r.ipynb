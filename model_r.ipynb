{
 "cells": [
  {
   "cell_type": "markdown",
   "id": "finished-acquisition",
   "metadata": {},
   "source": [
    "# Predictive Modeling for Library Migration\n",
    "\n",
    "## Hypothesis\n",
    "\n",
    "* H1: If many other projects have removed a library, it will be more likely for a project to migrate away from this library\n",
    "* H2: If many other projects have migrated from a library, it will be more likely for a project to migrate away from this library\n",
    "* H3: If the use of a library do not align well with current best practices, it will more likely for a project to migrate away from this library\n",
    "* H4: If a project have simultaneous use of same-domain libraries, it will be more likely to consolidate its usage to a single library\n",
    "* H5: A project is more likely to use a library that its upstream projects are already using\n",
    "* H6: If a library is not actively maintained, it will be more likely for a project to migrate away from this library\n",
    "* H7: If a library has unpatched security vulnerabilities, it will be more likely for a project to migrate away from this library\n",
    "* H8: If a library has an unusual license, it will be more likely for a project to migrate away from this library\n",
    "\n",
    "## Model\n",
    "\n",
    "首先，我们确立一组感兴趣的库集合$L$（$L$可能是若干个同一领域的库）。我们对这些库在大规模的项目集合$\\mathcal{P}$上提取所有的依赖项变更\n",
    "\n",
    "$$\n",
    "\\begin{align}\n",
    "\\Delta L   &= \\{\\langle t,p,c,f,l^-,l^+,v^-,v^+ \\rangle\\}, p\\in \\mathcal{P}, x \\in \\Delta L \\Rightarrow x.l^- \\in L \\lor x.l^+ \\in L\\\\\n",
    "\\Delta L^+ &= \\{x | x \\in \\Delta L \\land x.l^+ \\in L \\land x.l^- = \\emptyset \\}\\\\\n",
    "\\Delta L^- &= \\{x | x \\in \\Delta L \\land x.l^- \\in L \\land x.l^+ = \\emptyset\\}\n",
    "\\end{align}\n",
    "$$\n",
    "\n",
    "其中，$t$是时间，$c$是Commit，$f$是被修改的依赖配置文件。\n",
    "\n",
    "我们使用逻辑回归模型来拟合一个函数$f$，满足\n",
    "\n",
    "$$\n",
    "\\begin{cases}\n",
    "f(x) = 1, x \\in \\Delta L^+ \\\\\n",
    "f(x) = 0, x \\in \\Delta L^-\n",
    "\\end{cases}\n",
    "$$\n",
    "\n",
    "对每个$x \\in \\Delta L$，定义其被添加或被删除的库为$l$，计算如下特征\n",
    "\n",
    "1. 项目做出变更的时间$t$减去$l$最近的上一次发布的时间是否大于一年。（刻画库是否正在被维护，验证H6）\n",
    "2. 项目做出变更的时间$t$减去$l$的第一次发布的时间（单位：月份）。（刻画库的老旧程度，验证H6）\n",
    "3. 项目的发布频率（单位：月份）。\n",
    "4. 项目做出变更时，$l$能够查询到的安全漏洞的数量。（刻画库的安全漏洞情况，验证H7）\n",
    "5. $l$的许可证情况，编码$L$集合里的常见许可证。（验证H8）\n",
    "6. 项目做出变更时，$l$在$\\mathcal{P}$中的全局留存率（1 - 被删除的次数 / 被添加的次数）。（验证H1）\n",
    "7. 项目做出变更时，$l$在已确认迁移中的流入比率（迁移图上入度 / 出度）。（验证H2）\n",
    "8. 项目做出变更时，项目的间接依赖里是否已经包含$l$。（验证H5）\n",
    "9. 项目做出变更时，项目的其他依赖配置文件里是否已经声明了$l$。(验证H4）\n",
    "10. 项目做出变更时，$l$与剩下所有依赖的Pointwise Mutual Information (PMI)均值 (看着不靠谱，先不做了）\n",
    "    $$\n",
    "    \\frac{1}{|x.f|}\\sum_{l'\\in x.f} \\log \\frac{p(l,l')}{p(l)p(l')}\n",
    "    $$\n",
    "    公式中概率使用$\\mathcal{P}$中所有依赖配置文件来估计。（验证H3）\n",
    "\n",
    "备注：为了计算上述指标，需要额外研究一下如何获取安全漏洞数据。可能考虑：GitHub Advisories，或参考已有研究。"
   ]
  },
  {
   "cell_type": "code",
   "execution_count": 1,
   "id": "quarterly-interest",
   "metadata": {},
   "outputs": [
    {
     "name": "stderr",
     "output_type": "stream",
     "text": [
      "Classes and Methods for R developed in the\n",
      "Political Science Computational Laboratory\n",
      "Department of Political Science\n",
      "Stanford University\n",
      "Simon Jackman\n",
      "hurdle and zeroinfl functions by Achim Zeileis\n",
      "Loading required package: lattice\n",
      "Loading required package: ggplot2\n",
      "Registered S3 methods overwritten by 'ggplot2':\n",
      "  method         from \n",
      "  [.quosures     rlang\n",
      "  c.quosures     rlang\n",
      "  print.quosures rlang\n",
      "corrplot 0.84 loaded\n"
     ]
    }
   ],
   "source": [
    "library(pscl)\n",
    "library(caret)\n",
    "library(corrplot)"
   ]
  },
  {
   "cell_type": "code",
   "execution_count": 2,
   "id": "tough-reform",
   "metadata": {},
   "outputs": [
    {
     "data": {
      "text/html": [
       "<table>\n",
       "<thead><tr><th scope=col>project</th><th scope=col>timestamp</th><th scope=col>commit</th><th scope=col>file</th><th scope=col>type</th><th scope=col>lib1</th><th scope=col>lib2</th><th scope=col>ver1</th><th scope=col>ver2</th><th scope=col>response</th><th scope=col>last_release_interval</th><th scope=col>first_release_interval</th><th scope=col>nearest_release_inteveral</th><th scope=col>release_freq</th><th scope=col>vulnerabilities</th><th scope=col>license</th><th scope=col>retention</th><th scope=col>flow</th><th scope=col>in_other_file</th><th scope=col>in_trans_dep</th></tr></thead>\n",
       "<tbody>\n",
       "\t<tr><td>1and1/cosmo                             </td><td>2019-10-15 13:59:16+00:00               </td><td>f8207e3129d721db5026cc9ea2a8ce58db34fea5</td><td>cosmo-core/pom.xml                      </td><td>rem                                     </td><td>org.mariadb.jdbc:mariadb-java-client    </td><td>                                        </td><td>                                        </td><td>                                        </td><td>0                                       </td><td>0.08767123                              </td><td>6.145205                                </td><td> 32                                     </td><td>1.033333                                </td><td>0                                       </td><td>LGPL                                    </td><td>0.7858473                               </td><td>0.0000000                               </td><td>1                                       </td><td>0                                       </td></tr>\n",
       "\t<tr><td>1and1/cosmo                             </td><td>2019-10-15 13:59:16+00:00               </td><td>f8207e3129d721db5026cc9ea2a8ce58db34fea5</td><td>pom.xml                                 </td><td>rem                                     </td><td>org.mariadb.jdbc:mariadb-java-client    </td><td>                                        </td><td>1.4.6                                   </td><td>                                        </td><td>0                                       </td><td>0.08767123                              </td><td>6.145205                                </td><td> 32                                     </td><td>1.033333                                </td><td>0                                       </td><td>LGPL                                    </td><td>0.7858473                               </td><td>0.0000000                               </td><td>1                                       </td><td>0                                       </td></tr>\n",
       "\t<tr><td>1and1/cosmo                             </td><td>2019-10-15 13:59:16+00:00               </td><td>f8207e3129d721db5026cc9ea2a8ce58db34fea5</td><td>pom.xml                                 </td><td>add                                     </td><td>                                        </td><td>org.postgresql:postgresql               </td><td>                                        </td><td>42.2.8                                  </td><td>1                                       </td><td>1.58356164                              </td><td>6.528767                                </td><td>578                                     </td><td>1.000000                                </td><td>0                                       </td><td>BSD                                     </td><td>0.8233890                               </td><td>0.8421053                               </td><td>0                                       </td><td>1                                       </td></tr>\n",
       "\t<tr><td>1and1/cosmo                             </td><td>2019-10-15 13:59:16+00:00               </td><td>f8207e3129d721db5026cc9ea2a8ce58db34fea5</td><td>cosmo-api/pom.xml                       </td><td>add                                     </td><td>                                        </td><td>javax.annotation:javax.annotation-api   </td><td>                                        </td><td>1.3.2                                   </td><td>1                                       </td><td>1.64657534                              </td><td>6.747945                                </td><td>601                                     </td><td>7.733333                                </td><td>0                                       </td><td>GPL                                     </td><td>0.8293898                               </td><td>1.0000000                               </td><td>0                                       </td><td>0                                       </td></tr>\n",
       "\t<tr><td>1and1/cosmo                             </td><td>2019-10-15 13:59:16+00:00               </td><td>f8207e3129d721db5026cc9ea2a8ce58db34fea5</td><td>cosmo-webapp/pom.xml                    </td><td>rem                                     </td><td>org.mariadb.jdbc:mariadb-java-client    </td><td>                                        </td><td>                                        </td><td>                                        </td><td>0                                       </td><td>0.08767123                              </td><td>6.145205                                </td><td> 32                                     </td><td>1.033333                                </td><td>0                                       </td><td>LGPL                                    </td><td>0.7858473                               </td><td>0.0000000                               </td><td>1                                       </td><td>0                                       </td></tr>\n",
       "\t<tr><td>1and1/cosmo                             </td><td>2019-10-15 13:59:16+00:00               </td><td>f8207e3129d721db5026cc9ea2a8ce58db34fea5</td><td>cosmo-webapp/pom.xml                    </td><td>add                                     </td><td>                                        </td><td>org.postgresql:postgresql               </td><td>                                        </td><td>                                        </td><td>1                                       </td><td>1.58356164                              </td><td>6.528767                                </td><td>578                                     </td><td>1.000000                                </td><td>0                                       </td><td>BSD                                     </td><td>0.8233890                               </td><td>0.8421053                               </td><td>0                                       </td><td>0                                       </td></tr>\n",
       "</tbody>\n",
       "</table>\n"
      ],
      "text/latex": [
       "\\begin{tabular}{r|llllllllllllllllllll}\n",
       " project & timestamp & commit & file & type & lib1 & lib2 & ver1 & ver2 & response & last\\_release\\_interval & first\\_release\\_interval & nearest\\_release\\_inteveral & release\\_freq & vulnerabilities & license & retention & flow & in\\_other\\_file & in\\_trans\\_dep\\\\\n",
       "\\hline\n",
       "\t 1and1/cosmo                              & 2019-10-15 13:59:16+00:00                & f8207e3129d721db5026cc9ea2a8ce58db34fea5 & cosmo-core/pom.xml                       & rem                                      & org.mariadb.jdbc:mariadb-java-client     &                                          &                                          &                                          & 0                                        & 0.08767123                               & 6.145205                                 &  32                                      & 1.033333                                 & 0                                        & LGPL                                     & 0.7858473                                & 0.0000000                                & 1                                        & 0                                       \\\\\n",
       "\t 1and1/cosmo                              & 2019-10-15 13:59:16+00:00                & f8207e3129d721db5026cc9ea2a8ce58db34fea5 & pom.xml                                  & rem                                      & org.mariadb.jdbc:mariadb-java-client     &                                          & 1.4.6                                    &                                          & 0                                        & 0.08767123                               & 6.145205                                 &  32                                      & 1.033333                                 & 0                                        & LGPL                                     & 0.7858473                                & 0.0000000                                & 1                                        & 0                                       \\\\\n",
       "\t 1and1/cosmo                              & 2019-10-15 13:59:16+00:00                & f8207e3129d721db5026cc9ea2a8ce58db34fea5 & pom.xml                                  & add                                      &                                          & org.postgresql:postgresql                &                                          & 42.2.8                                   & 1                                        & 1.58356164                               & 6.528767                                 & 578                                      & 1.000000                                 & 0                                        & BSD                                      & 0.8233890                                & 0.8421053                                & 0                                        & 1                                       \\\\\n",
       "\t 1and1/cosmo                              & 2019-10-15 13:59:16+00:00                & f8207e3129d721db5026cc9ea2a8ce58db34fea5 & cosmo-api/pom.xml                        & add                                      &                                          & javax.annotation:javax.annotation-api    &                                          & 1.3.2                                    & 1                                        & 1.64657534                               & 6.747945                                 & 601                                      & 7.733333                                 & 0                                        & GPL                                      & 0.8293898                                & 1.0000000                                & 0                                        & 0                                       \\\\\n",
       "\t 1and1/cosmo                              & 2019-10-15 13:59:16+00:00                & f8207e3129d721db5026cc9ea2a8ce58db34fea5 & cosmo-webapp/pom.xml                     & rem                                      & org.mariadb.jdbc:mariadb-java-client     &                                          &                                          &                                          & 0                                        & 0.08767123                               & 6.145205                                 &  32                                      & 1.033333                                 & 0                                        & LGPL                                     & 0.7858473                                & 0.0000000                                & 1                                        & 0                                       \\\\\n",
       "\t 1and1/cosmo                              & 2019-10-15 13:59:16+00:00                & f8207e3129d721db5026cc9ea2a8ce58db34fea5 & cosmo-webapp/pom.xml                     & add                                      &                                          & org.postgresql:postgresql                &                                          &                                          & 1                                        & 1.58356164                               & 6.528767                                 & 578                                      & 1.000000                                 & 0                                        & BSD                                      & 0.8233890                                & 0.8421053                                & 0                                        & 0                                       \\\\\n",
       "\\end{tabular}\n"
      ],
      "text/markdown": [
       "\n",
       "| project | timestamp | commit | file | type | lib1 | lib2 | ver1 | ver2 | response | last_release_interval | first_release_interval | nearest_release_inteveral | release_freq | vulnerabilities | license | retention | flow | in_other_file | in_trans_dep |\n",
       "|---|---|---|---|---|---|---|---|---|---|---|---|---|---|---|---|---|---|---|---|\n",
       "| 1and1/cosmo                              | 2019-10-15 13:59:16+00:00                | f8207e3129d721db5026cc9ea2a8ce58db34fea5 | cosmo-core/pom.xml                       | rem                                      | org.mariadb.jdbc:mariadb-java-client     |                                          |                                          |                                          | 0                                        | 0.08767123                               | 6.145205                                 |  32                                      | 1.033333                                 | 0                                        | LGPL                                     | 0.7858473                                | 0.0000000                                | 1                                        | 0                                        |\n",
       "| 1and1/cosmo                              | 2019-10-15 13:59:16+00:00                | f8207e3129d721db5026cc9ea2a8ce58db34fea5 | pom.xml                                  | rem                                      | org.mariadb.jdbc:mariadb-java-client     |                                          | 1.4.6                                    |                                          | 0                                        | 0.08767123                               | 6.145205                                 |  32                                      | 1.033333                                 | 0                                        | LGPL                                     | 0.7858473                                | 0.0000000                                | 1                                        | 0                                        |\n",
       "| 1and1/cosmo                              | 2019-10-15 13:59:16+00:00                | f8207e3129d721db5026cc9ea2a8ce58db34fea5 | pom.xml                                  | add                                      |                                          | org.postgresql:postgresql                |                                          | 42.2.8                                   | 1                                        | 1.58356164                               | 6.528767                                 | 578                                      | 1.000000                                 | 0                                        | BSD                                      | 0.8233890                                | 0.8421053                                | 0                                        | 1                                        |\n",
       "| 1and1/cosmo                              | 2019-10-15 13:59:16+00:00                | f8207e3129d721db5026cc9ea2a8ce58db34fea5 | cosmo-api/pom.xml                        | add                                      |                                          | javax.annotation:javax.annotation-api    |                                          | 1.3.2                                    | 1                                        | 1.64657534                               | 6.747945                                 | 601                                      | 7.733333                                 | 0                                        | GPL                                      | 0.8293898                                | 1.0000000                                | 0                                        | 0                                        |\n",
       "| 1and1/cosmo                              | 2019-10-15 13:59:16+00:00                | f8207e3129d721db5026cc9ea2a8ce58db34fea5 | cosmo-webapp/pom.xml                     | rem                                      | org.mariadb.jdbc:mariadb-java-client     |                                          |                                          |                                          | 0                                        | 0.08767123                               | 6.145205                                 |  32                                      | 1.033333                                 | 0                                        | LGPL                                     | 0.7858473                                | 0.0000000                                | 1                                        | 0                                        |\n",
       "| 1and1/cosmo                              | 2019-10-15 13:59:16+00:00                | f8207e3129d721db5026cc9ea2a8ce58db34fea5 | cosmo-webapp/pom.xml                     | add                                      |                                          | org.postgresql:postgresql                |                                          |                                          | 1                                        | 1.58356164                               | 6.528767                                 | 578                                      | 1.000000                                 | 0                                        | BSD                                      | 0.8233890                                | 0.8421053                                | 0                                        | 0                                        |\n",
       "\n"
      ],
      "text/plain": [
       "  project     timestamp                \n",
       "1 1and1/cosmo 2019-10-15 13:59:16+00:00\n",
       "2 1and1/cosmo 2019-10-15 13:59:16+00:00\n",
       "3 1and1/cosmo 2019-10-15 13:59:16+00:00\n",
       "4 1and1/cosmo 2019-10-15 13:59:16+00:00\n",
       "5 1and1/cosmo 2019-10-15 13:59:16+00:00\n",
       "6 1and1/cosmo 2019-10-15 13:59:16+00:00\n",
       "  commit                                   file                 type\n",
       "1 f8207e3129d721db5026cc9ea2a8ce58db34fea5 cosmo-core/pom.xml   rem \n",
       "2 f8207e3129d721db5026cc9ea2a8ce58db34fea5 pom.xml              rem \n",
       "3 f8207e3129d721db5026cc9ea2a8ce58db34fea5 pom.xml              add \n",
       "4 f8207e3129d721db5026cc9ea2a8ce58db34fea5 cosmo-api/pom.xml    add \n",
       "5 f8207e3129d721db5026cc9ea2a8ce58db34fea5 cosmo-webapp/pom.xml rem \n",
       "6 f8207e3129d721db5026cc9ea2a8ce58db34fea5 cosmo-webapp/pom.xml add \n",
       "  lib1                                 lib2                                 \n",
       "1 org.mariadb.jdbc:mariadb-java-client                                      \n",
       "2 org.mariadb.jdbc:mariadb-java-client                                      \n",
       "3                                      org.postgresql:postgresql            \n",
       "4                                      javax.annotation:javax.annotation-api\n",
       "5 org.mariadb.jdbc:mariadb-java-client                                      \n",
       "6                                      org.postgresql:postgresql            \n",
       "  ver1  ver2   response last_release_interval first_release_interval\n",
       "1              0        0.08767123            6.145205              \n",
       "2 1.4.6        0        0.08767123            6.145205              \n",
       "3       42.2.8 1        1.58356164            6.528767              \n",
       "4       1.3.2  1        1.64657534            6.747945              \n",
       "5              0        0.08767123            6.145205              \n",
       "6              1        1.58356164            6.528767              \n",
       "  nearest_release_inteveral release_freq vulnerabilities license retention\n",
       "1  32                       1.033333     0               LGPL    0.7858473\n",
       "2  32                       1.033333     0               LGPL    0.7858473\n",
       "3 578                       1.000000     0               BSD     0.8233890\n",
       "4 601                       7.733333     0               GPL     0.8293898\n",
       "5  32                       1.033333     0               LGPL    0.7858473\n",
       "6 578                       1.000000     0               BSD     0.8233890\n",
       "  flow      in_other_file in_trans_dep\n",
       "1 0.0000000 1             0           \n",
       "2 0.0000000 1             0           \n",
       "3 0.8421053 0             1           \n",
       "4 1.0000000 0             0           \n",
       "5 0.0000000 1             0           \n",
       "6 0.8421053 0             0           "
      ]
     },
     "metadata": {},
     "output_type": "display_data"
    }
   ],
   "source": [
    "data <- read.csv(\"cache/model_data_r.csv\")\n",
    "head(data)"
   ]
  },
  {
   "cell_type": "code",
   "execution_count": 3,
   "id": "numerous-greece",
   "metadata": {},
   "outputs": [],
   "source": [
    "vars <- c(\"response\", \"last_release_interval\", \"first_release_interval\", \"release_freq\", \"vulnerabilities\", \"retention\", \"flow\", \"in_other_file\", \"in_trans_dep\")"
   ]
  },
  {
   "cell_type": "code",
   "execution_count": 4,
   "id": "mobile-editing",
   "metadata": {},
   "outputs": [
    {
     "data": {
      "text/plain": [
       "    response      last_release_interval first_release_interval  release_freq   \n",
       " Min.   :0.0000   Min.   : 0.0000       Min.   :-3.260         Min.   : 1.000  \n",
       " 1st Qu.:0.0000   1st Qu.: 0.0000       1st Qu.: 3.244         1st Qu.: 1.000  \n",
       " Median :1.0000   Median : 0.0000       Median : 5.868         Median : 1.967  \n",
       " Mean   :0.5163   Mean   : 0.7028       Mean   : 6.247         Mean   : 3.108  \n",
       " 3rd Qu.:1.0000   3rd Qu.: 0.1918       3rd Qu.: 9.178         3rd Qu.: 4.067  \n",
       " Max.   :1.0000   Max.   :14.6247       Max.   :14.849         Max.   :50.233  \n",
       " vulnerabilities     retention           flow         in_other_file   \n",
       " Min.   :0.00000   Min.   :0.0000   Min.   :-1.0000   Min.   :0.0000  \n",
       " 1st Qu.:0.00000   1st Qu.:0.8322   1st Qu.:-0.6522   1st Qu.:0.0000  \n",
       " Median :0.00000   Median :0.8770   Median : 0.1429   Median :1.0000  \n",
       " Mean   :0.04098   Mean   :0.8635   Mean   : 0.1274   Mean   :0.6783  \n",
       " 3rd Qu.:0.00000   3rd Qu.:0.9082   3rd Qu.: 0.8837   3rd Qu.:1.0000  \n",
       " Max.   :1.00000   Max.   :1.0000   Max.   : 1.0000   Max.   :1.0000  \n",
       "  in_trans_dep   \n",
       " Min.   :0.0000  \n",
       " 1st Qu.:0.0000  \n",
       " Median :0.0000  \n",
       " Mean   :0.1273  \n",
       " 3rd Qu.:0.0000  \n",
       " Max.   :1.0000  "
      ]
     },
     "metadata": {},
     "output_type": "display_data"
    }
   ],
   "source": [
    "summary(data[vars])"
   ]
  },
  {
   "cell_type": "code",
   "execution_count": 5,
   "id": "driving-prior",
   "metadata": {},
   "outputs": [
    {
     "data": {
      "image/png": "[encoded data removed]",
      "text/plain": [
       "Plot with title \"\""
      ]
     },
     "metadata": {},
     "output_type": "display_data"
    }
   ],
   "source": [
    "correlations <- cor(data[vars])\n",
    "corrplot(correlations, method=\"circle\")"
   ]
  },
  {
   "cell_type": "code",
   "execution_count": 6,
   "id": "russian-senate",
   "metadata": {},
   "outputs": [
    {
     "data": {
      "text/plain": [
       "\n",
       "Call:\n",
       "glm(formula = response ~ last_release_interval + first_release_interval + \n",
       "    release_freq + C(license) + vulnerabilities + retention + \n",
       "    flow + in_other_file + in_trans_dep, family = \"binomial\", \n",
       "    data = data)\n",
       "\n",
       "Deviance Residuals: \n",
       "    Min       1Q   Median       3Q      Max  \n",
       "-2.6990  -0.6165   0.2682   0.6475   3.4438  \n",
       "\n",
       "Coefficients:\n",
       "                        Estimate Std. Error z value Pr(>|z|)    \n",
       "(Intercept)            -5.431927   0.185476 -29.286  < 2e-16 ***\n",
       "last_release_interval  -0.174165   0.012487 -13.947  < 2e-16 ***\n",
       "first_release_interval -0.178966   0.005212 -34.334  < 2e-16 ***\n",
       "release_freq            0.050163   0.005259   9.539  < 2e-16 ***\n",
       "C(license)BSD          -0.005860   0.088396  -0.066  0.94714    \n",
       "C(license)EPL          -0.022591   0.047192  -0.479  0.63215    \n",
       "C(license)GPL          -0.170076   0.056987  -2.984  0.00284 ** \n",
       "C(license)JSON          0.447092   0.225642   1.981  0.04754 *  \n",
       "C(license)LGPL          0.641429   0.067639   9.483  < 2e-16 ***\n",
       "C(license)MIT           0.185440   0.045711   4.057 4.98e-05 ***\n",
       "C(license)No License   -0.607274   0.122800  -4.945 7.61e-07 ***\n",
       "C(license)Other        -0.033564   0.055303  -0.607  0.54391    \n",
       "vulnerabilities         0.005712   0.071638   0.080  0.93645    \n",
       "retention               7.633796   0.212393  35.942  < 2e-16 ***\n",
       "flow                    1.424872   0.022795  62.507  < 2e-16 ***\n",
       "in_other_file          -0.435648   0.030836 -14.128  < 2e-16 ***\n",
       "in_trans_dep            0.484821   0.043020  11.270  < 2e-16 ***\n",
       "---\n",
       "Signif. codes:  0 '***' 0.001 '**' 0.01 '*' 0.05 '.' 0.1 ' ' 1\n",
       "\n",
       "(Dispersion parameter for binomial family taken to be 1)\n",
       "\n",
       "    Null deviance: 48403  on 34941  degrees of freedom\n",
       "Residual deviance: 31017  on 34925  degrees of freedom\n",
       "AIC: 31051\n",
       "\n",
       "Number of Fisher Scoring iterations: 5\n"
      ]
     },
     "metadata": {},
     "output_type": "display_data"
    },
    {
     "data": {
      "text/html": [
       "17386.0513977557"
      ],
      "text/latex": [
       "17386.0513977557"
      ],
      "text/markdown": [
       "17386.0513977557"
      ],
      "text/plain": [
       "[1] 17386.05"
      ]
     },
     "metadata": {},
     "output_type": "display_data"
    },
    {
     "data": {
      "text/html": [
       "16"
      ],
      "text/latex": [
       "16"
      ],
      "text/markdown": [
       "16"
      ],
      "text/plain": [
       "[1] 16"
      ]
     },
     "metadata": {},
     "output_type": "display_data"
    },
    {
     "data": {
      "text/html": [
       "0"
      ],
      "text/latex": [
       "0"
      ],
      "text/markdown": [
       "0"
      ],
      "text/plain": [
       "[1] 0"
      ]
     },
     "metadata": {},
     "output_type": "display_data"
    },
    {
     "data": {
      "text/html": [
       "<dl class=dl-horizontal>\n",
       "\t<dt>llh</dt>\n",
       "\t\t<dd>-15508.3884692071</dd>\n",
       "\t<dt>llhNull</dt>\n",
       "\t\t<dd>-24201.4141680849</dd>\n",
       "\t<dt>G2</dt>\n",
       "\t\t<dd>17386.0513977556</dd>\n",
       "\t<dt>McFadden</dt>\n",
       "\t\t<dd>0.359194947803569</dd>\n",
       "\t<dt>r2ML</dt>\n",
       "\t\t<dd>0.391992990528422</dd>\n",
       "\t<dt>r2CU</dt>\n",
       "\t\t<dd>0.522842309601842</dd>\n",
       "</dl>\n"
      ],
      "text/latex": [
       "\\begin{description*}\n",
       "\\item[llh] -15508.3884692071\n",
       "\\item[llhNull] -24201.4141680849\n",
       "\\item[G2] 17386.0513977556\n",
       "\\item[McFadden] 0.359194947803569\n",
       "\\item[r2ML] 0.391992990528422\n",
       "\\item[r2CU] 0.522842309601842\n",
       "\\end{description*}\n"
      ],
      "text/markdown": [
       "llh\n",
       ":   -15508.3884692071llhNull\n",
       ":   -24201.4141680849G2\n",
       ":   17386.0513977556McFadden\n",
       ":   0.359194947803569r2ML\n",
       ":   0.391992990528422r2CU\n",
       ":   0.522842309601842\n",
       "\n"
      ],
      "text/plain": [
       "          llh       llhNull            G2      McFadden          r2ML \n",
       "-1.550839e+04 -2.420141e+04  1.738605e+04  3.591949e-01  3.919930e-01 \n",
       "         r2CU \n",
       " 5.228423e-01 "
      ]
     },
     "metadata": {},
     "output_type": "display_data"
    },
    {
     "data": {
      "text/plain": [
       "     \n",
       "pred      0     1\n",
       "  Add   700  7114\n",
       "  Rem 16202 10926"
      ]
     },
     "metadata": {},
     "output_type": "display_data"
    },
    {
     "data": {
      "text/html": [],
      "text/latex": [],
      "text/markdown": [],
      "text/plain": [
       "<0 x 0 matrix>"
      ]
     },
     "metadata": {},
     "output_type": "display_data"
    },
    {
     "data": {
      "text/html": [
       "'0.667277202220823 0.516284127983516'"
      ],
      "text/latex": [
       "'0.667277202220823 0.516284127983516'"
      ],
      "text/markdown": [
       "'0.667277202220823 0.516284127983516'"
      ],
      "text/plain": [
       "[1] \"0.667277202220823 0.516284127983516\""
      ]
     },
     "metadata": {},
     "output_type": "display_data"
    }
   ],
   "source": [
    "# data$license = factor(data$license, ordered = FALSE)\n",
    "logit <- glm(response ~ last_release_interval + first_release_interval + release_freq + C(license)\n",
    "             + vulnerabilities + retention + flow + in_other_file + in_trans_dep, \n",
    "             data = data, family = \"binomial\")\n",
    "summary(logit)\n",
    "\n",
    "with(logit, null.deviance - deviance)\n",
    "with(logit, df.null - df.residual)\n",
    "with(logit, pchisq(null.deviance - deviance, df.null - df.residual, lower.tail = FALSE))\n",
    "\n",
    "pR2(logit)\n",
    "\n",
    "probs <- predict(logit, type = \"response\")\n",
    "pred <- ifelse(probs > 0.85, \"Add\", \"Rem\")\n",
    "perf = table(pred, data$response)\n",
    "perf\n",
    "diag(sum(diag(perf)) / sum(perf))\n",
    "paste((perf[[1,2]] + perf[[2,1]]) / sum(perf), (perf[[1,2]] + perf[[2,2]]) / sum(perf))"
   ]
  },
  {
   "cell_type": "code",
   "execution_count": 13,
   "id": "suburban-concord",
   "metadata": {},
   "outputs": [
    {
     "data": {
      "text/plain": [
       "\n",
       "Call:\n",
       "glm(formula = response ~ last_release_interval + first_release_interval + \n",
       "    release_freq + C(license) + vulnerabilities + retention + \n",
       "    flow + in_other_file + in_trans_dep, family = \"binomial\", \n",
       "    data = data)\n",
       "\n",
       "Deviance Residuals: \n",
       "    Min       1Q   Median       3Q      Max  \n",
       "-2.7625  -0.3311  -0.0241   0.5006   3.9596  \n",
       "\n",
       "Coefficients:\n",
       "                        Estimate Std. Error z value Pr(>|z|)    \n",
       "(Intercept)             -8.07459    0.99624  -8.105 5.27e-16 ***\n",
       "last_release_interval   -0.17908    0.11977  -1.495  0.13485    \n",
       "first_release_interval  -0.26160    0.03230  -8.099 5.55e-16 ***\n",
       "release_freq             0.11029    0.03955   2.789  0.00529 ** \n",
       "C(license)GPL           -0.56934    0.58673  -0.970  0.33187    \n",
       "C(license)JSON           1.47124    0.27051   5.439 5.36e-08 ***\n",
       "C(license)LGPL          -1.04506    0.44492  -2.349  0.01883 *  \n",
       "C(license)No License    13.98590  286.28843   0.049  0.96104    \n",
       "C(license)Other          0.97362    0.57448   1.695  0.09012 .  \n",
       "vulnerabilities         -0.58269    0.19078  -3.054  0.00226 ** \n",
       "retention               10.07255    1.12083   8.987  < 2e-16 ***\n",
       "flow                     2.08157    0.08956  23.241  < 2e-16 ***\n",
       "in_other_file            0.28349    0.11978   2.367  0.01795 *  \n",
       "in_trans_dep             0.91781    0.16093   5.703 1.18e-08 ***\n",
       "---\n",
       "Signif. codes:  0 '***' 0.001 '**' 0.01 '*' 0.05 '.' 0.1 ' ' 1\n",
       "\n",
       "(Dispersion parameter for binomial family taken to be 1)\n",
       "\n",
       "    Null deviance: 4639.9  on 3346  degrees of freedom\n",
       "Residual deviance: 2109.2  on 3333  degrees of freedom\n",
       "AIC: 2137.2\n",
       "\n",
       "Number of Fisher Scoring iterations: 13\n"
      ]
     },
     "metadata": {},
     "output_type": "display_data"
    },
    {
     "data": {
      "text/html": [
       "2530.7235127361"
      ],
      "text/latex": [
       "2530.7235127361"
      ],
      "text/markdown": [
       "2530.7235127361"
      ],
      "text/plain": [
       "[1] 2530.724"
      ]
     },
     "metadata": {},
     "output_type": "display_data"
    },
    {
     "data": {
      "text/html": [
       "13"
      ],
      "text/latex": [
       "13"
      ],
      "text/markdown": [
       "13"
      ],
      "text/plain": [
       "[1] 13"
      ]
     },
     "metadata": {},
     "output_type": "display_data"
    },
    {
     "data": {
      "text/html": [
       "0"
      ],
      "text/latex": [
       "0"
      ],
      "text/markdown": [
       "0"
      ],
      "text/plain": [
       "[1] 0"
      ]
     },
     "metadata": {},
     "output_type": "display_data"
    },
    {
     "data": {
      "text/html": [
       "<dl class=dl-horizontal>\n",
       "\t<dt>llh</dt>\n",
       "\t\t<dd>-1054.59812227692</dd>\n",
       "\t<dt>llhNull</dt>\n",
       "\t\t<dd>-2319.95987864497</dd>\n",
       "\t<dt>G2</dt>\n",
       "\t\t<dd>2530.7235127361</dd>\n",
       "\t<dt>McFadden</dt>\n",
       "\t\t<dd>0.54542398255056</dd>\n",
       "\t<dt>r2ML</dt>\n",
       "\t\t<dd>0.530514081921428</dd>\n",
       "\t<dt>r2CU</dt>\n",
       "\t\t<dd>0.70735263542022</dd>\n",
       "</dl>\n"
      ],
      "text/latex": [
       "\\begin{description*}\n",
       "\\item[llh] -1054.59812227692\n",
       "\\item[llhNull] -2319.95987864497\n",
       "\\item[G2] 2530.7235127361\n",
       "\\item[McFadden] 0.54542398255056\n",
       "\\item[r2ML] 0.530514081921428\n",
       "\\item[r2CU] 0.70735263542022\n",
       "\\end{description*}\n"
      ],
      "text/markdown": [
       "llh\n",
       ":   -1054.59812227692llhNull\n",
       ":   -2319.95987864497G2\n",
       ":   2530.7235127361McFadden\n",
       ":   0.54542398255056r2ML\n",
       ":   0.530514081921428r2CU\n",
       ":   0.70735263542022\n",
       "\n"
      ],
      "text/plain": [
       "          llh       llhNull            G2      McFadden          r2ML \n",
       "-1054.5981223 -2319.9598786  2530.7235127     0.5454240     0.5305141 \n",
       "         r2CU \n",
       "    0.7073526 "
      ]
     },
     "metadata": {},
     "output_type": "display_data"
    },
    {
     "data": {
      "text/plain": [
       "     \n",
       "pred     0    1\n",
       "  Add  285 1509\n",
       "  Rem 1391  162"
      ]
     },
     "metadata": {},
     "output_type": "display_data"
    },
    {
     "data": {
      "text/html": [],
      "text/latex": [],
      "text/markdown": [],
      "text/plain": [
       "<0 x 0 matrix>"
      ]
     },
     "metadata": {},
     "output_type": "display_data"
    },
    {
     "data": {
      "text/html": [
       "'0.866447564983567 0.463997609799821'"
      ],
      "text/latex": [
       "'0.866447564983567 0.463997609799821'"
      ],
      "text/markdown": [
       "'0.866447564983567 0.463997609799821'"
      ],
      "text/plain": [
       "[1] \"0.866447564983567 0.463997609799821\""
      ]
     },
     "metadata": {},
     "output_type": "display_data"
    }
   ],
   "source": [
    "data <- read.csv(\"cache/model_data_json_r.csv\")\n",
    "#data$license = factor(data$license, ordered = FALSE)\n",
    "logit <- glm(response ~ last_release_interval + first_release_interval + release_freq + C(license)\n",
    "             + vulnerabilities + retention + flow + in_other_file + in_trans_dep, \n",
    "             data = data, family = \"binomial\")\n",
    "summary(logit)\n",
    "with(logit, null.deviance - deviance)\n",
    "with(logit, df.null - df.residual)\n",
    "with(logit, pchisq(null.deviance - deviance, df.null - df.residual, lower.tail = FALSE))\n",
    "pR2(logit)\n",
    "probs <- predict(logit, type = \"response\")\n",
    "pred <- ifelse(probs > 0.5, \"Add\", \"Rem\")\n",
    "perf = table(pred, data$response)\n",
    "perf\n",
    "diag(sum(diag(perf)) / sum(perf))\n",
    "paste((perf[[1,2]] + perf[[2,1]]) / sum(perf), (perf[[2,1]] + perf[[2,2]]) / sum(perf))"
   ]
  },
  {
   "cell_type": "code",
   "execution_count": 8,
   "id": "north-documentation",
   "metadata": {},
   "outputs": [
    {
     "data": {
      "text/plain": [
       "\n",
       "Call:\n",
       "glm(formula = response ~ last_release_interval + first_release_interval + \n",
       "    release_freq + C(license) + vulnerabilities + retention + \n",
       "    flow + in_other_file + in_trans_dep, family = \"binomial\", \n",
       "    data = data)\n",
       "\n",
       "Deviance Residuals: \n",
       "    Min       1Q   Median       3Q      Max  \n",
       "-2.4327  -0.6533   0.3944   0.6613   3.5320  \n",
       "\n",
       "Coefficients:\n",
       "                       Estimate Std. Error z value Pr(>|z|)    \n",
       "(Intercept)            -1.18585    0.42258  -2.806 0.005013 ** \n",
       "last_release_interval   0.15395    0.05843   2.635 0.008417 ** \n",
       "first_release_interval -0.04559    0.01276  -3.572 0.000354 ***\n",
       "release_freq           -0.31270    0.02941 -10.631  < 2e-16 ***\n",
       "C(license)LGPL         -0.09515    0.12381  -0.769 0.442146    \n",
       "C(license)MIT          -0.77120    0.08600  -8.968  < 2e-16 ***\n",
       "vulnerabilities        -0.55023    0.13856  -3.971 7.15e-05 ***\n",
       "retention               3.31191    0.48866   6.777 1.22e-11 ***\n",
       "flow                    1.60890    0.06128  26.256  < 2e-16 ***\n",
       "in_other_file          -0.40204    0.06393  -6.289 3.19e-10 ***\n",
       "in_trans_dep            0.40106    0.08393   4.779 1.77e-06 ***\n",
       "---\n",
       "Signif. codes:  0 '***' 0.001 '**' 0.01 '*' 0.05 '.' 0.1 ' ' 1\n",
       "\n",
       "(Dispersion parameter for binomial family taken to be 1)\n",
       "\n",
       "    Null deviance: 12761.9  on 9220  degrees of freedom\n",
       "Residual deviance:  8446.8  on 9210  degrees of freedom\n",
       "AIC: 8468.8\n",
       "\n",
       "Number of Fisher Scoring iterations: 5\n"
      ]
     },
     "metadata": {},
     "output_type": "display_data"
    },
    {
     "data": {
      "text/html": [
       "4315.10932055873"
      ],
      "text/latex": [
       "4315.10932055873"
      ],
      "text/markdown": [
       "4315.10932055873"
      ],
      "text/plain": [
       "[1] 4315.109"
      ]
     },
     "metadata": {},
     "output_type": "display_data"
    },
    {
     "data": {
      "text/html": [
       "10"
      ],
      "text/latex": [
       "10"
      ],
      "text/markdown": [
       "10"
      ],
      "text/plain": [
       "[1] 10"
      ]
     },
     "metadata": {},
     "output_type": "display_data"
    },
    {
     "data": {
      "text/html": [
       "0"
      ],
      "text/latex": [
       "0"
      ],
      "text/markdown": [
       "0"
      ],
      "text/plain": [
       "[1] 0"
      ]
     },
     "metadata": {},
     "output_type": "display_data"
    },
    {
     "data": {
      "text/html": [
       "<dl class=dl-horizontal>\n",
       "\t<dt>llh</dt>\n",
       "\t\t<dd>-4223.40591965586</dd>\n",
       "\t<dt>llhNull</dt>\n",
       "\t\t<dd>-6380.96057993522</dd>\n",
       "\t<dt>G2</dt>\n",
       "\t\t<dd>4315.10932055873</dd>\n",
       "\t<dt>McFadden</dt>\n",
       "\t\t<dd>0.338123803344553</dd>\n",
       "\t<dt>r2ML</dt>\n",
       "\t\t<dd>0.373724832532476</dd>\n",
       "\t<dt>r2CU</dt>\n",
       "\t\t<dd>0.498680566211735</dd>\n",
       "</dl>\n"
      ],
      "text/latex": [
       "\\begin{description*}\n",
       "\\item[llh] -4223.40591965586\n",
       "\\item[llhNull] -6380.96057993522\n",
       "\\item[G2] 4315.10932055873\n",
       "\\item[McFadden] 0.338123803344553\n",
       "\\item[r2ML] 0.373724832532476\n",
       "\\item[r2CU] 0.498680566211735\n",
       "\\end{description*}\n"
      ],
      "text/markdown": [
       "llh\n",
       ":   -4223.40591965586llhNull\n",
       ":   -6380.96057993522G2\n",
       ":   4315.10932055873McFadden\n",
       ":   0.338123803344553r2ML\n",
       ":   0.373724832532476r2CU\n",
       ":   0.498680566211735\n",
       "\n"
      ],
      "text/plain": [
       "          llh       llhNull            G2      McFadden          r2ML \n",
       "-4223.4059197 -6380.9605799  4315.1093206     0.3381238     0.3737248 \n",
       "         r2CU \n",
       "    0.4986806 "
      ]
     },
     "metadata": {},
     "output_type": "display_data"
    },
    {
     "data": {
      "text/plain": [
       "     \n",
       "pred     0    1\n",
       "  Add 1083 4074\n",
       "  Rem 3307  757"
      ]
     },
     "metadata": {},
     "output_type": "display_data"
    },
    {
     "data": {
      "text/html": [],
      "text/latex": [],
      "text/markdown": [],
      "text/plain": [
       "<0 x 0 matrix>"
      ]
     },
     "metadata": {},
     "output_type": "display_data"
    },
    {
     "data": {
      "text/html": [
       "'0.800455482051838 0.440733109207244'"
      ],
      "text/latex": [
       "'0.800455482051838 0.440733109207244'"
      ],
      "text/markdown": [
       "'0.800455482051838 0.440733109207244'"
      ],
      "text/plain": [
       "[1] \"0.800455482051838 0.440733109207244\""
      ]
     },
     "metadata": {},
     "output_type": "display_data"
    }
   ],
   "source": [
    "# LGPL is logback, MIT is slf4j\n",
    "data <- read.csv(\"cache/model_data_logging_r.csv\")\n",
    "#data$license = factor(data$license, ordered = FALSE)\n",
    "logit <- glm(response ~ last_release_interval + first_release_interval + release_freq + C(license)\n",
    "             + vulnerabilities + retention + flow + in_other_file + in_trans_dep, \n",
    "             data = data, family = \"binomial\")\n",
    "summary(logit)\n",
    "with(logit, null.deviance - deviance)\n",
    "with(logit, df.null - df.residual)\n",
    "with(logit, pchisq(null.deviance - deviance, df.null - df.residual, lower.tail = FALSE))\n",
    "pR2(logit)\n",
    "probs <- predict(logit, type = \"response\")\n",
    "pred <- ifelse(probs > 0.5, \"Add\", \"Rem\")\n",
    "perf = table(pred, data$response)\n",
    "perf\n",
    "diag(sum(diag(perf)) / sum(perf))\n",
    "paste((perf[[1,2]] + perf[[2,1]]) / sum(perf), (perf[[2,1]] + perf[[2,2]]) / sum(perf))"
   ]
  },
  {
   "cell_type": "code",
   "execution_count": 9,
   "id": "level-radio",
   "metadata": {},
   "outputs": [
    {
     "data": {
      "text/plain": [
       "\n",
       "Call:\n",
       "glm(formula = response ~ last_release_interval + first_release_interval + \n",
       "    release_freq + C(license) + vulnerabilities + retention + \n",
       "    flow + in_other_file + in_trans_dep, family = \"binomial\", \n",
       "    data = data)\n",
       "\n",
       "Deviance Residuals: \n",
       "    Min       1Q   Median       3Q      Max  \n",
       "-2.9013  -0.5045   0.2468   0.5797   3.5581  \n",
       "\n",
       "Coefficients:\n",
       "                        Estimate Std. Error z value Pr(>|z|)    \n",
       "(Intercept)             -5.80886    0.54931 -10.575  < 2e-16 ***\n",
       "last_release_interval   -0.30951    0.04815  -6.428 1.29e-10 ***\n",
       "first_release_interval  -0.19461    0.01402 -13.879  < 2e-16 ***\n",
       "release_freq             0.13924    0.01488   9.361  < 2e-16 ***\n",
       "C(license)BSD            0.20691    0.22753   0.909 0.363157    \n",
       "C(license)EPL            0.13457    0.09463   1.422 0.155012    \n",
       "C(license)GPL           -1.84947    1.42237  -1.300 0.193508    \n",
       "C(license)MIT            0.44544    0.13256   3.360 0.000778 ***\n",
       "C(license)No License    10.42761  324.74373   0.032 0.974384    \n",
       "C(license)Other         -0.40163    0.19538  -2.056 0.039818 *  \n",
       "vulnerabilities        -12.12520  324.74375  -0.037 0.970216    \n",
       "retention                7.80114    0.61109  12.766  < 2e-16 ***\n",
       "flow                     1.96760    0.09848  19.980  < 2e-16 ***\n",
       "in_other_file           -0.63350    0.07979  -7.940 2.03e-15 ***\n",
       "in_trans_dep             0.53572    0.11429   4.688 2.76e-06 ***\n",
       "---\n",
       "Signif. codes:  0 '***' 0.001 '**' 0.01 '*' 0.05 '.' 0.1 ' ' 1\n",
       "\n",
       "(Dispersion parameter for binomial family taken to be 1)\n",
       "\n",
       "    Null deviance: 8446.6  on 6131  degrees of freedom\n",
       "Residual deviance: 4813.7  on 6117  degrees of freedom\n",
       "AIC: 4843.7\n",
       "\n",
       "Number of Fisher Scoring iterations: 11\n"
      ]
     },
     "metadata": {},
     "output_type": "display_data"
    },
    {
     "data": {
      "text/html": [
       "3632.88809524833"
      ],
      "text/latex": [
       "3632.88809524833"
      ],
      "text/markdown": [
       "3632.88809524833"
      ],
      "text/plain": [
       "[1] 3632.888"
      ]
     },
     "metadata": {},
     "output_type": "display_data"
    },
    {
     "data": {
      "text/html": [
       "14"
      ],
      "text/latex": [
       "14"
      ],
      "text/markdown": [
       "14"
      ],
      "text/plain": [
       "[1] 14"
      ]
     },
     "metadata": {},
     "output_type": "display_data"
    },
    {
     "data": {
      "text/html": [
       "0"
      ],
      "text/latex": [
       "0"
      ],
      "text/markdown": [
       "0"
      ],
      "text/plain": [
       "[1] 0"
      ]
     },
     "metadata": {},
     "output_type": "display_data"
    },
    {
     "data": {
      "text/html": [
       "<dl class=dl-horizontal>\n",
       "\t<dt>llh</dt>\n",
       "\t\t<dd>-2406.84170148477</dd>\n",
       "\t<dt>llhNull</dt>\n",
       "\t\t<dd>-4223.28574910894</dd>\n",
       "\t<dt>G2</dt>\n",
       "\t\t<dd>3632.88809524833</dd>\n",
       "\t<dt>McFadden</dt>\n",
       "\t\t<dd>0.430102094798443</dd>\n",
       "\t<dt>r2ML</dt>\n",
       "\t\t<dd>0.447027774644171</dd>\n",
       "\t<dt>r2CU</dt>\n",
       "\t\t<dd>0.597805675740089</dd>\n",
       "</dl>\n"
      ],
      "text/latex": [
       "\\begin{description*}\n",
       "\\item[llh] -2406.84170148477\n",
       "\\item[llhNull] -4223.28574910894\n",
       "\\item[G2] 3632.88809524833\n",
       "\\item[McFadden] 0.430102094798443\n",
       "\\item[r2ML] 0.447027774644171\n",
       "\\item[r2CU] 0.597805675740089\n",
       "\\end{description*}\n"
      ],
      "text/markdown": [
       "llh\n",
       ":   -2406.84170148477llhNull\n",
       ":   -4223.28574910894G2\n",
       ":   3632.88809524833McFadden\n",
       ":   0.430102094798443r2ML\n",
       ":   0.447027774644171r2CU\n",
       ":   0.597805675740089\n",
       "\n"
      ],
      "text/plain": [
       "          llh       llhNull            G2      McFadden          r2ML \n",
       "-2406.8417015 -4223.2857491  3632.8880952     0.4301021     0.4470278 \n",
       "         r2CU \n",
       "    0.5978057 "
      ]
     },
     "metadata": {},
     "output_type": "display_data"
    },
    {
     "data": {
      "text/plain": [
       "     \n",
       "pred     0    1\n",
       "  Add  540 2874\n",
       "  Rem 2238  480"
      ]
     },
     "metadata": {},
     "output_type": "display_data"
    },
    {
     "data": {
      "text/html": [],
      "text/latex": [],
      "text/markdown": [],
      "text/plain": [
       "<0 x 0 matrix>"
      ]
     },
     "metadata": {},
     "output_type": "display_data"
    },
    {
     "data": {
      "text/html": [
       "'0.833659491193738 0.443248532289628'"
      ],
      "text/latex": [
       "'0.833659491193738 0.443248532289628'"
      ],
      "text/markdown": [
       "'0.833659491193738 0.443248532289628'"
      ],
      "text/plain": [
       "[1] \"0.833659491193738 0.443248532289628\""
      ]
     },
     "metadata": {},
     "output_type": "display_data"
    }
   ],
   "source": [
    "data <- read.csv(\"cache/model_data_testing_r.csv\")\n",
    "#data$license = factor(data$license, ordered = FALSE)\n",
    "logit <- glm(response ~ last_release_interval + first_release_interval + release_freq + C(license)\n",
    "             + vulnerabilities + retention + flow + in_other_file + in_trans_dep, \n",
    "             data = data, family = \"binomial\")\n",
    "summary(logit)\n",
    "with(logit, null.deviance - deviance)\n",
    "with(logit, df.null - df.residual)\n",
    "with(logit, pchisq(null.deviance - deviance, df.null - df.residual, lower.tail = FALSE))\n",
    "pR2(logit)\n",
    "probs <- predict(logit, type = \"response\")\n",
    "pred <- ifelse(probs > 0.5, \"Add\", \"Rem\")\n",
    "perf = table(pred, data$response)\n",
    "perf\n",
    "diag(sum(diag(perf)) / sum(perf))\n",
    "paste((perf[[1,2]] + perf[[2,1]]) / sum(perf), (perf[[2,1]] + perf[[2,2]]) / sum(perf))"
   ]
  },
  {
   "cell_type": "code",
   "execution_count": null,
   "id": "liquid-shadow",
   "metadata": {},
   "outputs": [],
   "source": []
  }
 ],
 "metadata": {
  "kernelspec": {
   "display_name": "R",
   "language": "R",
   "name": "ir"
  },
  "language_info": {
   "codemirror_mode": "r",
   "file_extension": ".r",
   "mimetype": "text/x-r-source",
   "name": "R",
   "pygments_lexer": "r",
   "version": "3.6.1"
  }
 },
 "nbformat": 4,
 "nbformat_minor": 5
}
